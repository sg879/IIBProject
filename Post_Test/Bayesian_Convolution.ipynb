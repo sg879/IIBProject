{
  "nbformat": 4,
  "nbformat_minor": 0,
  "metadata": {
    "colab": {
      "name": "Bayesian_Convolution.ipynb",
      "provenance": [],
      "collapsed_sections": [
        "m-IrbJRbReIF",
        "XTe465kaRjaj",
        "ZpUZ-u-PsQjt",
        "md0zl6VX7wYY",
        "HjaMUV9mmCZM",
        "LOhUeazJG2z1",
        "ixlqOvl4p4ER",
        "K77Ek_-lyD3T",
        "lBwIu2G5tN93",
        "Yg4n7mBceFKV",
        "XSnUBhJub36F",
        "g7iNKojhfULW",
        "gEQvcir9d7J6",
        "BAEVCzYhZr-K"
      ],
      "authorship_tag": "ABX9TyPIBth8JJQm8P3TKUvAUCFg",
      "include_colab_link": true
    },
    "kernelspec": {
      "name": "python3",
      "display_name": "Python 3"
    },
    "language_info": {
      "name": "python"
    },
    "accelerator": "GPU"
  },
  "cells": [
    {
      "cell_type": "markdown",
      "metadata": {
        "id": "view-in-github",
        "colab_type": "text"
      },
      "source": [
        "<a href=\"https://colab.research.google.com/github/sg879/IIBProject/blob/main/Post_Test/Bayesian_Convolution.ipynb\" target=\"_parent\"><img src=\"https://colab.research.google.com/assets/colab-badge.svg\" alt=\"Open In Colab\"/></a>"
      ]
    },
    {
      "cell_type": "code",
      "execution_count": 2,
      "metadata": {
        "colab": {
          "base_uri": "https://localhost:8080/"
        },
        "id": "INt21YUrhN8B",
        "outputId": "0f30a728-a8dd-443a-b38a-fbba00fda07f"
      },
      "outputs": [
        {
          "output_type": "stream",
          "name": "stdout",
          "text": [
            "Drive already mounted at /content/drive; to attempt to forcibly remount, call drive.mount(\"/content/drive\", force_remount=True).\n"
          ]
        }
      ],
      "source": [
        "import os, sys\n",
        "from google.colab import drive\n",
        "drive.mount('/content/drive')"
      ]
    },
    {
      "cell_type": "markdown",
      "source": [
        "# Variational Inference on Test Data"
      ],
      "metadata": {
        "id": "U4iHX6fzhXnI"
      }
    },
    {
      "cell_type": "markdown",
      "source": [
        "## Importing Packages"
      ],
      "metadata": {
        "id": "m-IrbJRbReIF"
      }
    },
    {
      "cell_type": "code",
      "source": [
        "import matplotlib.pyplot as plt"
      ],
      "metadata": {
        "id": "fbM72hFBRRhc"
      },
      "execution_count": 3,
      "outputs": []
    },
    {
      "cell_type": "code",
      "source": [
        "%matplotlib inline"
      ],
      "metadata": {
        "id": "3qfSkxbXRTYs"
      },
      "execution_count": 4,
      "outputs": []
    },
    {
      "cell_type": "code",
      "execution_count": 5,
      "metadata": {
        "id": "I2mF29avQ9MM"
      },
      "outputs": [],
      "source": [
        "import numpy as np\n",
        "import jax.numpy as jnp\n",
        "import jax.scipy as jsc\n",
        "from jax import grad, jit, vmap, random, lax\n",
        "from functools import partial\n",
        "import jax\n",
        "from scipy.stats import multivariate_normal\n",
        "import jax.flatten_util\n",
        "import jax.example_libraries.optimizers as jeo"
      ]
    },
    {
      "cell_type": "code",
      "source": [
        "from jax.config import config\n",
        "config.update(\"jax_enable_x64\", True)"
      ],
      "metadata": {
        "id": "-RF6Rxy-tE-A"
      },
      "execution_count": 6,
      "outputs": []
    },
    {
      "cell_type": "markdown",
      "source": [
        "## Load Test Data"
      ],
      "metadata": {
        "id": "XTe465kaRjaj"
      }
    },
    {
      "cell_type": "code",
      "source": [
        "testx = jnp.load('drive/MyDrive/Project/Test/Testx.npy').astype('f').flatten()\n",
        "truef = jnp.load('drive/MyDrive/Project/Test/Truef.npy').flatten()\n",
        "inw = jnp.load('drive/MyDrive/Project/Test/Inputwin.npy')\n",
        "outw = jnp.load('drive/MyDrive/Project/Test/Outputwin.npy')\n",
        "truen = jnp.load('drive/MyDrive/Project/Test/Noise.npy')\n",
        "testy = jsc.signal.convolve(testx, truef)\n",
        "testy += truen*jnp.ones(jnp.shape(testy))"
      ],
      "metadata": {
        "id": "LXWgK5X2RmO9"
      },
      "execution_count": 7,
      "outputs": []
    },
    {
      "cell_type": "code",
      "source": [
        "t = jnp.shape(testx)[0]-1\n",
        "n = jnp.shape(testy)[0] - t - 1\n",
        "dt = inw/t\n",
        "timex = jnp.linspace(0.0, t*dt, t+1)\n",
        "timey = jnp.linspace(0.0, (n+t)*dt, t+n+1)\n",
        "timef = jnp.linspace(0.0, n*dt, n+1)"
      ],
      "metadata": {
        "id": "gtLgozQbmLC6"
      },
      "execution_count": 8,
      "outputs": []
    },
    {
      "cell_type": "code",
      "source": [
        "plt.plot(timex, testx)"
      ],
      "metadata": {
        "colab": {
          "base_uri": "https://localhost:8080/",
          "height": 0
        },
        "id": "ivhnVr0hUDoB",
        "outputId": "5b23a740-fd37-4394-c5fe-e7bef8d46d95"
      },
      "execution_count": 9,
      "outputs": [
        {
          "output_type": "execute_result",
          "data": {
            "text/plain": [
              "[<matplotlib.lines.Line2D at 0x7fdee2192e10>]"
            ]
          },
          "metadata": {},
          "execution_count": 9
        },
        {
          "output_type": "display_data",
          "data": {
            "image/png": "[encoded data removed]",
            "text/plain": [
              "<Figure size 432x288 with 1 Axes>"
            ]
          },
          "metadata": {
            "needs_background": "light"
          }
        }
      ]
    },
    {
      "cell_type": "code",
      "source": [
        "plt.plot(timey, testy)"
      ],
      "metadata": {
        "colab": {
          "base_uri": "https://localhost:8080/",
          "height": 0
        },
        "id": "cekyXVUSm8Xo",
        "outputId": "4fbecac8-9cb2-4f75-8a13-dc0b1627b8c7"
      },
      "execution_count": 10,
      "outputs": [
        {
          "output_type": "execute_result",
          "data": {
            "text/plain": [
              "[<matplotlib.lines.Line2D at 0x7fdee21131d0>]"
            ]
          },
          "metadata": {},
          "execution_count": 10
        },
        {
          "output_type": "display_data",
          "data": {
            "image/png": "[encoded data removed]",
            "text/plain": [
              "<Figure size 432x288 with 1 Axes>"
            ]
          },
          "metadata": {
            "needs_background": "light"
          }
        }
      ]
    },
    {
      "cell_type": "markdown",
      "source": [
        "## Function Definitions"
      ],
      "metadata": {
        "id": "dW8jCiSOlhCS"
      }
    },
    {
      "cell_type": "markdown",
      "source": [
        "### Lower Triangular Matrix **Cannot be jit-ed, so in-built in ELBO**"
      ],
      "metadata": {
        "id": "ZpUZ-u-PsQjt"
      }
    },
    {
      "cell_type": "code",
      "source": [
        "def Build_L(L_Array):\n",
        "\n",
        "  L_Array_size = jnp.shape(L_Array)[0]\n",
        "\n",
        "  M = jnp.round((-0.5 + jnp.sqrt(0.25 + 2*L_Array_size))).astype(jnp.integer)\n",
        "\n",
        "  L_MM = jnp.zeros((M, M))\n",
        "\n",
        "  return L_MM.at[jnp.tril_indices(M)].set(L_Array)"
      ],
      "metadata": {
        "id": "a3jVxVrEsWyL"
      },
      "execution_count": 11,
      "outputs": []
    },
    {
      "cell_type": "markdown",
      "source": [
        "#### Lower Triangular Matrix Test"
      ],
      "metadata": {
        "id": "Zy8-Igf7vL-G"
      }
    },
    {
      "cell_type": "code",
      "source": [
        "test_m = 10\n",
        "test_triangle_size = jnp.round(test_m*(test_m + 1)/2).astype(jnp.integer)\n",
        "test_eye = jnp.eye(test_m).at[jnp.tril_indices(test_m)].get()"
      ],
      "metadata": {
        "id": "9f9-6iPsvTSY"
      },
      "execution_count": 12,
      "outputs": []
    },
    {
      "cell_type": "code",
      "source": [
        "print(Build_L(5*jnp.ones((test_triangle_size,))))"
      ],
      "metadata": {
        "colab": {
          "base_uri": "https://localhost:8080/"
        },
        "id": "Lg1pSaKYx4rX",
        "outputId": "7aa12a78-b9fb-48b6-9263-6c1698c29896"
      },
      "execution_count": 13,
      "outputs": [
        {
          "output_type": "stream",
          "name": "stdout",
          "text": [
            "[[5. 0. 0. 0. 0. 0. 0. 0. 0. 0.]\n",
            " [5. 5. 0. 0. 0. 0. 0. 0. 0. 0.]\n",
            " [5. 5. 5. 0. 0. 0. 0. 0. 0. 0.]\n",
            " [5. 5. 5. 5. 0. 0. 0. 0. 0. 0.]\n",
            " [5. 5. 5. 5. 5. 0. 0. 0. 0. 0.]\n",
            " [5. 5. 5. 5. 5. 5. 0. 0. 0. 0.]\n",
            " [5. 5. 5. 5. 5. 5. 5. 0. 0. 0.]\n",
            " [5. 5. 5. 5. 5. 5. 5. 5. 0. 0.]\n",
            " [5. 5. 5. 5. 5. 5. 5. 5. 5. 0.]\n",
            " [5. 5. 5. 5. 5. 5. 5. 5. 5. 5.]]\n"
          ]
        }
      ]
    },
    {
      "cell_type": "code",
      "source": [
        "print(Build_L(test_eye))"
      ],
      "metadata": {
        "colab": {
          "base_uri": "https://localhost:8080/"
        },
        "id": "eZedvXeyyAgP",
        "outputId": "542899b1-9b90-42e6-fc9b-0f3428c1c89d"
      },
      "execution_count": 14,
      "outputs": [
        {
          "output_type": "stream",
          "name": "stdout",
          "text": [
            "[[1. 0. 0. 0. 0. 0. 0. 0. 0. 0.]\n",
            " [0. 1. 0. 0. 0. 0. 0. 0. 0. 0.]\n",
            " [0. 0. 1. 0. 0. 0. 0. 0. 0. 0.]\n",
            " [0. 0. 0. 1. 0. 0. 0. 0. 0. 0.]\n",
            " [0. 0. 0. 0. 1. 0. 0. 0. 0. 0.]\n",
            " [0. 0. 0. 0. 0. 1. 0. 0. 0. 0.]\n",
            " [0. 0. 0. 0. 0. 0. 1. 0. 0. 0.]\n",
            " [0. 0. 0. 0. 0. 0. 0. 1. 0. 0.]\n",
            " [0. 0. 0. 0. 0. 0. 0. 0. 1. 0.]\n",
            " [0. 0. 0. 0. 0. 0. 0. 0. 0. 1.]]\n"
          ]
        }
      ]
    },
    {
      "cell_type": "markdown",
      "source": [
        "### SE Prior"
      ],
      "metadata": {
        "id": "bBJK3WkqljKa"
      }
    },
    {
      "cell_type": "markdown",
      "source": [
        "#### SE Covariance Function"
      ],
      "metadata": {
        "id": "YZKaw_wDlm1T"
      }
    },
    {
      "cell_type": "code",
      "source": [
        "@jit\n",
        "def Squared_exp(I, J, Sigma_f, Ell):\n",
        "  return Sigma_f**2.0*jnp.exp(-(I-J)**2/(2*Ell**2.0))"
      ],
      "metadata": {
        "id": "IZMC8MuZlrSQ"
      },
      "execution_count": 15,
      "outputs": []
    },
    {
      "cell_type": "code",
      "source": [
        "Vec_SE = jit(vmap(vmap(Squared_exp, in_axes=[None,0,None,None]),in_axes=[0,None,None,None]))"
      ],
      "metadata": {
        "id": "DUIZEWzdltFD"
      },
      "execution_count": 16,
      "outputs": []
    },
    {
      "cell_type": "markdown",
      "source": [
        "##### SE Test"
      ],
      "metadata": {
        "id": "md0zl6VX7wYY"
      }
    },
    {
      "cell_type": "code",
      "source": [
        "testSEx = jnp.asarray([0.0, 0.3, 0.6, 0.9])"
      ],
      "metadata": {
        "id": "YcMF3LHu8CtO"
      },
      "execution_count": 17,
      "outputs": []
    },
    {
      "cell_type": "code",
      "source": [
        "testSEy = jnp.asarray([0.0, 0.3, 0.6])"
      ],
      "metadata": {
        "id": "pDCYkWFOl35y"
      },
      "execution_count": 18,
      "outputs": []
    },
    {
      "cell_type": "code",
      "source": [
        "print(testSEx)"
      ],
      "metadata": {
        "colab": {
          "base_uri": "https://localhost:8080/"
        },
        "id": "ddhza0FqMu4Q",
        "outputId": "52abc158-eb1b-4c1c-feac-6d18827bb1ba"
      },
      "execution_count": 19,
      "outputs": [
        {
          "output_type": "stream",
          "name": "stdout",
          "text": [
            "[0.  0.3 0.6 0.9]\n"
          ]
        }
      ]
    },
    {
      "cell_type": "code",
      "source": [
        "print(Vec_SE(testSEx, testSEx, 3.0, 0.2))"
      ],
      "metadata": {
        "colab": {
          "base_uri": "https://localhost:8080/"
        },
        "id": "hVtmDjjB8MuW",
        "outputId": "820fda4d-bc8b-4fc4-97e6-036a7098a479"
      },
      "execution_count": 20,
      "outputs": [
        {
          "output_type": "stream",
          "name": "stdout",
          "text": [
            "[[9.00000000e+00 2.92187221e+00 9.99809688e-02 3.60587677e-04]\n",
            " [2.92187221e+00 9.00000000e+00 2.92187221e+00 9.99809688e-02]\n",
            " [9.99809688e-02 2.92187221e+00 9.00000000e+00 2.92187221e+00]\n",
            " [3.60587677e-04 9.99809688e-02 2.92187221e+00 9.00000000e+00]]\n"
          ]
        }
      ]
    },
    {
      "cell_type": "code",
      "source": [
        "print(Vec_SE(testSEx, testSEy, 3.0, 0.2))"
      ],
      "metadata": {
        "colab": {
          "base_uri": "https://localhost:8080/"
        },
        "id": "Wo0rssZzl82m",
        "outputId": "ca529514-a4e9-4783-f177-82a90508eabc"
      },
      "execution_count": 21,
      "outputs": [
        {
          "output_type": "stream",
          "name": "stdout",
          "text": [
            "[[9.00000000e+00 2.92187221e+00 9.99809688e-02]\n",
            " [2.92187221e+00 9.00000000e+00 2.92187221e+00]\n",
            " [9.99809688e-02 2.92187221e+00 9.00000000e+00]\n",
            " [3.60587677e-04 9.99809688e-02 2.92187221e+00]]\n"
          ]
        }
      ]
    },
    {
      "cell_type": "markdown",
      "source": [
        "### Cholesky Decomposition"
      ],
      "metadata": {
        "id": "HjaMUV9mmCZM"
      }
    },
    {
      "cell_type": "code",
      "source": [
        "@jit\n",
        "def Broke_Chol(Symmetric_Matrix):\n",
        "  F_size = jnp.shape(Symmetric_Matrix)[0]\n",
        "  return jnp.linalg.cholesky(Symmetric_Matrix + 10.0**(-6.0)*jnp.eye(F_size))"
      ],
      "metadata": {
        "id": "okXLOzDUmK-3"
      },
      "execution_count": 22,
      "outputs": []
    },
    {
      "cell_type": "code",
      "source": [
        "@jit\n",
        "def Good_Chol(Symmetric_Matrix):\n",
        "  return jnp.linalg.cholesky(Symmetric_Matrix)"
      ],
      "metadata": {
        "id": "0HsJgyUWmNDY"
      },
      "execution_count": 23,
      "outputs": []
    },
    {
      "cell_type": "markdown",
      "source": [
        "#### Test Cholesky"
      ],
      "metadata": {
        "id": "FD2WjqCtmTxI"
      }
    },
    {
      "cell_type": "code",
      "source": [
        "print(Vec_SE(timex[:3], timex[:3], 100.0, 0.1))"
      ],
      "metadata": {
        "colab": {
          "base_uri": "https://localhost:8080/"
        },
        "id": "UBPkHl8-MS_y",
        "outputId": "08c190c5-7a09-4d19-ec18-de8f3a159d46"
      },
      "execution_count": 24,
      "outputs": [
        {
          "output_type": "stream",
          "name": "stdout",
          "text": [
            "[[10000.          9987.50780925  9950.12479193]\n",
            " [ 9987.50780925 10000.          9987.50780925]\n",
            " [ 9950.12479193  9987.50780925 10000.        ]]\n"
          ]
        }
      ]
    },
    {
      "cell_type": "code",
      "source": [
        "print(Good_Chol(Vec_SE(timex[:3], timex[:3], 100.0, 0.1)))"
      ],
      "metadata": {
        "colab": {
          "base_uri": "https://localhost:8080/"
        },
        "id": "ZXyjvQhFNHtc",
        "outputId": "ebcda58f-416d-4a92-fdc2-a6fa16ff22b5"
      },
      "execution_count": 25,
      "outputs": [
        {
          "output_type": "stream",
          "name": "stdout",
          "text": [
            "[[100.           0.           0.        ]\n",
            " [ 99.87507809   4.99687663   0.        ]\n",
            " [ 99.50124792   9.96880786   0.35289133]]\n"
          ]
        }
      ]
    },
    {
      "cell_type": "code",
      "source": [
        "print(jnp.linalg.cholesky(Vec_SE(timex[:3], timex[:3], 100.0, 0.1)))"
      ],
      "metadata": {
        "colab": {
          "base_uri": "https://localhost:8080/"
        },
        "id": "6EDMoAb_LvYi",
        "outputId": "c5edf82f-002c-4ec1-841d-0d64df90468b"
      },
      "execution_count": 26,
      "outputs": [
        {
          "output_type": "stream",
          "name": "stdout",
          "text": [
            "[[100.           0.           0.        ]\n",
            " [ 99.87507809   4.99687663   0.        ]\n",
            " [ 99.50124792   9.96880786   0.35289133]]\n"
          ]
        }
      ]
    },
    {
      "cell_type": "code",
      "source": [
        "print(Broke_Chol(Vec_SE(timex[:3], timex[:3], 100.0, 0.1)))"
      ],
      "metadata": {
        "colab": {
          "base_uri": "https://localhost:8080/"
        },
        "id": "NW3NjE9ZNMYf",
        "outputId": "34081657-6790-436c-c8dd-839265ca8995"
      },
      "execution_count": 27,
      "outputs": [
        {
          "output_type": "stream",
          "name": "stdout",
          "text": [
            "[[100.           0.           0.        ]\n",
            " [ 99.87507809   4.99687683   0.        ]\n",
            " [ 99.50124791   9.96880766   0.35289979]]\n"
          ]
        }
      ]
    },
    {
      "cell_type": "code",
      "source": [
        "print(jnp.linalg.cholesky(Vec_SE(timex[:3], timex[:3], 100.0, 0.1)+10**(-6.0)*jnp.eye(3)))"
      ],
      "metadata": {
        "colab": {
          "base_uri": "https://localhost:8080/"
        },
        "id": "3hPZ66lkNQkE",
        "outputId": "ee1ca0bb-34d8-4200-8383-b544f6d007af"
      },
      "execution_count": 28,
      "outputs": [
        {
          "output_type": "stream",
          "name": "stdout",
          "text": [
            "[[100.           0.           0.        ]\n",
            " [ 99.87507809   4.99687683   0.        ]\n",
            " [ 99.50124791   9.96880766   0.35289979]]\n"
          ]
        }
      ]
    },
    {
      "cell_type": "markdown",
      "source": [
        "### Variational Bound (ELBO)"
      ],
      "metadata": {
        "id": "f5azpXYfmzag"
      }
    },
    {
      "cell_type": "markdown",
      "source": [
        "#### KL Divergence"
      ],
      "metadata": {
        "id": "iBC9y9hhm33p"
      }
    },
    {
      "cell_type": "code",
      "source": [
        "# Simpler sum of squares for norm (square rooting then squaring wasteful)"
      ],
      "metadata": {
        "id": "hJMVwjkdHy3j"
      },
      "execution_count": 29,
      "outputs": []
    },
    {
      "cell_type": "code",
      "source": [
        "# squared norm"
      ],
      "metadata": {
        "id": "VWHSolfvH76V"
      },
      "execution_count": 30,
      "outputs": []
    },
    {
      "cell_type": "code",
      "source": [
        "@jit\n",
        "def Kl_Div(V_M, L_MM):\n",
        "  M = jnp.shape(V_M)[0]\n",
        "  return 0.5*(-jnp.sum(jnp.log(jnp.square(jnp.diag(L_MM)))) +\n",
        "              jnp.linalg.norm(L_MM)**2 + jnp.linalg.norm(V_M)**2 - M)"
      ],
      "metadata": {
        "id": "rpEGwVhgm6yy"
      },
      "execution_count": 31,
      "outputs": []
    },
    {
      "cell_type": "markdown",
      "source": [
        "##### KL Divergence Test **Not Carried Out**"
      ],
      "metadata": {
        "id": "LOhUeazJG2z1"
      }
    },
    {
      "cell_type": "code",
      "source": [
        "test_m = 11\n",
        "test_eye = jnp.eye(test_m).at[jnp.tril_indices(test_m)].get()\n",
        "test_z_m = jnp.linspace(0.0, timef[-1], test_m)\n",
        "test_v_m = jnp.exp(-75*test_z_m)\n",
        "test_l_mm = Build_L(test_eye)"
      ],
      "metadata": {
        "id": "oWboC8eMG7a-"
      },
      "execution_count": 32,
      "outputs": []
    },
    {
      "cell_type": "code",
      "source": [
        "test_kl = Kl_Div(test_v_m, test_l_mm)"
      ],
      "metadata": {
        "id": "1ZKP-xcls0Il"
      },
      "execution_count": 33,
      "outputs": []
    },
    {
      "cell_type": "code",
      "source": [
        "print(test_kl)"
      ],
      "metadata": {
        "colab": {
          "base_uri": "https://localhost:8080/"
        },
        "id": "4cF7ggWEYTtL",
        "outputId": "30d736f3-1edb-4fc7-bf62-9921276f3d4e"
      },
      "execution_count": 34,
      "outputs": [
        {
          "output_type": "stream",
          "name": "stdout",
          "text": [
            "0.6436084144642731\n"
          ]
        }
      ]
    },
    {
      "cell_type": "markdown",
      "source": [
        "#### Log-Likelihood"
      ],
      "metadata": {
        "id": "ixlqOvl4p4ER"
      }
    },
    {
      "cell_type": "code",
      "source": [
        "# sum of squares"
      ],
      "metadata": {
        "id": "wsb1OBpDI8Pp"
      },
      "execution_count": 35,
      "outputs": []
    },
    {
      "cell_type": "code",
      "source": [
        "@jit\n",
        "def Loglikely(Sigma_n, F_Sample, Testx, Testy):\n",
        "\n",
        "  # Convolve the x-data and the f-sample together\n",
        "  Y_mean = jsc.signal.convolve(Testx, F_Sample)\n",
        "\n",
        "  # Shape of output-data\n",
        "  D = jnp.shape(Y_mean)[0]\n",
        "  \n",
        "  # Difference between y-data and the mean \n",
        "  Diff = Testy - Y_mean\n",
        "\n",
        "  return 0.5*(-D*jnp.log(2*jnp.pi*Sigma_n**2) - \n",
        "              jnp.linalg.norm(Diff)**2/Sigma_n**2)"
      ],
      "metadata": {
        "id": "8ionyOWUqBEF"
      },
      "execution_count": 36,
      "outputs": []
    },
    {
      "cell_type": "code",
      "source": [
        "Vec_Loglikely = jit(vmap(Loglikely, in_axes = [None, 0, None, None]))"
      ],
      "metadata": {
        "id": "Xp4dKdfR85Hz"
      },
      "execution_count": 37,
      "outputs": []
    },
    {
      "cell_type": "markdown",
      "source": [
        "###### Log-Likelihood Test"
      ],
      "metadata": {
        "id": "H4IXxJEUdW47"
      }
    },
    {
      "cell_type": "code",
      "source": [
        "print(jsc.stats.multivariate_normal.logpdf(testy, jnp.convolve(testx, truef), 0.05**2*jnp.eye(t+n+1)))"
      ],
      "metadata": {
        "colab": {
          "base_uri": "https://localhost:8080/"
        },
        "id": "ndqdkCwLawck",
        "outputId": "66411204-4905-4e36-cfd9-b1f77156d58d"
      },
      "execution_count": 38,
      "outputs": [
        {
          "output_type": "stream",
          "name": "stdout",
          "text": [
            "190.79204258226747\n"
          ]
        }
      ]
    },
    {
      "cell_type": "code",
      "source": [
        "print(Loglikely(-0.05, truef, testx, testy))"
      ],
      "metadata": {
        "id": "VCMvKbNF8q-K",
        "outputId": "a97bf64d-1cb0-4727-c556-d4fb85892628",
        "colab": {
          "base_uri": "https://localhost:8080/"
        }
      },
      "execution_count": 39,
      "outputs": [
        {
          "output_type": "stream",
          "name": "stdout",
          "text": [
            "190.7920425822675\n"
          ]
        }
      ]
    },
    {
      "cell_type": "code",
      "source": [
        "print(Vec_Loglikely(-0.05, jnp.vstack((truef, truef)), testx, testy))"
      ],
      "metadata": {
        "colab": {
          "base_uri": "https://localhost:8080/"
        },
        "id": "mCHAXCQM9NL7",
        "outputId": "a194d420-a7e3-4fca-a6d8-35ee0ce76803"
      },
      "execution_count": 40,
      "outputs": [
        {
          "output_type": "stream",
          "name": "stdout",
          "text": [
            "[190.79204258 190.79204258]\n"
          ]
        }
      ]
    },
    {
      "cell_type": "markdown",
      "source": [
        "#### Expected Log-Likelihood"
      ],
      "metadata": {
        "id": "K77Ek_-lyD3T"
      }
    },
    {
      "cell_type": "code",
      "source": [
        "# length scale of same order as the time over which covariance matrix build\n",
        "# then many eignevalues of matrix will be close to zero (think of \"uniform\" matrix)\n",
        "#  "
      ],
      "metadata": {
        "id": "9FWWhXXvLOo2"
      },
      "execution_count": 41,
      "outputs": []
    },
    {
      "cell_type": "code",
      "source": [
        "# "
      ],
      "metadata": {
        "id": "I4CSpc92N7IB"
      },
      "execution_count": 42,
      "outputs": []
    },
    {
      "cell_type": "code",
      "source": [
        "#@partial(jit, static_argnums = (0,1))\n",
        "def Exp_Loglikely(Number_f, M, Subkey, Sigma_f, Ell_f, Sigma_n, Z_M, V_M, L_MM, \n",
        "                  K_NN, Timex, Testx, Timey, Testy):\n",
        "  \n",
        "  # Get vector of filter times\n",
        "  T = jnp.shape(Testx)[0] - 1\n",
        "  N = jnp.shape(Testy)[0] - T - 1\n",
        "\n",
        "  F_times = jnp.linspace(0.0, Timey[-1]-Timex[-1], N + 1)\n",
        "\n",
        "  # Get the relevant matrices\n",
        "  K_MN = Vec_SE(Z_M, F_times, Sigma_f, Ell_f)\n",
        "  K_MM = Vec_SE(Z_M, Z_M, Sigma_f, Ell_f)\n",
        "  C_MM = jnp.linalg.cholesky(K_MM + 1e-6*jnp.eye(M))\n",
        "  B = jsc.linalg.solve_triangular(C_MM, K_MN, lower = True) # modifying inplace dangerous for grad\n",
        "\n",
        "  # Build the mean vector and covariance matrix of q(f)\n",
        "  Mu_q = V_M @ B\n",
        "  V_q = K_NN + B.T @ (L_MM @ L_MM.T - jnp.eye(M)) @ B\n",
        "\n",
        "  # Get the samples of f\n",
        "  Sampled_fs = random.multivariate_normal(Subkey, Mu_q, V_q + 1e-6*jnp.eye(N + 1),\n",
        "                                          shape = (Number_f,))\n",
        "\n",
        "  # Get the mean log-likelihood with each of these fs\n",
        "  Likelihoods = Vec_Loglikely(Sigma_n, Sampled_fs, Testx, Testy)\n",
        "\n",
        "  return jnp.mean(Likelihoods)"
      ],
      "metadata": {
        "id": "-hEjx6Zjzkzs"
      },
      "execution_count": 43,
      "outputs": []
    },
    {
      "cell_type": "markdown",
      "source": [
        "##### Expected Log-Likelihood Test **Not Carried Out**"
      ],
      "metadata": {
        "id": "lBwIu2G5tN93"
      }
    },
    {
      "cell_type": "code",
      "source": [
        "test_number_f = 10000\n",
        "test_m = 11\n",
        "test_key = random.PRNGKey(10)\n",
        "test_eye = jnp.eye(test_m).at[jnp.tril_indices(test_m)].get()\n",
        "test_sigma_f = 1.0\n",
        "test_ell_f = 0.01\n",
        "test_sigma_n = 0.05\n",
        "test_z_m = jnp.linspace(0.0, timef[-1], test_m)\n",
        "test_v_m = jnp.exp(-75*test_z_m)\n",
        "test_l_mm = Build_L(test_eye)\n",
        "test_k_nn = Vec_SE(timef, timef, test_sigma_f, test_ell_f)"
      ],
      "metadata": {
        "id": "h94xtwtyng4g"
      },
      "execution_count": 44,
      "outputs": []
    },
    {
      "cell_type": "code",
      "source": [
        "test_likelihood = Exp_Loglikely(test_number_f, test_m, test_key, test_sigma_f, \n",
        "                                test_ell_f, test_sigma_n, test_z_m, test_v_m, \n",
        "                                test_l_mm, test_k_nn, timex, testx, timey, testy)"
      ],
      "metadata": {
        "id": "4db1eohwBi6y"
      },
      "execution_count": 45,
      "outputs": []
    },
    {
      "cell_type": "code",
      "source": [
        "print(test_likelihood)"
      ],
      "metadata": {
        "colab": {
          "base_uri": "https://localhost:8080/"
        },
        "id": "Zj2CbVGyCZ7r",
        "outputId": "e03fbd6e-ddfc-4fa6-b6c8-f46b5bf57a6e"
      },
      "execution_count": 46,
      "outputs": [
        {
          "output_type": "stream",
          "name": "stdout",
          "text": [
            "-137594.47619538652\n"
          ]
        }
      ]
    },
    {
      "cell_type": "code",
      "source": [
        "print(Exp_Loglikely(test_number_f, test_m, test_key, -1.0, \n",
        "                                test_ell_f, test_sigma_n, test_z_m, test_v_m, \n",
        "                                test_l_mm, test_k_nn, timex, testx, timey, testy))"
      ],
      "metadata": {
        "colab": {
          "base_uri": "https://localhost:8080/"
        },
        "id": "BfvRDzx4Cupg",
        "outputId": "8904858f-ba8b-4030-dbbb-f48e9cd3d297"
      },
      "execution_count": 47,
      "outputs": [
        {
          "output_type": "stream",
          "name": "stdout",
          "text": [
            "-137594.47619538652\n"
          ]
        }
      ]
    },
    {
      "cell_type": "markdown",
      "source": [
        "#### ELBO"
      ],
      "metadata": {
        "id": "fhU8dq25Q2iF"
      }
    },
    {
      "cell_type": "code",
      "source": [
        "# Divide ELBO by number of time bins to normalise"
      ],
      "metadata": {
        "id": "yWrKCswONUyJ"
      },
      "execution_count": 48,
      "outputs": []
    },
    {
      "cell_type": "code",
      "source": [
        "# Parameterise L_MM to have a positive diagonal "
      ],
      "metadata": {
        "id": "wUQpjcGbP3ag"
      },
      "execution_count": 49,
      "outputs": []
    },
    {
      "cell_type": "code",
      "source": [
        "# jnp.tril and diagonal in two seperate parts so that diagonal is positive"
      ],
      "metadata": {
        "id": "8y62Tf_rP_wn"
      },
      "execution_count": 50,
      "outputs": []
    },
    {
      "cell_type": "code",
      "source": [
        "@partial(jit, static_argnums = ((0,1)))\n",
        "def ELBO(Number_f, M, Subkey, Sigma_f, Ell_f, Sigma_n, Z_M, V_M, L_Array, K_NN, \n",
        "         Timex, Testx, Timey, Testy):\n",
        "  \n",
        "  \n",
        "  L_MM = jnp.zeros((M, M))\n",
        "\n",
        "  L_MM = L_MM.at[jnp.tril_indices(M)].set(L_Array)\n",
        "\n",
        "  Expected_Like = Exp_Loglikely(Number_f, M, Subkey, Sigma_f, Ell_f, Sigma_n, \n",
        "                                Z_M, V_M, L_MM, K_NN, Timex, Testx, Timey, Testy)\n",
        "  \n",
        "  KL_Divergence = Kl_Div(V_M, L_MM)\n",
        "\n",
        "  return Expected_Like - KL_Divergence"
      ],
      "metadata": {
        "id": "QTqDZpvTQ7oF"
      },
      "execution_count": 51,
      "outputs": []
    },
    {
      "cell_type": "markdown",
      "source": [
        "##### ELBO Test"
      ],
      "metadata": {
        "id": "oGJsbNVJRu_d"
      }
    },
    {
      "cell_type": "code",
      "source": [
        "test_number_f = 10000\n",
        "test_m = 11\n",
        "test_key = random.PRNGKey(10)\n",
        "test_sigma_f = 1.0\n",
        "test_ell_f = 0.01\n",
        "test_sigma_n = 0.05\n",
        "test_z_m = jnp.linspace(0.0, timef[-1], test_m)\n",
        "test_v_m = jnp.exp(-75*test_z_m)\n",
        "test_l_array = jnp.eye(test_m).at[jnp.tril_indices(test_m)].get()\n",
        "test_k_nn = Vec_SE(timef, timef, test_sigma_f, test_ell_f)"
      ],
      "metadata": {
        "id": "g4Qn_nN_R3oP"
      },
      "execution_count": 52,
      "outputs": []
    },
    {
      "cell_type": "code",
      "source": [
        "test_elbo = ELBO(test_number_f, test_m, test_key, test_sigma_f, test_ell_f, \n",
        "                 test_sigma_n, test_z_m, test_v_m, test_l_array, test_k_nn, timex, \n",
        "                 testx, timey, testy)"
      ],
      "metadata": {
        "id": "RoZA6u7bR6WL"
      },
      "execution_count": 53,
      "outputs": []
    },
    {
      "cell_type": "code",
      "source": [
        "print(test_elbo)"
      ],
      "metadata": {
        "colab": {
          "base_uri": "https://localhost:8080/"
        },
        "id": "u2GkWOvkSD_1",
        "outputId": "5d202d68-1d65-449e-88dc-cb2b06020d7a"
      },
      "execution_count": 54,
      "outputs": [
        {
          "output_type": "stream",
          "name": "stdout",
          "text": [
            "-137595.11980380098\n"
          ]
        }
      ]
    },
    {
      "cell_type": "code",
      "source": [
        "print(test_likelihood - test_kl)"
      ],
      "metadata": {
        "colab": {
          "base_uri": "https://localhost:8080/"
        },
        "id": "4HLPClOQYWvG",
        "outputId": "0b083393-715c-4a93-d222-9d4c0516f33d"
      },
      "execution_count": 55,
      "outputs": [
        {
          "output_type": "stream",
          "name": "stdout",
          "text": [
            "-137595.11980380098\n"
          ]
        }
      ]
    },
    {
      "cell_type": "markdown",
      "source": [
        "### Gradient Ascent Functions"
      ],
      "metadata": {
        "id": "NPP6wsuRZnzF"
      }
    },
    {
      "cell_type": "markdown",
      "source": [
        "#### Jax Optimizers"
      ],
      "metadata": {
        "id": "YBCn3dPsi6ya"
      }
    },
    {
      "cell_type": "markdown",
      "source": [
        "##### ELBO for JAX ADAM"
      ],
      "metadata": {
        "id": "E-gOSlS78If9"
      }
    },
    {
      "cell_type": "code",
      "source": [
        "@partial(jit, static_argnums = (0,1))\n",
        "def Exp_Loglikely2(Number_f, M, Sigma_f, Ell_f, Sigma_n, Z_M, V_M, L_MM, \n",
        "                  K_NN, Timex, Testx, Timey, Testy):\n",
        "  \n",
        "  Subkey = random.PRNGKey(10)\n",
        "  \n",
        "  # Get vector of filter times\n",
        "  Dt = Timex[1]\n",
        "  T = jnp.shape(Testx)[0] - 1\n",
        "  N = jnp.shape(Testy)[0] - T - 1\n",
        "\n",
        "  F_times = jnp.linspace(0.0, Timey[-1]-Timex[-1], N + 1)\n",
        "\n",
        "  # Get the relevant matrices\n",
        "  K_MN = Vec_SE(Z_M, F_times, Sigma_f, Ell_f)\n",
        "  K_MM = Vec_SE(Z_M, Z_M, Sigma_f, Ell_f)\n",
        "  C_MM = jnp.linalg.cholesky(K_MM + 1e-6*jnp.eye(M)) # Tried with I\n",
        "  B = jsc.linalg.solve_triangular(C_MM, K_MN, lower = True)\n",
        "\n",
        "  # Build the mean vector and covariance matrix of q(f)\n",
        "  Mu_q = V_M @ B\n",
        "  V_q = K_NN + B.T @ (L_MM @ L_MM.T - jnp.eye(M)) @ B\n",
        "\n",
        "  # Get the samples of f\n",
        "  #Sampled_fs = Mu_q + random.normal(Subkey, shape=(Number_f,)) @ jnp.linalg.cholesky(V_q) \n",
        "  Sampled_fs = random.multivariate_normal(Subkey, Mu_q, V_q + 1e-6*jnp.eye(N + 1),\n",
        "                                          shape = (Number_f,))\n",
        "\n",
        "  # Get the mean log-likelihood with each of these fs\n",
        "  Likelihoods = Vec_Loglikely(Sigma_n, Sampled_fs, Testx, Testy)\n",
        "\n",
        "  return jnp.mean(Likelihoods)"
      ],
      "metadata": {
        "id": "MdeQIX6IYRgp"
      },
      "execution_count": 56,
      "outputs": []
    },
    {
      "cell_type": "code",
      "source": [
        "@partial(jit, static_argnums = ((0,1)))\n",
        "def ELBO2(Number_f, M, Sigma_f, Ell_f, Sigma_n, Z_M, V_M, L_Array, K_NN, \n",
        "         Timex, Testx, Timey, Testy):\n",
        "  \n",
        "  #Number_f = np.asarray(Number_f, dtype = jnp.integer)\n",
        "  #M = np.asarray(M, dtype = jnp.integer)\n",
        "  Z_M = jnp.abs(Z_M)\n",
        "\n",
        "  Z_M = jnp.sort(Z_M)\n",
        "  \n",
        "  L_MM = jnp.zeros((M, M))\n",
        "\n",
        "  L_MM = L_MM.at[jnp.tril_indices(M)].set(L_Array)\n",
        "  L_MM = L_MM.at[jnp.diag_indices(M)].set(jnp.abs(jnp.diag(L_MM)))\n",
        "\n",
        "  Expected_Like = Exp_Loglikely2(Number_f, M, Sigma_f, Ell_f, Sigma_n, \n",
        "                                Z_M, V_M, L_MM, K_NN, Timex, Testx, Timey, Testy)\n",
        "  \n",
        "  KL_Divergence = Kl_Div(V_M, L_MM)\n",
        "\n",
        "  return KL_Divergence - Expected_Like"
      ],
      "metadata": {
        "id": "enjjmqg1YIlX"
      },
      "execution_count": 57,
      "outputs": []
    },
    {
      "cell_type": "markdown",
      "source": [
        "##### Test Jax ADAM"
      ],
      "metadata": {
        "id": "QCQrfsaAj6Zk"
      }
    },
    {
      "cell_type": "code",
      "source": [
        "# Bounding parameters"
      ],
      "metadata": {
        "id": "sVWu5kudO68c"
      },
      "execution_count": 58,
      "outputs": []
    },
    {
      "cell_type": "code",
      "source": [
        "test_number_f = 30000\n",
        "test_m = 11\n",
        "test_key = random.PRNGKey(10)\n",
        "_, *test_keys = random.split(random.PRNGKey(1), 3)\n",
        "test_sigma_f = 1.5\n",
        "test_ell_f = 0.007\n",
        "test_sigma_n = 0.075\n",
        "test_z_m = jnp.linspace(0.08, timef[-1]-0.01, int(test_m))\n",
        "test_k_mm = Vec_SE(test_z_m, test_z_m, test_sigma_f, test_ell_f)\n",
        "test_c = jnp.linalg.cholesky(test_k_mm)\n",
        "#test_v_m = jsc.linalg.solve_triangular(test_c, truef[0::2], lower = True)\n",
        "#test_v_m = jnp.exp(-75*test_z_m)\n",
        "test_v_m = 0.1*random.normal(test_keys[0], shape = jnp.shape(test_z_m))\n",
        "test_l_array = (jnp.eye(int(test_m))+jnp.diag(0.1*random.normal(test_keys[1], \n",
        "                                                                shape = (int(test_m),)))).at[jnp.tril_indices(int(test_m))].get()\n",
        "test_k_nn = Vec_SE(timef, timef, test_sigma_f, test_ell_f)\n",
        "test_parameters = (test_sigma_f, test_ell_f, test_sigma_n, test_z_m, test_v_m,\n",
        "                   test_l_array)\n",
        "test_allparameters = (test_number_f, test_m, test_sigma_f, test_ell_f,\n",
        "                      test_sigma_n, test_z_m, test_v_m, test_l_array, test_k_nn,\n",
        "                      timex, testx, timey, testy)\n",
        "test_keyzero = jnp.zeros(jnp.shape(test_key))\n",
        "test_knnzero = jnp.zeros(jnp.shape(test_k_nn))\n",
        "test_timexzero = jnp.zeros(jnp.shape(timex))\n",
        "test_testxzero = jnp.zeros(jnp.shape(testx))\n",
        "test_timeyzero = jnp.zeros(jnp.shape(timey))\n",
        "test_testyzero = jnp.zeros(jnp.shape(testy))"
      ],
      "metadata": {
        "id": "aC9gyiz_kAbw"
      },
      "execution_count": 73,
      "outputs": []
    },
    {
      "cell_type": "code",
      "source": [
        "print(jnp.shape(np.diag(0.1*random.normal(test_keys[1], shape = (int(test_m),)))))"
      ],
      "metadata": {
        "colab": {
          "base_uri": "https://localhost:8080/"
        },
        "id": "eyH23NajeDNd",
        "outputId": "4c446374-bddd-4e86-fbc4-134ef8dc2375"
      },
      "execution_count": 64,
      "outputs": [
        {
          "output_type": "stream",
          "name": "stdout",
          "text": [
            "(11, 11)\n"
          ]
        }
      ]
    },
    {
      "cell_type": "code",
      "source": [
        "print(test_k_nn)"
      ],
      "metadata": {
        "id": "ryNxQOtga8rs"
      },
      "execution_count": null,
      "outputs": []
    },
    {
      "cell_type": "code",
      "source": [
        "test_gradient_func = jit(grad(ELBO2, argnums = (2,3,4,5,6,7)),\n",
        "                         static_argnums = ((0,1)))"
      ],
      "metadata": {
        "id": "2FyYXI0lDFWY"
      },
      "execution_count": 75,
      "outputs": []
    },
    {
      "cell_type": "code",
      "source": [
        "print(ELBO2(test_number_f, test_m, test_sigma_f, test_ell_f, \n",
        "                 test_sigma_n, test_z_m, test_v_m, test_l_array, test_k_nn, timex, \n",
        "                 testx, timey, testy))"
      ],
      "metadata": {
        "colab": {
          "base_uri": "https://localhost:8080/"
        },
        "id": "qDHhbVE09G_X",
        "outputId": "7409aa64-e9fc-4bf9-eea8-cfb617add204"
      },
      "execution_count": 76,
      "outputs": [
        {
          "output_type": "stream",
          "name": "stdout",
          "text": [
            "122579.71328131882\n"
          ]
        }
      ]
    },
    {
      "cell_type": "code",
      "source": [
        "print(ELBO(test_number_f, test_m, test_key, test_sigma_f, test_ell_f, \n",
        "                 test_sigma_n, test_z_m, test_v_m, test_l_array, test_k_nn, timex, \n",
        "                 testx, timey, testy))"
      ],
      "metadata": {
        "colab": {
          "base_uri": "https://localhost:8080/"
        },
        "id": "lITxBgHcBBdQ",
        "outputId": "4f4e6ee0-c8c1-40e0-eac8-c0251f37a3a1"
      },
      "execution_count": 77,
      "outputs": [
        {
          "output_type": "stream",
          "name": "stdout",
          "text": [
            "-122579.71328131882\n"
          ]
        }
      ]
    },
    {
      "cell_type": "code",
      "source": [
        "test_opt = jeo.adam(1e-3)\n",
        "opt_init = test_opt[0]\n",
        "opt_update = test_opt[1]\n",
        "opt_getvals = test_opt[2]\n",
        "test_state = opt_init(test_allparameters)\n",
        "test_params_less1 = opt_getvals(test_state)"
      ],
      "metadata": {
        "id": "l9JFG7ifjCDQ"
      },
      "execution_count": 78,
      "outputs": []
    },
    {
      "cell_type": "code",
      "source": [
        "print(test_allparameters)"
      ],
      "metadata": {
        "id": "_d6qCdS0_D-L"
      },
      "execution_count": null,
      "outputs": []
    },
    {
      "cell_type": "code",
      "source": [
        "print(test_state)"
      ],
      "metadata": {
        "id": "uaxED-8n4fs5"
      },
      "execution_count": null,
      "outputs": []
    },
    {
      "cell_type": "code",
      "source": [
        "print((test_number_f, test_m, test_key, *test_gradient_func(*opt_getvals(test_state)), test_k_nn, timex, testx, \n",
        "            timey, testy))"
      ],
      "metadata": {
        "id": "yUjDIxVC6CGk"
      },
      "execution_count": null,
      "outputs": []
    },
    {
      "cell_type": "code",
      "source": [
        "for i in range(1, 1000):\n",
        "  test_params = opt_getvals(test_state)\n",
        "\n",
        "  # Error catching\n",
        "  if jnp.isnan(jax.flatten_util.ravel_pytree(test_params)[0]).any():\n",
        "    test_failed = test_params_less1\n",
        "  else:\n",
        "    test_params_less1 = test_params\n",
        "\n",
        "  Parameters_updated = [*test_params[2:8]]\n",
        "\n",
        "  # Print grad()'d parameters\n",
        "  print(f\"The prior variance is:  {Parameters_updated[0]:.2f}\")\n",
        "  print(f\"The prior lenth scale is:  {Parameters_updated[1]:.2f}\")\n",
        "  print(f\"The noise is:  {Parameters_updated[2]:.2f}\")\n",
        "  print(f\"The inducing points are:  {Parameters_updated[3]}\")\n",
        "  print(f\"The parameterised mean of the inducing variables is:  {Parameters_updated[4]}\")\n",
        "  print(f\"The lower triangle values for the inducing variables covariance is:  {Parameters_updated[5]}\")\n",
        "  print(\"\\n\\n\\n\")\n",
        "\n",
        "  test_params = (test_number_f, test_m, *test_params[2:8], test_k_nn, \n",
        "                 timex, testx, timey, testy)\n",
        "  test_g = test_gradient_func(*test_params)\n",
        "  test_g = (0.0, 0.0,*test_g, test_knnzero, test_timexzero, test_testxzero, \n",
        "            test_timeyzero, test_testyzero)\n",
        "  \n",
        "  test_state = opt_update(i, test_g, test_state)"
      ],
      "metadata": {
        "colab": {
          "base_uri": "https://localhost:8080/"
        },
        "id": "6qN-wxWA1tiQ",
        "outputId": "5c948e70-625a-4667-c70e-a1439c530a84"
      },
      "execution_count": null,
      "outputs": [
        {
          "output_type": "stream",
          "name": "stdout",
          "text": [
            "The prior variance is:  1.50\n",
            "The prior lenth scale is:  0.01\n",
            "The noise is:  0.07\n",
            "The inducing points are:  [0.08  0.081 0.082 0.083 0.084 0.085 0.086 0.087 0.088 0.089 0.09 ]\n",
            "The parameterised mean of the inducing variables is:  [ 0.03848595 -0.05932952  0.02131647  0.04566236  0.02414246  0.02594163\n",
            " -0.02279581  0.22712179 -0.06215035  0.05152061 -0.05092959]\n",
            "The lower triangle values for the inducing variables covariance is:  [0.98417749 0.         1.09425521 0.         0.         0.95572292\n",
            " 0.         0.         0.         1.05863674 0.         0.\n",
            " 0.         0.         0.90511795 0.         0.         0.\n",
            " 0.         0.         1.05583137 0.         0.         0.\n",
            " 0.         0.         0.         0.97094498 0.         0.\n",
            " 0.         0.         0.         0.         0.         1.14100825\n",
            " 0.         0.         0.         0.         0.         0.\n",
            " 0.         0.         0.91833792 0.         0.         0.\n",
            " 0.         0.         0.         0.         0.         0.\n",
            " 0.98830109 0.         0.         0.         0.         0.\n",
            " 0.         0.         0.         0.         0.         0.96787876]\n",
            "\n",
            "\n",
            "\n",
            "\n",
            "The prior variance is:  1.50\n",
            "The prior lenth scale is:  0.01\n",
            "The noise is:  0.08\n",
            "The inducing points are:  [0.08074414 0.08174414 0.08125586 0.08374414 0.08474414 0.08425586\n",
            " 0.08525586 0.08625586 0.08874414 0.08825586 0.09074414]\n",
            "The parameterised mean of the inducing variables is:  [ 0.03774181 -0.06007366  0.0220606   0.04491822  0.02488659  0.02668576\n",
            " -0.02205167  0.22786593 -0.06289449  0.05226474 -0.05018545]\n",
            "The lower triangle values for the inducing variables covariance is:  [ 9.83433349e-01 -7.44136824e-04  1.09351107e+00 -7.44136824e-04\n",
            " -7.44136824e-04  9.54978778e-01 -7.44136824e-04 -7.44136824e-04\n",
            " -7.44136824e-04  1.05789260e+00 -7.44136824e-04 -7.44136824e-04\n",
            " -7.44136824e-04 -7.44136824e-04  9.04373817e-01 -7.44136824e-04\n",
            " -7.44136824e-04 -7.44136824e-04 -7.44136824e-04 -7.44136824e-04\n",
            "  1.05508723e+00 -7.44136824e-04 -7.44136824e-04 -7.44136824e-04\n",
            " -7.44136824e-04 -7.44136824e-04 -7.44136824e-04  9.70200848e-01\n",
            " -7.44136824e-04 -7.44136824e-04 -7.44136824e-04 -7.44136824e-04\n",
            " -7.44136824e-04 -7.44136824e-04 -7.44136824e-04  1.14026411e+00\n",
            " -7.44136824e-04 -7.44136824e-04 -7.44136824e-04 -7.44136824e-04\n",
            " -7.44136824e-04 -7.44136824e-04 -7.44136824e-04 -7.44136824e-04\n",
            "  9.17593781e-01 -7.44136824e-04 -7.44136824e-04 -7.44136824e-04\n",
            " -7.44136824e-04 -7.44136824e-04 -7.44136824e-04 -7.44136824e-04\n",
            " -7.44136824e-04 -7.44136824e-04  9.87556954e-01 -7.44136824e-04\n",
            " -7.44136824e-04 -7.44136824e-04 -7.44136824e-04 -7.44136824e-04\n",
            " -7.44136824e-04 -7.44136824e-04 -7.44136824e-04 -7.44136824e-04\n",
            " -7.44136824e-04  9.67134623e-01]\n",
            "\n",
            "\n",
            "\n",
            "\n",
            "The prior variance is:  1.50\n",
            "The prior lenth scale is:  0.01\n",
            "The noise is:  0.08\n",
            "The inducing points are:  [0.08157836 0.08121846 0.0810558  0.08338602 0.08422654 0.08480529\n",
            " 0.08571505 0.08540982 0.08896752 0.08877977 0.09144881]\n",
            "The parameterised mean of the inducing variables is:  [ 0.0368838  -0.06092435  0.02291963  0.04421611  0.02466655  0.02732387\n",
            " -0.02123319  0.22863515 -0.06225943  0.05254525 -0.04971632]\n",
            "The lower triangle values for the inducing variables covariance is:  [ 0.98257374 -0.00151996  1.09265172 -0.00160376 -0.00153809  0.95411963\n",
            " -0.0014513  -0.0015785  -0.00157322  1.0570706  -0.00141031 -0.00156104\n",
            " -0.00151554 -0.00160227  0.90353864 -0.0014626  -0.00156938 -0.00147553\n",
            " -0.00159306 -0.00155386  1.05441535 -0.00158551 -0.00160374 -0.00158179\n",
            " -0.00160065 -0.00154438 -0.00145007  0.96941828 -0.00152582 -0.00140791\n",
            " -0.00154548 -0.00160289 -0.00159903 -0.00157002 -0.00160334  1.13946082\n",
            " -0.00144787 -0.00149612 -0.00149408 -0.00160182 -0.00160291 -0.00159324\n",
            " -0.00160169 -0.00156431  0.91675163 -0.00147593 -0.0016036  -0.00154549\n",
            " -0.00157467 -0.00160231 -0.00152916 -0.00152348 -0.00157328 -0.00158148\n",
            "  0.98672672 -0.00129506 -0.00151663 -0.00144876 -0.00160026 -0.00158629\n",
            " -0.00153401 -0.00153218 -0.00159545 -0.00160369 -0.00160291  0.96627908]\n",
            "\n",
            "\n",
            "\n",
            "\n",
            "The prior variance is:  1.50\n",
            "The prior lenth scale is:  0.01\n",
            "The noise is:  0.08\n",
            "The inducing points are:  [0.08227787 0.08173998 0.08046693 0.08311333 0.08439288 0.08506935\n",
            " 0.08610141 0.08479893 0.08956444 0.08833626 0.09226337]\n",
            "The parameterised mean of the inducing variables is:  [ 0.03598942 -0.0618236   0.02382873  0.04438033  0.02413645  0.02787253\n",
            " -0.02040154  0.22943117 -0.06150319  0.05316891 -0.04903762]\n",
            "The lower triangle values for the inducing variables covariance is:  [ 0.98166083 -0.00207247  1.09173944 -0.00249185 -0.00231317  0.95328961\n",
            " -0.00215944 -0.00234126 -0.00242105  1.05624171 -0.00198548 -0.00244233\n",
            " -0.00224249 -0.00247492  0.90264532 -0.00213926 -0.00243291 -0.00214738\n",
            " -0.00249693 -0.00242776  1.05374954 -0.00244414 -0.00244258 -0.00239034\n",
            " -0.00249827 -0.00240697 -0.00215181  0.96863293 -0.00232002 -0.00216608\n",
            " -0.00230408 -0.00251393 -0.00245634 -0.00235765 -0.00242589  1.13873271\n",
            " -0.00224742 -0.00218856 -0.0023387  -0.00242624 -0.00250974 -0.00249469\n",
            " -0.00251333 -0.00241403  0.91588094 -0.00222149 -0.00236306 -0.00242209\n",
            " -0.00246834 -0.0024511  -0.00230998 -0.00233069 -0.00238542 -0.00247799\n",
            "  0.98592509 -0.00203027 -0.00234476 -0.00225973 -0.00248929 -0.00248414\n",
            " -0.00237229 -0.00238666 -0.00247358 -0.00250211 -0.00247978  0.96537169]\n",
            "\n",
            "\n",
            "\n",
            "\n",
            "The prior variance is:  1.50\n",
            "The prior lenth scale is:  0.01\n",
            "The noise is:  0.08\n",
            "The inducing points are:  [0.0827635  0.08228004 0.07999014 0.08258645 0.08479102 0.08546952\n",
            " 0.08601808 0.0840812  0.09007013 0.08786883 0.09311186]\n",
            "The parameterised mean of the inducing variables is:  [ 0.03507585 -0.06275487  0.0247619   0.04445102  0.02345061  0.02840781\n",
            " -0.01959003  0.23029434 -0.06066493  0.05385937 -0.04871939]\n",
            "The lower triangle values for the inducing variables covariance is:  [ 0.98071641 -0.00278738  1.09079681 -0.003419   -0.00316507  0.95240124\n",
            " -0.00280715 -0.00315965 -0.00323892  1.05548033 -0.00243175 -0.00336535\n",
            " -0.00297697 -0.00338557  0.90171521 -0.00283088 -0.00333298 -0.00284647\n",
            " -0.00338831 -0.00330275  1.0531189  -0.00330186 -0.00333039 -0.00321574\n",
            " -0.00334811 -0.00326158 -0.00281615  0.96789573 -0.00318373 -0.0030074\n",
            " -0.0031445  -0.0034002  -0.00334396 -0.00317553 -0.00325884  1.13793479\n",
            " -0.00311588 -0.00289158 -0.00322239 -0.00319705 -0.00342145 -0.00342295\n",
            " -0.00343636 -0.00331591  0.9149651  -0.00304116 -0.00319957 -0.00333284\n",
            " -0.00335655 -0.00335049 -0.00312063 -0.00314969 -0.00325234 -0.00340459\n",
            "  0.98507789 -0.00236827 -0.00323085 -0.00279974 -0.00336786 -0.0034154\n",
            " -0.00317883 -0.00317936 -0.00329122 -0.00330866 -0.00337107  0.96445401]\n",
            "\n",
            "\n",
            "\n",
            "\n",
            "The prior variance is:  1.50\n",
            "The prior lenth scale is:  0.01\n",
            "The noise is:  0.08\n",
            "The inducing points are:  [0.08327475 0.08256318 0.07956327 0.08240802 0.08491304 0.08591384\n",
            " 0.08577341 0.08391211 0.09050543 0.0874231  0.09386603]\n",
            "The parameterised mean of the inducing variables is:  [ 0.0341811  -0.06370468  0.02571576  0.04456169  0.02270516  0.02874961\n",
            " -0.01880183  0.23117966 -0.05977382  0.0546325  -0.04874673]\n",
            "The lower triangle values for the inducing variables covariance is:  [ 0.97975047 -0.00357223  1.08983361 -0.00437348 -0.0040538   0.9514749\n",
            " -0.00342991 -0.00392121 -0.00403831  1.05481338 -0.00282713 -0.0043113\n",
            " -0.00373225 -0.00421804  0.90077618 -0.00340148 -0.00422387 -0.0035154\n",
            " -0.00422134 -0.00421993  1.05239965 -0.00415001 -0.00424909 -0.00405267\n",
            " -0.0041319  -0.00413439 -0.00350408  0.96717045 -0.00406871 -0.00389274\n",
            " -0.00401073 -0.00421988 -0.00420813 -0.00396991 -0.00406955  1.13716012\n",
            " -0.00402849 -0.00365964 -0.0041435  -0.00392132 -0.00431467 -0.0043333\n",
            " -0.00436728 -0.00423271  0.91401902 -0.00387916 -0.00407293 -0.00420445\n",
            " -0.00419518 -0.00426259 -0.00398104 -0.00401103 -0.00415447 -0.00435502\n",
            "  0.98418228 -0.00228183 -0.00415597 -0.00294943 -0.00412823 -0.00436154\n",
            " -0.00404348 -0.00394836 -0.00398206 -0.00392459 -0.00421248  0.96351825]\n",
            "\n",
            "\n",
            "\n",
            "\n",
            "The prior variance is:  1.50\n",
            "The prior lenth scale is:  0.01\n",
            "The noise is:  0.08\n",
            "The inducing points are:  [0.08368823 0.08292147 0.07917379 0.0818886  0.08499203 0.08650487\n",
            " 0.08528436 0.0841762  0.09088238 0.08703957 0.09448265]\n",
            "The parameterised mean of the inducing variables is:  [ 0.033342   -0.06466781  0.02668924  0.04478238  0.02189853  0.02893203\n",
            " -0.01797105  0.23202961 -0.05884735  0.05545904 -0.04901002]\n",
            "The lower triangle values for the inducing variables covariance is:  [ 0.97876844 -0.00441488  1.08885551 -0.00534753 -0.00497628  0.95052355\n",
            " -0.00409669 -0.00468963 -0.00488381  1.05418374 -0.00292043 -0.00527057\n",
            " -0.00440348 -0.00500807  0.8998338  -0.00384554 -0.00514931 -0.00414514\n",
            " -0.00505167 -0.00516466  1.05162431 -0.00503314 -0.00519684 -0.00492627\n",
            " -0.00493136 -0.00498601 -0.00419066  0.9664277  -0.00491676 -0.00476539\n",
            " -0.00483996 -0.00499066 -0.0049917  -0.00470036 -0.00483566  1.13646449\n",
            " -0.00497156 -0.00448875 -0.00509351 -0.00466304 -0.00511686 -0.00520455\n",
            " -0.00532028 -0.00510308  0.91305543 -0.00474593 -0.00497172 -0.00509754\n",
            " -0.00506612 -0.0051474  -0.00485993 -0.00491676 -0.00503835 -0.00532504\n",
            "  0.98325084 -0.00192963 -0.0051061  -0.00281104 -0.00477858 -0.00531853\n",
            " -0.00494338 -0.00463794 -0.00456751 -0.0043477  -0.00495324  0.96257295]\n",
            "\n",
            "\n",
            "\n",
            "\n",
            "The prior variance is:  1.50\n",
            "The prior lenth scale is:  0.01\n",
            "The noise is:  0.08\n",
            "The inducing points are:  [0.08393962 0.08322991 0.07884129 0.0815706  0.08481421 0.08675562\n",
            " 0.08500936 0.08456789 0.09120012 0.0868595  0.09490927]\n",
            "The parameterised mean of the inducing variables is:  [ 0.03249658 -0.06564697  0.02767016  0.04481926  0.02109356  0.029109\n",
            " -0.01717458  0.2329218  -0.05795172  0.05633728 -0.04942724]\n",
            "The lower triangle values for the inducing variables covariance is:  [ 0.97777375 -0.00530776  1.08786714 -0.00633765 -0.00592841  0.94955119\n",
            " -0.00462619 -0.0055278  -0.00563426  1.05351604 -0.00291905 -0.00620867\n",
            " -0.00504705 -0.00583711  0.89894878 -0.0043292  -0.00607633 -0.00481178\n",
            " -0.00592022 -0.00605974  1.05088078 -0.00590732 -0.00612151 -0.00579222\n",
            " -0.0056788  -0.00576992 -0.00483986  0.96573742 -0.00581334 -0.00567624\n",
            " -0.00572322 -0.00569123 -0.00573245 -0.00546727 -0.00561218  1.13568572\n",
            " -0.00590542 -0.00529181 -0.00603602 -0.00531608 -0.00584366 -0.00605433\n",
            " -0.00621799 -0.00598891  0.91214999 -0.00565036 -0.00588359 -0.00602011\n",
            " -0.00590788 -0.00599548 -0.00576335 -0.00582349 -0.00594403 -0.006294\n",
            "  0.98229202 -0.00139775 -0.00607312 -0.002451   -0.00551825 -0.00624787\n",
            " -0.00579733 -0.0052347  -0.00490323 -0.0046426  -0.00556577  0.96161908]\n",
            "\n",
            "\n",
            "\n",
            "\n",
            "The prior variance is:  1.50\n",
            "The prior lenth scale is:  0.01\n",
            "The noise is:  0.08\n",
            "The inducing points are:  [0.08411947 0.08351614 0.07855451 0.08136883 0.08452238 0.08679628\n",
            " 0.08484155 0.08490961 0.09146935 0.08692587 0.09514299]\n",
            "The parameterised mean of the inducing variables is:  [ 0.0316453  -0.06663957  0.02864998  0.04469969  0.02032385  0.02928228\n",
            " -0.01642869  0.23383894 -0.05713079  0.05725627 -0.04996084]\n",
            "The lower triangle values for the inducing variables covariance is:  [ 9.76767881e-01 -6.23542827e-03  1.08687109e+00 -7.34128684e-03\n",
            " -6.90425065e-03  9.48562126e-01 -5.00885180e-03 -6.41665116e-03\n",
            " -6.28094008e-03  1.05280425e+00 -2.91383683e-03 -7.11655787e-03\n",
            " -5.69899127e-03 -6.68249479e-03  8.98127710e-01 -4.81882183e-03\n",
            " -6.95204462e-03 -5.46863469e-03 -6.75719868e-03 -6.87786312e-03\n",
            "  1.05020810e+00 -6.75830807e-03 -7.02084072e-03 -6.63660668e-03\n",
            " -6.37939783e-03 -6.49441936e-03 -5.43338119e-03  9.65103314e-01\n",
            " -6.74730757e-03 -6.61654894e-03 -6.64696016e-03 -6.31163978e-03\n",
            " -6.45983904e-03 -6.21945129e-03 -6.38102662e-03  1.13484536e+00\n",
            " -6.77702424e-03 -6.03162245e-03 -6.91601357e-03 -5.89248111e-03\n",
            " -6.50051402e-03 -6.82510925e-03 -7.03062313e-03 -6.82531656e-03\n",
            "  9.11339266e-01 -6.57800045e-03 -6.78862433e-03 -6.96414953e-03\n",
            " -6.67747554e-03 -6.81403775e-03 -6.64562745e-03 -6.72344754e-03\n",
            " -6.87105844e-03 -7.21027397e-03  9.81318905e-01 -7.32436869e-04\n",
            " -7.05071784e-03 -1.91357996e-03 -6.32664262e-03 -7.13324700e-03\n",
            " -6.56758948e-03 -5.74843571e-03 -4.96544602e-03 -4.86847027e-03\n",
            " -5.92919299e-03  9.60654137e-01]\n",
            "\n",
            "\n",
            "\n",
            "\n",
            "The prior variance is:  1.50\n",
            "The prior lenth scale is:  0.01\n",
            "The noise is:  0.08\n",
            "The inducing points are:  [0.08422149 0.08381402 0.07830291 0.08123386 0.08430414 0.0866735\n",
            " 0.08457373 0.08520835 0.09170045 0.08721828 0.09521112]\n",
            "The parameterised mean of the inducing variables is:  [ 0.03080789 -0.06764293  0.02963125  0.04445516  0.01957446  0.02943704\n",
            " -0.0157549   0.23476852 -0.05636871  0.05820815 -0.05059092]\n",
            "The lower triangle values for the inducing variables covariance is:  [ 9.75751309e-01 -7.18593811e-03  1.08586907e+00 -8.35705516e-03\n",
            " -7.89741714e-03  9.47559284e-01 -5.24022504e-03 -7.34169931e-03\n",
            " -6.80629073e-03  1.05205949e+00 -2.81851247e-03 -7.99180908e-03\n",
            " -6.30356235e-03 -7.53154815e-03  8.97368942e-01 -5.29406197e-03\n",
            " -7.79676081e-03 -6.10786788e-03 -7.58244763e-03 -7.63006796e-03\n",
            "  1.04959324e+00 -7.54620201e-03 -7.88866796e-03 -7.42437421e-03\n",
            " -7.03925662e-03 -7.15713256e-03 -5.97341862e-03  9.64531480e-01\n",
            " -7.70963307e-03 -7.57528278e-03 -7.59903314e-03 -6.83455056e-03\n",
            " -7.13055489e-03 -6.94419063e-03 -7.09745177e-03  1.13397191e+00\n",
            " -7.60525667e-03 -6.71297448e-03 -7.75059285e-03 -6.39702310e-03\n",
            " -7.08697252e-03 -7.52659803e-03 -7.76227002e-03 -7.62210370e-03\n",
            "  9.10606812e-01 -7.53027536e-03 -7.66136877e-03 -7.93247078e-03\n",
            " -7.30476816e-03 -7.55870337e-03 -7.49800687e-03 -7.56914989e-03\n",
            " -7.82929141e-03 -8.09359717e-03  9.80328669e-01  3.10424819e-05\n",
            " -8.03268689e-03 -1.24346954e-03 -7.18554585e-03 -7.98132842e-03\n",
            " -7.27695811e-03 -6.21336981e-03 -4.79788517e-03 -5.01599068e-03\n",
            " -5.98571240e-03  9.59675741e-01]\n",
            "\n",
            "\n",
            "\n",
            "\n",
            "The prior variance is:  1.50\n",
            "The prior lenth scale is:  0.01\n",
            "The noise is:  0.08\n",
            "The inducing points are:  [0.08418855 0.08413618 0.0780759  0.08111932 0.08443896 0.08643824\n",
            " 0.08423247 0.08545332 0.09190178 0.08765163 0.09516727]\n",
            "The parameterised mean of the inducing variables is:  [ 0.03003238 -0.068654    0.03062324  0.04411069  0.01882779  0.02949884\n",
            " -0.01515896  0.23570333 -0.05560232  0.05918594 -0.05130705]\n",
            "The lower triangle values for the inducing variables covariance is:  [ 9.74724084e-01 -8.14795798e-03  1.08486246e+00 -9.38414111e-03\n",
            " -8.90049181e-03  9.46544931e-01 -5.32228716e-03 -8.28877098e-03\n",
            " -7.19035304e-03  1.05130005e+00 -2.55632684e-03 -8.83100660e-03\n",
            " -6.78807439e-03 -8.37196756e-03  8.96668650e-01 -5.62320556e-03\n",
            " -8.64959197e-03 -6.66161696e-03 -8.44298714e-03 -8.33923055e-03\n",
            "  1.04900452e+00 -8.26976547e-03 -8.79637268e-03 -8.17590965e-03\n",
            " -7.72161594e-03 -7.78722063e-03 -6.49369121e-03  9.63982266e-01\n",
            " -8.68728867e-03 -8.52703497e-03 -8.56250061e-03 -7.24369808e-03\n",
            " -7.70185855e-03 -7.58058711e-03 -7.77373702e-03  1.13310288e+00\n",
            " -8.46400753e-03 -7.33161286e-03 -8.60899990e-03 -6.80034766e-03\n",
            " -7.56917041e-03 -8.12112680e-03 -8.43589780e-03 -8.43162397e-03\n",
            "  9.09887106e-01 -8.51043956e-03 -8.47977157e-03 -8.92470012e-03\n",
            " -7.75972002e-03 -8.18539648e-03 -8.23095208e-03 -8.37556845e-03\n",
            " -8.80212229e-03 -9.00618422e-03  9.79322183e-01  8.67522079e-04\n",
            " -9.01268952e-03 -4.76659698e-04 -8.07984369e-03 -8.80243454e-03\n",
            " -7.99794598e-03 -6.68022180e-03 -4.46844606e-03 -4.96975892e-03\n",
            " -5.80826345e-03  9.58683643e-01]\n",
            "\n",
            "\n",
            "\n",
            "\n",
            "The prior variance is:  1.51\n",
            "The prior lenth scale is:  0.01\n",
            "The noise is:  0.09\n",
            "The inducing points are:  [0.08398389 0.0843936  0.07786544 0.0809945  0.08415999 0.08619087\n",
            " 0.08459899 0.08568789 0.09208046 0.08804587 0.09511675]\n",
            "The parameterised mean of the inducing variables is:  [ 0.02937061 -0.06966937  0.03163007  0.04376941  0.0180744   0.02934812\n",
            " -0.01476364  0.23662917 -0.05479685  0.0601751  -0.05209527]\n",
            "The lower triangle values for the inducing variables covariance is:  [ 9.73686105e-01 -9.10735158e-03  1.08385255e+00 -1.04220216e-02\n",
            " -9.90431113e-03  9.45520977e-01 -5.36337920e-03 -9.17700582e-03\n",
            " -7.51083575e-03  1.05061157e+00 -2.12831700e-03 -9.63935942e-03\n",
            " -7.12920961e-03 -9.14841004e-03  8.96017792e-01 -5.59190651e-03\n",
            " -9.55238438e-03 -7.01077710e-03 -9.28936784e-03 -9.05265723e-03\n",
            "  1.04832615e+00 -8.72556554e-03 -9.73040343e-03 -8.79393958e-03\n",
            " -8.38969853e-03 -8.43897431e-03 -7.11448305e-03  9.63356380e-01\n",
            " -9.66144462e-03 -9.44844991e-03 -9.51545373e-03 -7.59768236e-03\n",
            " -8.18183672e-03 -8.07897771e-03 -8.35585945e-03  1.13227390e+00\n",
            " -9.37063283e-03 -7.86555428e-03 -9.51012587e-03 -7.14214769e-03\n",
            " -7.91311945e-03 -8.41591525e-03 -8.95403061e-03 -9.25457938e-03\n",
            "  9.09124765e-01 -9.50618133e-03 -9.23370554e-03 -9.92443180e-03\n",
            " -8.14726303e-03 -8.70753636e-03 -8.75896870e-03 -9.04604545e-03\n",
            " -9.74810312e-03 -9.94561474e-03  9.78335410e-01  1.76012693e-03\n",
            " -9.98506546e-03  3.61989564e-04 -8.92177652e-03 -9.60366714e-03\n",
            " -8.79590639e-03 -7.26790678e-03 -4.04358692e-03 -4.69637294e-03\n",
            " -5.49431170e-03  9.57680587e-01]\n",
            "\n",
            "\n",
            "\n",
            "\n",
            "The prior variance is:  1.51\n",
            "The prior lenth scale is:  0.01\n",
            "The noise is:  0.09\n",
            "The inducing points are:  [0.08400007 0.08474832 0.07766664 0.08085146 0.08361634 0.08606415\n",
            " 0.08489248 0.08586842 0.09224976 0.088358   0.09524566]\n",
            "The parameterised mean of the inducing variables is:  [ 0.02888612 -0.07068916  0.03265369  0.04336695  0.01724902  0.02909171\n",
            " -0.01445367  0.23752059 -0.05394664  0.0611711  -0.0529456 ]\n",
            "The lower triangle values for the inducing variables covariance is:  [ 0.97263731 -0.01004399  1.08284065 -0.01147045 -0.01089303  0.94448877\n",
            " -0.00529585 -0.01005719 -0.00770315  1.04995326 -0.00151107 -0.01046655\n",
            " -0.00717452 -0.00994915  0.89533844 -0.00540188 -0.01045979 -0.00723333\n",
            " -0.01015024 -0.00978627  1.04765949 -0.00908223 -0.01068886 -0.009351\n",
            " -0.00906378 -0.00912045 -0.00772509  0.96274546 -0.01060166 -0.01032426\n",
            " -0.01042829 -0.00789237 -0.00856823 -0.0085048  -0.00888318  1.13151124\n",
            " -0.01031829 -0.0082887  -0.01044864 -0.00737514 -0.00797923 -0.00854039\n",
            " -0.00939775 -0.01005675  0.90831539 -0.01051048 -0.00990411 -0.0109231\n",
            " -0.00842745 -0.00907282 -0.00916119 -0.00964522 -0.01063762 -0.01090306\n",
            "  0.97738068  0.00269735 -0.01094689  0.00125591 -0.00976997 -0.01044163\n",
            " -0.00961323 -0.00787455 -0.00358885 -0.00424746 -0.0050805   0.95667021]\n",
            "\n",
            "\n",
            "\n",
            "\n",
            "The prior variance is:  1.51\n",
            "The prior lenth scale is:  0.01\n",
            "The noise is:  0.09\n",
            "The inducing points are:  [0.08383248 0.0850806  0.07748004 0.08072317 0.08333194 0.08610717\n",
            " 0.0851715  0.08590932 0.09242387 0.08858777 0.09563466]\n",
            "The parameterised mean of the inducing variables is:  [ 0.02859766 -0.07171319  0.03369287  0.04286791  0.016368    0.02882413\n",
            " -0.0141011   0.23836268 -0.05306007  0.06217266 -0.05384551]\n",
            "The lower triangle values for the inducing variables covariance is:  [ 9.71577723e-01 -1.09278854e-02  1.08182790e+00 -1.25292915e-02\n",
            " -1.18425270e-02  9.43449285e-01 -5.07806287e-03 -1.09516839e-02\n",
            " -7.71674190e-03  1.04928573e+00 -7.73591833e-04 -1.13069926e-02\n",
            " -6.99375012e-03 -1.07931904e-02  8.94639573e-01 -5.18326165e-03\n",
            " -1.13174964e-02 -7.41101240e-03 -1.09787494e-02 -1.04802277e-02\n",
            "  1.04705098e+00 -9.50648903e-03 -1.16163779e-02 -9.94038184e-03\n",
            " -9.67090339e-03 -9.73782912e-03 -8.27857214e-03  9.62168188e-01\n",
            " -1.14914611e-02 -1.11464738e-02 -1.12865348e-02 -8.13569869e-03\n",
            " -8.89175125e-03 -8.88621012e-03 -9.37606230e-03  1.13081693e+00\n",
            " -1.12988094e-02 -8.57082797e-03 -1.14152545e-02 -7.46967955e-03\n",
            " -7.83982860e-03 -8.61394121e-03 -9.86812766e-03 -1.08160298e-02\n",
            "  9.07473420e-01 -1.15228428e-02 -1.04653794e-02 -1.19192184e-02\n",
            " -8.56170011e-03 -9.29286825e-03 -9.50237682e-03 -1.02464311e-02\n",
            " -1.14618041e-02 -1.18705461e-02  9.76457447e-01  3.67043250e-03\n",
            " -1.18980366e-02  2.19266802e-03 -1.06477400e-02 -1.13047462e-02\n",
            " -1.03852599e-02 -8.36954817e-03 -3.13742899e-03 -3.67669941e-03\n",
            " -4.58593653e-03  9.55657906e-01]\n",
            "\n",
            "\n",
            "\n",
            "\n",
            "The prior variance is:  1.51\n",
            "The prior lenth scale is:  0.02\n",
            "The noise is:  0.09\n",
            "The inducing points are:  [0.08354881 0.08538106 0.07730277 0.08061596 0.08321282 0.08627249\n",
            " 0.08544078 0.08584647 0.09262076 0.08875578 0.09621754]\n",
            "The parameterised mean of the inducing variables is:  [ 0.02847932 -0.07274134  0.034744    0.04228031  0.01544296  0.0285638\n",
            " -0.01369126  0.23917076 -0.05214815  0.06318021 -0.05478286]\n",
            "The lower triangle values for the inducing variables covariance is:  [ 9.70507299e-01 -1.17151978e-02  1.08081534e+00 -1.35984086e-02\n",
            " -1.27218230e-02  9.42403390e-01 -4.71842601e-03 -1.18596249e-02\n",
            " -7.55621910e-03  1.04860327e+00  5.14357441e-05 -1.21578811e-02\n",
            " -6.63126679e-03 -1.16744550e-02  8.93924921e-01 -4.96046191e-03\n",
            " -1.21161972e-02 -7.56009919e-03 -1.17583093e-02 -1.11253347e-02\n",
            "  1.04649835e+00 -1.00153573e-02 -1.24871920e-02 -1.05690841e-02\n",
            " -1.01787223e-02 -1.02669596e-02 -8.77792100e-03  9.61619430e-01\n",
            " -1.23489560e-02 -1.19087740e-02 -1.21045267e-02 -8.31549187e-03\n",
            " -9.14290637e-03 -9.22831616e-03 -9.84406663e-03  1.13018053e+00\n",
            " -1.23051857e-02 -8.68861675e-03 -1.24016549e-02 -7.43514652e-03\n",
            " -7.54138151e-03 -8.65935251e-03 -1.03713542e-02 -1.15440178e-02\n",
            "  9.06612644e-01 -1.25468989e-02 -1.08859304e-02 -1.29160277e-02\n",
            " -8.53726664e-03 -9.36546007e-03 -9.79628029e-03 -1.08608659e-02\n",
            " -1.22341553e-02 -1.28452198e-02  9.75557175e-01  4.67231144e-03\n",
            " -1.28394770e-02  3.16230046e-03 -1.15514477e-02 -1.21855556e-02\n",
            " -1.11021371e-02 -8.73745154e-03 -2.67732016e-03 -3.02064420e-03\n",
            " -4.02001226e-03  9.54649685e-01]\n",
            "\n",
            "\n",
            "\n",
            "\n",
            "The prior variance is:  1.51\n",
            "The prior lenth scale is:  0.02\n",
            "The noise is:  0.09\n",
            "The inducing points are:  [0.08313561 0.08564428 0.07713077 0.08052446 0.08329862 0.08649332\n",
            " 0.08569565 0.08576445 0.09285844 0.08889094 0.09693326]\n",
            "The parameterised mean of the inducing variables is:  [ 0.02848863 -0.07377325  0.03580192  0.04164601  0.01447244  0.0283132\n",
            " -0.01326281  0.23997094 -0.05122101  0.06419437 -0.05574647]\n",
            "The lower triangle values for the inducing variables covariance is:  [ 9.69425993e-01 -1.23481941e-02  1.07980381e+00 -1.46776225e-02\n",
            " -1.34939079e-02  9.41351996e-01 -4.26836839e-03 -1.27584887e-02\n",
            " -7.28086082e-03  1.04794015e+00  9.36483586e-04 -1.30360435e-02\n",
            " -6.07915889e-03 -1.25857988e-02  8.93150067e-01 -4.73625669e-03\n",
            " -1.28563354e-02 -7.68345125e-03 -1.24812680e-02 -1.17269957e-02\n",
            "  1.04599646e+00 -1.05604759e-02 -1.32916421e-02 -1.12011042e-02\n",
            " -1.06160625e-02 -1.07119660e-02 -9.22906606e-03  9.61112133e-01\n",
            " -1.32062743e-02 -1.25952559e-02 -1.29077927e-02 -8.42240163e-03\n",
            " -9.25410160e-03 -9.53262142e-03 -1.02884885e-02  1.12958408e+00\n",
            " -1.33319163e-02 -8.62920105e-03 -1.34011586e-02 -7.31731202e-03\n",
            " -7.07041782e-03 -8.68162235e-03 -1.08727722e-02 -1.22638148e-02\n",
            "  9.05743362e-01 -1.35865728e-02 -1.11347706e-02 -1.39178997e-02\n",
            " -8.39360163e-03 -9.23229311e-03 -1.00465118e-02 -1.14638611e-02\n",
            " -1.29784679e-02 -1.38269576e-02  9.74668276e-01  5.69695653e-03\n",
            " -1.37726454e-02  4.15629323e-03 -1.24540224e-02 -1.31004224e-02\n",
            " -1.17661626e-02 -9.02560715e-03 -2.18146653e-03 -2.30454669e-03\n",
            " -3.38970160e-03  9.53651707e-01]\n",
            "\n",
            "\n",
            "\n",
            "\n",
            "The prior variance is:  1.51\n",
            "The prior lenth scale is:  0.02\n",
            "The noise is:  0.09\n",
            "The inducing points are:  [0.08287737 0.08586696 0.07695722 0.08041584 0.08322784 0.08673191\n",
            " 0.0859299  0.08571538 0.09315153 0.08902685 0.09774569]\n",
            "The parameterised mean of the inducing variables is:  [ 0.02859127 -0.07480853  0.03686234  0.04101849  0.01346396  0.02807306\n",
            " -0.0128701   0.24077611 -0.05028707  0.06521747 -0.05672777]\n",
            "The lower triangle values for the inducing variables covariance is:  [ 0.96833373 -0.01276372  1.07879388 -0.01576679 -0.01411544  0.9402959\n",
            " -0.00379516 -0.01361434 -0.00696581  1.04732808  0.00186538 -0.01394784\n",
            " -0.00538091 -0.01348491  0.89230217 -0.00451155 -0.01354152 -0.00778363\n",
            " -0.01314375 -0.01228995  1.04554033 -0.01106152 -0.01403376 -0.01178077\n",
            " -0.0110139  -0.01112007 -0.00963861  0.9606516  -0.01407978 -0.01318572\n",
            " -0.01370989 -0.00848544 -0.00917674 -0.00980168 -0.01069159  1.12901374\n",
            " -0.01437368 -0.00839305 -0.01440722 -0.00717112 -0.0064539  -0.00868499\n",
            " -0.01132641 -0.01298427  0.90487596 -0.01464498 -0.01118662 -0.01492945\n",
            " -0.00819769 -0.00888096 -0.01025615 -0.01200866 -0.01371199 -0.01481576\n",
            "  0.97377748  0.00673906 -0.01469939  0.00516724 -0.01331425 -0.0140515\n",
            " -0.01238072 -0.00929072 -0.00164193 -0.00154871 -0.00270092  0.95266999]\n",
            "\n",
            "\n",
            "\n",
            "\n",
            "The prior variance is:  1.51\n",
            "The prior lenth scale is:  0.02\n",
            "The noise is:  0.09\n",
            "The inducing points are:  [0.0827618  0.08606751 0.07678139 0.08031165 0.08300434 0.08698778\n",
            " 0.08615368 0.08563615 0.09351393 0.08919864 0.09863331]\n",
            "The parameterised mean of the inducing variables is:  [ 0.0287797  -0.0758484   0.03792528  0.04035715  0.01242202  0.02785251\n",
            " -0.01250457  0.24158944 -0.04935003  0.06625461 -0.05772341]\n",
            "The lower triangle values for the inducing variables covariance is:  [ 9.67230430e-01 -1.29137511e-02  1.07778587e+00 -1.68659538e-02\n",
            " -1.45412421e-02  9.39235356e-01 -3.25038306e-03 -1.44580335e-02\n",
            " -6.56106245e-03  1.04674004e+00  2.84266410e-03 -1.48843168e-02\n",
            " -4.57927224e-03 -1.44078887e-02  8.91403262e-01 -4.30267679e-03\n",
            " -1.41771538e-02 -7.87452484e-03 -1.37523456e-02 -1.28111009e-02\n",
            "  1.04512555e+00 -1.15303746e-02 -1.47185584e-02 -1.23177849e-02\n",
            " -1.13745092e-02 -1.14894719e-02 -1.00108465e-02  9.60233025e-01\n",
            " -1.49707010e-02 -1.36648710e-02 -1.45122687e-02 -8.47661113e-03\n",
            " -8.94359555e-03 -1.00439885e-02 -1.10591914e-02  1.12846587e+00\n",
            " -1.54256891e-02 -7.99312177e-03 -1.54143193e-02 -6.97005546e-03\n",
            " -5.73684589e-03 -8.68187447e-03 -1.17399007e-02 -1.37018191e-02\n",
            "  9.04019345e-01 -1.57235734e-02 -1.10321997e-02 -1.59544122e-02\n",
            " -7.89101500e-03 -8.36135714e-03 -1.04379049e-02 -1.25046696e-02\n",
            " -1.44415908e-02 -1.58110255e-02  9.72873036e-01  7.79425375e-03\n",
            " -1.56220825e-02  6.18939910e-03 -1.41624059e-02 -1.50259168e-02\n",
            " -1.29446840e-02 -9.53168047e-03 -1.06692341e-03 -7.68900604e-04\n",
            " -1.95966588e-03  9.51709364e-01]\n",
            "\n",
            "\n",
            "\n",
            "\n",
            "The prior variance is:  1.51\n",
            "The prior lenth scale is:  0.02\n",
            "The noise is:  0.09\n",
            "The inducing points are:  [0.08274629 0.08624262 0.07659615 0.08017779 0.08269723 0.08726852\n",
            " 0.08636265 0.08555416 0.09395093 0.08943712 0.09958066]\n",
            "The parameterised mean of the inducing variables is:  [ 0.02904104 -0.07689339  0.03899028  0.03969295  0.01135042  0.02767024\n",
            " -0.01215129  0.24240875 -0.0484129   0.06730863 -0.05873069]\n",
            "The lower triangle values for the inducing variables covariance is:  [ 9.66116034e-01 -1.27914133e-02  1.07677970e+00 -1.79750640e-02\n",
            " -1.47391996e-02  9.38170745e-01 -2.67679938e-03 -1.52706254e-02\n",
            " -6.11463267e-03  1.04619249e+00  3.85975989e-03 -1.58486930e-02\n",
            " -3.69522657e-03 -1.53268434e-02  8.90451794e-01 -4.13974193e-03\n",
            " -1.47698737e-02 -7.97839401e-03 -1.43054266e-02 -1.32843124e-02\n",
            "  1.04474715e+00 -1.19881961e-02 -1.53501105e-02 -1.28273581e-02\n",
            " -1.16987704e-02 -1.18110269e-02 -1.03504638e-02  9.59851525e-01\n",
            " -1.58748233e-02 -1.40240819e-02 -1.53115822e-02 -8.42881006e-03\n",
            " -8.57034534e-03 -1.02711763e-02 -1.13990194e-02  1.12794136e+00\n",
            " -1.64841465e-02 -7.44830590e-03 -1.64180531e-02 -6.74608317e-03\n",
            " -4.93536363e-03 -8.68901222e-03 -1.21239475e-02 -1.44098210e-02\n",
            "  9.03179851e-01 -1.68224679e-02 -1.06808687e-02 -1.69949155e-02\n",
            " -7.52405685e-03 -7.69710226e-03 -1.06135454e-02 -1.29678858e-02\n",
            " -1.51684810e-02 -1.68118622e-02  9.71946492e-01  8.85930595e-03\n",
            " -1.65442062e-02  7.21835718e-03 -1.49755042e-02 -1.60237305e-02\n",
            " -1.34536657e-02 -9.74317039e-03 -4.68125630e-04  2.35993829e-05\n",
            " -1.17172685e-03  9.50772784e-01]\n",
            "\n",
            "\n",
            "\n",
            "\n",
            "The prior variance is:  1.51\n",
            "The prior lenth scale is:  0.02\n",
            "The noise is:  0.09\n",
            "The inducing points are:  [0.08272133 0.08639343 0.07639523 0.07998699 0.08245315 0.08757903\n",
            " 0.08655508 0.08547654 0.09446161 0.08975836 0.10057631]\n",
            "The parameterised mean of the inducing variables is:  [ 0.02936033 -0.07794403  0.04005676  0.0390803   0.01025211  0.02752687\n",
            " -0.01180559  0.24323232 -0.04747672  0.06838006 -0.05974938]\n",
            "The lower triangle values for the inducing variables covariance is:  [ 9.64990509e-01 -1.24270366e-02  1.07577489e+00 -1.90940680e-02\n",
            " -1.47000761e-02  9.37102323e-01 -2.14802361e-03 -1.60173876e-02\n",
            " -5.70225853e-03  1.04569439e+00  4.91206265e-03 -1.68422044e-02\n",
            " -2.74502178e-03 -1.61705519e-02  8.89452433e-01 -4.01941081e-03\n",
            " -1.53285163e-02 -8.09459904e-03 -1.48089382e-02 -1.37156440e-02\n",
            "  1.04440085e+00 -1.24392540e-02 -1.59333800e-02 -1.33134565e-02\n",
            " -1.19936453e-02 -1.20857084e-02 -1.06610323e-02  9.59503301e-01\n",
            " -1.67886685e-02 -1.42543507e-02 -1.61051534e-02 -8.38327483e-03\n",
            " -8.07676323e-03 -1.04849440e-02 -1.17138988e-02  1.12744068e+00\n",
            " -1.75473601e-02 -6.77703564e-03 -1.74164226e-02 -6.53993020e-03\n",
            " -4.06338588e-03 -8.70493798e-03 -1.24815778e-02 -1.51043769e-02\n",
            "  9.02359753e-01 -1.79408352e-02 -1.01573678e-02 -1.80512236e-02\n",
            " -7.18421673e-03 -6.91785020e-03 -1.07832681e-02 -1.34028926e-02\n",
            " -1.58924427e-02 -1.78176814e-02  9.70994464e-01  9.93373011e-03\n",
            " -1.74721193e-02  8.25294308e-03 -1.57180994e-02 -1.70448917e-02\n",
            " -1.39130236e-02 -9.92720769e-03  1.47671093e-04  8.24013181e-04\n",
            " -3.41133280e-04  9.49858669e-01]\n",
            "\n",
            "\n",
            "\n",
            "\n",
            "The prior variance is:  1.52\n",
            "The prior lenth scale is:  0.02\n",
            "The noise is:  0.09\n",
            "The inducing points are:  [0.08263656 0.08652299 0.07617864 0.07976414 0.08232035 0.08791878\n",
            " 0.08673045 0.08540157 0.09504581 0.09016051 0.10161323]\n",
            "The parameterised mean of the inducing variables is:  [ 0.02973489 -0.07900209  0.04112642  0.03845814  0.00912934  0.02741211\n",
            " -0.01146591  0.2440641  -0.04653826  0.06946869 -0.06078374]\n",
            "The lower triangle values for the inducing variables covariance is:  [ 9.63853852e-01 -1.18664886e-02  1.07477070e+00 -2.02230815e-02\n",
            " -1.44385842e-02  9.36029750e-01 -1.58748076e-03 -1.67424177e-02\n",
            " -5.24911864e-03  1.04523042e+00  5.99750762e-03 -1.78614949e-02\n",
            " -1.74091297e-03 -1.70171483e-02  8.88414753e-01 -3.91878556e-03\n",
            " -1.58628483e-02 -8.20994909e-03 -1.52709841e-02 -1.41188352e-02\n",
            "  1.04408318e+00 -1.28825999e-02 -1.64726455e-02 -1.37766680e-02\n",
            " -1.22586724e-02 -1.23189314e-02 -1.09450947e-02  9.59185292e-01\n",
            " -1.77138561e-02 -1.43381242e-02 -1.68948848e-02 -8.30528775e-03\n",
            " -7.48042566e-03 -1.06822406e-02 -1.20054540e-02  1.12696103e+00\n",
            " -1.86164118e-02 -5.99643844e-03 -1.84107869e-02 -6.31460132e-03\n",
            " -3.13406788e-03 -8.71965986e-03 -1.28139358e-02 -1.57875170e-02\n",
            "  9.01556602e-01 -1.90770340e-02 -9.49317525e-03 -1.91219594e-02\n",
            " -6.78774597e-03 -6.05112419e-03 -1.09339729e-02 -1.38100989e-02\n",
            " -1.66154842e-02 -1.88286469e-02  9.70019032e-01  1.10205226e-02\n",
            " -1.84154990e-02  9.29644519e-03 -1.64342098e-02 -1.80881772e-02\n",
            " -1.43329272e-02 -1.00872132e-02  7.83095715e-04  1.63510365e-03\n",
            "  5.30414065e-04  9.48959168e-01]\n",
            "\n",
            "\n",
            "\n",
            "\n",
            "The prior variance is:  1.52\n",
            "The prior lenth scale is:  0.02\n",
            "The noise is:  0.09\n",
            "The inducing points are:  [0.08249524 0.08663447 0.07594531 0.07952359 0.08228684 0.08828148\n",
            " 0.08689034 0.08532995 0.09569654 0.09062563 0.10268466]\n",
            "The parameterised mean of the inducing variables is:  [ 0.0301526  -0.08006861  0.0421994   0.03781675  0.00798414  0.02731163\n",
            " -0.01113099  0.24491041 -0.04559418  0.07057176 -0.06183783]\n",
            "The lower triangle values for the inducing variables covariance is:  [ 9.62706086e-01 -1.11537285e-02  1.07376597e+00 -2.13621133e-02\n",
            " -1.39833178e-02  9.34952852e-01 -9.85349164e-04 -1.74555480e-02\n",
            " -4.74683430e-03  1.04479428e+00  7.11285316e-03 -1.89058932e-02\n",
            " -6.91680361e-04 -1.78763139e-02  8.87344007e-01 -3.80801618e-03\n",
            " -1.63826234e-02 -8.30697319e-03 -1.57006809e-02 -1.45097775e-02\n",
            "  1.04379082e+00 -1.33174508e-02 -1.69708856e-02 -1.42175705e-02\n",
            " -1.24962961e-02 -1.25147073e-02 -1.12046998e-02  9.58894793e-01\n",
            " -1.86557355e-02 -1.42529396e-02 -1.76859773e-02 -8.18824536e-03\n",
            " -6.78796731e-03 -1.08577535e-02 -1.22753392e-02  1.12649684e+00\n",
            " -1.96936968e-02 -5.12302768e-03 -1.94039407e-02 -6.06453254e-03\n",
            " -2.15469180e-03 -8.72018718e-03 -1.31222833e-02 -1.64654937e-02\n",
            "  9.00765421e-01 -2.02287760e-02 -8.71609890e-03 -2.02043612e-02\n",
            " -6.33042723e-03 -5.11552693e-03 -1.10487489e-02 -1.41898020e-02\n",
            " -1.73415866e-02 -1.98449291e-02  9.69025582e-01  1.21238435e-02\n",
            " -1.93853961e-02  1.03536968e-02 -1.71357339e-02 -1.91559547e-02\n",
            " -1.47257524e-02 -1.02260063e-02  1.44743328e-03  2.46365181e-03\n",
            "  1.44176238e-03  9.48062559e-01]\n",
            "\n",
            "\n",
            "\n",
            "\n",
            "The prior variance is:  1.52\n",
            "The prior lenth scale is:  0.02\n",
            "The noise is:  0.10\n",
            "The inducing points are:  [0.08233037 0.08673038 0.07569263 0.07926443 0.08231613 0.08865828\n",
            " 0.0870368  0.08526714 0.09640339 0.09112754 0.10378391]\n",
            "The parameterised mean of the inducing variables is:  [ 0.03059555 -0.08114408  0.04327498  0.03718156  0.00681801  0.02721044\n",
            " -0.01079918  0.24577783 -0.04464172  0.07168505 -0.06291437]\n",
            "The lower triangle values for the inducing variables covariance is:  [ 9.61547236e-01 -1.03234901e-02  1.07275920e+00 -2.25110923e-02\n",
            " -1.33666814e-02  9.33871595e-01 -3.75308551e-04 -1.81418089e-02\n",
            " -4.23040325e-03  1.04439183e+00  8.25530554e-03 -1.99767472e-02\n",
            "  3.96557334e-04 -1.87185204e-02  8.86241913e-01 -3.65615225e-03\n",
            " -1.68974042e-02 -8.36766718e-03 -1.61006293e-02 -1.49053368e-02\n",
            "  1.04352026e+00 -1.37441396e-02 -1.74300645e-02 -1.46373451e-02\n",
            " -1.27105256e-02 -1.26751675e-02 -1.14416017e-02  9.58629351e-01\n",
            " -1.96204795e-02 -1.39839355e-02 -1.84848466e-02 -8.05059167e-03\n",
            " -6.00271307e-03 -1.10045205e-02 -1.25253569e-02  1.12604091e+00\n",
            " -2.07817078e-02 -4.17239937e-03 -2.03989192e-02 -5.80825084e-03\n",
            " -1.12944542e-03 -8.69266201e-03 -1.34082515e-02 -1.71464367e-02\n",
            "  8.99980486e-01 -2.13932209e-02 -7.84842931e-03 -2.12948790e-02\n",
            " -5.85616577e-03 -4.12392662e-03 -1.11120311e-02 -1.45430306e-02\n",
            " -1.80748900e-02 -2.08660651e-02  9.68021217e-01  1.32470373e-02\n",
            " -2.03906981e-02  1.14289857e-02 -1.78082819e-02 -2.02515652e-02\n",
            " -1.51051522e-02 -1.03455992e-02  2.15242209e-03  3.31721878e-03\n",
            "  2.39085202e-03  9.47156168e-01]\n",
            "\n",
            "\n",
            "\n",
            "\n",
            "The prior variance is:  1.52\n",
            "The prior lenth scale is:  0.02\n",
            "The noise is:  0.10\n",
            "The inducing points are:  [0.082203   0.08681257 0.07541928 0.07899297 0.08233487 0.08903999\n",
            " 0.08717169 0.0852222  0.09715389 0.09163518 0.1049039 ]\n",
            "The parameterised mean of the inducing variables is:  [ 0.03104194 -0.08222869  0.04435196  0.03660562  0.00563242  0.02709463\n",
            " -0.01046836  0.24667176 -0.04367899  0.07280343 -0.06401448]\n",
            "The lower triangle values for the inducing variables covariance is:  [ 9.60377316e-01 -9.40117361e-03  1.07174861e+00 -2.36699088e-02\n",
            " -1.26183247e-02  9.32786019e-01  1.70512087e-04 -1.87649577e-02\n",
            " -3.76924694e-03  1.04402515e+00  9.42262893e-03 -2.10745684e-02\n",
            "  1.51883076e-03 -1.94685551e-02  8.85110741e-01 -3.43530402e-03\n",
            " -1.74162899e-02 -8.37567375e-03 -1.64624701e-02 -1.53212274e-02\n",
            "  1.04326776e+00 -1.41640663e-02 -1.78513039e-02 -1.50377477e-02\n",
            " -1.29064396e-02 -1.28013844e-02 -1.16573205e-02  9.58386721e-01\n",
            " -2.06132484e-02 -1.35322645e-02 -1.92977533e-02 -7.93465055e-03\n",
            " -5.13172419e-03 -1.11145161e-02 -1.27574529e-02  1.12558521e+00\n",
            " -2.18824964e-02 -3.15781354e-03 -2.13984533e-02 -5.58284064e-03\n",
            " -6.27211472e-05 -8.62381648e-03 -1.36738085e-02 -1.78388007e-02\n",
            "  8.99196243e-01 -2.25670888e-02 -6.90754356e-03 -2.23895463e-02\n",
            " -5.43979943e-03 -3.08716694e-03 -1.11124361e-02 -1.48714998e-02\n",
            " -1.88185262e-02 -2.18907849e-02  9.67013849e-01  1.43919841e-02\n",
            " -2.14362786e-02  1.25252058e-02 -1.84109619e-02 -2.13760126e-02\n",
            " -1.54851143e-02 -1.04472156e-02  2.90888044e-03  4.20224607e-03\n",
            "  3.37438833e-03  9.46228599e-01]\n",
            "\n",
            "\n",
            "\n",
            "\n",
            "The prior variance is:  1.52\n",
            "The prior lenth scale is:  0.02\n",
            "The noise is:  0.10\n",
            "The inducing points are:  [0.08210812 0.08688248 0.07512643 0.0787276  0.08234102 0.08942009\n",
            " 0.08729513 0.08520223 0.09793881 0.09211875 0.10603916]\n",
            "The parameterised mean of the inducing variables is:  [ 0.03148288 -0.0833235   0.04543148  0.036047    0.00442878  0.02695048\n",
            " -0.01013619  0.24759683 -0.04270354  0.07392337 -0.06513895]\n",
            "The lower triangle values for the inducing variables covariance is:  [ 9.59196329e-01 -8.40498842e-03  1.07073248e+00 -2.48385760e-02\n",
            " -1.17630738e-02  9.31695796e-01  7.07675055e-04 -1.93577177e-02\n",
            " -3.31201154e-03  1.04368952e+00  1.06127587e-02 -2.21980437e-02\n",
            "  2.67070265e-03 -2.01862204e-02  8.83954035e-01 -3.12370676e-03\n",
            " -1.79474961e-02 -8.31714289e-03 -1.67994423e-02 -1.57698416e-02\n",
            "  1.04302955e+00 -1.45787796e-02 -1.82355386e-02 -1.54206424e-02\n",
            " -1.30837193e-02 -1.28945828e-02 -1.18532161e-02  9.58164856e-01\n",
            " -2.16369765e-02 -1.29165200e-02 -2.01298651e-02 -7.80959511e-03\n",
            " -4.18585739e-03 -1.11795651e-02 -1.29735055e-02  1.12512215e+00\n",
            " -2.29973208e-02 -2.08973269e-03 -2.24048110e-02 -5.36164183e-03\n",
            "  1.04034569e-03 -8.50214917e-03 -1.39209083e-02 -1.85496833e-02\n",
            "  8.98408176e-01 -2.37471538e-02 -5.90716331e-03 -2.34848910e-02\n",
            " -5.03299040e-03 -2.01526144e-03 -1.10431820e-02 -1.51770344e-02\n",
            " -1.95741401e-02 -2.29173032e-02  9.66010732e-01  1.55591521e-02\n",
            " -2.25225517e-02  1.36438520e-02 -1.89807086e-02 -2.25279842e-02\n",
            " -1.58789402e-02 -1.05317654e-02  3.72355721e-03  5.12268124e-03\n",
            "  4.38832760e-03  9.45271588e-01]\n",
            "\n",
            "\n",
            "\n",
            "\n",
            "The prior variance is:  1.52\n",
            "The prior lenth scale is:  0.03\n",
            "The noise is:  0.10\n",
            "The inducing points are:  [0.08206523 0.08694153 0.07481583 0.07848649 0.08230172 0.08979492\n",
            " 0.08740714 0.0852127  0.09874887 0.09255437 0.10718396]\n",
            "The parameterised mean of the inducing variables is:  [ 0.03191008 -0.08442936  0.04651462  0.03547341  0.00320861  0.02676554\n",
            " -0.00980142  0.24855484 -0.0417141   0.0750425  -0.06628726]\n",
            "The lower triangle values for the inducing variables covariance is:  [ 9.58004265e-01 -7.34806531e-03  1.06970906e+00 -2.60170533e-02\n",
            " -1.08205361e-02  9.30600708e-01  1.27803086e-03 -1.99471113e-02\n",
            " -2.82005744e-03  1.04337670e+00  1.18236664e-02 -2.33455707e-02\n",
            "  3.84827559e-03 -2.09144637e-02  8.82775261e-01 -2.70719840e-03\n",
            " -1.84984842e-02 -8.18128357e-03 -1.71255917e-02 -1.62606234e-02\n",
            "  1.04280187e+00 -1.49881444e-02 -1.85845719e-02 -1.57869441e-02\n",
            " -1.32423316e-02 -1.29574639e-02 -1.20306493e-02  9.57961930e-01\n",
            " -2.26919972e-02 -1.21631364e-02 -2.09840944e-02 -7.64775493e-03\n",
            " -3.17634560e-03 -1.11923912e-02 -1.31747914e-02  1.12464603e+00\n",
            " -2.41265429e-02 -9.76070432e-04 -2.34192807e-02 -5.12275265e-03\n",
            "  2.17483414e-03 -8.31861441e-03 -1.41507757e-02 -1.92834492e-02\n",
            "  8.97613351e-01 -2.49310769e-02 -4.85748590e-03 -2.45785186e-02\n",
            " -4.60264843e-03 -9.16185331e-04 -1.09004788e-02 -1.54606588e-02\n",
            " -2.03421901e-02 -2.39440818e-02  9.65016710e-01  1.67480053e-02\n",
            " -2.36473285e-02  1.47849497e-02 -1.95489275e-02 -2.37054048e-02\n",
            " -1.62984744e-02 -1.06009766e-02  4.59767292e-03  6.07957580e-03\n",
            "  5.42888251e-03  9.44280696e-01]\n",
            "\n",
            "\n",
            "\n",
            "\n",
            "The prior variance is:  1.52\n",
            "The prior lenth scale is:  0.03\n",
            "The noise is:  0.10\n",
            "The inducing points are:  [0.08206605 0.08699122 0.07448801 0.07827504 0.08222456 0.09016394\n",
            " 0.08750815 0.08525648 0.09957536 0.0929303  0.10833248]\n",
            "The parameterised mean of the inducing variables is:  [ 0.03231326 -0.08554672  0.04760196  0.03488396  0.00197315  0.02652957\n",
            " -0.00946482  0.24954456 -0.04071075  0.07616026 -0.06745784]\n",
            "The lower triangle values for the inducing variables covariance is:  [ 9.56801106e-01 -6.24004711e-03  1.06867669e+00 -2.72051983e-02\n",
            " -9.80596702e-03  9.29500760e-01  1.88165703e-03 -2.05364970e-02\n",
            " -2.29425450e-03  1.04308445e+00  1.30537271e-02 -2.45161822e-02\n",
            "  5.04857202e-03 -2.16540973e-02  8.81576432e-01 -2.17998992e-03\n",
            " -1.90757348e-02 -7.96095046e-03 -1.74446927e-02 -1.68011422e-02\n",
            "  1.04258112e+00 -1.53887315e-02 -1.89021933e-02 -1.61357720e-02\n",
            " -1.33843032e-02 -1.29951783e-02 -1.21911948e-02  9.57776337e-01\n",
            " -2.37763676e-02 -1.12981425e-02 -2.18607395e-02 -7.45009331e-03\n",
            " -2.11303794e-03 -1.11478713e-02 -1.33614850e-02  1.12415416e+00\n",
            " -2.52697172e-02  1.77075945e-04 -2.44421170e-02 -4.86669886e-03\n",
            "  3.33673021e-03 -8.06732290e-03 -1.43633002e-02 -2.00411364e-02\n",
            "  8.96810541e-01 -2.61181542e-02 -3.76555338e-03 -2.56697629e-02\n",
            " -4.15132811e-03  2.05540033e-04 -1.06818472e-02 -1.57219480e-02\n",
            " -2.11226296e-02 -2.49706118e-02  9.64032999e-01  1.79574099e-02\n",
            " -2.48073508e-02  1.59474365e-02 -2.01185646e-02 -2.49063723e-02\n",
            " -1.67532848e-02 -1.06584918e-02  5.52759168e-03  7.07151784e-03\n",
            "  6.49347296e-03  9.43254832e-01]\n",
            "\n",
            "\n",
            "\n",
            "\n",
            "The prior variance is:  1.52\n",
            "The prior lenth scale is:  0.03\n",
            "The noise is:  0.10\n",
            "The inducing points are:  [0.08207831 0.08703319 0.07414253 0.07808864 0.08215121 0.09052905\n",
            " 0.08759922 0.08533324 0.10041083 0.09324888 0.10947932]\n",
            "The parameterised mean of the inducing variables is:  [ 0.03268077 -0.08667569  0.04869363  0.03430255  0.00072343  0.02623565\n",
            " -0.00912935  0.25056257 -0.03969471  0.07727803 -0.06864852]\n",
            "The lower triangle values for the inducing variables covariance is:  [ 9.55586849e-01 -5.08820180e-03  1.06763392e+00 -2.84027585e-02\n",
            " -8.73125882e-03  9.28396181e-01  2.48618663e-03 -2.11086066e-02\n",
            " -1.76562486e-03  1.04281571e+00  1.43016992e-02 -2.57091873e-02\n",
            "  6.26928964e-03 -2.23724318e-02  8.80358601e-01 -1.54446345e-03\n",
            " -1.96840847e-02 -7.65343038e-03 -1.77486003e-02 -1.73963716e-02\n",
            "  1.04236419e+00 -1.57734122e-02 -1.91945784e-02 -1.64643292e-02\n",
            " -1.35127575e-02 -1.30157522e-02 -1.23367667e-02  9.57606634e-01\n",
            " -2.48866624e-02 -1.03433176e-02 -2.27579820e-02 -7.24239459e-03\n",
            " -1.00448989e-03 -1.10440405e-02 -1.35326226e-02  1.12364674e+00\n",
            " -2.64257361e-02  1.36474594e-03 -2.54726689e-02 -4.61239978e-03\n",
            "  4.52259249e-03 -7.74632143e-03 -1.45569809e-02 -2.08209021e-02\n",
            "  8.96000089e-01 -2.73093580e-02 -2.63597970e-03 -2.67596932e-02\n",
            " -3.70723960e-03  1.34825241e-03 -1.03857336e-02 -1.59588493e-02\n",
            " -2.19154305e-02 -2.59975331e-02  9.63057280e-01  1.91858984e-02\n",
            " -2.59992117e-02  1.71295694e-02 -2.06673392e-02 -2.61291212e-02\n",
            " -1.72497471e-02 -1.07101459e-02  6.50676606e-03  8.09537101e-03\n",
            "  7.58091892e-03  9.42195234e-01]\n",
            "\n",
            "\n",
            "\n",
            "\n",
            "The prior variance is:  1.53\n",
            "The prior lenth scale is:  0.03\n",
            "The noise is:  0.10\n",
            "The inducing points are:  [0.08206638 0.0870691  0.07377962 0.07792317 0.08212587 0.09089343\n",
            " 0.08768191 0.08543952 0.10124957 0.09352462 0.11061973]\n",
            "The parameterised mean of the inducing variables is:  [ 0.03300253 -0.08781619  0.04978966  0.03375576 -0.0005392   0.02588052\n",
            " -0.00879975  0.25160441 -0.03866796  0.07839861 -0.06985683]\n",
            "The lower triangle values for the inducing variables covariance is:  [ 9.54361520e-01 -3.89818324e-03  1.06657959e+00 -2.96093822e-02\n",
            " -7.60580706e-03  9.27287368e-01  3.05413733e-03 -2.16425905e-02\n",
            " -1.26850162e-03  1.04257079e+00  1.55662631e-02 -2.69233818e-02\n",
            "  7.50811757e-03 -2.30293472e-02  8.79123315e-01 -8.09213706e-04\n",
            " -2.03261108e-02 -7.26057374e-03 -1.80262403e-02 -1.80471194e-02\n",
            "  1.04214882e+00 -1.61319874e-02 -1.94699399e-02 -1.67683665e-02\n",
            " -1.36298343e-02 -1.30297250e-02 -1.24695787e-02  9.57451440e-01\n",
            " -2.60187340e-02 -9.31593712e-03 -2.36727202e-02 -7.05204187e-03\n",
            "  1.41320810e-04 -1.08823118e-02 -1.36864822e-02  1.12312601e+00\n",
            " -2.75929162e-02  2.58257819e-03 -2.65095156e-02 -4.37984904e-03\n",
            "  5.72868327e-03 -7.35785959e-03 -1.47293493e-02 -2.16188987e-02\n",
            "  8.95183747e-01 -2.85067500e-02 -1.47193890e-03 -2.78505595e-02\n",
            " -3.30134126e-03  2.51134823e-03 -1.00120503e-02 -1.61678000e-02\n",
            " -2.27206635e-02 -2.70260956e-02  9.62084705e-01  2.04317959e-02\n",
            " -2.72196812e-02  1.83292093e-02 -2.11687832e-02 -2.73715487e-02\n",
            " -1.77905341e-02 -1.07634497e-02  7.52744260e-03  9.14684208e-03\n",
            "  8.69092512e-03  9.41104586e-01]\n",
            "\n",
            "\n",
            "\n",
            "\n",
            "The prior variance is:  1.53\n",
            "The prior lenth scale is:  0.03\n",
            "The noise is:  0.10\n",
            "The inducing points are:  [0.08202221 0.0871005  0.0734002  0.07777486 0.08215795 0.09126024\n",
            " 0.08775809 0.08556882 0.10208789 0.09378116 0.11175007]\n",
            "The parameterised mean of the inducing variables is:  [ 0.03327397 -0.08896823  0.05089037  0.03324523 -0.00181321  0.0254642\n",
            " -0.00848186  0.25266534 -0.03763294  0.07952555 -0.07108026]\n",
            "The lower triangle values for the inducing variables covariance is:  [ 9.53125202e-01 -2.67455097e-03  1.06551303e+00 -3.08246254e-02\n",
            " -6.43721779e-03  9.26174840e-01  3.58220031e-03 -2.21379062e-02\n",
            " -8.05958950e-04  1.04234768e+00  1.68459130e-02 -2.81570322e-02\n",
            "  8.76261790e-03 -2.36212617e-02  8.77872720e-01  1.37161345e-05\n",
            " -2.10018636e-02 -6.78808097e-03 -1.82772495e-02 -1.87502777e-02\n",
            "  1.04193381e+00 -1.64522860e-02 -1.97377707e-02 -1.70428501e-02\n",
            " -1.37364813e-02 -1.30489550e-02 -1.25919765e-02  9.57309356e-01\n",
            " -2.71681806e-02 -8.22982882e-03 -2.46012228e-02 -6.88257159e-03\n",
            "  1.31683908e-03 -1.06670179e-02 -1.38210822e-02  1.12259539e+00\n",
            " -2.87690403e-02  3.82637733e-03 -2.75505730e-02 -4.17100032e-03\n",
            "  6.95079331e-03 -6.90791252e-03 -1.48775842e-02 -2.24300369e-02\n",
            "  8.94364503e-01 -2.97127047e-02 -2.76028880e-04 -2.89450479e-02\n",
            " -2.93698024e-03  3.69439185e-03 -9.56287144e-03 -1.63440370e-02\n",
            " -2.35382354e-02 -2.80574106e-02  9.61109230e-01  2.16932607e-02\n",
            " -2.84656886e-02  1.95439736e-02 -2.16212019e-02 -2.86311688e-02\n",
            " -1.83747441e-02 -1.08267056e-02  8.58159548e-03  1.02208221e-02\n",
            "  9.82335158e-03  9.39986429e-01]\n",
            "\n",
            "\n",
            "\n",
            "\n",
            "The prior variance is:  1.53\n",
            "The prior lenth scale is:  0.03\n",
            "The noise is:  0.10\n",
            "The inducing points are:  [0.08196955 0.08712883 0.07300589 0.07763908 0.08221875 0.09163168\n",
            " 0.08782984 0.08571263 0.10292358 0.09404652 0.11286747]\n",
            "The parameterised mean of the inducing variables is:  [ 0.03349666 -0.09013187  0.05199632  0.03274353 -0.00309693  0.02498932\n",
            " -0.00818208  0.25374078 -0.03659232  0.08066208 -0.07231636]\n",
            "The lower triangle values for the inducing variables covariance is:  [ 9.51878049e-01 -1.42113070e-03  1.06443403e+00 -3.20479366e-02\n",
            " -5.23183471e-03  9.25059255e-01  4.10901312e-03 -2.26194396e-02\n",
            " -3.44655643e-04  1.04214327e+00  1.81389480e-02 -2.94079918e-02\n",
            "  1.00302126e-02 -2.41895832e-02  8.76609452e-01  9.11211851e-04\n",
            " -2.17091603e-02 -6.24426643e-03 -1.85147585e-02 -1.94999257e-02\n",
            "  1.04171896e+00 -1.67214553e-02 -2.00079141e-02 -1.72826362e-02\n",
            " -1.38343910e-02 -1.30852837e-02 -1.27062214e-02  9.57178923e-01\n",
            " -2.83306376e-02 -7.09637354e-03 -2.55395516e-02 -6.71207536e-03\n",
            "  2.51489094e-03 -1.04044922e-02 -1.39346148e-02  1.12205870e+00\n",
            " -2.99514988e-02  5.09186092e-03 -2.85932710e-02 -3.96843245e-03\n",
            "  8.18430310e-03 -6.40499693e-03 -1.49991023e-02 -2.32486900e-02\n",
            "  8.93546164e-01 -3.09291705e-02  9.49182858e-04 -3.00454798e-02\n",
            " -2.58226588e-03  4.89650920e-03 -9.04281929e-03 -1.64821530e-02\n",
            " -2.43674875e-02 -2.90918209e-02  9.60125136e-01  2.29683334e-02\n",
            " -2.97342341e-02  2.07713346e-02 -2.20527186e-02 -2.99051535e-02\n",
            " -1.89986721e-02 -1.09080731e-02  9.66143781e-03  1.13117636e-02\n",
            "  1.09775717e-02  9.38844736e-01]\n",
            "\n",
            "\n",
            "\n",
            "\n",
            "The prior variance is:  1.53\n",
            "The prior lenth scale is:  0.03\n",
            "The noise is:  0.10\n",
            "The inducing points are:  [0.08193982 0.08715538 0.07259937 0.07751444 0.08226808 0.09200836\n",
            " 0.08789944 0.08586223 0.10375464 0.09434597 0.1139691 ]\n",
            "The parameterised mean of the inducing variables is:  [ 0.03367544 -0.09130701  0.05310788  0.03221692 -0.00438828  0.02446043\n",
            " -0.00790672  0.25482635 -0.03554887  0.08181014 -0.07356266]\n",
            "The lower triangle values for the inducing variables covariance is:  [ 9.50620296e-01 -1.41263470e-04  1.06334282e+00 -3.32786301e-02\n",
            " -3.99510703e-03  9.23941471e-01  4.68159418e-03 -2.31186386e-02\n",
            "  1.55960825e-04  1.04195077e+00  1.94433348e-02 -3.06736494e-02\n",
            "  1.13079817e-02 -2.47836643e-02  8.75336941e-01  1.87055576e-03\n",
            " -2.24442721e-02 -5.63878436e-03 -1.87551270e-02 -2.02882789e-02\n",
            "  1.04150480e+00 -1.69273270e-02 -2.02896480e-02 -1.74830907e-02\n",
            " -1.39269391e-02 -1.31492198e-02 -1.28143048e-02  9.57058646e-01\n",
            " -2.95020086e-02 -5.92512222e-03 -2.64838472e-02 -6.51356520e-03\n",
            "  3.72851340e-03 -1.01020212e-02 -1.40257409e-02  1.12151971e+00\n",
            " -3.11376235e-02  6.37472377e-03 -2.96348910e-02 -3.75076170e-03\n",
            "  9.42424528e-03 -5.85866724e-03 -1.50919624e-02 -2.40694242e-02\n",
            "  8.92732606e-01 -3.21571046e-02  2.20087465e-03 -3.11530948e-02\n",
            " -2.19473675e-03  6.11572913e-03 -8.45900734e-03 -1.65769531e-02\n",
            " -2.52068561e-02 -3.01286119e-02  9.59128551e-01  2.42550265e-02\n",
            " -3.10223695e-02  2.20087090e-02 -2.24984796e-02 -3.11902460e-02\n",
            " -1.96568848e-02 -1.10147720e-02  1.07597836e-02  1.24142320e-02\n",
            "  1.21520407e-02  9.37683531e-01]\n",
            "\n",
            "\n",
            "\n",
            "\n",
            "The prior variance is:  1.53\n",
            "The prior lenth scale is:  0.03\n",
            "The noise is:  0.10\n",
            "The inducing points are:  [0.08194799 0.08718135 0.07218393 0.07739989 0.0822852  0.09238976\n",
            " 0.08796925 0.08600998 0.10457836 0.09469464 0.11505166]\n",
            "The parameterised mean of the inducing variables is:  [ 0.03381527 -0.09249327  0.0542249   0.03164839 -0.00568503  0.02388345\n",
            " -0.00766152  0.25591784 -0.03450516  0.08296974 -0.0748166 ]\n",
            "The lower triangle values for the inducing variables covariance is:  [ 9.49352266e-01  1.16202125e-03  1.06224001e+00 -3.45158667e-02\n",
            " -2.73185703e-03  9.22822599e-01  5.32196160e-03 -2.36526808e-02\n",
            "  7.14938290e-04  1.04176386e+00  2.07570276e-02 -3.19513619e-02\n",
            "  1.25930025e-02 -2.54266906e-02  8.74058592e-01  2.88007697e-03\n",
            " -2.32026105e-02 -4.98165666e-03 -1.90067685e-02 -2.11072120e-02\n",
            "  1.04129231e+00 -1.70595799e-02 -2.05909988e-02 -1.76405478e-02\n",
            " -1.40176655e-02 -1.32492200e-02 -1.29178440e-02  9.56947045e-01\n",
            " -3.06785648e-02 -4.72421943e-03 -2.74304486e-02 -6.27454840e-03\n",
            "  4.95139983e-03 -9.76705877e-03 -1.40937293e-02  1.12098183e+00\n",
            " -3.23251321e-02  7.67095883e-03 -3.06729936e-02 -3.50743081e-03\n",
            "  1.06661622e-02 -5.27821373e-03 -1.51549774e-02 -2.48875659e-02\n",
            "  8.91926962e-01 -3.33961990e-02  3.47580250e-03 -3.22676316e-02\n",
            " -1.75190404e-03  7.34916508e-03 -7.82057196e-03 -1.66243907e-02\n",
            " -2.60536868e-02 -3.11661472e-02  9.58118431e-01  2.55513982e-02\n",
            " -3.23272139e-02  2.32535094e-02 -2.29770163e-02 -3.24832019e-02\n",
            " -2.03431407e-02 -1.11525726e-02  1.18701854e-02  1.35234888e-02\n",
            "  1.33441061e-02  9.36506672e-01]\n",
            "\n",
            "\n",
            "\n",
            "\n",
            "The prior variance is:  1.53\n",
            "The prior lenth scale is:  0.03\n",
            "The noise is:  0.10\n",
            "The inducing points are:  [0.08198806 0.08720783 0.0717627  0.07729028 0.08227788 0.09277524\n",
            " 0.08804149 0.08614997 0.10539113 0.09509288 0.11611118]\n",
            "The parameterised mean of the inducing variables is:  [ 0.03392006 -0.09368994  0.05534663  0.03104238 -0.00698531  0.023265\n",
            " -0.00745103  0.25701132 -0.03346323  0.08413901 -0.07607555]\n",
            "The lower triangle values for the inducing variables covariance is:  [ 0.94807437  0.00248589  1.06112652 -0.03575866 -0.00144648  0.92170399\n",
            "  0.00602285 -0.02421905  0.00132533  1.04158201  0.02207841 -0.03323893\n",
            "  0.01388283 -0.02611217  0.87277674  0.00392932 -0.02397922 -0.00428265\n",
            " -0.0192675  -0.02194941  1.04108265 -0.01711076 -0.02091818 -0.01775267\n",
            " -0.01410823 -0.01339153 -0.01301804  0.95684273 -0.03185706 -0.00350064\n",
            " -0.02837603 -0.00600078  0.00617851 -0.00940667 -0.0141385   1.12044795\n",
            " -0.03351248  0.0089772  -0.03170577 -0.00324173  0.01190701 -0.00467187\n",
            " -0.01518767 -0.02569959  0.89113107 -0.03464484  0.00477013 -0.03338724\n",
            " -0.00125994  0.00859343 -0.00713801 -0.01662242 -0.02690435 -0.0322022\n",
            "  0.95709686  0.02685558 -0.03364595  0.02450317 -0.02348468 -0.03378134\n",
            " -0.02105101 -0.01132544  0.01298703  0.01463589  0.01454998  0.93531778]\n",
            "\n",
            "\n",
            "\n",
            "\n",
            "The prior variance is:  1.53\n",
            "The prior lenth scale is:  0.03\n",
            "The noise is:  0.10\n",
            "The inducing points are:  [0.08203971 0.08723574 0.07133878 0.07717909 0.08227309 0.09316477\n",
            " 0.08811791 0.08627812 0.10618843 0.09552575 0.11714309]\n",
            "The parameterised mean of the inducing variables is:  [ 0.033993   -0.09489609  0.05647194  0.03041666 -0.00828749  0.02261183\n",
            " -0.00727828  0.25810348 -0.03242445  0.08531445 -0.07733688]\n",
            "The lower triangle values for the inducing variables covariance is:  [ 9.46787102e-01  3.82761410e-03  1.06000358e+00 -3.70058927e-02\n",
            " -1.43068980e-04  9.20587186e-01  6.76001648e-03 -2.48022411e-02\n",
            "  1.96493915e-03  1.04140884e+00  2.34061868e-02 -3.45344439e-02\n",
            "  1.51753482e-02 -2.68158142e-02  8.71492992e-01  5.00908735e-03\n",
            " -2.47691651e-02 -3.55084643e-03 -1.95287620e-02 -2.28084359e-02\n",
            "  1.04087696e+00 -1.70771434e-02 -2.12750970e-02 -1.78187755e-02\n",
            " -1.41978798e-02 -1.35797981e-02 -1.31156642e-02  9.56744500e-01\n",
            " -3.30349862e-02 -2.26011953e-03 -2.93179033e-02 -5.70852951e-03\n",
            "  7.40610144e-03 -9.02707804e-03 -1.41605815e-02  1.11992012e+00\n",
            " -3.46989297e-02  1.02908075e-02 -3.27320985e-02 -2.96544358e-03\n",
            "  1.31450337e-02 -4.04654264e-03 -1.51902716e-02 -2.65033231e-02\n",
            "  8.90345443e-01 -3.59002076e-02  6.07931635e-03 -3.45086660e-02\n",
            " -7.43202544e-04  9.84449781e-03 -6.42239565e-03 -1.65715814e-02\n",
            " -2.77547736e-02 -3.32341489e-02  9.56068667e-01  2.81657779e-02\n",
            " -3.49757892e-02  2.57551519e-02 -2.40035689e-02 -3.50823876e-02\n",
            " -2.17742635e-02 -1.15352512e-02  1.41057874e-02  1.57489220e-02\n",
            "  1.57648482e-02  9.34120254e-01]\n",
            "\n",
            "\n",
            "\n",
            "\n",
            "The prior variance is:  1.53\n",
            "The prior lenth scale is:  0.04\n",
            "The noise is:  0.10\n",
            "The inducing points are:  [0.08208102 0.08726571 0.07091565 0.0770636  0.08229817 0.09355898\n",
            " 0.08819956 0.08639203 0.10696518 0.09596687 0.11814234]\n",
            "The parameterised mean of the inducing variables is:  [ 0.03403778 -0.09611069  0.05759955  0.02978907 -0.00958984  0.02193022\n",
            " -0.00714447  0.25919196 -0.03138968  0.0864916  -0.0785981 ]\n",
            "The lower triangle values for the inducing variables covariance is:  [ 9.45491049e-01  5.18456500e-03  1.05887261e+00 -3.82563894e-02\n",
            "  1.17449790e-03  9.19473787e-01  7.50909340e-03 -2.53860573e-02\n",
            "  2.61186392e-03  1.04124712e+00  2.47389117e-02 -3.58357782e-02\n",
            "  1.64683345e-02 -2.75126269e-02  8.70209218e-01  6.11143068e-03\n",
            " -2.55678119e-02 -2.79435310e-03 -1.97825122e-02 -2.36783437e-02\n",
            "  1.04067622e+00 -1.69589983e-02 -2.16631579e-02 -1.78398669e-02\n",
            " -1.42849254e-02 -1.38146158e-02 -1.32111249e-02  9.56651398e-01\n",
            " -3.42108970e-02 -1.00704874e-03 -3.02542865e-02 -5.41307093e-03\n",
            "  8.63141118e-03 -8.63330022e-03 -1.41609785e-02  1.11939932e+00\n",
            " -3.58841681e-02  1.16096222e-02 -3.37512784e-02 -2.69014374e-03\n",
            "  1.43788494e-02 -3.40800881e-03 -1.51637829e-02 -2.72978515e-02\n",
            "  8.89569862e-01 -3.71586416e-02  7.39814671e-03 -3.56277372e-02\n",
            " -2.26090187e-04  1.10974527e-02 -5.68451235e-03 -1.64749432e-02\n",
            " -2.86010807e-02 -3.42590513e-02  9.55040525e-01  2.94802426e-02\n",
            " -3.63139609e-02  2.70069897e-02 -2.45154772e-02 -3.63839980e-02\n",
            " -2.25072200e-02 -1.17817401e-02  1.52232390e-02  1.68607351e-02\n",
            "  1.69831771e-02  9.32917313e-01]\n",
            "\n",
            "\n",
            "\n",
            "\n",
            "The prior variance is:  1.54\n",
            "The prior lenth scale is:  0.04\n",
            "The noise is:  0.11\n",
            "The inducing points are:  [0.08210354 0.08729805 0.07049713 0.07694577 0.08236189 0.09395847\n",
            " 0.08828666 0.08649029 0.10771642 0.09638569 0.11910379]\n",
            "The parameterised mean of the inducing variables is:  [ 0.03405958 -0.09733271  0.05872822  0.02916499 -0.01089038  0.02122565\n",
            " -0.00704931  0.26027542 -0.03035977  0.08766584 -0.0798569 ]\n",
            "The lower triangle values for the inducing variables covariance is:  [ 9.44186868e-01  6.55415946e-03  1.05773525e+00 -3.95089299e-02\n",
            "  2.50251495e-03  9.18365398e-01  8.26261916e-03 -2.59658024e-02\n",
            "  3.25905612e-03  1.04109674e+00  2.60748015e-02 -3.71403725e-02\n",
            "  1.77592432e-02 -2.81950364e-02  8.68928053e-01  7.22978595e-03\n",
            " -2.63711187e-02 -2.02003313e-03 -2.00265855e-02 -2.45537405e-02\n",
            "  1.04048115e+00 -1.67599137e-02 -2.20816031e-02 -1.78183749e-02\n",
            " -1.43690362e-02 -1.40938015e-02 -1.33045666e-02  9.56562738e-01\n",
            " -3.53843880e-02  2.55476538e-04 -3.11843499e-02 -5.11904511e-03\n",
            "  9.85241237e-03 -8.22908901e-03 -1.41409822e-02  1.11888548e+00\n",
            " -3.70677624e-02  1.29313974e-02 -3.47625076e-02 -2.41928428e-03\n",
            "  1.56066551e-02 -2.76119090e-03 -1.51100088e-02 -2.80830694e-02\n",
            "  8.88804226e-01 -3.84161671e-02  8.72113412e-03 -3.67400438e-02\n",
            "  2.83112889e-04  1.23468106e-02 -4.93388318e-03 -1.63373077e-02\n",
            " -2.94402034e-02 -3.52736232e-02  9.54019466e-01  3.07972155e-02\n",
            " -3.76576132e-02  2.82562406e-02 -2.50151680e-02 -3.76834256e-02\n",
            " -2.32449372e-02 -1.20628438e-02  1.63374150e-02  1.79694761e-02\n",
            "  1.81992681e-02  9.31712129e-01]\n",
            "\n",
            "\n",
            "\n",
            "\n",
            "The prior variance is:  1.54\n",
            "The prior lenth scale is:  0.04\n",
            "The noise is:  0.11\n",
            "The inducing points are:  [0.08211699 0.08733276 0.07008697 0.07683046 0.08244999 0.09436303\n",
            " 0.08837866 0.08657194 0.10843798 0.09675711 0.12002272]\n",
            "The parameterised mean of the inducing variables is:  [ 0.0340648  -0.09856114  0.05985679  0.02853455 -0.0121869   0.02050251\n",
            " -0.00699148  0.26135336 -0.02933602  0.08883324 -0.08111111]\n",
            "The lower triangle values for the inducing variables covariance is:  [ 9.42875279e-01  7.93387180e-03  1.05659325e+00 -4.07622937e-02\n",
            "  3.83742546e-03  9.17263566e-01  9.03448499e-03 -2.65512064e-02\n",
            "  3.91729277e-03  1.04095491e+00  2.74117338e-02 -3.84452498e-02\n",
            "  1.90452556e-02 -2.88772954e-02  8.67652835e-01  8.35905336e-03\n",
            " -2.71758393e-02 -1.23337158e-03 -2.02652916e-02 -2.54299940e-02\n",
            "  1.04029215e+00 -1.64854477e-02 -2.25282835e-02 -1.77575455e-02\n",
            " -1.44521334e-02 -1.44133829e-02 -1.33960213e-02  9.56478028e-01\n",
            " -3.65558360e-02  1.52529451e-03 -3.21079649e-02 -4.81857649e-03\n",
            "  1.10675446e-02 -7.81702246e-03 -1.41019815e-02  1.11837774e+00\n",
            " -3.82485966e-02  1.42532969e-02 -3.57644227e-02 -2.14664877e-03\n",
            "  1.68257069e-02 -2.11043001e-03 -1.50314348e-02 -2.88590480e-02\n",
            "  8.88049384e-01 -3.96692549e-02  1.00431817e-02 -3.78417283e-02\n",
            "  7.94546260e-04  1.35873010e-02 -4.17797941e-03 -1.61639814e-02\n",
            " -3.02701882e-02 -3.62744606e-02  9.53011388e-01  3.21148922e-02\n",
            " -3.90037976e-02  2.95004870e-02 -2.55133178e-02 -3.89775343e-02\n",
            " -2.39834134e-02 -1.23753872e-02  1.74472313e-02  1.90726448e-02\n",
            "  1.94080042e-02  9.30507878e-01]\n",
            "\n",
            "\n",
            "\n",
            "\n",
            "The prior variance is:  1.54\n",
            "The prior lenth scale is:  0.04\n",
            "The noise is:  0.11\n",
            "The inducing points are:  [0.08213959 0.08736963 0.06968866 0.07672418 0.0825371  0.09477075\n",
            " 0.08847448 0.08663608 0.10912693 0.09707079 0.12089524]\n",
            "The parameterised mean of the inducing variables is:  [ 0.03405938 -0.09979491  0.06098408  0.02788167 -0.01347698  0.0197641\n",
            " -0.00696921  0.26242569 -0.02832057  0.08999118 -0.08235869]\n",
            "The lower triangle values for the inducing variables covariance is:  [ 9.41557044e-01  9.32124047e-03  1.05544845e+00 -4.20152765e-02\n",
            "  5.17584386e-03  9.16169761e-01  9.84631465e-03 -2.71578554e-02\n",
            "  4.60405138e-03  1.04081657e+00  2.87473477e-02 -3.97471648e-02\n",
            "  2.03233895e-02 -2.95815027e-02  8.66387386e-01  9.49564618e-03\n",
            " -2.79796678e-02 -4.38444737e-04 -2.05056608e-02 -2.63034222e-02\n",
            "  1.04010929e+00 -1.61416851e-02 -2.30005678e-02 -1.76608057e-02\n",
            " -1.45372680e-02 -1.47687415e-02 -1.34855336e-02  9.56396882e-01\n",
            " -3.77259742e-02  2.80075190e-03 -3.30253405e-02 -4.49796676e-03\n",
            "  1.22753973e-02 -7.39870858e-03 -1.40453072e-02  1.11787489e+00\n",
            " -3.94245590e-02  1.55715912e-02 -3.67548383e-02 -1.86230744e-03\n",
            "  1.80321334e-02 -1.45961567e-03 -1.49309779e-02 -2.96254508e-02\n",
            "  8.87307554e-01 -4.09154906e-02  1.13603121e-02 -3.89301057e-02\n",
            "  1.32546494e-03  1.48146473e-02 -3.42177506e-03 -1.59596808e-02\n",
            " -3.10903110e-02 -3.72583438e-02  9.52019941e-01  3.34314384e-02\n",
            " -4.03495195e-02  3.07373522e-02 -2.60270397e-02 -4.02629176e-02\n",
            " -2.47196865e-02 -1.27158552e-02  1.85520287e-02  2.01667731e-02\n",
            "  2.06055404e-02  9.29307716e-01]\n",
            "\n",
            "\n",
            "\n",
            "\n",
            "The prior variance is:  1.54\n",
            "The prior lenth scale is:  0.04\n",
            "The noise is:  0.11\n",
            "The inducing points are:  [0.08218412 0.08740825 0.06930506 0.07663254 0.08260457 0.09517724\n",
            " 0.08857274 0.08668181 0.10978184 0.09733657 0.12171853]\n",
            "The parameterised mean of the inducing variables is:  [ 0.03404709 -0.10103285  0.06210873  0.02719611 -0.01475824  0.01901275\n",
            " -0.00698078  0.26349228 -0.02731652  0.09113847 -0.08359757]\n",
            "The lower triangle values for the inducing variables covariance is:  [ 9.40232947e-01  1.07138847e-02  1.05430267e+00 -4.32667049e-02\n",
            "  6.51458940e-03  9.15085375e-01  1.07105712e-02 -2.77958054e-02\n",
            "  5.32980275e-03  1.04067694e+00  3.00793889e-02 -4.10430083e-02\n",
            "  2.15908521e-02 -3.03208560e-02  8.65135282e-01  1.06374307e-02\n",
            " -2.87812679e-02  3.61995059e-04 -2.07528735e-02 -2.71715562e-02\n",
            "  1.03993233e+00 -1.57341569e-02 -2.34960649e-02 -1.75312726e-02\n",
            " -1.46267858e-02 -1.51556878e-02 -1.35732416e-02  9.56318932e-01\n",
            " -3.88954980e-02  4.08032803e-03 -3.39366855e-02 -4.14731447e-03\n",
            "  1.34746848e-02 -6.97500232e-03 -1.39721283e-02  1.11737572e+00\n",
            " -4.05925018e-02  1.68816143e-02 -3.77307489e-02 -1.56052345e-03\n",
            "  1.92212834e-02 -8.12228373e-04 -1.48117079e-02 -3.03811783e-02\n",
            "  8.86582242e-01 -4.21538790e-02  1.26700480e-02 -4.00038908e-02\n",
            "  1.88742715e-03  1.60261845e-02 -2.66776756e-03 -1.57279189e-02\n",
            " -3.19009446e-02 -3.82224193e-02  9.51046223e-01  3.47450398e-02\n",
            " -4.16918329e-02  3.19645455e-02 -2.65675074e-02 -4.15363116e-02\n",
            " -2.54518350e-02 -1.30809988e-02  1.96511819e-02  2.12474444e-02\n",
            "  2.17896063e-02  9.28114692e-01]\n",
            "\n",
            "\n",
            "\n",
            "\n",
            "The prior variance is:  1.54\n",
            "The prior lenth scale is:  0.04\n",
            "The noise is:  0.11\n",
            "The inducing points are:  [0.08225091 0.08744819 0.06893819 0.07655732 0.08265088 0.09557513\n",
            " 0.08867202 0.0867082  0.11040259 0.09758317 0.12249102]\n",
            "The parameterised mean of the inducing variables is:  [ 0.03402892 -0.10227365  0.06322925  0.02647869 -0.01602873  0.0182499\n",
            " -0.00702476  0.2645528  -0.02632764  0.092275   -0.08482576]\n",
            "The lower triangle values for the inducing variables covariance is:  [ 9.38903777e-01  1.21095198e-02  1.05315767e+00 -4.45154525e-02\n",
            "  7.85070629e-03  9.14011705e-01  1.16248370e-02 -2.84644354e-02\n",
            "  6.09260330e-03  1.04053472e+00  3.14061492e-02 -4.23302702e-02\n",
            "  2.28454740e-02 -3.10938522e-02  8.63898993e-01  1.17835989e-02\n",
            " -2.95802173e-02  1.16638668e-03 -2.10079360e-02 -2.80333832e-02\n",
            "  1.03976076e+00 -1.52673150e-02 -2.40129924e-02 -1.73715046e-02\n",
            " -1.47212632e-02 -1.55711739e-02 -1.36594153e-02  9.56243784e-01\n",
            " -4.00648321e-02  5.36241062e-03 -3.48420161e-02 -3.76595305e-03\n",
            "  1.46644710e-02 -6.54616233e-03 -1.38834058e-02  1.11687925e+00\n",
            " -4.17485275e-02  1.81780308e-02 -3.86886294e-02 -1.24318458e-03\n",
            "  2.03884521e-02 -1.71254106e-04 -1.46766066e-02 -3.11244020e-02\n",
            "  8.85877653e-01 -4.33845592e-02  1.39711581e-02 -4.10628905e-02\n",
            "  2.48065517e-03  1.72209468e-02 -1.91643750e-03 -1.54709775e-02\n",
            " -3.27031380e-02 -3.91641418e-02  9.50089401e-01  3.60539624e-02\n",
            " -4.30279237e-02  3.31799218e-02 -2.71343272e-02 -4.27950986e-02\n",
            " -2.61789186e-02 -1.34681482e-02  2.07438988e-02  2.23096747e-02\n",
            "  2.29592063e-02  9.26931652e-01]\n",
            "\n",
            "\n",
            "\n",
            "\n",
            "The prior variance is:  1.54\n",
            "The prior lenth scale is:  0.04\n",
            "The noise is:  0.11\n",
            "The inducing points are:  [0.08232902 0.0874891  0.06858931 0.07649675 0.08269019 0.0959552\n",
            " 0.08877107 0.08671447 0.11098977 0.09784759 0.12321217]\n",
            "The parameterised mean of the inducing variables is:  [ 0.03400438 -0.103516    0.06434411  0.02573907 -0.01728711  0.01747604\n",
            " -0.00710014  0.26560672 -0.02535764  0.09340091 -0.0860414 ]\n",
            "The lower triangle values for the inducing variables covariance is:  [ 9.37570313e-01  1.35059780e-02  1.05201516e+00 -4.57604668e-02\n",
            "  9.18147898e-03  9.12949920e-01  1.25758714e-02 -2.91545110e-02\n",
            "  6.88102217e-03  1.04039221e+00  3.27265380e-02 -4.36071068e-02\n",
            "  2.40857763e-02 -3.18879795e-02  8.62679789e-01  1.29345541e-02\n",
            " -3.03769448e-02  1.97426053e-03 -2.12681822e-02 -2.88892809e-02\n",
            "  1.03959380e+00 -1.47444710e-02 -2.45502367e-02 -1.71834572e-02\n",
            " -1.48196136e-02 -1.60133771e-02 -1.37444674e-02  9.56171001e-01\n",
            " -4.12340975e-02  6.64525740e-03 -3.57411411e-02 -3.36145791e-03\n",
            "  1.58441890e-02 -6.11190120e-03 -1.37798856e-02  1.11638483e+00\n",
            " -4.28887252e-02  1.94555777e-02 -3.96250957e-02 -9.17643294e-04\n",
            "  2.15296040e-02  4.61145228e-04 -1.45283147e-02 -3.18530695e-02\n",
            "  8.85197624e-01 -4.46079714e-02  1.52628147e-02 -4.21072411e-02\n",
            "  3.09553583e-03  1.83988720e-02 -1.16701421e-03 -1.51903569e-02\n",
            " -3.34979355e-02 -4.00811992e-02  9.49148135e-01  3.73566197e-02\n",
            " -4.43551812e-02  3.43815560e-02 -2.77177955e-02 -4.40374136e-02\n",
            " -2.69009275e-02 -1.38752843e-02  2.18292333e-02  2.33487330e-02\n",
            "  2.41137901e-02  9.25761136e-01]\n",
            "\n",
            "\n",
            "\n",
            "\n",
            "The prior variance is:  1.54\n",
            "The prior lenth scale is:  0.04\n",
            "The noise is:  0.11\n",
            "The inducing points are:  [0.0824031  0.08753076 0.06825946 0.07644853 0.08274228 0.09630988\n",
            " 0.08886888 0.08670029 0.11154392 0.09815585 0.12388214]\n",
            "The parameterised mean of the inducing variables is:  [ 0.03397394 -0.10475869  0.06545205  0.02498922 -0.01853243  0.01669058\n",
            " -0.00720643  0.26665351 -0.02440907  0.09451576 -0.08724298]\n",
            "The lower triangle values for the inducing variables covariance is:  [ 9.36233303e-01  1.49012423e-02  1.05087673e+00 -4.70008072e-02\n",
            "  1.05044537e-02  9.11901009e-01  1.35477044e-02 -2.98543998e-02\n",
            "  7.68128840e-03  1.04025261e+00  3.40397497e-02 -4.48719932e-02\n",
            "  2.53106524e-02 -3.26877409e-02  8.61478446e-01  1.40918454e-02\n",
            " -3.11726999e-02  2.78620081e-03 -2.15297920e-02 -2.97406724e-02\n",
            "  1.03943039e+00 -1.41679533e-02 -2.51072611e-02 -1.69685363e-02\n",
            " -1.49201303e-02 -1.64813183e-02 -1.38289624e-02  9.56100096e-01\n",
            " -4.24032044e-02  7.92706982e-03 -3.66337559e-02 -2.94410344e-03\n",
            "  1.70133492e-02 -5.67134868e-03 -1.36621006e-02  1.11589203e+00\n",
            " -4.40103146e-02  2.07102543e-02 -4.05378296e-02 -5.91781152e-04\n",
            "  2.26420518e-02  1.08421448e-03 -1.43688051e-02 -3.25657332e-02\n",
            "  8.84544438e-01 -4.58238768e-02  1.65435977e-02 -4.31365555e-02\n",
            "  3.71886012e-03  1.95595032e-02 -4.18284946e-04 -1.48874006e-02\n",
            " -3.42856586e-02 -4.09717620e-02  9.48222215e-01  3.86516406e-02\n",
            " -4.56712573e-02  3.55678226e-02 -2.83057054e-02 -4.52618293e-02\n",
            " -2.76187741e-02 -1.43010087e-02  2.29062058e-02  2.43612790e-02\n",
            "  2.52523138e-02  9.24605293e-01]\n",
            "\n",
            "\n",
            "\n",
            "\n",
            "The prior variance is:  1.55\n",
            "The prior lenth scale is:  0.04\n",
            "The noise is:  0.11\n",
            "The inducing points are:  [0.08246334 0.0875731  0.06794972 0.07641219 0.08281914 0.09663751\n",
            " 0.08896469 0.08666593 0.11206517 0.09850674 0.12450147]\n",
            "The parameterised mean of the inducing variables is:  [ 0.03394134 -0.10600075  0.06655227  0.02423607 -0.01976391  0.01589172\n",
            " -0.00734364  0.26769282 -0.02348252  0.09561803 -0.08842943]\n",
            "The lower triangle values for the inducing variables covariance is:  [ 9.34893428e-01  1.62935063e-02  1.04974384e+00 -4.82357017e-02\n",
            "  1.18174751e-02  9.10865718e-01  1.45308675e-02 -3.05571383e-02\n",
            "  8.48522344e-03  1.04011739e+00  3.53449185e-02 -4.61233662e-02\n",
            "  2.65190484e-02 -3.34839414e-02  8.60295952e-01  1.52581465e-02\n",
            " -3.19695622e-02  3.60386365e-03 -2.17910919e-02 -3.05897054e-02\n",
            "  1.03926911e+00 -1.35392447e-02 -2.56840208e-02 -1.67276380e-02\n",
            " -1.50219662e-02 -1.69744621e-02 -1.39136387e-02  9.56030533e-01\n",
            " -4.35719774e-02  9.20608931e-03 -3.75195564e-02 -2.52008912e-03\n",
            "  1.81712492e-02 -5.22296866e-03 -1.35303577e-02  1.11540060e+00\n",
            " -4.51126044e-02  2.19403118e-02 -4.14262691e-02 -2.69651163e-04\n",
            "  2.37249347e-02  1.69914675e-03 -1.41990982e-02 -3.32622105e-02\n",
            "  8.83918164e-01 -4.70308164e-02  1.78109399e-02 -4.41494832e-02\n",
            "  4.34199840e-03  2.07011163e-02  3.30914359e-04 -1.45637046e-02\n",
            " -3.50655365e-02 -4.18349147e-02  9.47313444e-01  3.99379274e-02\n",
            " -4.69741069e-02  3.67374573e-02 -2.88909485e-02 -4.64670158e-02\n",
            " -2.83343189e-02 -1.47445211e-02  2.39739216e-02  2.53461973e-02\n",
            "  2.63727447e-02  9.23465830e-01]\n",
            "\n",
            "\n",
            "\n",
            "\n",
            "The prior variance is:  1.55\n",
            "The prior lenth scale is:  0.04\n",
            "The noise is:  0.11\n",
            "The inducing points are:  [0.08251186 0.08761619 0.0676613  0.07638934 0.08291732 0.09694303\n",
            " 0.08905787 0.08661233 0.11255324 0.09887196 0.12507111]\n",
            "The parameterised mean of the inducing variables is:  [ 0.03391407 -0.10724145  0.06764444  0.02347778 -0.02098077  0.01507636\n",
            " -0.0075124   0.26872453 -0.02257677  0.09670541 -0.08960017]\n",
            "The lower triangle values for the inducing variables covariance is:  [ 9.33551221e-01  1.76813191e-02  1.04861775e+00 -4.94646537e-02\n",
            "  1.31188040e-02  9.09844457e-01  1.55274990e-02 -3.12640190e-02\n",
            "  9.29425647e-03  1.03998539e+00  3.66410730e-02 -4.73595799e-02\n",
            "  2.77099251e-02 -3.42786429e-02  8.59133697e-01  1.64373015e-02\n",
            " -3.27705347e-02  4.43007882e-03 -2.20547888e-02 -3.14391841e-02\n",
            "  1.03910811e+00 -1.28589433e-02 -2.62810062e-02 -1.64611016e-02\n",
            " -1.51261590e-02 -1.74926076e-02 -1.39994615e-02  9.55961701e-01\n",
            " -4.47403189e-02  1.04807476e-02 -3.83983744e-02 -2.08788261e-03\n",
            "  1.93169619e-02 -4.76442300e-03 -1.33846899e-02  1.11491033e+00\n",
            " -4.61969943e-02  2.31462264e-02 -4.22915310e-02  5.00828051e-05\n",
            "  2.47790229e-02  2.30917890e-03 -1.40192343e-02 -3.39435896e-02\n",
            "  8.83316958e-01 -4.82263921e-02  1.90614194e-02 -4.51439871e-02\n",
            "  4.96530274e-03  2.18208798e-02  1.08180710e-03 -1.42210390e-02\n",
            " -3.58359661e-02 -4.26707224e-02  9.46425151e-01  4.12147475e-02\n",
            " -4.82620772e-02  3.78896395e-02 -2.94752701e-02 -4.76516742e-02\n",
            " -2.90504614e-02 -1.52056716e-02  2.50316955e-02  2.63044648e-02\n",
            "  2.74723484e-02  9.22343952e-01]\n",
            "\n",
            "\n",
            "\n",
            "\n",
            "The prior variance is:  1.55\n",
            "The prior lenth scale is:  0.04\n",
            "The noise is:  0.11\n",
            "The inducing points are:  [0.08255982 0.08766014 0.06739532 0.07638298 0.08302174 0.09723434\n",
            " 0.08914794 0.08654108 0.11300791 0.09921192 0.12559248]\n",
            "The parameterised mean of the inducing variables is:  [ 0.03390194 -0.10848021  0.06872858  0.02270649 -0.02218217  0.01424021\n",
            " -0.00771389  0.26974864 -0.02168978  0.09777546 -0.09075487]\n",
            "The lower triangle values for the inducing variables covariance is:  [ 9.32206828e-01  1.90640051e-02  1.04749923e+00 -5.06877293e-02\n",
            "  1.44075192e-02  9.08837045e-01  1.65478950e-02 -3.19823351e-02\n",
            "  1.01167173e-02  1.03985328e+00  3.79275200e-02 -4.85793314e-02\n",
            "  2.88826211e-02 -3.50817588e-02  8.57993042e-01  1.76345680e-02\n",
            " -3.35799024e-02  5.26918712e-03 -2.23277643e-02 -3.22928920e-02\n",
            "  1.03894484e+00 -1.21264203e-02 -2.68995588e-02 -1.61684890e-02\n",
            " -1.52355072e-02 -1.80361843e-02 -1.40877352e-02  9.55892865e-01\n",
            " -4.59085779e-02  1.17500977e-02 -3.92704719e-02 -1.64008304e-03\n",
            "  2.04497373e-02 -4.29226136e-03 -1.32247192e-02  1.11442086e+00\n",
            " -4.72661668e-02  2.43298794e-02 -4.31357587e-02  3.72579994e-04\n",
            "  2.58059950e-02  2.91928554e-03 -1.38284801e-02 -3.46117286e-02\n",
            "  8.82738022e-01 -4.94084110e-02  2.02919754e-02 -4.61183254e-02\n",
            "  5.59544604e-03  2.29160131e-02  1.83651275e-03 -1.38607224e-02\n",
            " -3.65954135e-02 -4.34799992e-02  9.45560548e-01  4.24820422e-02\n",
            " -4.95342730e-02  3.90242681e-02 -3.00667996e-02 -4.88148839e-02\n",
            " -2.97714446e-02 -1.56851998e-02  2.60793685e-02  2.72382949e-02\n",
            "  2.85487653e-02  9.21240113e-01]\n",
            "\n",
            "\n",
            "\n",
            "\n",
            "The prior variance is:  1.55\n",
            "The prior lenth scale is:  0.04\n",
            "The noise is:  0.11\n",
            "The inducing points are:  [0.08261885 0.08770502 0.06715251 0.07639677 0.08311684 0.0975172\n",
            " 0.08923417 0.08645434 0.1134298  0.09949787 0.12606762]\n",
            "The parameterised mean of the inducing variables is:  [ 0.03391509 -0.10971647  0.06980483  0.02191465 -0.0233673   0.013378\n",
            " -0.00794972  0.27076509 -0.02081986  0.09882662 -0.0918934 ]\n",
            "The lower triangle values for the inducing variables covariance is:  [ 9.30858997e-01  2.04434389e-02  1.04638736e+00 -5.19068279e-02\n",
            "  1.56852714e-02  9.07841531e-01  1.76036325e-02 -3.27211258e-02\n",
            "  1.09627221e-02  1.03971679e+00  3.92055428e-02 -4.97834855e-02\n",
            "  3.00384658e-02 -3.59045097e-02  8.56873509e-01  1.88580011e-02\n",
            " -3.44048868e-02  6.12863928e-03 -2.26194373e-02 -3.31573027e-02\n",
            "  1.03877543e+00 -1.13382116e-02 -2.75433025e-02 -1.58475984e-02\n",
            " -1.53537503e-02 -1.86077789e-02 -1.41804404e-02  9.55823004e-01\n",
            " -4.70791165e-02  1.30156666e-02 -4.01378233e-02 -1.16769687e-03\n",
            "  2.15707430e-02 -3.80063351e-03 -1.30490505e-02  1.11393084e+00\n",
            " -4.83241282e-02  2.54948253e-02 -4.39621888e-02  7.03944921e-04\n",
            "  2.68087122e-02  3.53660586e-03 -1.36251878e-02 -3.52693795e-02\n",
            "  8.82178144e-01 -5.05773027e-02  2.15025437e-02 -4.70730520e-02\n",
            "  6.24066283e-03  2.39862097e-02  2.60029924e-03 -1.34820768e-02\n",
            " -3.73442625e-02 -4.42648571e-02  9.44720264e-01  4.37419124e-02\n",
            " -5.07922654e-02  4.01433431e-02 -3.06751844e-02 -4.99577281e-02\n",
            " -3.05043194e-02 -1.61859313e-02  2.71187605e-02  2.81510875e-02\n",
            "  2.96022456e-02  9.20152640e-01]\n",
            "\n",
            "\n",
            "\n",
            "\n",
            "The prior variance is:  nan\n",
            "The prior lenth scale is:  nan\n",
            "The noise is:  nan\n",
            "The inducing points are:  [nan nan nan nan nan nan nan nan nan nan nan]\n",
            "The parameterised mean of the inducing variables is:  [nan nan nan nan nan nan nan nan nan nan nan]\n",
            "The lower triangle values for the inducing variables covariance is:  [nan nan nan nan nan nan nan nan nan nan nan nan nan nan nan nan nan nan\n",
            " nan nan nan nan nan nan nan nan nan nan nan nan nan nan nan nan nan nan\n",
            " nan nan nan nan nan nan nan nan nan nan nan nan nan nan nan nan nan nan\n",
            " nan nan nan nan nan nan nan nan nan nan nan nan]\n",
            "\n",
            "\n",
            "\n",
            "\n",
            "The prior variance is:  nan\n",
            "The prior lenth scale is:  nan\n",
            "The noise is:  nan\n",
            "The inducing points are:  [nan nan nan nan nan nan nan nan nan nan nan]\n",
            "The parameterised mean of the inducing variables is:  [nan nan nan nan nan nan nan nan nan nan nan]\n",
            "The lower triangle values for the inducing variables covariance is:  [nan nan nan nan nan nan nan nan nan nan nan nan nan nan nan nan nan nan\n",
            " nan nan nan nan nan nan nan nan nan nan nan nan nan nan nan nan nan nan\n",
            " nan nan nan nan nan nan nan nan nan nan nan nan nan nan nan nan nan nan\n",
            " nan nan nan nan nan nan nan nan nan nan nan nan]\n",
            "\n",
            "\n",
            "\n",
            "\n",
            "The prior variance is:  nan\n",
            "The prior lenth scale is:  nan\n",
            "The noise is:  nan\n",
            "The inducing points are:  [nan nan nan nan nan nan nan nan nan nan nan]\n",
            "The parameterised mean of the inducing variables is:  [nan nan nan nan nan nan nan nan nan nan nan]\n",
            "The lower triangle values for the inducing variables covariance is:  [nan nan nan nan nan nan nan nan nan nan nan nan nan nan nan nan nan nan\n",
            " nan nan nan nan nan nan nan nan nan nan nan nan nan nan nan nan nan nan\n",
            " nan nan nan nan nan nan nan nan nan nan nan nan nan nan nan nan nan nan\n",
            " nan nan nan nan nan nan nan nan nan nan nan nan]\n",
            "\n",
            "\n",
            "\n",
            "\n",
            "The prior variance is:  nan\n",
            "The prior lenth scale is:  nan\n",
            "The noise is:  nan\n",
            "The inducing points are:  [nan nan nan nan nan nan nan nan nan nan nan]\n",
            "The parameterised mean of the inducing variables is:  [nan nan nan nan nan nan nan nan nan nan nan]\n",
            "The lower triangle values for the inducing variables covariance is:  [nan nan nan nan nan nan nan nan nan nan nan nan nan nan nan nan nan nan\n",
            " nan nan nan nan nan nan nan nan nan nan nan nan nan nan nan nan nan nan\n",
            " nan nan nan nan nan nan nan nan nan nan nan nan nan nan nan nan nan nan\n",
            " nan nan nan nan nan nan nan nan nan nan nan nan]\n",
            "\n",
            "\n",
            "\n",
            "\n",
            "The prior variance is:  nan\n",
            "The prior lenth scale is:  nan\n",
            "The noise is:  nan\n",
            "The inducing points are:  [nan nan nan nan nan nan nan nan nan nan nan]\n",
            "The parameterised mean of the inducing variables is:  [nan nan nan nan nan nan nan nan nan nan nan]\n",
            "The lower triangle values for the inducing variables covariance is:  [nan nan nan nan nan nan nan nan nan nan nan nan nan nan nan nan nan nan\n",
            " nan nan nan nan nan nan nan nan nan nan nan nan nan nan nan nan nan nan\n",
            " nan nan nan nan nan nan nan nan nan nan nan nan nan nan nan nan nan nan\n",
            " nan nan nan nan nan nan nan nan nan nan nan nan]\n",
            "\n",
            "\n",
            "\n",
            "\n",
            "The prior variance is:  nan\n",
            "The prior lenth scale is:  nan\n",
            "The noise is:  nan\n",
            "The inducing points are:  [nan nan nan nan nan nan nan nan nan nan nan]\n",
            "The parameterised mean of the inducing variables is:  [nan nan nan nan nan nan nan nan nan nan nan]\n",
            "The lower triangle values for the inducing variables covariance is:  [nan nan nan nan nan nan nan nan nan nan nan nan nan nan nan nan nan nan\n",
            " nan nan nan nan nan nan nan nan nan nan nan nan nan nan nan nan nan nan\n",
            " nan nan nan nan nan nan nan nan nan nan nan nan nan nan nan nan nan nan\n",
            " nan nan nan nan nan nan nan nan nan nan nan nan]\n",
            "\n",
            "\n",
            "\n",
            "\n",
            "The prior variance is:  nan\n",
            "The prior lenth scale is:  nan\n",
            "The noise is:  nan\n",
            "The inducing points are:  [nan nan nan nan nan nan nan nan nan nan nan]\n",
            "The parameterised mean of the inducing variables is:  [nan nan nan nan nan nan nan nan nan nan nan]\n",
            "The lower triangle values for the inducing variables covariance is:  [nan nan nan nan nan nan nan nan nan nan nan nan nan nan nan nan nan nan\n",
            " nan nan nan nan nan nan nan nan nan nan nan nan nan nan nan nan nan nan\n",
            " nan nan nan nan nan nan nan nan nan nan nan nan nan nan nan nan nan nan\n",
            " nan nan nan nan nan nan nan nan nan nan nan nan]\n",
            "\n",
            "\n",
            "\n",
            "\n",
            "The prior variance is:  nan\n",
            "The prior lenth scale is:  nan\n",
            "The noise is:  nan\n",
            "The inducing points are:  [nan nan nan nan nan nan nan nan nan nan nan]\n",
            "The parameterised mean of the inducing variables is:  [nan nan nan nan nan nan nan nan nan nan nan]\n",
            "The lower triangle values for the inducing variables covariance is:  [nan nan nan nan nan nan nan nan nan nan nan nan nan nan nan nan nan nan\n",
            " nan nan nan nan nan nan nan nan nan nan nan nan nan nan nan nan nan nan\n",
            " nan nan nan nan nan nan nan nan nan nan nan nan nan nan nan nan nan nan\n",
            " nan nan nan nan nan nan nan nan nan nan nan nan]\n",
            "\n",
            "\n",
            "\n",
            "\n",
            "The prior variance is:  nan\n",
            "The prior lenth scale is:  nan\n",
            "The noise is:  nan\n",
            "The inducing points are:  [nan nan nan nan nan nan nan nan nan nan nan]\n",
            "The parameterised mean of the inducing variables is:  [nan nan nan nan nan nan nan nan nan nan nan]\n",
            "The lower triangle values for the inducing variables covariance is:  [nan nan nan nan nan nan nan nan nan nan nan nan nan nan nan nan nan nan\n",
            " nan nan nan nan nan nan nan nan nan nan nan nan nan nan nan nan nan nan\n",
            " nan nan nan nan nan nan nan nan nan nan nan nan nan nan nan nan nan nan\n",
            " nan nan nan nan nan nan nan nan nan nan nan nan]\n",
            "\n",
            "\n",
            "\n",
            "\n",
            "The prior variance is:  nan\n",
            "The prior lenth scale is:  nan\n",
            "The noise is:  nan\n",
            "The inducing points are:  [nan nan nan nan nan nan nan nan nan nan nan]\n",
            "The parameterised mean of the inducing variables is:  [nan nan nan nan nan nan nan nan nan nan nan]\n",
            "The lower triangle values for the inducing variables covariance is:  [nan nan nan nan nan nan nan nan nan nan nan nan nan nan nan nan nan nan\n",
            " nan nan nan nan nan nan nan nan nan nan nan nan nan nan nan nan nan nan\n",
            " nan nan nan nan nan nan nan nan nan nan nan nan nan nan nan nan nan nan\n",
            " nan nan nan nan nan nan nan nan nan nan nan nan]\n",
            "\n",
            "\n",
            "\n",
            "\n",
            "The prior variance is:  nan\n",
            "The prior lenth scale is:  nan\n",
            "The noise is:  nan\n",
            "The inducing points are:  [nan nan nan nan nan nan nan nan nan nan nan]\n",
            "The parameterised mean of the inducing variables is:  [nan nan nan nan nan nan nan nan nan nan nan]\n",
            "The lower triangle values for the inducing variables covariance is:  [nan nan nan nan nan nan nan nan nan nan nan nan nan nan nan nan nan nan\n",
            " nan nan nan nan nan nan nan nan nan nan nan nan nan nan nan nan nan nan\n",
            " nan nan nan nan nan nan nan nan nan nan nan nan nan nan nan nan nan nan\n",
            " nan nan nan nan nan nan nan nan nan nan nan nan]\n",
            "\n",
            "\n",
            "\n",
            "\n",
            "The prior variance is:  nan\n",
            "The prior lenth scale is:  nan\n",
            "The noise is:  nan\n",
            "The inducing points are:  [nan nan nan nan nan nan nan nan nan nan nan]\n",
            "The parameterised mean of the inducing variables is:  [nan nan nan nan nan nan nan nan nan nan nan]\n",
            "The lower triangle values for the inducing variables covariance is:  [nan nan nan nan nan nan nan nan nan nan nan nan nan nan nan nan nan nan\n",
            " nan nan nan nan nan nan nan nan nan nan nan nan nan nan nan nan nan nan\n",
            " nan nan nan nan nan nan nan nan nan nan nan nan nan nan nan nan nan nan\n",
            " nan nan nan nan nan nan nan nan nan nan nan nan]\n",
            "\n",
            "\n",
            "\n",
            "\n",
            "The prior variance is:  nan\n",
            "The prior lenth scale is:  nan\n",
            "The noise is:  nan\n",
            "The inducing points are:  [nan nan nan nan nan nan nan nan nan nan nan]\n",
            "The parameterised mean of the inducing variables is:  [nan nan nan nan nan nan nan nan nan nan nan]\n",
            "The lower triangle values for the inducing variables covariance is:  [nan nan nan nan nan nan nan nan nan nan nan nan nan nan nan nan nan nan\n",
            " nan nan nan nan nan nan nan nan nan nan nan nan nan nan nan nan nan nan\n",
            " nan nan nan nan nan nan nan nan nan nan nan nan nan nan nan nan nan nan\n",
            " nan nan nan nan nan nan nan nan nan nan nan nan]\n",
            "\n",
            "\n",
            "\n",
            "\n",
            "The prior variance is:  nan\n",
            "The prior lenth scale is:  nan\n",
            "The noise is:  nan\n",
            "The inducing points are:  [nan nan nan nan nan nan nan nan nan nan nan]\n",
            "The parameterised mean of the inducing variables is:  [nan nan nan nan nan nan nan nan nan nan nan]\n",
            "The lower triangle values for the inducing variables covariance is:  [nan nan nan nan nan nan nan nan nan nan nan nan nan nan nan nan nan nan\n",
            " nan nan nan nan nan nan nan nan nan nan nan nan nan nan nan nan nan nan\n",
            " nan nan nan nan nan nan nan nan nan nan nan nan nan nan nan nan nan nan\n",
            " nan nan nan nan nan nan nan nan nan nan nan nan]\n",
            "\n",
            "\n",
            "\n",
            "\n",
            "The prior variance is:  nan\n",
            "The prior lenth scale is:  nan\n",
            "The noise is:  nan\n",
            "The inducing points are:  [nan nan nan nan nan nan nan nan nan nan nan]\n",
            "The parameterised mean of the inducing variables is:  [nan nan nan nan nan nan nan nan nan nan nan]\n",
            "The lower triangle values for the inducing variables covariance is:  [nan nan nan nan nan nan nan nan nan nan nan nan nan nan nan nan nan nan\n",
            " nan nan nan nan nan nan nan nan nan nan nan nan nan nan nan nan nan nan\n",
            " nan nan nan nan nan nan nan nan nan nan nan nan nan nan nan nan nan nan\n",
            " nan nan nan nan nan nan nan nan nan nan nan nan]\n",
            "\n",
            "\n",
            "\n",
            "\n",
            "The prior variance is:  nan\n",
            "The prior lenth scale is:  nan\n",
            "The noise is:  nan\n",
            "The inducing points are:  [nan nan nan nan nan nan nan nan nan nan nan]\n",
            "The parameterised mean of the inducing variables is:  [nan nan nan nan nan nan nan nan nan nan nan]\n",
            "The lower triangle values for the inducing variables covariance is:  [nan nan nan nan nan nan nan nan nan nan nan nan nan nan nan nan nan nan\n",
            " nan nan nan nan nan nan nan nan nan nan nan nan nan nan nan nan nan nan\n",
            " nan nan nan nan nan nan nan nan nan nan nan nan nan nan nan nan nan nan\n",
            " nan nan nan nan nan nan nan nan nan nan nan nan]\n",
            "\n",
            "\n",
            "\n",
            "\n",
            "The prior variance is:  nan\n",
            "The prior lenth scale is:  nan\n",
            "The noise is:  nan\n",
            "The inducing points are:  [nan nan nan nan nan nan nan nan nan nan nan]\n",
            "The parameterised mean of the inducing variables is:  [nan nan nan nan nan nan nan nan nan nan nan]\n",
            "The lower triangle values for the inducing variables covariance is:  [nan nan nan nan nan nan nan nan nan nan nan nan nan nan nan nan nan nan\n",
            " nan nan nan nan nan nan nan nan nan nan nan nan nan nan nan nan nan nan\n",
            " nan nan nan nan nan nan nan nan nan nan nan nan nan nan nan nan nan nan\n",
            " nan nan nan nan nan nan nan nan nan nan nan nan]\n",
            "\n",
            "\n",
            "\n",
            "\n",
            "The prior variance is:  nan\n",
            "The prior lenth scale is:  nan\n",
            "The noise is:  nan\n",
            "The inducing points are:  [nan nan nan nan nan nan nan nan nan nan nan]\n",
            "The parameterised mean of the inducing variables is:  [nan nan nan nan nan nan nan nan nan nan nan]\n",
            "The lower triangle values for the inducing variables covariance is:  [nan nan nan nan nan nan nan nan nan nan nan nan nan nan nan nan nan nan\n",
            " nan nan nan nan nan nan nan nan nan nan nan nan nan nan nan nan nan nan\n",
            " nan nan nan nan nan nan nan nan nan nan nan nan nan nan nan nan nan nan\n",
            " nan nan nan nan nan nan nan nan nan nan nan nan]\n",
            "\n",
            "\n",
            "\n",
            "\n",
            "The prior variance is:  nan\n",
            "The prior lenth scale is:  nan\n",
            "The noise is:  nan\n",
            "The inducing points are:  [nan nan nan nan nan nan nan nan nan nan nan]\n",
            "The parameterised mean of the inducing variables is:  [nan nan nan nan nan nan nan nan nan nan nan]\n",
            "The lower triangle values for the inducing variables covariance is:  [nan nan nan nan nan nan nan nan nan nan nan nan nan nan nan nan nan nan\n",
            " nan nan nan nan nan nan nan nan nan nan nan nan nan nan nan nan nan nan\n",
            " nan nan nan nan nan nan nan nan nan nan nan nan nan nan nan nan nan nan\n",
            " nan nan nan nan nan nan nan nan nan nan nan nan]\n",
            "\n",
            "\n",
            "\n",
            "\n",
            "The prior variance is:  nan\n",
            "The prior lenth scale is:  nan\n",
            "The noise is:  nan\n",
            "The inducing points are:  [nan nan nan nan nan nan nan nan nan nan nan]\n",
            "The parameterised mean of the inducing variables is:  [nan nan nan nan nan nan nan nan nan nan nan]\n",
            "The lower triangle values for the inducing variables covariance is:  [nan nan nan nan nan nan nan nan nan nan nan nan nan nan nan nan nan nan\n",
            " nan nan nan nan nan nan nan nan nan nan nan nan nan nan nan nan nan nan\n",
            " nan nan nan nan nan nan nan nan nan nan nan nan nan nan nan nan nan nan\n",
            " nan nan nan nan nan nan nan nan nan nan nan nan]\n",
            "\n",
            "\n",
            "\n",
            "\n",
            "The prior variance is:  nan\n",
            "The prior lenth scale is:  nan\n",
            "The noise is:  nan\n",
            "The inducing points are:  [nan nan nan nan nan nan nan nan nan nan nan]\n",
            "The parameterised mean of the inducing variables is:  [nan nan nan nan nan nan nan nan nan nan nan]\n",
            "The lower triangle values for the inducing variables covariance is:  [nan nan nan nan nan nan nan nan nan nan nan nan nan nan nan nan nan nan\n",
            " nan nan nan nan nan nan nan nan nan nan nan nan nan nan nan nan nan nan\n",
            " nan nan nan nan nan nan nan nan nan nan nan nan nan nan nan nan nan nan\n",
            " nan nan nan nan nan nan nan nan nan nan nan nan]\n",
            "\n",
            "\n",
            "\n",
            "\n",
            "The prior variance is:  nan\n",
            "The prior lenth scale is:  nan\n",
            "The noise is:  nan\n",
            "The inducing points are:  [nan nan nan nan nan nan nan nan nan nan nan]\n",
            "The parameterised mean of the inducing variables is:  [nan nan nan nan nan nan nan nan nan nan nan]\n",
            "The lower triangle values for the inducing variables covariance is:  [nan nan nan nan nan nan nan nan nan nan nan nan nan nan nan nan nan nan\n",
            " nan nan nan nan nan nan nan nan nan nan nan nan nan nan nan nan nan nan\n",
            " nan nan nan nan nan nan nan nan nan nan nan nan nan nan nan nan nan nan\n",
            " nan nan nan nan nan nan nan nan nan nan nan nan]\n",
            "\n",
            "\n",
            "\n",
            "\n",
            "The prior variance is:  nan\n",
            "The prior lenth scale is:  nan\n",
            "The noise is:  nan\n",
            "The inducing points are:  [nan nan nan nan nan nan nan nan nan nan nan]\n",
            "The parameterised mean of the inducing variables is:  [nan nan nan nan nan nan nan nan nan nan nan]\n",
            "The lower triangle values for the inducing variables covariance is:  [nan nan nan nan nan nan nan nan nan nan nan nan nan nan nan nan nan nan\n",
            " nan nan nan nan nan nan nan nan nan nan nan nan nan nan nan nan nan nan\n",
            " nan nan nan nan nan nan nan nan nan nan nan nan nan nan nan nan nan nan\n",
            " nan nan nan nan nan nan nan nan nan nan nan nan]\n",
            "\n",
            "\n",
            "\n",
            "\n"
          ]
        }
      ]
    },
    {
      "cell_type": "code",
      "source": [
        "test_params_final = opt_getvals(test_state)"
      ],
      "metadata": {
        "id": "0fn_A9xuBRrP"
      },
      "execution_count": null,
      "outputs": []
    },
    {
      "cell_type": "code",
      "source": [
        "print(test_failed[2:8])"
      ],
      "metadata": {
        "colab": {
          "base_uri": "https://localhost:8080/"
        },
        "id": "hdUgATqV3_Co",
        "outputId": "cbe9f958-aca5-40ce-ad02-28db8bb2bc9e"
      },
      "execution_count": 78,
      "outputs": [
        {
          "output_type": "stream",
          "name": "stdout",
          "text": [
            "(DeviceArray(1.49121452, dtype=float64), DeviceArray(0.01257449, dtype=float64), DeviceArray(0.08785124, dtype=float64), DeviceArray([-3.27807572e-07,  4.91546211e-03,  3.84826566e-02,\n",
            "              2.41433695e-02,  5.44058067e-02,  5.16657577e-02,\n",
            "              5.30790447e-02,  6.82305698e-02,  7.14750699e-02,\n",
            "              8.70345585e-02,  8.40615949e-02], dtype=float64), DeviceArray([ 0.05144119, -0.04579693,  0.03459636,  0.05315534,\n",
            "              0.03589148,  0.01649649, -0.02958559,  0.21401895,\n",
            "             -0.07313425,  0.03854997, -0.04656974], dtype=float64), DeviceArray([ 1.14016723,  0.09854701,  1.09488531, -0.01042175,\n",
            "              0.13603184,  0.86568147,  0.09462739, -0.20874647,\n",
            "              0.09052134,  0.93434206, -0.03545662, -0.21462839,\n",
            "             -0.06962416, -0.063299  ,  0.98001114,  0.06408586,\n",
            "              0.04214317, -0.07698288, -0.08157906,  0.04385831,\n",
            "              0.99458178, -0.07812606,  0.12648146,  0.03477533,\n",
            "              0.10353634,  0.12197251, -0.03280818,  0.94940877,\n",
            "             -0.16685742, -0.10475365, -0.08235662, -0.14845679,\n",
            "              0.09226201, -0.23415349, -0.12737302,  1.08783482,\n",
            "              0.07602532, -0.14363589, -0.00756396,  0.05564134,\n",
            "             -0.07647619, -0.02314939,  0.03685393,  0.15243533,\n",
            "              0.97671309, -0.03637938, -0.15398172, -0.14055738,\n",
            "              0.16709847, -0.15443697,  0.04706921, -0.00819862,\n",
            "             -0.09694991,  0.09966926,  1.13310662,  0.03014955,\n",
            "             -0.13576427,  0.24003193, -0.05971997, -0.01052315,\n",
            "              0.08543891,  0.07558679, -0.00893235,  0.06010246,\n",
            "              0.10676985,  1.06639719], dtype=float64))\n"
          ]
        }
      ]
    },
    {
      "cell_type": "code",
      "source": [
        "print(np.linalg.cholesky(Build_L(test_failed[7])))"
      ],
      "metadata": {
        "colab": {
          "base_uri": "https://localhost:8080/"
        },
        "id": "6pTrAKXwaSw3",
        "outputId": "2fa7d924-e5ae-4617-c55f-afa372fa27ad"
      },
      "execution_count": 80,
      "outputs": [
        {
          "output_type": "stream",
          "name": "stdout",
          "text": [
            "[[ 1.06778613  0.          0.          0.          0.          0.\n",
            "   0.          0.          0.          0.          0.        ]\n",
            " [ 0.09229096  1.04228964  0.          0.          0.          0.\n",
            "   0.          0.          0.          0.          0.        ]\n",
            " [-0.00976014  0.13137673  0.92104634  0.          0.          0.\n",
            "   0.          0.          0.          0.          0.        ]\n",
            " [ 0.08862017 -0.20812383  0.12890656  0.93088995  0.          0.\n",
            "   0.          0.          0.          0.          0.        ]\n",
            " [-0.03320573 -0.20297986 -0.04699158 -0.10371121  0.96163583  0.\n",
            "   0.          0.          0.          0.          0.        ]\n",
            " [ 0.06001751  0.03511893 -0.08795531 -0.07331771  0.04288801  0.98731724\n",
            "   0.          0.          0.          0.          0.        ]\n",
            " [-0.07316639  0.12782824  0.01874776  0.14417144  0.16775863 -0.02823981\n",
            "   0.93682339  0.          0.          0.          0.        ]\n",
            " [-0.15626483 -0.08666671 -0.07871026 -0.15307902  0.05189781 -0.24521339\n",
            "  -0.12789361  0.97318896  0.          0.          0.        ]\n",
            " [ 0.07119901 -0.14411245  0.01309812  0.01896036 -0.10480267 -0.0155214\n",
            "   0.07968319  0.17142489  0.95046511  0.          0.        ]\n",
            " [-0.03406991 -0.14471733 -0.13232496  0.16871616 -0.18059164  0.06347781\n",
            "   0.01927014 -0.07398562  0.07678344  1.00828768  0.        ]\n",
            " [ 0.02823557 -0.13275596  0.2798432  -0.13527433 -0.03890406  0.10611658\n",
            "   0.1263868   0.03031018  0.02121357  0.13169786  0.9507384 ]]\n"
          ]
        }
      ]
    },
    {
      "cell_type": "code",
      "source": [
        "#@partial(jit, static_argnums = (0,1))\n",
        "def Exp_Loglikely3(Number_f, M, Sigma_f, Ell_f, Sigma_n, Z_M, V_M, L_MM, \n",
        "                  K_NN, Timex, Testx, Timey, Testy):\n",
        "  \n",
        "  Subkey = random.PRNGKey(10)\n",
        "  \n",
        "  # Get vector of filter times\n",
        "  Dt = Timex[1]\n",
        "  T = jnp.shape(Testx)[0] - 1\n",
        "  N = jnp.shape(Testy)[0] - T - 1\n",
        "\n",
        "  F_times = jnp.linspace(0.0, Timey[-1]-Timex[-1], N + 1)\n",
        "\n",
        "  # Get the relevant matrices\n",
        "  K_MN = Vec_SE(Z_M, F_times, Sigma_f, Ell_f)\n",
        "  K_MM = Vec_SE(Z_M, Z_M, Sigma_f, Ell_f)\n",
        "  C_MM = jnp.linalg.cholesky(K_MM + 1e-6*jnp.eye(M)) \n",
        "  B = jsc.linalg.solve_triangular(C_MM, K_MN, lower = True)\n",
        "\n",
        "  # Build the mean vector and covariance matrix of q(f)\n",
        "  Mu_q = V_M @ B\n",
        "  V_q = K_NN + B.T @ (L_MM @ L_MM.T - jnp.eye(M)) @ B\n",
        "\n",
        "  # Get the samples of f\n",
        "  Sampled_fs = random.multivariate_normal(Subkey, Mu_q, V_q + 1e-6*jnp.eye(N + 1),\n",
        "                                          shape = (Number_f,))\n",
        "\n",
        "  # Get the mean log-likelihood with each of these fs\n",
        "  Likelihoods = Vec_Loglikely(Sigma_n, Sampled_fs, Testx, Testy)\n",
        "\n",
        "  return V_q, jnp.mean(Likelihoods)\n"
      ],
      "metadata": {
        "id": "n3rZHB38SsYF"
      },
      "execution_count": 2,
      "outputs": []
    },
    {
      "cell_type": "code",
      "source": [
        "#@partial(jit, static_argnums = ((0,1)))\n",
        "def ELBO3(Number_f, M, Sigma_f, Ell_f, Sigma_n, Z_M, V_M, L_Array, K_NN, \n",
        "         Timex, Testx, Timey, Testy):\n",
        "  \n",
        "  Number_f = np.asarray(Number_f, dtype = jnp.integer)\n",
        "  M = np.asarray(M, dtype = jnp.integer)\n",
        "  #Z_M = jnp.sqrt(jnp.square(Z_M))\n",
        "  \n",
        "  L_MM = jnp.zeros((M, M))\n",
        "\n",
        "  L_MM = L_MM.at[jnp.tril_indices(M)].set(L_Array)\n",
        "\n",
        "  Expected_Like = Exp_Loglikely2(Number_f, M, Sigma_f, Ell_f, Sigma_n, \n",
        "                                Z_M, V_M, L_MM, K_NN, Timex, Testx, Timey, Testy)\n",
        "  \n",
        "  KL_Divergence = Kl_Div(V_M, L_MM)\n",
        "\n",
        "  print(KL_Divergence - Expected_Like[1])\n",
        "\n",
        "  return Expected_Like# KL_Divergence - "
      ],
      "metadata": {
        "id": "hiySSQS7R43A"
      },
      "execution_count": 3,
      "outputs": []
    },
    {
      "cell_type": "code",
      "source": [
        "print(Exp_Loglikely3(test_number_f, test_m, *test_failed[2:8], test_k_nn, timex, testx, timey, testy)[0]) #+ 1e-1*np.eye(np.shape(test_k_nn)[0])))"
      ],
      "metadata": {
        "colab": {
          "base_uri": "https://localhost:8080/",
          "height": 165
        },
        "id": "2pQleWnnhgoh",
        "outputId": "3b2dcaa0-cb8a-4166-eb1d-502e8f7efd96"
      },
      "execution_count": 4,
      "outputs": [
        {
          "output_type": "error",
          "ename": "NameError",
          "evalue": "ignored",
          "traceback": [
            "\u001b[0;31m---------------------------------------------------------------------------\u001b[0m",
            "\u001b[0;31mNameError\u001b[0m                                 Traceback (most recent call last)",
            "\u001b[0;32m<ipython-input-4-bc9fa83d25ee>\u001b[0m in \u001b[0;36m<module>\u001b[0;34m()\u001b[0m\n\u001b[0;32m----> 1\u001b[0;31m \u001b[0mprint\u001b[0m\u001b[0;34m(\u001b[0m\u001b[0mExp_Loglikely3\u001b[0m\u001b[0;34m(\u001b[0m\u001b[0mtest_number_f\u001b[0m\u001b[0;34m,\u001b[0m \u001b[0mtest_m\u001b[0m\u001b[0;34m,\u001b[0m \u001b[0;34m*\u001b[0m\u001b[0mtest_failed\u001b[0m\u001b[0;34m[\u001b[0m\u001b[0;36m2\u001b[0m\u001b[0;34m:\u001b[0m\u001b[0;36m8\u001b[0m\u001b[0;34m]\u001b[0m\u001b[0;34m,\u001b[0m \u001b[0mtest_k_nn\u001b[0m\u001b[0;34m,\u001b[0m \u001b[0mtimex\u001b[0m\u001b[0;34m,\u001b[0m \u001b[0mtestx\u001b[0m\u001b[0;34m,\u001b[0m \u001b[0mtimey\u001b[0m\u001b[0;34m,\u001b[0m \u001b[0mtesty\u001b[0m\u001b[0;34m)\u001b[0m\u001b[0;34m[\u001b[0m\u001b[0;36m0\u001b[0m\u001b[0;34m]\u001b[0m\u001b[0;34m)\u001b[0m \u001b[0;31m#+ 1e-1*np.eye(np.shape(test_k_nn)[0])))\u001b[0m\u001b[0;34m\u001b[0m\u001b[0;34m\u001b[0m\u001b[0m\n\u001b[0m",
            "\u001b[0;31mNameError\u001b[0m: name 'test_number_f' is not defined"
          ]
        }
      ]
    },
    {
      "cell_type": "code",
      "source": [
        "test_gradient_func(test_number_f, test_m, *test_failed[2:8], test_k_nn, timex, testx, timey, testy)"
      ],
      "metadata": {
        "colab": {
          "base_uri": "https://localhost:8080/"
        },
        "id": "nnn3kFuOWQcM",
        "outputId": "15a63287-e9e6-4f89-cf98-a562a749ec9b"
      },
      "execution_count": null,
      "outputs": [
        {
          "output_type": "execute_result",
          "data": {
            "text/plain": [
              "(DeviceArray(nan, dtype=float64),\n",
              " DeviceArray(nan, dtype=float64),\n",
              " DeviceArray(nan, dtype=float64),\n",
              " DeviceArray([nan, nan, nan, nan, nan, nan, nan, nan, nan, nan, nan], dtype=float64),\n",
              " DeviceArray([nan, nan, nan, nan, nan, nan, nan, nan, nan, nan, nan], dtype=float64),\n",
              " DeviceArray([nan, nan, nan, nan, nan, nan, nan, nan, nan, nan, nan, nan,\n",
              "              nan, nan, nan, nan, nan, nan, nan, nan, nan, nan, nan, nan,\n",
              "              nan, nan, nan, nan, nan, nan, nan, nan, nan, nan, nan, nan,\n",
              "              nan, nan, nan, nan, nan, nan, nan, nan, nan, nan, nan, nan,\n",
              "              nan, nan, nan, nan, nan, nan, nan, nan, nan, nan, nan, nan,\n",
              "              nan, nan, nan, nan, nan, nan], dtype=float64))"
            ]
          },
          "metadata": {},
          "execution_count": 79
        }
      ]
    },
    {
      "cell_type": "code",
      "source": [
        "test_arr = [ELBO2(i, test_m, *fail_params, test_k_nn, timex, testx, timey, testy) for i in jnp.linspace(100, 200000, 200)]"
      ],
      "metadata": {
        "id": "0pdsz-aDZoMW"
      },
      "execution_count": null,
      "outputs": []
    },
    {
      "cell_type": "code",
      "source": [
        "plt.plot(jnp.linspace(100, 200000, 200), test_arr)"
      ],
      "metadata": {
        "id": "YqRgywZsZ_MR"
      },
      "execution_count": null,
      "outputs": []
    },
    {
      "cell_type": "markdown",
      "source": [
        "##### Test Jax SGD"
      ],
      "metadata": {
        "id": "AzzyahknB4ez"
      }
    },
    {
      "cell_type": "code",
      "source": [
        "test_number_f = 30000\n",
        "test_m = 11\n",
        "test_key = random.PRNGKey(10)\n",
        "_, *test_keys = random.split(random.PRNGKey(1), 3)\n",
        "test_sigma_f = 1.5\n",
        "test_ell_f = 0.015\n",
        "test_sigma_n = 0.075\n",
        "test_z_m = jnp.linspace(0.01, timef[-1]-0.01, int(test_m))\n",
        "test_k_mm = Vec_SE(test_z_m, test_z_m, test_sigma_f, test_ell_f)\n",
        "test_c = jnp.linalg.cholesky(test_k_mm)\n",
        "#test_v_m = jsc.linalg.solve_triangular(test_c, truef[0::2], lower = True)\n",
        "#test_v_m = jnp.exp(-75*test_z_m)\n",
        "test_v_m = 0.1*random.normal(test_keys[0], shape = jnp.shape(test_z_m))\n",
        "test_l_array = jnp.eye(int(test_m)).at[jnp.tril_indices(int(test_m))].get() + \\\n",
        "                0.1*random.normal(test_keys[1], shape = (int(test_m*(test_m+1)/2),))\n",
        "test_k_nn = Vec_SE(timef, timef, test_sigma_f, test_ell_f)\n",
        "test_parameters = (test_sigma_f, test_ell_f, test_sigma_n, test_z_m, test_v_m,\n",
        "                   test_l_array)\n",
        "test_allparameters = (test_number_f, test_m, test_sigma_f, test_ell_f,\n",
        "                      test_sigma_n, test_z_m, test_v_m, test_l_array, test_k_nn,\n",
        "                      timex, testx, timey, testy)\n",
        "test_gradient_func = jit(grad(ELBO, argnums = (2,3,4,5,6,7)),\n",
        "                         static_argnums = ((0,1)))\n",
        "test_keyzero = jnp.zeros(jnp.shape(test_key))\n",
        "test_knnzero = jnp.zeros(jnp.shape(test_k_nn))\n",
        "test_timexzero = jnp.zeros(jnp.shape(timex))\n",
        "test_testxzero = jnp.zeros(jnp.shape(testx))\n",
        "test_timeyzero = jnp.zeros(jnp.shape(timey))\n",
        "test_testyzero = jnp.zeros(jnp.shape(testy))"
      ],
      "metadata": {
        "id": "SIr5bb5VCCuC"
      },
      "execution_count": null,
      "outputs": []
    },
    {
      "cell_type": "code",
      "source": [
        "test_gradient_func = jit(grad(ELBO2, argnums = (2,3,4,5,6,7)),\n",
        "                         static_argnums = ((0,1)))"
      ],
      "metadata": {
        "id": "2YXFdNeaFu4m"
      },
      "execution_count": null,
      "outputs": []
    },
    {
      "cell_type": "code",
      "source": [
        "test_opt = jeo.sgd(1e-5)\n",
        "opt_init = test_opt[0]\n",
        "opt_update = test_opt[1]\n",
        "opt_getvals = test_opt[2]\n",
        "test_state = opt_init(test_allparameters)\n",
        "test_params_less1 = opt_getvals(test_state)"
      ],
      "metadata": {
        "id": "8GXfIaeACFOr"
      },
      "execution_count": null,
      "outputs": []
    },
    {
      "cell_type": "code",
      "source": [
        "for i in range(1, 100):\n",
        "  test_params = opt_getvals(test_state)\n",
        "\n",
        "  # Error catching\n",
        "  if jnp.isnan(jax.flatten_util.ravel_pytree(test_params)[0]).any():\n",
        "    test_failed = test_params_less1\n",
        "  else:\n",
        "    test_params_less1 = test_params\n",
        "\n",
        "  Parameters_updated = [*test_params[2:8]]\n",
        "\n",
        "  # Print grad()'d parameters\n",
        "  print(f\"The prior variance is:  {Parameters_updated[0]:.2f}\")\n",
        "  print(f\"The prior lenth scale is:  {Parameters_updated[1]:.2f}\")\n",
        "  print(f\"The noise is:  {Parameters_updated[2]:.2f}\")\n",
        "  print(f\"The inducing points are:  {Parameters_updated[3]}\")\n",
        "  print(f\"The parameterised mean of the inducing variables is:  {Parameters_updated[4]}\")\n",
        "  print(f\"The lower triangle values for the inducing variables covariance is:  {Parameters_updated[5]}\")\n",
        "  print(\"\\n\\n\\n\")\n",
        "\n",
        "  test_params = (test_number_f, test_m, *test_params[2:8], test_k_nn, \n",
        "                 timex, testx, timey, testy)\n",
        "  test_g = test_gradient_func(*test_params)\n",
        "  test_g = (0.0, 0.0,*test_g, test_knnzero, test_timexzero, test_testxzero, \n",
        "            test_timeyzero, test_testyzero)\n",
        "  \n",
        "  test_state = opt_update(i, test_g, test_state)"
      ],
      "metadata": {
        "colab": {
          "base_uri": "https://localhost:8080/"
        },
        "id": "WAPlYrZTCL5T",
        "outputId": "c88c2114-e972-4ec1-ebdd-e819f9163561"
      },
      "execution_count": null,
      "outputs": [
        {
          "output_type": "stream",
          "name": "stdout",
          "text": [
            "The prior variance is:  1.50\n",
            "The prior lenth scale is:  0.01\n",
            "The noise is:  0.07\n",
            "The inducing points are:  [0.01  0.018 0.026 0.034 0.042 0.05  0.058 0.066 0.074 0.082 0.09 ]\n",
            "The parameterised mean of the inducing variables is:  [ 0.03848595 -0.05932952  0.02131647  0.04566236  0.02414246  0.02594163\n",
            " -0.02279581  0.22712179 -0.06215035  0.05152061 -0.05092959]\n",
            "The lower triangle values for the inducing variables covariance is:  [ 1.15280954  0.11149213  1.10804446  0.00260648  0.14944138  0.87918828\n",
            "  0.10059591 -0.20459794  0.09614703  0.94667285 -0.02255622 -0.20131479\n",
            " -0.05629271 -0.06030353  0.99340864  0.07639715  0.05501165 -0.06453013\n",
            " -0.07816741  0.05648645  1.00749337 -0.06988712  0.13427207  0.04378227\n",
            "  0.11337244  0.13069363 -0.02498881  0.96145369 -0.15407672 -0.09146538\n",
            " -0.06912443 -0.14502461  0.10556238 -0.22194533 -0.12008149  1.10100602\n",
            "  0.08684733 -0.13273989  0.00398881  0.06242874 -0.06509256 -0.01311262\n",
            "  0.04638682  0.16396883  0.98895308 -0.02354126 -0.14059896 -0.12738414\n",
            "  0.1710771  -0.1410099   0.0590918  -0.00125864 -0.0836597   0.11125602\n",
            "  1.14628701  0.03604261 -0.13258273  0.24589987 -0.04939353 -0.00529643\n",
            "  0.09169644  0.08496241 -0.00357031  0.06644367  0.11113222  1.07700978]\n",
            "\n",
            "\n",
            "\n",
            "\n",
            "The prior variance is:  1.29\n",
            "The prior lenth scale is:  4.22\n",
            "The noise is:  45.53\n",
            "The inducing points are:  [-1.81257844 -1.58293952  0.84445399 -0.87068774  0.59147115  1.10112711\n",
            " -0.74348623  3.08866285  0.0510259   1.40526658 -0.13806543]\n",
            "The parameterised mean of the inducing variables is:  [ 0.29187562  0.00742752  0.11307746  0.07189623  0.06441224  0.02751957\n",
            " -0.03995372  0.1700739  -0.09876619  0.03792506 -0.04213087]\n",
            "The lower triangle values for the inducing variables covariance is:  [ 0.34214758 -0.25369403  0.84893041 -0.43016807 -0.03650145  0.6038716\n",
            " -0.22629684 -0.32344176 -0.11865321  0.72107288 -0.40291601 -0.29608743\n",
            " -0.25169181 -0.26552371  0.70886986 -0.25144805 -0.05222425 -0.21618468\n",
            " -0.24059915 -0.19799443  0.81291039 -0.41462021  0.01719672 -0.11571851\n",
            " -0.03683473 -0.10343209 -0.20040806  0.73893694 -0.44322302 -0.19982619\n",
            " -0.21315325 -0.28518795 -0.07148333 -0.35083169 -0.31026995  0.84714816\n",
            " -0.17564744 -0.21385523 -0.13431059 -0.07336061 -0.21400781 -0.11481267\n",
            " -0.10634476 -0.05921054  0.7888556  -0.19170958 -0.18793864 -0.22160437\n",
            "  0.07445226 -0.23162852 -0.00661273 -0.09267669 -0.22253182 -0.03217708\n",
            "  1.01955329 -0.05711272 -0.15161642  0.19325669 -0.10078668 -0.05567422\n",
            "  0.0542472   0.03940756 -0.06774149 -0.00767324  0.03912894  1.03577619]\n",
            "\n",
            "\n",
            "\n",
            "\n",
            "The prior variance is:  nan\n",
            "The prior lenth scale is:  nan\n",
            "The noise is:  nan\n",
            "The inducing points are:  [nan nan nan nan nan nan nan nan nan nan nan]\n",
            "The parameterised mean of the inducing variables is:  [nan nan nan nan nan nan nan nan nan nan nan]\n",
            "The lower triangle values for the inducing variables covariance is:  [nan nan nan nan nan nan nan nan nan nan nan nan nan nan nan nan nan nan\n",
            " nan nan nan nan nan nan nan nan nan nan nan nan nan nan nan nan nan nan\n",
            " nan nan nan nan nan nan nan nan nan nan nan nan nan nan nan nan nan nan\n",
            " nan nan nan nan nan nan nan nan nan nan nan nan]\n",
            "\n",
            "\n",
            "\n",
            "\n",
            "The prior variance is:  nan\n",
            "The prior lenth scale is:  nan\n",
            "The noise is:  nan\n",
            "The inducing points are:  [nan nan nan nan nan nan nan nan nan nan nan]\n",
            "The parameterised mean of the inducing variables is:  [nan nan nan nan nan nan nan nan nan nan nan]\n",
            "The lower triangle values for the inducing variables covariance is:  [nan nan nan nan nan nan nan nan nan nan nan nan nan nan nan nan nan nan\n",
            " nan nan nan nan nan nan nan nan nan nan nan nan nan nan nan nan nan nan\n",
            " nan nan nan nan nan nan nan nan nan nan nan nan nan nan nan nan nan nan\n",
            " nan nan nan nan nan nan nan nan nan nan nan nan]\n",
            "\n",
            "\n",
            "\n",
            "\n",
            "The prior variance is:  nan\n",
            "The prior lenth scale is:  nan\n",
            "The noise is:  nan\n",
            "The inducing points are:  [nan nan nan nan nan nan nan nan nan nan nan]\n",
            "The parameterised mean of the inducing variables is:  [nan nan nan nan nan nan nan nan nan nan nan]\n",
            "The lower triangle values for the inducing variables covariance is:  [nan nan nan nan nan nan nan nan nan nan nan nan nan nan nan nan nan nan\n",
            " nan nan nan nan nan nan nan nan nan nan nan nan nan nan nan nan nan nan\n",
            " nan nan nan nan nan nan nan nan nan nan nan nan nan nan nan nan nan nan\n",
            " nan nan nan nan nan nan nan nan nan nan nan nan]\n",
            "\n",
            "\n",
            "\n",
            "\n",
            "The prior variance is:  nan\n",
            "The prior lenth scale is:  nan\n",
            "The noise is:  nan\n",
            "The inducing points are:  [nan nan nan nan nan nan nan nan nan nan nan]\n",
            "The parameterised mean of the inducing variables is:  [nan nan nan nan nan nan nan nan nan nan nan]\n",
            "The lower triangle values for the inducing variables covariance is:  [nan nan nan nan nan nan nan nan nan nan nan nan nan nan nan nan nan nan\n",
            " nan nan nan nan nan nan nan nan nan nan nan nan nan nan nan nan nan nan\n",
            " nan nan nan nan nan nan nan nan nan nan nan nan nan nan nan nan nan nan\n",
            " nan nan nan nan nan nan nan nan nan nan nan nan]\n",
            "\n",
            "\n",
            "\n",
            "\n",
            "The prior variance is:  nan\n",
            "The prior lenth scale is:  nan\n",
            "The noise is:  nan\n",
            "The inducing points are:  [nan nan nan nan nan nan nan nan nan nan nan]\n",
            "The parameterised mean of the inducing variables is:  [nan nan nan nan nan nan nan nan nan nan nan]\n",
            "The lower triangle values for the inducing variables covariance is:  [nan nan nan nan nan nan nan nan nan nan nan nan nan nan nan nan nan nan\n",
            " nan nan nan nan nan nan nan nan nan nan nan nan nan nan nan nan nan nan\n",
            " nan nan nan nan nan nan nan nan nan nan nan nan nan nan nan nan nan nan\n",
            " nan nan nan nan nan nan nan nan nan nan nan nan]\n",
            "\n",
            "\n",
            "\n",
            "\n",
            "The prior variance is:  nan\n",
            "The prior lenth scale is:  nan\n",
            "The noise is:  nan\n",
            "The inducing points are:  [nan nan nan nan nan nan nan nan nan nan nan]\n",
            "The parameterised mean of the inducing variables is:  [nan nan nan nan nan nan nan nan nan nan nan]\n",
            "The lower triangle values for the inducing variables covariance is:  [nan nan nan nan nan nan nan nan nan nan nan nan nan nan nan nan nan nan\n",
            " nan nan nan nan nan nan nan nan nan nan nan nan nan nan nan nan nan nan\n",
            " nan nan nan nan nan nan nan nan nan nan nan nan nan nan nan nan nan nan\n",
            " nan nan nan nan nan nan nan nan nan nan nan nan]\n",
            "\n",
            "\n",
            "\n",
            "\n",
            "The prior variance is:  nan\n",
            "The prior lenth scale is:  nan\n",
            "The noise is:  nan\n",
            "The inducing points are:  [nan nan nan nan nan nan nan nan nan nan nan]\n",
            "The parameterised mean of the inducing variables is:  [nan nan nan nan nan nan nan nan nan nan nan]\n",
            "The lower triangle values for the inducing variables covariance is:  [nan nan nan nan nan nan nan nan nan nan nan nan nan nan nan nan nan nan\n",
            " nan nan nan nan nan nan nan nan nan nan nan nan nan nan nan nan nan nan\n",
            " nan nan nan nan nan nan nan nan nan nan nan nan nan nan nan nan nan nan\n",
            " nan nan nan nan nan nan nan nan nan nan nan nan]\n",
            "\n",
            "\n",
            "\n",
            "\n",
            "The prior variance is:  nan\n",
            "The prior lenth scale is:  nan\n",
            "The noise is:  nan\n",
            "The inducing points are:  [nan nan nan nan nan nan nan nan nan nan nan]\n",
            "The parameterised mean of the inducing variables is:  [nan nan nan nan nan nan nan nan nan nan nan]\n",
            "The lower triangle values for the inducing variables covariance is:  [nan nan nan nan nan nan nan nan nan nan nan nan nan nan nan nan nan nan\n",
            " nan nan nan nan nan nan nan nan nan nan nan nan nan nan nan nan nan nan\n",
            " nan nan nan nan nan nan nan nan nan nan nan nan nan nan nan nan nan nan\n",
            " nan nan nan nan nan nan nan nan nan nan nan nan]\n",
            "\n",
            "\n",
            "\n",
            "\n",
            "The prior variance is:  nan\n",
            "The prior lenth scale is:  nan\n",
            "The noise is:  nan\n",
            "The inducing points are:  [nan nan nan nan nan nan nan nan nan nan nan]\n",
            "The parameterised mean of the inducing variables is:  [nan nan nan nan nan nan nan nan nan nan nan]\n",
            "The lower triangle values for the inducing variables covariance is:  [nan nan nan nan nan nan nan nan nan nan nan nan nan nan nan nan nan nan\n",
            " nan nan nan nan nan nan nan nan nan nan nan nan nan nan nan nan nan nan\n",
            " nan nan nan nan nan nan nan nan nan nan nan nan nan nan nan nan nan nan\n",
            " nan nan nan nan nan nan nan nan nan nan nan nan]\n",
            "\n",
            "\n",
            "\n",
            "\n",
            "The prior variance is:  nan\n",
            "The prior lenth scale is:  nan\n",
            "The noise is:  nan\n",
            "The inducing points are:  [nan nan nan nan nan nan nan nan nan nan nan]\n",
            "The parameterised mean of the inducing variables is:  [nan nan nan nan nan nan nan nan nan nan nan]\n",
            "The lower triangle values for the inducing variables covariance is:  [nan nan nan nan nan nan nan nan nan nan nan nan nan nan nan nan nan nan\n",
            " nan nan nan nan nan nan nan nan nan nan nan nan nan nan nan nan nan nan\n",
            " nan nan nan nan nan nan nan nan nan nan nan nan nan nan nan nan nan nan\n",
            " nan nan nan nan nan nan nan nan nan nan nan nan]\n",
            "\n",
            "\n",
            "\n",
            "\n",
            "The prior variance is:  nan\n",
            "The prior lenth scale is:  nan\n",
            "The noise is:  nan\n",
            "The inducing points are:  [nan nan nan nan nan nan nan nan nan nan nan]\n",
            "The parameterised mean of the inducing variables is:  [nan nan nan nan nan nan nan nan nan nan nan]\n",
            "The lower triangle values for the inducing variables covariance is:  [nan nan nan nan nan nan nan nan nan nan nan nan nan nan nan nan nan nan\n",
            " nan nan nan nan nan nan nan nan nan nan nan nan nan nan nan nan nan nan\n",
            " nan nan nan nan nan nan nan nan nan nan nan nan nan nan nan nan nan nan\n",
            " nan nan nan nan nan nan nan nan nan nan nan nan]\n",
            "\n",
            "\n",
            "\n",
            "\n",
            "The prior variance is:  nan\n",
            "The prior lenth scale is:  nan\n",
            "The noise is:  nan\n",
            "The inducing points are:  [nan nan nan nan nan nan nan nan nan nan nan]\n",
            "The parameterised mean of the inducing variables is:  [nan nan nan nan nan nan nan nan nan nan nan]\n",
            "The lower triangle values for the inducing variables covariance is:  [nan nan nan nan nan nan nan nan nan nan nan nan nan nan nan nan nan nan\n",
            " nan nan nan nan nan nan nan nan nan nan nan nan nan nan nan nan nan nan\n",
            " nan nan nan nan nan nan nan nan nan nan nan nan nan nan nan nan nan nan\n",
            " nan nan nan nan nan nan nan nan nan nan nan nan]\n",
            "\n",
            "\n",
            "\n",
            "\n",
            "The prior variance is:  nan\n",
            "The prior lenth scale is:  nan\n",
            "The noise is:  nan\n",
            "The inducing points are:  [nan nan nan nan nan nan nan nan nan nan nan]\n",
            "The parameterised mean of the inducing variables is:  [nan nan nan nan nan nan nan nan nan nan nan]\n",
            "The lower triangle values for the inducing variables covariance is:  [nan nan nan nan nan nan nan nan nan nan nan nan nan nan nan nan nan nan\n",
            " nan nan nan nan nan nan nan nan nan nan nan nan nan nan nan nan nan nan\n",
            " nan nan nan nan nan nan nan nan nan nan nan nan nan nan nan nan nan nan\n",
            " nan nan nan nan nan nan nan nan nan nan nan nan]\n",
            "\n",
            "\n",
            "\n",
            "\n",
            "The prior variance is:  nan\n",
            "The prior lenth scale is:  nan\n",
            "The noise is:  nan\n",
            "The inducing points are:  [nan nan nan nan nan nan nan nan nan nan nan]\n",
            "The parameterised mean of the inducing variables is:  [nan nan nan nan nan nan nan nan nan nan nan]\n",
            "The lower triangle values for the inducing variables covariance is:  [nan nan nan nan nan nan nan nan nan nan nan nan nan nan nan nan nan nan\n",
            " nan nan nan nan nan nan nan nan nan nan nan nan nan nan nan nan nan nan\n",
            " nan nan nan nan nan nan nan nan nan nan nan nan nan nan nan nan nan nan\n",
            " nan nan nan nan nan nan nan nan nan nan nan nan]\n",
            "\n",
            "\n",
            "\n",
            "\n",
            "The prior variance is:  nan\n",
            "The prior lenth scale is:  nan\n",
            "The noise is:  nan\n",
            "The inducing points are:  [nan nan nan nan nan nan nan nan nan nan nan]\n",
            "The parameterised mean of the inducing variables is:  [nan nan nan nan nan nan nan nan nan nan nan]\n",
            "The lower triangle values for the inducing variables covariance is:  [nan nan nan nan nan nan nan nan nan nan nan nan nan nan nan nan nan nan\n",
            " nan nan nan nan nan nan nan nan nan nan nan nan nan nan nan nan nan nan\n",
            " nan nan nan nan nan nan nan nan nan nan nan nan nan nan nan nan nan nan\n",
            " nan nan nan nan nan nan nan nan nan nan nan nan]\n",
            "\n",
            "\n",
            "\n",
            "\n",
            "The prior variance is:  nan\n",
            "The prior lenth scale is:  nan\n",
            "The noise is:  nan\n",
            "The inducing points are:  [nan nan nan nan nan nan nan nan nan nan nan]\n",
            "The parameterised mean of the inducing variables is:  [nan nan nan nan nan nan nan nan nan nan nan]\n",
            "The lower triangle values for the inducing variables covariance is:  [nan nan nan nan nan nan nan nan nan nan nan nan nan nan nan nan nan nan\n",
            " nan nan nan nan nan nan nan nan nan nan nan nan nan nan nan nan nan nan\n",
            " nan nan nan nan nan nan nan nan nan nan nan nan nan nan nan nan nan nan\n",
            " nan nan nan nan nan nan nan nan nan nan nan nan]\n",
            "\n",
            "\n",
            "\n",
            "\n",
            "The prior variance is:  nan\n",
            "The prior lenth scale is:  nan\n",
            "The noise is:  nan\n",
            "The inducing points are:  [nan nan nan nan nan nan nan nan nan nan nan]\n",
            "The parameterised mean of the inducing variables is:  [nan nan nan nan nan nan nan nan nan nan nan]\n",
            "The lower triangle values for the inducing variables covariance is:  [nan nan nan nan nan nan nan nan nan nan nan nan nan nan nan nan nan nan\n",
            " nan nan nan nan nan nan nan nan nan nan nan nan nan nan nan nan nan nan\n",
            " nan nan nan nan nan nan nan nan nan nan nan nan nan nan nan nan nan nan\n",
            " nan nan nan nan nan nan nan nan nan nan nan nan]\n",
            "\n",
            "\n",
            "\n",
            "\n",
            "The prior variance is:  nan\n",
            "The prior lenth scale is:  nan\n",
            "The noise is:  nan\n",
            "The inducing points are:  [nan nan nan nan nan nan nan nan nan nan nan]\n",
            "The parameterised mean of the inducing variables is:  [nan nan nan nan nan nan nan nan nan nan nan]\n",
            "The lower triangle values for the inducing variables covariance is:  [nan nan nan nan nan nan nan nan nan nan nan nan nan nan nan nan nan nan\n",
            " nan nan nan nan nan nan nan nan nan nan nan nan nan nan nan nan nan nan\n",
            " nan nan nan nan nan nan nan nan nan nan nan nan nan nan nan nan nan nan\n",
            " nan nan nan nan nan nan nan nan nan nan nan nan]\n",
            "\n",
            "\n",
            "\n",
            "\n",
            "The prior variance is:  nan\n",
            "The prior lenth scale is:  nan\n",
            "The noise is:  nan\n",
            "The inducing points are:  [nan nan nan nan nan nan nan nan nan nan nan]\n",
            "The parameterised mean of the inducing variables is:  [nan nan nan nan nan nan nan nan nan nan nan]\n",
            "The lower triangle values for the inducing variables covariance is:  [nan nan nan nan nan nan nan nan nan nan nan nan nan nan nan nan nan nan\n",
            " nan nan nan nan nan nan nan nan nan nan nan nan nan nan nan nan nan nan\n",
            " nan nan nan nan nan nan nan nan nan nan nan nan nan nan nan nan nan nan\n",
            " nan nan nan nan nan nan nan nan nan nan nan nan]\n",
            "\n",
            "\n",
            "\n",
            "\n",
            "The prior variance is:  nan\n",
            "The prior lenth scale is:  nan\n",
            "The noise is:  nan\n",
            "The inducing points are:  [nan nan nan nan nan nan nan nan nan nan nan]\n",
            "The parameterised mean of the inducing variables is:  [nan nan nan nan nan nan nan nan nan nan nan]\n",
            "The lower triangle values for the inducing variables covariance is:  [nan nan nan nan nan nan nan nan nan nan nan nan nan nan nan nan nan nan\n",
            " nan nan nan nan nan nan nan nan nan nan nan nan nan nan nan nan nan nan\n",
            " nan nan nan nan nan nan nan nan nan nan nan nan nan nan nan nan nan nan\n",
            " nan nan nan nan nan nan nan nan nan nan nan nan]\n",
            "\n",
            "\n",
            "\n",
            "\n",
            "The prior variance is:  nan\n",
            "The prior lenth scale is:  nan\n",
            "The noise is:  nan\n",
            "The inducing points are:  [nan nan nan nan nan nan nan nan nan nan nan]\n",
            "The parameterised mean of the inducing variables is:  [nan nan nan nan nan nan nan nan nan nan nan]\n",
            "The lower triangle values for the inducing variables covariance is:  [nan nan nan nan nan nan nan nan nan nan nan nan nan nan nan nan nan nan\n",
            " nan nan nan nan nan nan nan nan nan nan nan nan nan nan nan nan nan nan\n",
            " nan nan nan nan nan nan nan nan nan nan nan nan nan nan nan nan nan nan\n",
            " nan nan nan nan nan nan nan nan nan nan nan nan]\n",
            "\n",
            "\n",
            "\n",
            "\n",
            "The prior variance is:  nan\n",
            "The prior lenth scale is:  nan\n",
            "The noise is:  nan\n",
            "The inducing points are:  [nan nan nan nan nan nan nan nan nan nan nan]\n",
            "The parameterised mean of the inducing variables is:  [nan nan nan nan nan nan nan nan nan nan nan]\n",
            "The lower triangle values for the inducing variables covariance is:  [nan nan nan nan nan nan nan nan nan nan nan nan nan nan nan nan nan nan\n",
            " nan nan nan nan nan nan nan nan nan nan nan nan nan nan nan nan nan nan\n",
            " nan nan nan nan nan nan nan nan nan nan nan nan nan nan nan nan nan nan\n",
            " nan nan nan nan nan nan nan nan nan nan nan nan]\n",
            "\n",
            "\n",
            "\n",
            "\n",
            "The prior variance is:  nan\n",
            "The prior lenth scale is:  nan\n",
            "The noise is:  nan\n",
            "The inducing points are:  [nan nan nan nan nan nan nan nan nan nan nan]\n",
            "The parameterised mean of the inducing variables is:  [nan nan nan nan nan nan nan nan nan nan nan]\n",
            "The lower triangle values for the inducing variables covariance is:  [nan nan nan nan nan nan nan nan nan nan nan nan nan nan nan nan nan nan\n",
            " nan nan nan nan nan nan nan nan nan nan nan nan nan nan nan nan nan nan\n",
            " nan nan nan nan nan nan nan nan nan nan nan nan nan nan nan nan nan nan\n",
            " nan nan nan nan nan nan nan nan nan nan nan nan]\n",
            "\n",
            "\n",
            "\n",
            "\n",
            "The prior variance is:  nan\n",
            "The prior lenth scale is:  nan\n",
            "The noise is:  nan\n",
            "The inducing points are:  [nan nan nan nan nan nan nan nan nan nan nan]\n",
            "The parameterised mean of the inducing variables is:  [nan nan nan nan nan nan nan nan nan nan nan]\n",
            "The lower triangle values for the inducing variables covariance is:  [nan nan nan nan nan nan nan nan nan nan nan nan nan nan nan nan nan nan\n",
            " nan nan nan nan nan nan nan nan nan nan nan nan nan nan nan nan nan nan\n",
            " nan nan nan nan nan nan nan nan nan nan nan nan nan nan nan nan nan nan\n",
            " nan nan nan nan nan nan nan nan nan nan nan nan]\n",
            "\n",
            "\n",
            "\n",
            "\n",
            "The prior variance is:  nan\n",
            "The prior lenth scale is:  nan\n",
            "The noise is:  nan\n",
            "The inducing points are:  [nan nan nan nan nan nan nan nan nan nan nan]\n",
            "The parameterised mean of the inducing variables is:  [nan nan nan nan nan nan nan nan nan nan nan]\n",
            "The lower triangle values for the inducing variables covariance is:  [nan nan nan nan nan nan nan nan nan nan nan nan nan nan nan nan nan nan\n",
            " nan nan nan nan nan nan nan nan nan nan nan nan nan nan nan nan nan nan\n",
            " nan nan nan nan nan nan nan nan nan nan nan nan nan nan nan nan nan nan\n",
            " nan nan nan nan nan nan nan nan nan nan nan nan]\n",
            "\n",
            "\n",
            "\n",
            "\n",
            "The prior variance is:  nan\n",
            "The prior lenth scale is:  nan\n",
            "The noise is:  nan\n",
            "The inducing points are:  [nan nan nan nan nan nan nan nan nan nan nan]\n",
            "The parameterised mean of the inducing variables is:  [nan nan nan nan nan nan nan nan nan nan nan]\n",
            "The lower triangle values for the inducing variables covariance is:  [nan nan nan nan nan nan nan nan nan nan nan nan nan nan nan nan nan nan\n",
            " nan nan nan nan nan nan nan nan nan nan nan nan nan nan nan nan nan nan\n",
            " nan nan nan nan nan nan nan nan nan nan nan nan nan nan nan nan nan nan\n",
            " nan nan nan nan nan nan nan nan nan nan nan nan]\n",
            "\n",
            "\n",
            "\n",
            "\n",
            "The prior variance is:  nan\n",
            "The prior lenth scale is:  nan\n",
            "The noise is:  nan\n",
            "The inducing points are:  [nan nan nan nan nan nan nan nan nan nan nan]\n",
            "The parameterised mean of the inducing variables is:  [nan nan nan nan nan nan nan nan nan nan nan]\n",
            "The lower triangle values for the inducing variables covariance is:  [nan nan nan nan nan nan nan nan nan nan nan nan nan nan nan nan nan nan\n",
            " nan nan nan nan nan nan nan nan nan nan nan nan nan nan nan nan nan nan\n",
            " nan nan nan nan nan nan nan nan nan nan nan nan nan nan nan nan nan nan\n",
            " nan nan nan nan nan nan nan nan nan nan nan nan]\n",
            "\n",
            "\n",
            "\n",
            "\n",
            "The prior variance is:  nan\n",
            "The prior lenth scale is:  nan\n",
            "The noise is:  nan\n",
            "The inducing points are:  [nan nan nan nan nan nan nan nan nan nan nan]\n",
            "The parameterised mean of the inducing variables is:  [nan nan nan nan nan nan nan nan nan nan nan]\n",
            "The lower triangle values for the inducing variables covariance is:  [nan nan nan nan nan nan nan nan nan nan nan nan nan nan nan nan nan nan\n",
            " nan nan nan nan nan nan nan nan nan nan nan nan nan nan nan nan nan nan\n",
            " nan nan nan nan nan nan nan nan nan nan nan nan nan nan nan nan nan nan\n",
            " nan nan nan nan nan nan nan nan nan nan nan nan]\n",
            "\n",
            "\n",
            "\n",
            "\n",
            "The prior variance is:  nan\n",
            "The prior lenth scale is:  nan\n",
            "The noise is:  nan\n",
            "The inducing points are:  [nan nan nan nan nan nan nan nan nan nan nan]\n",
            "The parameterised mean of the inducing variables is:  [nan nan nan nan nan nan nan nan nan nan nan]\n",
            "The lower triangle values for the inducing variables covariance is:  [nan nan nan nan nan nan nan nan nan nan nan nan nan nan nan nan nan nan\n",
            " nan nan nan nan nan nan nan nan nan nan nan nan nan nan nan nan nan nan\n",
            " nan nan nan nan nan nan nan nan nan nan nan nan nan nan nan nan nan nan\n",
            " nan nan nan nan nan nan nan nan nan nan nan nan]\n",
            "\n",
            "\n",
            "\n",
            "\n",
            "The prior variance is:  nan\n",
            "The prior lenth scale is:  nan\n",
            "The noise is:  nan\n",
            "The inducing points are:  [nan nan nan nan nan nan nan nan nan nan nan]\n",
            "The parameterised mean of the inducing variables is:  [nan nan nan nan nan nan nan nan nan nan nan]\n",
            "The lower triangle values for the inducing variables covariance is:  [nan nan nan nan nan nan nan nan nan nan nan nan nan nan nan nan nan nan\n",
            " nan nan nan nan nan nan nan nan nan nan nan nan nan nan nan nan nan nan\n",
            " nan nan nan nan nan nan nan nan nan nan nan nan nan nan nan nan nan nan\n",
            " nan nan nan nan nan nan nan nan nan nan nan nan]\n",
            "\n",
            "\n",
            "\n",
            "\n",
            "The prior variance is:  nan\n",
            "The prior lenth scale is:  nan\n",
            "The noise is:  nan\n",
            "The inducing points are:  [nan nan nan nan nan nan nan nan nan nan nan]\n",
            "The parameterised mean of the inducing variables is:  [nan nan nan nan nan nan nan nan nan nan nan]\n",
            "The lower triangle values for the inducing variables covariance is:  [nan nan nan nan nan nan nan nan nan nan nan nan nan nan nan nan nan nan\n",
            " nan nan nan nan nan nan nan nan nan nan nan nan nan nan nan nan nan nan\n",
            " nan nan nan nan nan nan nan nan nan nan nan nan nan nan nan nan nan nan\n",
            " nan nan nan nan nan nan nan nan nan nan nan nan]\n",
            "\n",
            "\n",
            "\n",
            "\n",
            "The prior variance is:  nan\n",
            "The prior lenth scale is:  nan\n",
            "The noise is:  nan\n",
            "The inducing points are:  [nan nan nan nan nan nan nan nan nan nan nan]\n",
            "The parameterised mean of the inducing variables is:  [nan nan nan nan nan nan nan nan nan nan nan]\n",
            "The lower triangle values for the inducing variables covariance is:  [nan nan nan nan nan nan nan nan nan nan nan nan nan nan nan nan nan nan\n",
            " nan nan nan nan nan nan nan nan nan nan nan nan nan nan nan nan nan nan\n",
            " nan nan nan nan nan nan nan nan nan nan nan nan nan nan nan nan nan nan\n",
            " nan nan nan nan nan nan nan nan nan nan nan nan]\n",
            "\n",
            "\n",
            "\n",
            "\n",
            "The prior variance is:  nan\n",
            "The prior lenth scale is:  nan\n",
            "The noise is:  nan\n",
            "The inducing points are:  [nan nan nan nan nan nan nan nan nan nan nan]\n",
            "The parameterised mean of the inducing variables is:  [nan nan nan nan nan nan nan nan nan nan nan]\n",
            "The lower triangle values for the inducing variables covariance is:  [nan nan nan nan nan nan nan nan nan nan nan nan nan nan nan nan nan nan\n",
            " nan nan nan nan nan nan nan nan nan nan nan nan nan nan nan nan nan nan\n",
            " nan nan nan nan nan nan nan nan nan nan nan nan nan nan nan nan nan nan\n",
            " nan nan nan nan nan nan nan nan nan nan nan nan]\n",
            "\n",
            "\n",
            "\n",
            "\n",
            "The prior variance is:  nan\n",
            "The prior lenth scale is:  nan\n",
            "The noise is:  nan\n",
            "The inducing points are:  [nan nan nan nan nan nan nan nan nan nan nan]\n",
            "The parameterised mean of the inducing variables is:  [nan nan nan nan nan nan nan nan nan nan nan]\n",
            "The lower triangle values for the inducing variables covariance is:  [nan nan nan nan nan nan nan nan nan nan nan nan nan nan nan nan nan nan\n",
            " nan nan nan nan nan nan nan nan nan nan nan nan nan nan nan nan nan nan\n",
            " nan nan nan nan nan nan nan nan nan nan nan nan nan nan nan nan nan nan\n",
            " nan nan nan nan nan nan nan nan nan nan nan nan]\n",
            "\n",
            "\n",
            "\n",
            "\n",
            "The prior variance is:  nan\n",
            "The prior lenth scale is:  nan\n",
            "The noise is:  nan\n",
            "The inducing points are:  [nan nan nan nan nan nan nan nan nan nan nan]\n",
            "The parameterised mean of the inducing variables is:  [nan nan nan nan nan nan nan nan nan nan nan]\n",
            "The lower triangle values for the inducing variables covariance is:  [nan nan nan nan nan nan nan nan nan nan nan nan nan nan nan nan nan nan\n",
            " nan nan nan nan nan nan nan nan nan nan nan nan nan nan nan nan nan nan\n",
            " nan nan nan nan nan nan nan nan nan nan nan nan nan nan nan nan nan nan\n",
            " nan nan nan nan nan nan nan nan nan nan nan nan]\n",
            "\n",
            "\n",
            "\n",
            "\n",
            "The prior variance is:  nan\n",
            "The prior lenth scale is:  nan\n",
            "The noise is:  nan\n",
            "The inducing points are:  [nan nan nan nan nan nan nan nan nan nan nan]\n",
            "The parameterised mean of the inducing variables is:  [nan nan nan nan nan nan nan nan nan nan nan]\n",
            "The lower triangle values for the inducing variables covariance is:  [nan nan nan nan nan nan nan nan nan nan nan nan nan nan nan nan nan nan\n",
            " nan nan nan nan nan nan nan nan nan nan nan nan nan nan nan nan nan nan\n",
            " nan nan nan nan nan nan nan nan nan nan nan nan nan nan nan nan nan nan\n",
            " nan nan nan nan nan nan nan nan nan nan nan nan]\n",
            "\n",
            "\n",
            "\n",
            "\n",
            "The prior variance is:  nan\n",
            "The prior lenth scale is:  nan\n",
            "The noise is:  nan\n",
            "The inducing points are:  [nan nan nan nan nan nan nan nan nan nan nan]\n",
            "The parameterised mean of the inducing variables is:  [nan nan nan nan nan nan nan nan nan nan nan]\n",
            "The lower triangle values for the inducing variables covariance is:  [nan nan nan nan nan nan nan nan nan nan nan nan nan nan nan nan nan nan\n",
            " nan nan nan nan nan nan nan nan nan nan nan nan nan nan nan nan nan nan\n",
            " nan nan nan nan nan nan nan nan nan nan nan nan nan nan nan nan nan nan\n",
            " nan nan nan nan nan nan nan nan nan nan nan nan]\n",
            "\n",
            "\n",
            "\n",
            "\n",
            "The prior variance is:  nan\n",
            "The prior lenth scale is:  nan\n",
            "The noise is:  nan\n",
            "The inducing points are:  [nan nan nan nan nan nan nan nan nan nan nan]\n",
            "The parameterised mean of the inducing variables is:  [nan nan nan nan nan nan nan nan nan nan nan]\n",
            "The lower triangle values for the inducing variables covariance is:  [nan nan nan nan nan nan nan nan nan nan nan nan nan nan nan nan nan nan\n",
            " nan nan nan nan nan nan nan nan nan nan nan nan nan nan nan nan nan nan\n",
            " nan nan nan nan nan nan nan nan nan nan nan nan nan nan nan nan nan nan\n",
            " nan nan nan nan nan nan nan nan nan nan nan nan]\n",
            "\n",
            "\n",
            "\n",
            "\n",
            "The prior variance is:  nan\n",
            "The prior lenth scale is:  nan\n",
            "The noise is:  nan\n",
            "The inducing points are:  [nan nan nan nan nan nan nan nan nan nan nan]\n",
            "The parameterised mean of the inducing variables is:  [nan nan nan nan nan nan nan nan nan nan nan]\n",
            "The lower triangle values for the inducing variables covariance is:  [nan nan nan nan nan nan nan nan nan nan nan nan nan nan nan nan nan nan\n",
            " nan nan nan nan nan nan nan nan nan nan nan nan nan nan nan nan nan nan\n",
            " nan nan nan nan nan nan nan nan nan nan nan nan nan nan nan nan nan nan\n",
            " nan nan nan nan nan nan nan nan nan nan nan nan]\n",
            "\n",
            "\n",
            "\n",
            "\n",
            "The prior variance is:  nan\n",
            "The prior lenth scale is:  nan\n",
            "The noise is:  nan\n",
            "The inducing points are:  [nan nan nan nan nan nan nan nan nan nan nan]\n",
            "The parameterised mean of the inducing variables is:  [nan nan nan nan nan nan nan nan nan nan nan]\n",
            "The lower triangle values for the inducing variables covariance is:  [nan nan nan nan nan nan nan nan nan nan nan nan nan nan nan nan nan nan\n",
            " nan nan nan nan nan nan nan nan nan nan nan nan nan nan nan nan nan nan\n",
            " nan nan nan nan nan nan nan nan nan nan nan nan nan nan nan nan nan nan\n",
            " nan nan nan nan nan nan nan nan nan nan nan nan]\n",
            "\n",
            "\n",
            "\n",
            "\n",
            "The prior variance is:  nan\n",
            "The prior lenth scale is:  nan\n",
            "The noise is:  nan\n",
            "The inducing points are:  [nan nan nan nan nan nan nan nan nan nan nan]\n",
            "The parameterised mean of the inducing variables is:  [nan nan nan nan nan nan nan nan nan nan nan]\n",
            "The lower triangle values for the inducing variables covariance is:  [nan nan nan nan nan nan nan nan nan nan nan nan nan nan nan nan nan nan\n",
            " nan nan nan nan nan nan nan nan nan nan nan nan nan nan nan nan nan nan\n",
            " nan nan nan nan nan nan nan nan nan nan nan nan nan nan nan nan nan nan\n",
            " nan nan nan nan nan nan nan nan nan nan nan nan]\n",
            "\n",
            "\n",
            "\n",
            "\n",
            "The prior variance is:  nan\n",
            "The prior lenth scale is:  nan\n",
            "The noise is:  nan\n",
            "The inducing points are:  [nan nan nan nan nan nan nan nan nan nan nan]\n",
            "The parameterised mean of the inducing variables is:  [nan nan nan nan nan nan nan nan nan nan nan]\n",
            "The lower triangle values for the inducing variables covariance is:  [nan nan nan nan nan nan nan nan nan nan nan nan nan nan nan nan nan nan\n",
            " nan nan nan nan nan nan nan nan nan nan nan nan nan nan nan nan nan nan\n",
            " nan nan nan nan nan nan nan nan nan nan nan nan nan nan nan nan nan nan\n",
            " nan nan nan nan nan nan nan nan nan nan nan nan]\n",
            "\n",
            "\n",
            "\n",
            "\n",
            "The prior variance is:  nan\n",
            "The prior lenth scale is:  nan\n",
            "The noise is:  nan\n",
            "The inducing points are:  [nan nan nan nan nan nan nan nan nan nan nan]\n",
            "The parameterised mean of the inducing variables is:  [nan nan nan nan nan nan nan nan nan nan nan]\n",
            "The lower triangle values for the inducing variables covariance is:  [nan nan nan nan nan nan nan nan nan nan nan nan nan nan nan nan nan nan\n",
            " nan nan nan nan nan nan nan nan nan nan nan nan nan nan nan nan nan nan\n",
            " nan nan nan nan nan nan nan nan nan nan nan nan nan nan nan nan nan nan\n",
            " nan nan nan nan nan nan nan nan nan nan nan nan]\n",
            "\n",
            "\n",
            "\n",
            "\n",
            "The prior variance is:  nan\n",
            "The prior lenth scale is:  nan\n",
            "The noise is:  nan\n",
            "The inducing points are:  [nan nan nan nan nan nan nan nan nan nan nan]\n",
            "The parameterised mean of the inducing variables is:  [nan nan nan nan nan nan nan nan nan nan nan]\n",
            "The lower triangle values for the inducing variables covariance is:  [nan nan nan nan nan nan nan nan nan nan nan nan nan nan nan nan nan nan\n",
            " nan nan nan nan nan nan nan nan nan nan nan nan nan nan nan nan nan nan\n",
            " nan nan nan nan nan nan nan nan nan nan nan nan nan nan nan nan nan nan\n",
            " nan nan nan nan nan nan nan nan nan nan nan nan]\n",
            "\n",
            "\n",
            "\n",
            "\n",
            "The prior variance is:  nan\n",
            "The prior lenth scale is:  nan\n",
            "The noise is:  nan\n",
            "The inducing points are:  [nan nan nan nan nan nan nan nan nan nan nan]\n",
            "The parameterised mean of the inducing variables is:  [nan nan nan nan nan nan nan nan nan nan nan]\n",
            "The lower triangle values for the inducing variables covariance is:  [nan nan nan nan nan nan nan nan nan nan nan nan nan nan nan nan nan nan\n",
            " nan nan nan nan nan nan nan nan nan nan nan nan nan nan nan nan nan nan\n",
            " nan nan nan nan nan nan nan nan nan nan nan nan nan nan nan nan nan nan\n",
            " nan nan nan nan nan nan nan nan nan nan nan nan]\n",
            "\n",
            "\n",
            "\n",
            "\n",
            "The prior variance is:  nan\n",
            "The prior lenth scale is:  nan\n",
            "The noise is:  nan\n",
            "The inducing points are:  [nan nan nan nan nan nan nan nan nan nan nan]\n",
            "The parameterised mean of the inducing variables is:  [nan nan nan nan nan nan nan nan nan nan nan]\n",
            "The lower triangle values for the inducing variables covariance is:  [nan nan nan nan nan nan nan nan nan nan nan nan nan nan nan nan nan nan\n",
            " nan nan nan nan nan nan nan nan nan nan nan nan nan nan nan nan nan nan\n",
            " nan nan nan nan nan nan nan nan nan nan nan nan nan nan nan nan nan nan\n",
            " nan nan nan nan nan nan nan nan nan nan nan nan]\n",
            "\n",
            "\n",
            "\n",
            "\n",
            "The prior variance is:  nan\n",
            "The prior lenth scale is:  nan\n",
            "The noise is:  nan\n",
            "The inducing points are:  [nan nan nan nan nan nan nan nan nan nan nan]\n",
            "The parameterised mean of the inducing variables is:  [nan nan nan nan nan nan nan nan nan nan nan]\n",
            "The lower triangle values for the inducing variables covariance is:  [nan nan nan nan nan nan nan nan nan nan nan nan nan nan nan nan nan nan\n",
            " nan nan nan nan nan nan nan nan nan nan nan nan nan nan nan nan nan nan\n",
            " nan nan nan nan nan nan nan nan nan nan nan nan nan nan nan nan nan nan\n",
            " nan nan nan nan nan nan nan nan nan nan nan nan]\n",
            "\n",
            "\n",
            "\n",
            "\n",
            "The prior variance is:  nan\n",
            "The prior lenth scale is:  nan\n",
            "The noise is:  nan\n",
            "The inducing points are:  [nan nan nan nan nan nan nan nan nan nan nan]\n",
            "The parameterised mean of the inducing variables is:  [nan nan nan nan nan nan nan nan nan nan nan]\n",
            "The lower triangle values for the inducing variables covariance is:  [nan nan nan nan nan nan nan nan nan nan nan nan nan nan nan nan nan nan\n",
            " nan nan nan nan nan nan nan nan nan nan nan nan nan nan nan nan nan nan\n",
            " nan nan nan nan nan nan nan nan nan nan nan nan nan nan nan nan nan nan\n",
            " nan nan nan nan nan nan nan nan nan nan nan nan]\n",
            "\n",
            "\n",
            "\n",
            "\n",
            "The prior variance is:  nan\n",
            "The prior lenth scale is:  nan\n",
            "The noise is:  nan\n",
            "The inducing points are:  [nan nan nan nan nan nan nan nan nan nan nan]\n",
            "The parameterised mean of the inducing variables is:  [nan nan nan nan nan nan nan nan nan nan nan]\n",
            "The lower triangle values for the inducing variables covariance is:  [nan nan nan nan nan nan nan nan nan nan nan nan nan nan nan nan nan nan\n",
            " nan nan nan nan nan nan nan nan nan nan nan nan nan nan nan nan nan nan\n",
            " nan nan nan nan nan nan nan nan nan nan nan nan nan nan nan nan nan nan\n",
            " nan nan nan nan nan nan nan nan nan nan nan nan]\n",
            "\n",
            "\n",
            "\n",
            "\n",
            "The prior variance is:  nan\n",
            "The prior lenth scale is:  nan\n",
            "The noise is:  nan\n",
            "The inducing points are:  [nan nan nan nan nan nan nan nan nan nan nan]\n",
            "The parameterised mean of the inducing variables is:  [nan nan nan nan nan nan nan nan nan nan nan]\n",
            "The lower triangle values for the inducing variables covariance is:  [nan nan nan nan nan nan nan nan nan nan nan nan nan nan nan nan nan nan\n",
            " nan nan nan nan nan nan nan nan nan nan nan nan nan nan nan nan nan nan\n",
            " nan nan nan nan nan nan nan nan nan nan nan nan nan nan nan nan nan nan\n",
            " nan nan nan nan nan nan nan nan nan nan nan nan]\n",
            "\n",
            "\n",
            "\n",
            "\n",
            "The prior variance is:  nan\n",
            "The prior lenth scale is:  nan\n",
            "The noise is:  nan\n",
            "The inducing points are:  [nan nan nan nan nan nan nan nan nan nan nan]\n",
            "The parameterised mean of the inducing variables is:  [nan nan nan nan nan nan nan nan nan nan nan]\n",
            "The lower triangle values for the inducing variables covariance is:  [nan nan nan nan nan nan nan nan nan nan nan nan nan nan nan nan nan nan\n",
            " nan nan nan nan nan nan nan nan nan nan nan nan nan nan nan nan nan nan\n",
            " nan nan nan nan nan nan nan nan nan nan nan nan nan nan nan nan nan nan\n",
            " nan nan nan nan nan nan nan nan nan nan nan nan]\n",
            "\n",
            "\n",
            "\n",
            "\n",
            "The prior variance is:  nan\n",
            "The prior lenth scale is:  nan\n",
            "The noise is:  nan\n",
            "The inducing points are:  [nan nan nan nan nan nan nan nan nan nan nan]\n",
            "The parameterised mean of the inducing variables is:  [nan nan nan nan nan nan nan nan nan nan nan]\n",
            "The lower triangle values for the inducing variables covariance is:  [nan nan nan nan nan nan nan nan nan nan nan nan nan nan nan nan nan nan\n",
            " nan nan nan nan nan nan nan nan nan nan nan nan nan nan nan nan nan nan\n",
            " nan nan nan nan nan nan nan nan nan nan nan nan nan nan nan nan nan nan\n",
            " nan nan nan nan nan nan nan nan nan nan nan nan]\n",
            "\n",
            "\n",
            "\n",
            "\n",
            "The prior variance is:  nan\n",
            "The prior lenth scale is:  nan\n",
            "The noise is:  nan\n",
            "The inducing points are:  [nan nan nan nan nan nan nan nan nan nan nan]\n",
            "The parameterised mean of the inducing variables is:  [nan nan nan nan nan nan nan nan nan nan nan]\n",
            "The lower triangle values for the inducing variables covariance is:  [nan nan nan nan nan nan nan nan nan nan nan nan nan nan nan nan nan nan\n",
            " nan nan nan nan nan nan nan nan nan nan nan nan nan nan nan nan nan nan\n",
            " nan nan nan nan nan nan nan nan nan nan nan nan nan nan nan nan nan nan\n",
            " nan nan nan nan nan nan nan nan nan nan nan nan]\n",
            "\n",
            "\n",
            "\n",
            "\n",
            "The prior variance is:  nan\n",
            "The prior lenth scale is:  nan\n",
            "The noise is:  nan\n",
            "The inducing points are:  [nan nan nan nan nan nan nan nan nan nan nan]\n",
            "The parameterised mean of the inducing variables is:  [nan nan nan nan nan nan nan nan nan nan nan]\n",
            "The lower triangle values for the inducing variables covariance is:  [nan nan nan nan nan nan nan nan nan nan nan nan nan nan nan nan nan nan\n",
            " nan nan nan nan nan nan nan nan nan nan nan nan nan nan nan nan nan nan\n",
            " nan nan nan nan nan nan nan nan nan nan nan nan nan nan nan nan nan nan\n",
            " nan nan nan nan nan nan nan nan nan nan nan nan]\n",
            "\n",
            "\n",
            "\n",
            "\n",
            "The prior variance is:  nan\n",
            "The prior lenth scale is:  nan\n",
            "The noise is:  nan\n",
            "The inducing points are:  [nan nan nan nan nan nan nan nan nan nan nan]\n",
            "The parameterised mean of the inducing variables is:  [nan nan nan nan nan nan nan nan nan nan nan]\n",
            "The lower triangle values for the inducing variables covariance is:  [nan nan nan nan nan nan nan nan nan nan nan nan nan nan nan nan nan nan\n",
            " nan nan nan nan nan nan nan nan nan nan nan nan nan nan nan nan nan nan\n",
            " nan nan nan nan nan nan nan nan nan nan nan nan nan nan nan nan nan nan\n",
            " nan nan nan nan nan nan nan nan nan nan nan nan]\n",
            "\n",
            "\n",
            "\n",
            "\n",
            "The prior variance is:  nan\n",
            "The prior lenth scale is:  nan\n",
            "The noise is:  nan\n",
            "The inducing points are:  [nan nan nan nan nan nan nan nan nan nan nan]\n",
            "The parameterised mean of the inducing variables is:  [nan nan nan nan nan nan nan nan nan nan nan]\n",
            "The lower triangle values for the inducing variables covariance is:  [nan nan nan nan nan nan nan nan nan nan nan nan nan nan nan nan nan nan\n",
            " nan nan nan nan nan nan nan nan nan nan nan nan nan nan nan nan nan nan\n",
            " nan nan nan nan nan nan nan nan nan nan nan nan nan nan nan nan nan nan\n",
            " nan nan nan nan nan nan nan nan nan nan nan nan]\n",
            "\n",
            "\n",
            "\n",
            "\n",
            "The prior variance is:  nan\n",
            "The prior lenth scale is:  nan\n",
            "The noise is:  nan\n",
            "The inducing points are:  [nan nan nan nan nan nan nan nan nan nan nan]\n",
            "The parameterised mean of the inducing variables is:  [nan nan nan nan nan nan nan nan nan nan nan]\n",
            "The lower triangle values for the inducing variables covariance is:  [nan nan nan nan nan nan nan nan nan nan nan nan nan nan nan nan nan nan\n",
            " nan nan nan nan nan nan nan nan nan nan nan nan nan nan nan nan nan nan\n",
            " nan nan nan nan nan nan nan nan nan nan nan nan nan nan nan nan nan nan\n",
            " nan nan nan nan nan nan nan nan nan nan nan nan]\n",
            "\n",
            "\n",
            "\n",
            "\n",
            "The prior variance is:  nan\n",
            "The prior lenth scale is:  nan\n",
            "The noise is:  nan\n",
            "The inducing points are:  [nan nan nan nan nan nan nan nan nan nan nan]\n",
            "The parameterised mean of the inducing variables is:  [nan nan nan nan nan nan nan nan nan nan nan]\n",
            "The lower triangle values for the inducing variables covariance is:  [nan nan nan nan nan nan nan nan nan nan nan nan nan nan nan nan nan nan\n",
            " nan nan nan nan nan nan nan nan nan nan nan nan nan nan nan nan nan nan\n",
            " nan nan nan nan nan nan nan nan nan nan nan nan nan nan nan nan nan nan\n",
            " nan nan nan nan nan nan nan nan nan nan nan nan]\n",
            "\n",
            "\n",
            "\n",
            "\n",
            "The prior variance is:  nan\n",
            "The prior lenth scale is:  nan\n",
            "The noise is:  nan\n",
            "The inducing points are:  [nan nan nan nan nan nan nan nan nan nan nan]\n",
            "The parameterised mean of the inducing variables is:  [nan nan nan nan nan nan nan nan nan nan nan]\n",
            "The lower triangle values for the inducing variables covariance is:  [nan nan nan nan nan nan nan nan nan nan nan nan nan nan nan nan nan nan\n",
            " nan nan nan nan nan nan nan nan nan nan nan nan nan nan nan nan nan nan\n",
            " nan nan nan nan nan nan nan nan nan nan nan nan nan nan nan nan nan nan\n",
            " nan nan nan nan nan nan nan nan nan nan nan nan]\n",
            "\n",
            "\n",
            "\n",
            "\n",
            "The prior variance is:  nan\n",
            "The prior lenth scale is:  nan\n",
            "The noise is:  nan\n",
            "The inducing points are:  [nan nan nan nan nan nan nan nan nan nan nan]\n",
            "The parameterised mean of the inducing variables is:  [nan nan nan nan nan nan nan nan nan nan nan]\n",
            "The lower triangle values for the inducing variables covariance is:  [nan nan nan nan nan nan nan nan nan nan nan nan nan nan nan nan nan nan\n",
            " nan nan nan nan nan nan nan nan nan nan nan nan nan nan nan nan nan nan\n",
            " nan nan nan nan nan nan nan nan nan nan nan nan nan nan nan nan nan nan\n",
            " nan nan nan nan nan nan nan nan nan nan nan nan]\n",
            "\n",
            "\n",
            "\n",
            "\n",
            "The prior variance is:  nan\n",
            "The prior lenth scale is:  nan\n",
            "The noise is:  nan\n",
            "The inducing points are:  [nan nan nan nan nan nan nan nan nan nan nan]\n",
            "The parameterised mean of the inducing variables is:  [nan nan nan nan nan nan nan nan nan nan nan]\n",
            "The lower triangle values for the inducing variables covariance is:  [nan nan nan nan nan nan nan nan nan nan nan nan nan nan nan nan nan nan\n",
            " nan nan nan nan nan nan nan nan nan nan nan nan nan nan nan nan nan nan\n",
            " nan nan nan nan nan nan nan nan nan nan nan nan nan nan nan nan nan nan\n",
            " nan nan nan nan nan nan nan nan nan nan nan nan]\n",
            "\n",
            "\n",
            "\n",
            "\n",
            "The prior variance is:  nan\n",
            "The prior lenth scale is:  nan\n",
            "The noise is:  nan\n",
            "The inducing points are:  [nan nan nan nan nan nan nan nan nan nan nan]\n",
            "The parameterised mean of the inducing variables is:  [nan nan nan nan nan nan nan nan nan nan nan]\n",
            "The lower triangle values for the inducing variables covariance is:  [nan nan nan nan nan nan nan nan nan nan nan nan nan nan nan nan nan nan\n",
            " nan nan nan nan nan nan nan nan nan nan nan nan nan nan nan nan nan nan\n",
            " nan nan nan nan nan nan nan nan nan nan nan nan nan nan nan nan nan nan\n",
            " nan nan nan nan nan nan nan nan nan nan nan nan]\n",
            "\n",
            "\n",
            "\n",
            "\n",
            "The prior variance is:  nan\n",
            "The prior lenth scale is:  nan\n",
            "The noise is:  nan\n",
            "The inducing points are:  [nan nan nan nan nan nan nan nan nan nan nan]\n",
            "The parameterised mean of the inducing variables is:  [nan nan nan nan nan nan nan nan nan nan nan]\n",
            "The lower triangle values for the inducing variables covariance is:  [nan nan nan nan nan nan nan nan nan nan nan nan nan nan nan nan nan nan\n",
            " nan nan nan nan nan nan nan nan nan nan nan nan nan nan nan nan nan nan\n",
            " nan nan nan nan nan nan nan nan nan nan nan nan nan nan nan nan nan nan\n",
            " nan nan nan nan nan nan nan nan nan nan nan nan]\n",
            "\n",
            "\n",
            "\n",
            "\n",
            "The prior variance is:  nan\n",
            "The prior lenth scale is:  nan\n",
            "The noise is:  nan\n",
            "The inducing points are:  [nan nan nan nan nan nan nan nan nan nan nan]\n",
            "The parameterised mean of the inducing variables is:  [nan nan nan nan nan nan nan nan nan nan nan]\n",
            "The lower triangle values for the inducing variables covariance is:  [nan nan nan nan nan nan nan nan nan nan nan nan nan nan nan nan nan nan\n",
            " nan nan nan nan nan nan nan nan nan nan nan nan nan nan nan nan nan nan\n",
            " nan nan nan nan nan nan nan nan nan nan nan nan nan nan nan nan nan nan\n",
            " nan nan nan nan nan nan nan nan nan nan nan nan]\n",
            "\n",
            "\n",
            "\n",
            "\n",
            "The prior variance is:  nan\n",
            "The prior lenth scale is:  nan\n",
            "The noise is:  nan\n",
            "The inducing points are:  [nan nan nan nan nan nan nan nan nan nan nan]\n",
            "The parameterised mean of the inducing variables is:  [nan nan nan nan nan nan nan nan nan nan nan]\n",
            "The lower triangle values for the inducing variables covariance is:  [nan nan nan nan nan nan nan nan nan nan nan nan nan nan nan nan nan nan\n",
            " nan nan nan nan nan nan nan nan nan nan nan nan nan nan nan nan nan nan\n",
            " nan nan nan nan nan nan nan nan nan nan nan nan nan nan nan nan nan nan\n",
            " nan nan nan nan nan nan nan nan nan nan nan nan]\n",
            "\n",
            "\n",
            "\n",
            "\n",
            "The prior variance is:  nan\n",
            "The prior lenth scale is:  nan\n",
            "The noise is:  nan\n",
            "The inducing points are:  [nan nan nan nan nan nan nan nan nan nan nan]\n",
            "The parameterised mean of the inducing variables is:  [nan nan nan nan nan nan nan nan nan nan nan]\n",
            "The lower triangle values for the inducing variables covariance is:  [nan nan nan nan nan nan nan nan nan nan nan nan nan nan nan nan nan nan\n",
            " nan nan nan nan nan nan nan nan nan nan nan nan nan nan nan nan nan nan\n",
            " nan nan nan nan nan nan nan nan nan nan nan nan nan nan nan nan nan nan\n",
            " nan nan nan nan nan nan nan nan nan nan nan nan]\n",
            "\n",
            "\n",
            "\n",
            "\n",
            "The prior variance is:  nan\n",
            "The prior lenth scale is:  nan\n",
            "The noise is:  nan\n",
            "The inducing points are:  [nan nan nan nan nan nan nan nan nan nan nan]\n",
            "The parameterised mean of the inducing variables is:  [nan nan nan nan nan nan nan nan nan nan nan]\n",
            "The lower triangle values for the inducing variables covariance is:  [nan nan nan nan nan nan nan nan nan nan nan nan nan nan nan nan nan nan\n",
            " nan nan nan nan nan nan nan nan nan nan nan nan nan nan nan nan nan nan\n",
            " nan nan nan nan nan nan nan nan nan nan nan nan nan nan nan nan nan nan\n",
            " nan nan nan nan nan nan nan nan nan nan nan nan]\n",
            "\n",
            "\n",
            "\n",
            "\n",
            "The prior variance is:  nan\n",
            "The prior lenth scale is:  nan\n",
            "The noise is:  nan\n",
            "The inducing points are:  [nan nan nan nan nan nan nan nan nan nan nan]\n",
            "The parameterised mean of the inducing variables is:  [nan nan nan nan nan nan nan nan nan nan nan]\n",
            "The lower triangle values for the inducing variables covariance is:  [nan nan nan nan nan nan nan nan nan nan nan nan nan nan nan nan nan nan\n",
            " nan nan nan nan nan nan nan nan nan nan nan nan nan nan nan nan nan nan\n",
            " nan nan nan nan nan nan nan nan nan nan nan nan nan nan nan nan nan nan\n",
            " nan nan nan nan nan nan nan nan nan nan nan nan]\n",
            "\n",
            "\n",
            "\n",
            "\n",
            "The prior variance is:  nan\n",
            "The prior lenth scale is:  nan\n",
            "The noise is:  nan\n",
            "The inducing points are:  [nan nan nan nan nan nan nan nan nan nan nan]\n",
            "The parameterised mean of the inducing variables is:  [nan nan nan nan nan nan nan nan nan nan nan]\n",
            "The lower triangle values for the inducing variables covariance is:  [nan nan nan nan nan nan nan nan nan nan nan nan nan nan nan nan nan nan\n",
            " nan nan nan nan nan nan nan nan nan nan nan nan nan nan nan nan nan nan\n",
            " nan nan nan nan nan nan nan nan nan nan nan nan nan nan nan nan nan nan\n",
            " nan nan nan nan nan nan nan nan nan nan nan nan]\n",
            "\n",
            "\n",
            "\n",
            "\n",
            "The prior variance is:  nan\n",
            "The prior lenth scale is:  nan\n",
            "The noise is:  nan\n",
            "The inducing points are:  [nan nan nan nan nan nan nan nan nan nan nan]\n",
            "The parameterised mean of the inducing variables is:  [nan nan nan nan nan nan nan nan nan nan nan]\n",
            "The lower triangle values for the inducing variables covariance is:  [nan nan nan nan nan nan nan nan nan nan nan nan nan nan nan nan nan nan\n",
            " nan nan nan nan nan nan nan nan nan nan nan nan nan nan nan nan nan nan\n",
            " nan nan nan nan nan nan nan nan nan nan nan nan nan nan nan nan nan nan\n",
            " nan nan nan nan nan nan nan nan nan nan nan nan]\n",
            "\n",
            "\n",
            "\n",
            "\n",
            "The prior variance is:  nan\n",
            "The prior lenth scale is:  nan\n",
            "The noise is:  nan\n",
            "The inducing points are:  [nan nan nan nan nan nan nan nan nan nan nan]\n",
            "The parameterised mean of the inducing variables is:  [nan nan nan nan nan nan nan nan nan nan nan]\n",
            "The lower triangle values for the inducing variables covariance is:  [nan nan nan nan nan nan nan nan nan nan nan nan nan nan nan nan nan nan\n",
            " nan nan nan nan nan nan nan nan nan nan nan nan nan nan nan nan nan nan\n",
            " nan nan nan nan nan nan nan nan nan nan nan nan nan nan nan nan nan nan\n",
            " nan nan nan nan nan nan nan nan nan nan nan nan]\n",
            "\n",
            "\n",
            "\n",
            "\n",
            "The prior variance is:  nan\n",
            "The prior lenth scale is:  nan\n",
            "The noise is:  nan\n",
            "The inducing points are:  [nan nan nan nan nan nan nan nan nan nan nan]\n",
            "The parameterised mean of the inducing variables is:  [nan nan nan nan nan nan nan nan nan nan nan]\n",
            "The lower triangle values for the inducing variables covariance is:  [nan nan nan nan nan nan nan nan nan nan nan nan nan nan nan nan nan nan\n",
            " nan nan nan nan nan nan nan nan nan nan nan nan nan nan nan nan nan nan\n",
            " nan nan nan nan nan nan nan nan nan nan nan nan nan nan nan nan nan nan\n",
            " nan nan nan nan nan nan nan nan nan nan nan nan]\n",
            "\n",
            "\n",
            "\n",
            "\n",
            "The prior variance is:  nan\n",
            "The prior lenth scale is:  nan\n",
            "The noise is:  nan\n",
            "The inducing points are:  [nan nan nan nan nan nan nan nan nan nan nan]\n",
            "The parameterised mean of the inducing variables is:  [nan nan nan nan nan nan nan nan nan nan nan]\n",
            "The lower triangle values for the inducing variables covariance is:  [nan nan nan nan nan nan nan nan nan nan nan nan nan nan nan nan nan nan\n",
            " nan nan nan nan nan nan nan nan nan nan nan nan nan nan nan nan nan nan\n",
            " nan nan nan nan nan nan nan nan nan nan nan nan nan nan nan nan nan nan\n",
            " nan nan nan nan nan nan nan nan nan nan nan nan]\n",
            "\n",
            "\n",
            "\n",
            "\n",
            "The prior variance is:  nan\n",
            "The prior lenth scale is:  nan\n",
            "The noise is:  nan\n",
            "The inducing points are:  [nan nan nan nan nan nan nan nan nan nan nan]\n",
            "The parameterised mean of the inducing variables is:  [nan nan nan nan nan nan nan nan nan nan nan]\n",
            "The lower triangle values for the inducing variables covariance is:  [nan nan nan nan nan nan nan nan nan nan nan nan nan nan nan nan nan nan\n",
            " nan nan nan nan nan nan nan nan nan nan nan nan nan nan nan nan nan nan\n",
            " nan nan nan nan nan nan nan nan nan nan nan nan nan nan nan nan nan nan\n",
            " nan nan nan nan nan nan nan nan nan nan nan nan]\n",
            "\n",
            "\n",
            "\n",
            "\n",
            "The prior variance is:  nan\n",
            "The prior lenth scale is:  nan\n",
            "The noise is:  nan\n",
            "The inducing points are:  [nan nan nan nan nan nan nan nan nan nan nan]\n",
            "The parameterised mean of the inducing variables is:  [nan nan nan nan nan nan nan nan nan nan nan]\n",
            "The lower triangle values for the inducing variables covariance is:  [nan nan nan nan nan nan nan nan nan nan nan nan nan nan nan nan nan nan\n",
            " nan nan nan nan nan nan nan nan nan nan nan nan nan nan nan nan nan nan\n",
            " nan nan nan nan nan nan nan nan nan nan nan nan nan nan nan nan nan nan\n",
            " nan nan nan nan nan nan nan nan nan nan nan nan]\n",
            "\n",
            "\n",
            "\n",
            "\n",
            "The prior variance is:  nan\n",
            "The prior lenth scale is:  nan\n",
            "The noise is:  nan\n",
            "The inducing points are:  [nan nan nan nan nan nan nan nan nan nan nan]\n",
            "The parameterised mean of the inducing variables is:  [nan nan nan nan nan nan nan nan nan nan nan]\n",
            "The lower triangle values for the inducing variables covariance is:  [nan nan nan nan nan nan nan nan nan nan nan nan nan nan nan nan nan nan\n",
            " nan nan nan nan nan nan nan nan nan nan nan nan nan nan nan nan nan nan\n",
            " nan nan nan nan nan nan nan nan nan nan nan nan nan nan nan nan nan nan\n",
            " nan nan nan nan nan nan nan nan nan nan nan nan]\n",
            "\n",
            "\n",
            "\n",
            "\n",
            "The prior variance is:  nan\n",
            "The prior lenth scale is:  nan\n",
            "The noise is:  nan\n",
            "The inducing points are:  [nan nan nan nan nan nan nan nan nan nan nan]\n",
            "The parameterised mean of the inducing variables is:  [nan nan nan nan nan nan nan nan nan nan nan]\n",
            "The lower triangle values for the inducing variables covariance is:  [nan nan nan nan nan nan nan nan nan nan nan nan nan nan nan nan nan nan\n",
            " nan nan nan nan nan nan nan nan nan nan nan nan nan nan nan nan nan nan\n",
            " nan nan nan nan nan nan nan nan nan nan nan nan nan nan nan nan nan nan\n",
            " nan nan nan nan nan nan nan nan nan nan nan nan]\n",
            "\n",
            "\n",
            "\n",
            "\n",
            "The prior variance is:  nan\n",
            "The prior lenth scale is:  nan\n",
            "The noise is:  nan\n",
            "The inducing points are:  [nan nan nan nan nan nan nan nan nan nan nan]\n",
            "The parameterised mean of the inducing variables is:  [nan nan nan nan nan nan nan nan nan nan nan]\n",
            "The lower triangle values for the inducing variables covariance is:  [nan nan nan nan nan nan nan nan nan nan nan nan nan nan nan nan nan nan\n",
            " nan nan nan nan nan nan nan nan nan nan nan nan nan nan nan nan nan nan\n",
            " nan nan nan nan nan nan nan nan nan nan nan nan nan nan nan nan nan nan\n",
            " nan nan nan nan nan nan nan nan nan nan nan nan]\n",
            "\n",
            "\n",
            "\n",
            "\n",
            "The prior variance is:  nan\n",
            "The prior lenth scale is:  nan\n",
            "The noise is:  nan\n",
            "The inducing points are:  [nan nan nan nan nan nan nan nan nan nan nan]\n",
            "The parameterised mean of the inducing variables is:  [nan nan nan nan nan nan nan nan nan nan nan]\n",
            "The lower triangle values for the inducing variables covariance is:  [nan nan nan nan nan nan nan nan nan nan nan nan nan nan nan nan nan nan\n",
            " nan nan nan nan nan nan nan nan nan nan nan nan nan nan nan nan nan nan\n",
            " nan nan nan nan nan nan nan nan nan nan nan nan nan nan nan nan nan nan\n",
            " nan nan nan nan nan nan nan nan nan nan nan nan]\n",
            "\n",
            "\n",
            "\n",
            "\n",
            "The prior variance is:  nan\n",
            "The prior lenth scale is:  nan\n",
            "The noise is:  nan\n",
            "The inducing points are:  [nan nan nan nan nan nan nan nan nan nan nan]\n",
            "The parameterised mean of the inducing variables is:  [nan nan nan nan nan nan nan nan nan nan nan]\n",
            "The lower triangle values for the inducing variables covariance is:  [nan nan nan nan nan nan nan nan nan nan nan nan nan nan nan nan nan nan\n",
            " nan nan nan nan nan nan nan nan nan nan nan nan nan nan nan nan nan nan\n",
            " nan nan nan nan nan nan nan nan nan nan nan nan nan nan nan nan nan nan\n",
            " nan nan nan nan nan nan nan nan nan nan nan nan]\n",
            "\n",
            "\n",
            "\n",
            "\n",
            "The prior variance is:  nan\n",
            "The prior lenth scale is:  nan\n",
            "The noise is:  nan\n",
            "The inducing points are:  [nan nan nan nan nan nan nan nan nan nan nan]\n",
            "The parameterised mean of the inducing variables is:  [nan nan nan nan nan nan nan nan nan nan nan]\n",
            "The lower triangle values for the inducing variables covariance is:  [nan nan nan nan nan nan nan nan nan nan nan nan nan nan nan nan nan nan\n",
            " nan nan nan nan nan nan nan nan nan nan nan nan nan nan nan nan nan nan\n",
            " nan nan nan nan nan nan nan nan nan nan nan nan nan nan nan nan nan nan\n",
            " nan nan nan nan nan nan nan nan nan nan nan nan]\n",
            "\n",
            "\n",
            "\n",
            "\n",
            "The prior variance is:  nan\n",
            "The prior lenth scale is:  nan\n",
            "The noise is:  nan\n",
            "The inducing points are:  [nan nan nan nan nan nan nan nan nan nan nan]\n",
            "The parameterised mean of the inducing variables is:  [nan nan nan nan nan nan nan nan nan nan nan]\n",
            "The lower triangle values for the inducing variables covariance is:  [nan nan nan nan nan nan nan nan nan nan nan nan nan nan nan nan nan nan\n",
            " nan nan nan nan nan nan nan nan nan nan nan nan nan nan nan nan nan nan\n",
            " nan nan nan nan nan nan nan nan nan nan nan nan nan nan nan nan nan nan\n",
            " nan nan nan nan nan nan nan nan nan nan nan nan]\n",
            "\n",
            "\n",
            "\n",
            "\n",
            "The prior variance is:  nan\n",
            "The prior lenth scale is:  nan\n",
            "The noise is:  nan\n",
            "The inducing points are:  [nan nan nan nan nan nan nan nan nan nan nan]\n",
            "The parameterised mean of the inducing variables is:  [nan nan nan nan nan nan nan nan nan nan nan]\n",
            "The lower triangle values for the inducing variables covariance is:  [nan nan nan nan nan nan nan nan nan nan nan nan nan nan nan nan nan nan\n",
            " nan nan nan nan nan nan nan nan nan nan nan nan nan nan nan nan nan nan\n",
            " nan nan nan nan nan nan nan nan nan nan nan nan nan nan nan nan nan nan\n",
            " nan nan nan nan nan nan nan nan nan nan nan nan]\n",
            "\n",
            "\n",
            "\n",
            "\n",
            "The prior variance is:  nan\n",
            "The prior lenth scale is:  nan\n",
            "The noise is:  nan\n",
            "The inducing points are:  [nan nan nan nan nan nan nan nan nan nan nan]\n",
            "The parameterised mean of the inducing variables is:  [nan nan nan nan nan nan nan nan nan nan nan]\n",
            "The lower triangle values for the inducing variables covariance is:  [nan nan nan nan nan nan nan nan nan nan nan nan nan nan nan nan nan nan\n",
            " nan nan nan nan nan nan nan nan nan nan nan nan nan nan nan nan nan nan\n",
            " nan nan nan nan nan nan nan nan nan nan nan nan nan nan nan nan nan nan\n",
            " nan nan nan nan nan nan nan nan nan nan nan nan]\n",
            "\n",
            "\n",
            "\n",
            "\n",
            "The prior variance is:  nan\n",
            "The prior lenth scale is:  nan\n",
            "The noise is:  nan\n",
            "The inducing points are:  [nan nan nan nan nan nan nan nan nan nan nan]\n",
            "The parameterised mean of the inducing variables is:  [nan nan nan nan nan nan nan nan nan nan nan]\n",
            "The lower triangle values for the inducing variables covariance is:  [nan nan nan nan nan nan nan nan nan nan nan nan nan nan nan nan nan nan\n",
            " nan nan nan nan nan nan nan nan nan nan nan nan nan nan nan nan nan nan\n",
            " nan nan nan nan nan nan nan nan nan nan nan nan nan nan nan nan nan nan\n",
            " nan nan nan nan nan nan nan nan nan nan nan nan]\n",
            "\n",
            "\n",
            "\n",
            "\n",
            "The prior variance is:  nan\n",
            "The prior lenth scale is:  nan\n",
            "The noise is:  nan\n",
            "The inducing points are:  [nan nan nan nan nan nan nan nan nan nan nan]\n",
            "The parameterised mean of the inducing variables is:  [nan nan nan nan nan nan nan nan nan nan nan]\n",
            "The lower triangle values for the inducing variables covariance is:  [nan nan nan nan nan nan nan nan nan nan nan nan nan nan nan nan nan nan\n",
            " nan nan nan nan nan nan nan nan nan nan nan nan nan nan nan nan nan nan\n",
            " nan nan nan nan nan nan nan nan nan nan nan nan nan nan nan nan nan nan\n",
            " nan nan nan nan nan nan nan nan nan nan nan nan]\n",
            "\n",
            "\n",
            "\n",
            "\n",
            "The prior variance is:  nan\n",
            "The prior lenth scale is:  nan\n",
            "The noise is:  nan\n",
            "The inducing points are:  [nan nan nan nan nan nan nan nan nan nan nan]\n",
            "The parameterised mean of the inducing variables is:  [nan nan nan nan nan nan nan nan nan nan nan]\n",
            "The lower triangle values for the inducing variables covariance is:  [nan nan nan nan nan nan nan nan nan nan nan nan nan nan nan nan nan nan\n",
            " nan nan nan nan nan nan nan nan nan nan nan nan nan nan nan nan nan nan\n",
            " nan nan nan nan nan nan nan nan nan nan nan nan nan nan nan nan nan nan\n",
            " nan nan nan nan nan nan nan nan nan nan nan nan]\n",
            "\n",
            "\n",
            "\n",
            "\n",
            "The prior variance is:  nan\n",
            "The prior lenth scale is:  nan\n",
            "The noise is:  nan\n",
            "The inducing points are:  [nan nan nan nan nan nan nan nan nan nan nan]\n",
            "The parameterised mean of the inducing variables is:  [nan nan nan nan nan nan nan nan nan nan nan]\n",
            "The lower triangle values for the inducing variables covariance is:  [nan nan nan nan nan nan nan nan nan nan nan nan nan nan nan nan nan nan\n",
            " nan nan nan nan nan nan nan nan nan nan nan nan nan nan nan nan nan nan\n",
            " nan nan nan nan nan nan nan nan nan nan nan nan nan nan nan nan nan nan\n",
            " nan nan nan nan nan nan nan nan nan nan nan nan]\n",
            "\n",
            "\n",
            "\n",
            "\n",
            "The prior variance is:  nan\n",
            "The prior lenth scale is:  nan\n",
            "The noise is:  nan\n",
            "The inducing points are:  [nan nan nan nan nan nan nan nan nan nan nan]\n",
            "The parameterised mean of the inducing variables is:  [nan nan nan nan nan nan nan nan nan nan nan]\n",
            "The lower triangle values for the inducing variables covariance is:  [nan nan nan nan nan nan nan nan nan nan nan nan nan nan nan nan nan nan\n",
            " nan nan nan nan nan nan nan nan nan nan nan nan nan nan nan nan nan nan\n",
            " nan nan nan nan nan nan nan nan nan nan nan nan nan nan nan nan nan nan\n",
            " nan nan nan nan nan nan nan nan nan nan nan nan]\n",
            "\n",
            "\n",
            "\n",
            "\n",
            "The prior variance is:  nan\n",
            "The prior lenth scale is:  nan\n",
            "The noise is:  nan\n",
            "The inducing points are:  [nan nan nan nan nan nan nan nan nan nan nan]\n",
            "The parameterised mean of the inducing variables is:  [nan nan nan nan nan nan nan nan nan nan nan]\n",
            "The lower triangle values for the inducing variables covariance is:  [nan nan nan nan nan nan nan nan nan nan nan nan nan nan nan nan nan nan\n",
            " nan nan nan nan nan nan nan nan nan nan nan nan nan nan nan nan nan nan\n",
            " nan nan nan nan nan nan nan nan nan nan nan nan nan nan nan nan nan nan\n",
            " nan nan nan nan nan nan nan nan nan nan nan nan]\n",
            "\n",
            "\n",
            "\n",
            "\n",
            "The prior variance is:  nan\n",
            "The prior lenth scale is:  nan\n",
            "The noise is:  nan\n",
            "The inducing points are:  [nan nan nan nan nan nan nan nan nan nan nan]\n",
            "The parameterised mean of the inducing variables is:  [nan nan nan nan nan nan nan nan nan nan nan]\n",
            "The lower triangle values for the inducing variables covariance is:  [nan nan nan nan nan nan nan nan nan nan nan nan nan nan nan nan nan nan\n",
            " nan nan nan nan nan nan nan nan nan nan nan nan nan nan nan nan nan nan\n",
            " nan nan nan nan nan nan nan nan nan nan nan nan nan nan nan nan nan nan\n",
            " nan nan nan nan nan nan nan nan nan nan nan nan]\n",
            "\n",
            "\n",
            "\n",
            "\n",
            "The prior variance is:  nan\n",
            "The prior lenth scale is:  nan\n",
            "The noise is:  nan\n",
            "The inducing points are:  [nan nan nan nan nan nan nan nan nan nan nan]\n",
            "The parameterised mean of the inducing variables is:  [nan nan nan nan nan nan nan nan nan nan nan]\n",
            "The lower triangle values for the inducing variables covariance is:  [nan nan nan nan nan nan nan nan nan nan nan nan nan nan nan nan nan nan\n",
            " nan nan nan nan nan nan nan nan nan nan nan nan nan nan nan nan nan nan\n",
            " nan nan nan nan nan nan nan nan nan nan nan nan nan nan nan nan nan nan\n",
            " nan nan nan nan nan nan nan nan nan nan nan nan]\n",
            "\n",
            "\n",
            "\n",
            "\n",
            "The prior variance is:  nan\n",
            "The prior lenth scale is:  nan\n",
            "The noise is:  nan\n",
            "The inducing points are:  [nan nan nan nan nan nan nan nan nan nan nan]\n",
            "The parameterised mean of the inducing variables is:  [nan nan nan nan nan nan nan nan nan nan nan]\n",
            "The lower triangle values for the inducing variables covariance is:  [nan nan nan nan nan nan nan nan nan nan nan nan nan nan nan nan nan nan\n",
            " nan nan nan nan nan nan nan nan nan nan nan nan nan nan nan nan nan nan\n",
            " nan nan nan nan nan nan nan nan nan nan nan nan nan nan nan nan nan nan\n",
            " nan nan nan nan nan nan nan nan nan nan nan nan]\n",
            "\n",
            "\n",
            "\n",
            "\n",
            "The prior variance is:  nan\n",
            "The prior lenth scale is:  nan\n",
            "The noise is:  nan\n",
            "The inducing points are:  [nan nan nan nan nan nan nan nan nan nan nan]\n",
            "The parameterised mean of the inducing variables is:  [nan nan nan nan nan nan nan nan nan nan nan]\n",
            "The lower triangle values for the inducing variables covariance is:  [nan nan nan nan nan nan nan nan nan nan nan nan nan nan nan nan nan nan\n",
            " nan nan nan nan nan nan nan nan nan nan nan nan nan nan nan nan nan nan\n",
            " nan nan nan nan nan nan nan nan nan nan nan nan nan nan nan nan nan nan\n",
            " nan nan nan nan nan nan nan nan nan nan nan nan]\n",
            "\n",
            "\n",
            "\n",
            "\n",
            "The prior variance is:  nan\n",
            "The prior lenth scale is:  nan\n",
            "The noise is:  nan\n",
            "The inducing points are:  [nan nan nan nan nan nan nan nan nan nan nan]\n",
            "The parameterised mean of the inducing variables is:  [nan nan nan nan nan nan nan nan nan nan nan]\n",
            "The lower triangle values for the inducing variables covariance is:  [nan nan nan nan nan nan nan nan nan nan nan nan nan nan nan nan nan nan\n",
            " nan nan nan nan nan nan nan nan nan nan nan nan nan nan nan nan nan nan\n",
            " nan nan nan nan nan nan nan nan nan nan nan nan nan nan nan nan nan nan\n",
            " nan nan nan nan nan nan nan nan nan nan nan nan]\n",
            "\n",
            "\n",
            "\n",
            "\n",
            "The prior variance is:  nan\n",
            "The prior lenth scale is:  nan\n",
            "The noise is:  nan\n",
            "The inducing points are:  [nan nan nan nan nan nan nan nan nan nan nan]\n",
            "The parameterised mean of the inducing variables is:  [nan nan nan nan nan nan nan nan nan nan nan]\n",
            "The lower triangle values for the inducing variables covariance is:  [nan nan nan nan nan nan nan nan nan nan nan nan nan nan nan nan nan nan\n",
            " nan nan nan nan nan nan nan nan nan nan nan nan nan nan nan nan nan nan\n",
            " nan nan nan nan nan nan nan nan nan nan nan nan nan nan nan nan nan nan\n",
            " nan nan nan nan nan nan nan nan nan nan nan nan]\n",
            "\n",
            "\n",
            "\n",
            "\n",
            "The prior variance is:  nan\n",
            "The prior lenth scale is:  nan\n",
            "The noise is:  nan\n",
            "The inducing points are:  [nan nan nan nan nan nan nan nan nan nan nan]\n",
            "The parameterised mean of the inducing variables is:  [nan nan nan nan nan nan nan nan nan nan nan]\n",
            "The lower triangle values for the inducing variables covariance is:  [nan nan nan nan nan nan nan nan nan nan nan nan nan nan nan nan nan nan\n",
            " nan nan nan nan nan nan nan nan nan nan nan nan nan nan nan nan nan nan\n",
            " nan nan nan nan nan nan nan nan nan nan nan nan nan nan nan nan nan nan\n",
            " nan nan nan nan nan nan nan nan nan nan nan nan]\n",
            "\n",
            "\n",
            "\n",
            "\n"
          ]
        }
      ]
    },
    {
      "cell_type": "markdown",
      "source": [
        "#### Update Parameters"
      ],
      "metadata": {
        "id": "Yg4n7mBceFKV"
      }
    },
    {
      "cell_type": "code",
      "source": [
        "@jit\n",
        "def Update(Step_t, Parameters, Step):\n",
        "  # Update parameters\n",
        "  Next_Parameters = jax.tree_multimap(\n",
        "      lambda Dummy_Parameter, Dummy_Step: Dummy_Parameter + Step_t * Dummy_Step,\n",
        "      Parameters, Step\n",
        "  )\n",
        "  return Next_Parameters"
      ],
      "metadata": {
        "id": "d4hYUvSJeJ93"
      },
      "execution_count": null,
      "outputs": []
    },
    {
      "cell_type": "markdown",
      "source": [
        "##### Test Update Parameters"
      ],
      "metadata": {
        "id": "Mj-qMbFCjZDA"
      }
    },
    {
      "cell_type": "code",
      "source": [
        "test_number_f = 10000\n",
        "test_m = 11\n",
        "test_key = random.PRNGKey(10)\n",
        "test_sigma_f = 1.0 \n",
        "test_ell_f = 0.01\n",
        "test_sigma_n = 0.05\n",
        "test_z_m = jnp.linspace(0.0, timef[-1], test_m)\n",
        "test_k_mm = Vec_SE(test_z_m, test_z_m, test_sigma_f, test_ell_f)\n",
        "test_c = jnp.linalg.cholesky(test_k_mm)\n",
        "test_v_m = jsc.linalg.solve_triangular(test_c, truef[0::2], lower = True)\n",
        "test_l_array = jnp.eye(test_m).at[jnp.tril_indices(test_m)].get()\n",
        "test_k_nn = Vec_SE(timef, timef, test_sigma_f, test_ell_f)\n",
        "test_parameters = (test_sigma_f, test_ell_f, test_sigma_n, test_z_m, test_v_m,\n",
        "                   test_l_array)\n",
        "test_grad_elbo = jit(grad(ELBO, argnums = (3, 4, 5, 6, 7, 8)), \n",
        "                     static_argnums = ((0,1)))\n",
        "test_step = test_grad_elbo(test_number_f, test_m, test_key, test_sigma_f, \n",
        "                           test_ell_f, test_sigma_n, test_z_m, test_v_m, \n",
        "                           test_l_array, test_k_nn, timex, testx, timey, testy)"
      ],
      "metadata": {
        "id": "xl4KAE7pjdDw"
      },
      "execution_count": null,
      "outputs": []
    },
    {
      "cell_type": "code",
      "source": [
        "plt.plot(test_z_m, test_c @ test_v_m)"
      ],
      "metadata": {
        "id": "n1jYnvxK9HLq"
      },
      "execution_count": null,
      "outputs": []
    },
    {
      "cell_type": "code",
      "source": [
        "print(test_parameters)"
      ],
      "metadata": {
        "id": "8ziiOLl6U1Nh"
      },
      "execution_count": null,
      "outputs": []
    },
    {
      "cell_type": "code",
      "source": [
        "print(test_step)"
      ],
      "metadata": {
        "id": "VVKK4YlWrmVs"
      },
      "execution_count": null,
      "outputs": []
    },
    {
      "cell_type": "code",
      "source": [
        "test_next_parameters = Update(1.0, test_parameters, test_step)"
      ],
      "metadata": {
        "id": "33fwgqQBkoOs"
      },
      "execution_count": null,
      "outputs": []
    },
    {
      "cell_type": "code",
      "source": [
        "print(test_next_parameters)"
      ],
      "metadata": {
        "id": "BZOXTBWjnWE0"
      },
      "execution_count": null,
      "outputs": []
    },
    {
      "cell_type": "markdown",
      "source": [
        "#### 2-Norm of Gradient"
      ],
      "metadata": {
        "id": "XSnUBhJub36F"
      }
    },
    {
      "cell_type": "code",
      "source": [
        "def Grad_Norm(Step):\n",
        "\n",
        "  Step_Array = jnp.asarray(jax.flatten_util.ravel_pytree(test_parameters)[0])\n",
        "\n",
        "  return jnp.sum(jnp.square(Step_Array))"
      ],
      "metadata": {
        "id": "g_g39pWIb9gf"
      },
      "execution_count": null,
      "outputs": []
    },
    {
      "cell_type": "markdown",
      "source": [
        "##### Test 2-Norm of Gradient **Not Carried Out**"
      ],
      "metadata": {
        "id": "g7iNKojhfULW"
      }
    },
    {
      "cell_type": "code",
      "source": [
        "test_number_f = 10000\n",
        "test_m = 11\n",
        "test_key = random.PRNGKey(10)\n",
        "test_sigma_f = 1.0 \n",
        "test_ell_f = 0.01\n",
        "test_sigma_n = 0.05\n",
        "test_z_m = jnp.linspace(0.0, timef[-1], test_m)\n",
        "test_k_mm = Vec_SE(test_z_m, test_z_m, test_sigma_f, test_ell_f)\n",
        "test_c = jnp.linalg.cholesky(test_k_mm)\n",
        "test_v_m = jsc.linalg.solve_triangular(test_c, truef[0::2], lower = True)\n",
        "test_l_array = jnp.eye(test_m).at[jnp.tril_indices(test_m)].get()\n",
        "test_k_nn = Vec_SE(timef, timef, test_sigma_f, test_ell_f)\n",
        "test_parameters = (test_sigma_f, test_ell_f, test_sigma_n, test_z_m, test_v_m,\n",
        "                   test_l_array)\n",
        "test_grad_elbo = jit(grad(ELBO, argnums = (3, 4, 5, 6, 7, 8)), \n",
        "                     static_argnums = ((0,1)))\n",
        "test_step = test_grad_elbo(test_number_f, test_m, test_key, test_sigma_f, \n",
        "                           test_ell_f, test_sigma_n, test_z_m, test_v_m, \n",
        "                           test_l_array, test_k_nn, timex, testx, timey, testy)"
      ],
      "metadata": {
        "id": "1D3Rgd-9fXF9"
      },
      "execution_count": null,
      "outputs": []
    },
    {
      "cell_type": "code",
      "source": [
        "# \"Perfect\" Norm\n",
        "test_norm = Grad_Norm(test_step)"
      ],
      "metadata": {
        "id": "D6ellILtfeEv"
      },
      "execution_count": null,
      "outputs": []
    },
    {
      "cell_type": "code",
      "source": [
        "print(test_norm)"
      ],
      "metadata": {
        "id": "kSzJBGyyfseR"
      },
      "execution_count": null,
      "outputs": []
    },
    {
      "cell_type": "markdown",
      "source": [
        "#### Backtracking Line Search"
      ],
      "metadata": {
        "id": "gEQvcir9d7J6"
      }
    },
    {
      "cell_type": "markdown",
      "source": [
        "##### Conditional Function"
      ],
      "metadata": {
        "id": "LuoUtCuznyEA"
      }
    },
    {
      "cell_type": "code",
      "source": [
        "def Back_Cond():\n",
        "\n",
        "  Left_side = ELBO(Number_f, M, Subkey, *New_Parameters, K_NN, Timex, Testx,\n",
        "                  Timey, Testy)\n",
        "\n",
        "  Right_side =  Current_ELBO + Alpha * Step_t * Step_Norm"
      ],
      "metadata": {
        "id": "xSlDpy_Qn3Uw"
      },
      "execution_count": null,
      "outputs": []
    },
    {
      "cell_type": "markdown",
      "source": [
        "##### Backtrack"
      ],
      "metadata": {
        "id": "B9Fz39IHn31I"
      }
    },
    {
      "cell_type": "code",
      "source": [
        "def Back_Track(Alpha, Beta, Number_f, M, Subkey, Parameters, K_NN, Timex, Testx, \n",
        "               Timey, Testy):\n",
        "\n",
        "  Step_t = 1e-2\n",
        "\n",
        "  Gradient_ELBO = jit(grad(ELBO, argnums = (3, 4, 5, 6, 7, 8)),\n",
        "                      static_argnums = ((0,1)))\n",
        "  \n",
        "  Step = Gradient_ELBO(Number_f, M, Subkey, *Parameters, K_NN, Timex, Testx,\n",
        "                       Timey, Testy)\n",
        "  \n",
        "  Step_Norm = Grad_Norm(Step)\n",
        "  \n",
        "  Current_ELBO = ELBO(Number_f, M, Subkey, *Parameters, K_NN, Timex, Testx,\n",
        "                      Timey, Testy)\n",
        "\n",
        "  Iteratee = [Step_t, ]\n",
        "\n",
        "  Iteratee = lax.while_loop(a)\n",
        "  New_Parameters = Update(Step_t, Parameters, Gradient_ELBO)\n",
        "\n",
        "  Left_side = ELBO(Number_f, M, Subkey, *New_Parameters, K_NN, Timex, Testx,\n",
        "                  Timey, Testy)\n",
        "\n",
        "  Right_side =  Current_ELBO + Alpha * Step_t * Step_Norm\n",
        "\n",
        "\n",
        "\n",
        "\n"
      ],
      "metadata": {
        "id": "XPPKTtbceKQ1"
      },
      "execution_count": null,
      "outputs": []
    },
    {
      "cell_type": "markdown",
      "source": [
        "#### Gradient Ascent"
      ],
      "metadata": {
        "id": "BAEVCzYhZr-K"
      }
    },
    {
      "cell_type": "code",
      "source": [
        "def Grad_Ascent():\n",
        "\n",
        "  # Get Parameters\n",
        "\n",
        "  # While norm(Grad(ELBO(Parameters)))<Epsilon:\n",
        "\n",
        "  #     Backtrack to find next Params\n",
        "\n",
        "  #     Grad(ELBO(New Parameters))\n",
        "\n",
        "\n"
      ],
      "metadata": {
        "id": "STRdXjUCZ3a3"
      },
      "execution_count": null,
      "outputs": []
    }
  ]
}