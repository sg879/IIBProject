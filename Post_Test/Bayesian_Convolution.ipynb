{
  "nbformat": 4,
  "nbformat_minor": 0,
  "metadata": {
    "colab": {
      "name": "Bayesian_Convolution.ipynb",
      "provenance": [],
      "collapsed_sections": [
        "LOhUeazJG2z1"
      ],
      "authorship_tag": "ABX9TyOzTOZLRdn2s62GqS4Fuyt/",
      "include_colab_link": true
    },
    "kernelspec": {
      "name": "python3",
      "display_name": "Python 3"
    },
    "language_info": {
      "name": "python"
    },
    "accelerator": "TPU"
  },
  "cells": [
    {
      "cell_type": "markdown",
      "metadata": {
        "id": "view-in-github",
        "colab_type": "text"
      },
      "source": [
        "<a href=\"https://colab.research.google.com/github/sg879/IIBProject/blob/main/Post_Test/Bayesian_Convolution.ipynb\" target=\"_parent\"><img src=\"https://colab.research.google.com/assets/colab-badge.svg\" alt=\"Open In Colab\"/></a>"
      ]
    },
    {
      "cell_type": "code",
      "execution_count": 89,
      "metadata": {
        "colab": {
          "base_uri": "https://localhost:8080/"
        },
        "id": "INt21YUrhN8B",
        "outputId": "3d369ca1-081a-4145-ebe9-c52060b035bd"
      },
      "outputs": [
        {
          "output_type": "stream",
          "name": "stdout",
          "text": [
            "Drive already mounted at /content/drive; to attempt to forcibly remount, call drive.mount(\"/content/drive\", force_remount=True).\n"
          ]
        }
      ],
      "source": [
        "import os, sys\n",
        "from google.colab import drive\n",
        "drive.mount('/content/drive')"
      ]
    },
    {
      "cell_type": "markdown",
      "source": [
        "# Variational Inference on Test Data"
      ],
      "metadata": {
        "id": "U4iHX6fzhXnI"
      }
    },
    {
      "cell_type": "markdown",
      "source": [
        "## Importing Packages"
      ],
      "metadata": {
        "id": "m-IrbJRbReIF"
      }
    },
    {
      "cell_type": "code",
      "source": [
        "import matplotlib.pyplot as plt"
      ],
      "metadata": {
        "id": "fbM72hFBRRhc"
      },
      "execution_count": 90,
      "outputs": []
    },
    {
      "cell_type": "code",
      "source": [
        "%matplotlib inline"
      ],
      "metadata": {
        "id": "3qfSkxbXRTYs"
      },
      "execution_count": 91,
      "outputs": []
    },
    {
      "cell_type": "code",
      "execution_count": 92,
      "metadata": {
        "id": "I2mF29avQ9MM"
      },
      "outputs": [],
      "source": [
        "import numpy as np\n",
        "import jax.numpy as jnp\n",
        "import jax.scipy as jsc\n",
        "from jax import grad, jit, vmap, random, lax\n",
        "from functools import partial\n",
        "import jax\n",
        "from scipy.stats import multivariate_normal"
      ]
    },
    {
      "cell_type": "code",
      "source": [
        "from jax.config import config\n",
        "config.update(\"jax_enable_x64\", True)"
      ],
      "metadata": {
        "id": "-RF6Rxy-tE-A"
      },
      "execution_count": 93,
      "outputs": []
    },
    {
      "cell_type": "markdown",
      "source": [
        "## Load Test Data"
      ],
      "metadata": {
        "id": "XTe465kaRjaj"
      }
    },
    {
      "cell_type": "code",
      "source": [
        "testx = jnp.load('drive/MyDrive/Project/Test/Testx.npy').astype('f').flatten()\n",
        "truef = jnp.load('drive/MyDrive/Project/Test/Truef.npy').flatten()\n",
        "inw = jnp.load('drive/MyDrive/Project/Test/Inputwin.npy')\n",
        "outw = jnp.load('drive/MyDrive/Project/Test/Outputwin.npy')\n",
        "truen = jnp.load('drive/MyDrive/Project/Test/Noise.npy')\n",
        "testy = jsc.signal.convolve(testx, truef)\n",
        "testy += truen*jnp.ones(jnp.shape(testy))"
      ],
      "metadata": {
        "id": "LXWgK5X2RmO9"
      },
      "execution_count": 94,
      "outputs": []
    },
    {
      "cell_type": "code",
      "source": [
        "t = jnp.shape(testx)[0]-1\n",
        "n = jnp.shape(testy)[0] - t - 1\n",
        "dt = inw/t\n",
        "timex = jnp.linspace(0.0, t*dt, t+1)\n",
        "timey = jnp.linspace(0.0, (n+t)*dt, t+n+1)\n",
        "timef = jnp.linspace(0.0, n*dt, n+1)"
      ],
      "metadata": {
        "id": "gtLgozQbmLC6"
      },
      "execution_count": 95,
      "outputs": []
    },
    {
      "cell_type": "code",
      "source": [
        "plt.plot(timex, testx)"
      ],
      "metadata": {
        "colab": {
          "base_uri": "https://localhost:8080/",
          "height": 282
        },
        "id": "ivhnVr0hUDoB",
        "outputId": "0b87a48d-3c5b-4bff-bdec-9f911cf2858e"
      },
      "execution_count": 96,
      "outputs": [
        {
          "output_type": "execute_result",
          "data": {
            "text/plain": [
              "[<matplotlib.lines.Line2D at 0x7f6d6163ffd0>]"
            ]
          },
          "metadata": {},
          "execution_count": 96
        },
        {
          "output_type": "display_data",
          "data": {
            "image/png": "[encoded data removed]",
            "text/plain": [
              "<Figure size 432x288 with 1 Axes>"
            ]
          },
          "metadata": {
            "needs_background": "light"
          }
        }
      ]
    },
    {
      "cell_type": "code",
      "source": [
        "plt.plot(timey, testy)"
      ],
      "metadata": {
        "colab": {
          "base_uri": "https://localhost:8080/",
          "height": 282
        },
        "id": "cekyXVUSm8Xo",
        "outputId": "759fe03e-bbc2-4b0f-e388-10044ef66805"
      },
      "execution_count": 97,
      "outputs": [
        {
          "output_type": "execute_result",
          "data": {
            "text/plain": [
              "[<matplotlib.lines.Line2D at 0x7f6d612f57d0>]"
            ]
          },
          "metadata": {},
          "execution_count": 97
        },
        {
          "output_type": "display_data",
          "data": {
            "image/png": "[encoded data removed]",
            "text/plain": [
              "<Figure size 432x288 with 1 Axes>"
            ]
          },
          "metadata": {
            "needs_background": "light"
          }
        }
      ]
    },
    {
      "cell_type": "markdown",
      "source": [
        "## Function Definitions"
      ],
      "metadata": {
        "id": "dW8jCiSOlhCS"
      }
    },
    {
      "cell_type": "markdown",
      "source": [
        "### Cholesky Decomposition"
      ],
      "metadata": {
        "id": "HjaMUV9mmCZM"
      }
    },
    {
      "cell_type": "code",
      "source": [
        "@jit\n",
        "def Broke_Chol(Symmetric_Matrix):\n",
        "  F_size = jnp.shape(Symmetric_Matrix)[0]\n",
        "  return jnp.linalg.cholesky(Symmetric_Matrix + 10.0**(-6.0)*jnp.eye(F_size))"
      ],
      "metadata": {
        "id": "okXLOzDUmK-3"
      },
      "execution_count": 98,
      "outputs": []
    },
    {
      "cell_type": "code",
      "source": [
        "@jit\n",
        "def Good_Chol(Symmetric_Matrix):\n",
        "  return jnp.linalg.cholesky(Symmetric_Matrix)"
      ],
      "metadata": {
        "id": "0HsJgyUWmNDY"
      },
      "execution_count": 99,
      "outputs": []
    },
    {
      "cell_type": "markdown",
      "source": [
        "#### Test Cholesky"
      ],
      "metadata": {
        "id": "FD2WjqCtmTxI"
      }
    },
    {
      "cell_type": "code",
      "source": [
        "print(Vec_SE(timex[:3], timex[:3], 100.0, 0.1))"
      ],
      "metadata": {
        "colab": {
          "base_uri": "https://localhost:8080/"
        },
        "id": "UBPkHl8-MS_y",
        "outputId": "f52f758f-4f4c-44b4-baa4-49d29ac5d709"
      },
      "execution_count": 100,
      "outputs": [
        {
          "output_type": "stream",
          "name": "stdout",
          "text": [
            "[[0.01 0.01 0.01]\n",
            " [0.01 0.01 0.01]\n",
            " [0.01 0.01 0.01]]\n"
          ]
        }
      ]
    },
    {
      "cell_type": "code",
      "source": [
        "print(Good_Chol(Vec_SE(timex[:3], timex[:3], 100.0, 0.1)))"
      ],
      "metadata": {
        "colab": {
          "base_uri": "https://localhost:8080/"
        },
        "id": "ZXyjvQhFNHtc",
        "outputId": "49579b3c-682b-4a0f-96c8-2f0e0f5f5b2b"
      },
      "execution_count": 101,
      "outputs": [
        {
          "output_type": "stream",
          "name": "stdout",
          "text": [
            "[[nan  0.  0.]\n",
            " [nan nan  0.]\n",
            " [nan nan nan]]\n"
          ]
        }
      ]
    },
    {
      "cell_type": "code",
      "source": [
        "print(jnp.linalg.cholesky(Vec_SE(timex[:3], timex[:3], 100.0, 0.1)))"
      ],
      "metadata": {
        "colab": {
          "base_uri": "https://localhost:8080/"
        },
        "id": "6EDMoAb_LvYi",
        "outputId": "11281db1-c6c1-4721-c545-7df99d4b7197"
      },
      "execution_count": 102,
      "outputs": [
        {
          "output_type": "stream",
          "name": "stdout",
          "text": [
            "[[nan  0.  0.]\n",
            " [nan nan  0.]\n",
            " [nan nan nan]]\n"
          ]
        }
      ]
    },
    {
      "cell_type": "code",
      "source": [
        "print(Broke_Chol(Vec_SE(timex[:3], timex[:3], 100.0, 0.1)))"
      ],
      "metadata": {
        "colab": {
          "base_uri": "https://localhost:8080/"
        },
        "id": "NW3NjE9ZNMYf",
        "outputId": "1adbc640-e2f4-4778-fa66-406671b7972c"
      },
      "execution_count": 103,
      "outputs": [
        {
          "output_type": "stream",
          "name": "stdout",
          "text": [
            "[[0.100005   0.         0.        ]\n",
            " [0.099995   0.00141419 0.        ]\n",
            " [0.099995   0.00070708 0.00122476]]\n"
          ]
        }
      ]
    },
    {
      "cell_type": "code",
      "source": [
        "print(jnp.linalg.cholesky(Vec_SE(timex[:3], timex[:3], 100.0, 0.1)+10**(-6.0)*jnp.eye(3)))"
      ],
      "metadata": {
        "colab": {
          "base_uri": "https://localhost:8080/"
        },
        "id": "3hPZ66lkNQkE",
        "outputId": "69b1d330-cc13-4ba6-e05b-e8b922711a69"
      },
      "execution_count": 104,
      "outputs": [
        {
          "output_type": "stream",
          "name": "stdout",
          "text": [
            "[[0.100005   0.         0.        ]\n",
            " [0.099995   0.00141419 0.        ]\n",
            " [0.099995   0.00070708 0.00122476]]\n"
          ]
        }
      ]
    },
    {
      "cell_type": "markdown",
      "source": [
        "### Lower Triangular Matrix **Cannot be jit-ed**"
      ],
      "metadata": {
        "id": "ZpUZ-u-PsQjt"
      }
    },
    {
      "cell_type": "code",
      "source": [
        "def Build_L(L_Array):\n",
        "\n",
        "  L_Array_size = jnp.shape(L_Array)[0]\n",
        "\n",
        "  M = jnp.round((-0.5 + jnp.sqrt(0.25 + 2*L_Array_size))).astype(jnp.integer)\n",
        "\n",
        "  L_MM = jnp.zeros((M, M))\n",
        "\n",
        "  return L_MM.at[jnp.tril_indices(M)].set(L_Array)"
      ],
      "metadata": {
        "id": "a3jVxVrEsWyL"
      },
      "execution_count": 105,
      "outputs": []
    },
    {
      "cell_type": "markdown",
      "source": [
        "#### Lower Triangular Matrix Test"
      ],
      "metadata": {
        "id": "Zy8-Igf7vL-G"
      }
    },
    {
      "cell_type": "code",
      "source": [
        "test_m = 10\n",
        "test_triangle_size = jnp.round(test_m*(test_m + 1)/2).astype(jnp.integer)\n",
        "test_eye = jnp.eye(test_m).at[jnp.tril_indices(test_m)].get()"
      ],
      "metadata": {
        "id": "9f9-6iPsvTSY"
      },
      "execution_count": 106,
      "outputs": []
    },
    {
      "cell_type": "code",
      "source": [
        "print(Build_L(5*jnp.ones((test_triangle_size,))))"
      ],
      "metadata": {
        "colab": {
          "base_uri": "https://localhost:8080/"
        },
        "id": "Lg1pSaKYx4rX",
        "outputId": "f908b7a5-ffa6-45ea-930c-ca45eb9c7e6d"
      },
      "execution_count": 107,
      "outputs": [
        {
          "output_type": "stream",
          "name": "stdout",
          "text": [
            "[[5. 0. 0. 0. 0. 0. 0. 0. 0. 0.]\n",
            " [5. 5. 0. 0. 0. 0. 0. 0. 0. 0.]\n",
            " [5. 5. 5. 0. 0. 0. 0. 0. 0. 0.]\n",
            " [5. 5. 5. 5. 0. 0. 0. 0. 0. 0.]\n",
            " [5. 5. 5. 5. 5. 0. 0. 0. 0. 0.]\n",
            " [5. 5. 5. 5. 5. 5. 0. 0. 0. 0.]\n",
            " [5. 5. 5. 5. 5. 5. 5. 0. 0. 0.]\n",
            " [5. 5. 5. 5. 5. 5. 5. 5. 0. 0.]\n",
            " [5. 5. 5. 5. 5. 5. 5. 5. 5. 0.]\n",
            " [5. 5. 5. 5. 5. 5. 5. 5. 5. 5.]]\n"
          ]
        }
      ]
    },
    {
      "cell_type": "code",
      "source": [
        "print(Build_L(test_eye))"
      ],
      "metadata": {
        "colab": {
          "base_uri": "https://localhost:8080/"
        },
        "id": "eZedvXeyyAgP",
        "outputId": "d55aa554-fef9-4cd8-cea9-47c7b5f3c3ce"
      },
      "execution_count": 108,
      "outputs": [
        {
          "output_type": "stream",
          "name": "stdout",
          "text": [
            "[[1. 0. 0. 0. 0. 0. 0. 0. 0. 0.]\n",
            " [0. 1. 0. 0. 0. 0. 0. 0. 0. 0.]\n",
            " [0. 0. 1. 0. 0. 0. 0. 0. 0. 0.]\n",
            " [0. 0. 0. 1. 0. 0. 0. 0. 0. 0.]\n",
            " [0. 0. 0. 0. 1. 0. 0. 0. 0. 0.]\n",
            " [0. 0. 0. 0. 0. 1. 0. 0. 0. 0.]\n",
            " [0. 0. 0. 0. 0. 0. 1. 0. 0. 0.]\n",
            " [0. 0. 0. 0. 0. 0. 0. 1. 0. 0.]\n",
            " [0. 0. 0. 0. 0. 0. 0. 0. 1. 0.]\n",
            " [0. 0. 0. 0. 0. 0. 0. 0. 0. 1.]]\n"
          ]
        }
      ]
    },
    {
      "cell_type": "markdown",
      "source": [
        "### SE Prior"
      ],
      "metadata": {
        "id": "bBJK3WkqljKa"
      }
    },
    {
      "cell_type": "markdown",
      "source": [
        "#### SE Covariance Function"
      ],
      "metadata": {
        "id": "YZKaw_wDlm1T"
      }
    },
    {
      "cell_type": "code",
      "source": [
        "@jit\n",
        "def Squared_exp(I, J, Ell, Sigma_f):\n",
        "  return Sigma_f**2.0*jnp.exp(-(I-J)**2/(2*Ell**2.0))"
      ],
      "metadata": {
        "id": "IZMC8MuZlrSQ"
      },
      "execution_count": 109,
      "outputs": []
    },
    {
      "cell_type": "code",
      "source": [
        "Vec_SE = jit(vmap(vmap(Squared_exp, in_axes=[None,0,None,None]),in_axes=[0,None,None,None]))"
      ],
      "metadata": {
        "id": "DUIZEWzdltFD"
      },
      "execution_count": 110,
      "outputs": []
    },
    {
      "cell_type": "markdown",
      "source": [
        "##### SE Test"
      ],
      "metadata": {
        "id": "md0zl6VX7wYY"
      }
    },
    {
      "cell_type": "code",
      "source": [
        "testSEx = jnp.asarray([0.0, 0.3, 0.6, 0.9])"
      ],
      "metadata": {
        "id": "YcMF3LHu8CtO"
      },
      "execution_count": 111,
      "outputs": []
    },
    {
      "cell_type": "code",
      "source": [
        "testSEy = jnp.asarray([0.0, 0.3, 0.6])"
      ],
      "metadata": {
        "id": "pDCYkWFOl35y"
      },
      "execution_count": 112,
      "outputs": []
    },
    {
      "cell_type": "code",
      "source": [
        "print(testSEx)"
      ],
      "metadata": {
        "colab": {
          "base_uri": "https://localhost:8080/"
        },
        "id": "ddhza0FqMu4Q",
        "outputId": "bff645b4-f517-4599-c7d0-94b5150d0c5c"
      },
      "execution_count": 113,
      "outputs": [
        {
          "output_type": "stream",
          "name": "stdout",
          "text": [
            "[0.  0.3 0.6 0.9]\n"
          ]
        }
      ]
    },
    {
      "cell_type": "code",
      "source": [
        "print(Vec_SE(testSEx, testSEx, 0.2, 3.0))"
      ],
      "metadata": {
        "colab": {
          "base_uri": "https://localhost:8080/"
        },
        "id": "hVtmDjjB8MuW",
        "outputId": "50faca00-fffd-4dbd-988a-f9de17e49e88"
      },
      "execution_count": 114,
      "outputs": [
        {
          "output_type": "stream",
          "name": "stdout",
          "text": [
            "[[9.00000000e+00 2.92187221e+00 9.99809688e-02 3.60587677e-04]\n",
            " [2.92187221e+00 9.00000000e+00 2.92187221e+00 9.99809688e-02]\n",
            " [9.99809688e-02 2.92187221e+00 9.00000000e+00 2.92187221e+00]\n",
            " [3.60587677e-04 9.99809688e-02 2.92187221e+00 9.00000000e+00]]\n"
          ]
        }
      ]
    },
    {
      "cell_type": "code",
      "source": [
        "print(Vec_SE(testSEx, testSEy, 0.2, 3.0))"
      ],
      "metadata": {
        "colab": {
          "base_uri": "https://localhost:8080/"
        },
        "id": "Wo0rssZzl82m",
        "outputId": "3895a973-1de1-415e-a5c3-7ca8a9e20e23"
      },
      "execution_count": 115,
      "outputs": [
        {
          "output_type": "stream",
          "name": "stdout",
          "text": [
            "[[9.00000000e+00 2.92187221e+00 9.99809688e-02]\n",
            " [2.92187221e+00 9.00000000e+00 2.92187221e+00]\n",
            " [9.99809688e-02 2.92187221e+00 9.00000000e+00]\n",
            " [3.60587677e-04 9.99809688e-02 2.92187221e+00]]\n"
          ]
        }
      ]
    },
    {
      "cell_type": "markdown",
      "source": [
        "### Variational Bound (ELBO)"
      ],
      "metadata": {
        "id": "f5azpXYfmzag"
      }
    },
    {
      "cell_type": "markdown",
      "source": [
        "#### KL Divergence"
      ],
      "metadata": {
        "id": "iBC9y9hhm33p"
      }
    },
    {
      "cell_type": "code",
      "source": [
        "@jit\n",
        "def Kl_div(V_M, L_MM):\n",
        "  M = jnp.shape(V_M)[0]\n",
        "  return 0.5*(-jnp.sum(jnp.log(jnp.square(jnp.diag(L_MM)))) +\n",
        "              jnp.linalg.norm(L_MM)**2 + jnp.linalg.norm(V_M)**2 - M)"
      ],
      "metadata": {
        "id": "rpEGwVhgm6yy"
      },
      "execution_count": 116,
      "outputs": []
    },
    {
      "cell_type": "markdown",
      "source": [
        "##### KL Divergence Test **Not Carried Out**"
      ],
      "metadata": {
        "id": "LOhUeazJG2z1"
      }
    },
    {
      "cell_type": "code",
      "source": [
        "#test_Lmat = jnp.eye(3)\n",
        "test_Vu = 0.5*jnp.ones(3)"
      ],
      "metadata": {
        "id": "oWboC8eMG7a-"
      },
      "execution_count": 117,
      "outputs": []
    },
    {
      "cell_type": "code",
      "source": [
        "#print(kl_div(test_Vu, test_Lmat))"
      ],
      "metadata": {
        "id": "1ZKP-xcls0Il"
      },
      "execution_count": 118,
      "outputs": []
    },
    {
      "cell_type": "markdown",
      "source": [
        "#### Log-Likelihood"
      ],
      "metadata": {
        "id": "ixlqOvl4p4ER"
      }
    },
    {
      "cell_type": "code",
      "source": [
        "@jit\n",
        "def Loglikely(Sigma_n, F_Sample, Testx, Testy):\n",
        "\n",
        "  # Convolve the x-data and the f-sample together\n",
        "  Y_mean = jsc.signal.convolve(Testx, F_Sample)\n",
        "\n",
        "  # Shape of output-data\n",
        "  D = jnp.shape(Y_mean)[0]\n",
        "\n",
        "  # Difference between y-data and the mean \n",
        "  Diff = Testy - Y_mean\n",
        "\n",
        "  return 0.5*(-D*jnp.log(2*jnp.pi) - 2*D*jnp.log(Sigma_n) - \n",
        "              jnp.linalg.norm(Diff)**2/Sigma_n**2)"
      ],
      "metadata": {
        "id": "8ionyOWUqBEF"
      },
      "execution_count": 119,
      "outputs": []
    },
    {
      "cell_type": "code",
      "source": [
        "Vec_Loglikely = jit(vmap(Loglikely, in_axes = [None, 0, None, None]))"
      ],
      "metadata": {
        "id": "Xp4dKdfR85Hz"
      },
      "execution_count": 193,
      "outputs": []
    },
    {
      "cell_type": "markdown",
      "source": [
        "###### Log-Likelihood Test"
      ],
      "metadata": {
        "id": "H4IXxJEUdW47"
      }
    },
    {
      "cell_type": "code",
      "source": [
        "print(jsc.stats.multivariate_normal.logpdf(testy, jnp.convolve(testx, truef), 0.05**2*jnp.eye(t+n+1)))"
      ],
      "metadata": {
        "colab": {
          "base_uri": "https://localhost:8080/"
        },
        "id": "ndqdkCwLawck",
        "outputId": "094feedc-f489-4b36-d381-dfd291f73c81"
      },
      "execution_count": 120,
      "outputs": [
        {
          "output_type": "stream",
          "name": "stdout",
          "text": [
            "190.79204258226773\n"
          ]
        }
      ]
    },
    {
      "cell_type": "code",
      "source": [
        "print(Loglikely(0.05, truef, testx, testy))"
      ],
      "metadata": {
        "id": "VCMvKbNF8q-K",
        "outputId": "ae804972-be37-4d14-bfe5-ebaa5251e3bd",
        "colab": {
          "base_uri": "https://localhost:8080/"
        }
      },
      "execution_count": 121,
      "outputs": [
        {
          "output_type": "stream",
          "name": "stdout",
          "text": [
            "190.7920425822675\n"
          ]
        }
      ]
    },
    {
      "cell_type": "code",
      "source": [
        "print(Vec_Loglikely(0.05, jnp.vstack((truef, truef)), testx, testy))"
      ],
      "metadata": {
        "colab": {
          "base_uri": "https://localhost:8080/"
        },
        "id": "mCHAXCQM9NL7",
        "outputId": "7f68c84c-90b3-456f-a8c2-82de23e874d9"
      },
      "execution_count": 197,
      "outputs": [
        {
          "output_type": "stream",
          "name": "stdout",
          "text": [
            "[190.79204258 190.79204258]\n"
          ]
        }
      ]
    },
    {
      "cell_type": "markdown",
      "source": [
        "#### Expected Log-Likelihood"
      ],
      "metadata": {
        "id": "K77Ek_-lyD3T"
      }
    },
    {
      "cell_type": "code",
      "source": [
        "#@partial(jit, static_argnums = (0,1))\n",
        "def Exp_Loglikely(Number_f, M, Subkey, Sigma_f, Ell_f, Sigma_n, Z_M, V_M, L_MM, K_NN, \n",
        "                  Timex, Testx, Timey, Testy):\n",
        "  \n",
        "  # Get vector of filter times\n",
        "  Dt = Timex[1]\n",
        "  T = jnp.shape(Testx)[0] - 1\n",
        "  N = jnp.shape(Testy)[0] - T - 1\n",
        "\n",
        "  F_times = jnp.linspace(0.0, Timey[-1]-Timex[-1], N + 1)\n",
        "\n",
        "  # Get the relevant matrices\n",
        "  K_MN = Vec_SE(Z_M, F_times, Ell_f, Sigma_f)\n",
        "  K_MM = Vec_SE(Z_M, Z_M, Ell_f, Sigma_f)\n",
        "  C_MM = jnp.linalg.cholesky(K_MM + 1e-6)\n",
        "  BT = jsc.linalg.solve_triangular(C_MM, K_MN, lower = True, overwrite_b = True)\n",
        "\n",
        "  # Build the mean vector and covariance matrix of q(f)\n",
        "  Mu_q = V_M @ BT\n",
        "  V_q = K_NN + BT.T @ (L_MM @ L_MM.T - jnp.eye(M)) @ BT\n",
        "\n",
        "  # Get the samples of f\n",
        "  Sampled_fs = random.multivariate_normal(Subkey, Mu_q, V_q, shape = (Number_f,))\n",
        "\n",
        "  # Get the mean log-likelihood with each of these fs\n",
        "  Likelihoods = Vec_Loglikely(Sigma_n, Sampled_fs, Testx, Testy)\n",
        "\n",
        "  return F_times, Mu_q, V_q, Dt, T, N, Sampled_fs, Likelihoods, jnp.mean(Likelihoods)\n"
      ],
      "metadata": {
        "id": "-hEjx6Zjzkzs"
      },
      "execution_count": 209,
      "outputs": []
    },
    {
      "cell_type": "markdown",
      "source": [
        "##### Expected Log-Likelihood Test"
      ],
      "metadata": {
        "id": "lBwIu2G5tN93"
      }
    },
    {
      "cell_type": "code",
      "source": [
        "test_number_f = 10000\n",
        "test_m = 11\n",
        "test_key = random.PRNGKey(10)\n",
        "test_eye = jnp.eye(test_m).at[jnp.tril_indices(test_m)].get()\n",
        "test_sigma_f = 1.0\n",
        "test_ell_f = 0.01\n",
        "test_sigma_n = 0.05\n",
        "test_z_m = jnp.linspace(0.0, timef[-1], test_m)\n",
        "test_v_m = jnp.exp(-75*testz_m)\n",
        "test_l_mm = Build_L(test_eye)\n",
        "test_k_nn = Vec_SE(timef, timef, test_ell_f, test_sigma_f)"
      ],
      "metadata": {
        "id": "h94xtwtyng4g"
      },
      "execution_count": 210,
      "outputs": []
    },
    {
      "cell_type": "code",
      "source": [
        "test_Ex = "
      ],
      "metadata": {
        "id": "s4fXAmh03J0v"
      },
      "execution_count": null,
      "outputs": []
    },
    {
      "cell_type": "code",
      "source": [
        "%%capture\n",
        "print(jnp.linalg.cholesky(Exp_Loglikely(1, test_m, test_key, test_sigma_f, test_ell_f, test_sigma_n, test_z_m, \n",
        "                    test_v_m, test_l_mm, test_k_nn, timex, testx, timey, testy)[2]))"
      ],
      "metadata": {
        "id": "W_Sz-7vonxIj"
      },
      "execution_count": 211,
      "outputs": []
    },
    {
      "cell_type": "code",
      "source": [
        "test_mu_q = Exp_Loglikely(1, test_m, test_key, test_sigma_f, test_ell_f, test_sigma_n, test_z_m, \n",
        "                    test_v_m, test_l_mm, test_k_nn, timex, testx, timey, testy)[1]"
      ],
      "metadata": {
        "id": "TGmoRigr430J"
      },
      "execution_count": 212,
      "outputs": []
    },
    {
      "cell_type": "code",
      "source": [
        "test_v_q = Exp_Loglikely(1, test_m, test_key, test_sigma_f, test_ell_f, test_sigma_n, test_z_m, \n",
        "                    test_v_m, test_l_mm, test_k_nn, timex, testx, timey, testy)[2]"
      ],
      "metadata": {
        "id": "95hB3YtM56GS"
      },
      "execution_count": 213,
      "outputs": []
    },
    {
      "cell_type": "code",
      "source": [
        "test_samples_f = Exp_Loglikely(test_number_f, test_m, test_key, test_sigma_f, \n",
        "                               test_ell_f, test_sigma_n, test_z_m, test_v_m, \n",
        "                               test_l_mm, test_k_nn, timex, testx, timey, testy)[6]"
      ],
      "metadata": {
        "id": "JAnw5ctz7oG0"
      },
      "execution_count": 217,
      "outputs": []
    },
    {
      "cell_type": "code",
      "source": [
        "print(test_mu_q)"
      ],
      "metadata": {
        "colab": {
          "base_uri": "https://localhost:8080/"
        },
        "id": "OnmfonAA-MKv",
        "outputId": "f338061a-554e-452b-e73d-d80e0cbdb9f4"
      },
      "execution_count": 218,
      "outputs": [
        {
          "output_type": "stream",
          "name": "stdout",
          "text": [
            "[0.99999898 1.06831145 0.98208968 0.80565478 0.61188347 0.4437444\n",
            " 0.31387242 0.21917198 0.15201341 0.10503992 0.07242631 0.04987598\n",
            " 0.0343184  0.02360091 0.01622933 0.01116141 0.0076694  0.00526385\n",
            " 0.00362333 0.00250741 0.00171163]\n"
          ]
        }
      ]
    },
    {
      "cell_type": "code",
      "source": [
        "print(jnp.mean(test_samples_f, axis=0))"
      ],
      "metadata": {
        "colab": {
          "base_uri": "https://localhost:8080/"
        },
        "id": "L8zIKKlX-FjZ",
        "outputId": "a7005770-2a32-4f36-ca6c-b0e638465dec"
      },
      "execution_count": 219,
      "outputs": [
        {
          "output_type": "stream",
          "name": "stdout",
          "text": [
            "[ 0.97043617  1.0459039   0.97477539  0.81505439  0.63289291  0.46804735\n",
            "  0.33549271  0.23414696  0.15717143  0.09965303  0.05964824  0.03552501\n",
            "  0.02220887  0.01317033  0.00619959  0.0038984   0.00696934  0.00886759\n",
            "  0.00443596 -0.00126225 -0.00177281]\n"
          ]
        }
      ]
    },
    {
      "cell_type": "code",
      "source": [
        "test_likelihoods = Exp_Loglikely(test_number_f, test_m, test_key, test_sigma_f, \n",
        "                               test_ell_f, test_sigma_n, test_z_m, test_v_m, \n",
        "                               test_l_mm, test_k_nn, timex, testx, timey, testy)[-2]"
      ],
      "metadata": {
        "id": "jZp2vLUN9yf2"
      },
      "execution_count": 221,
      "outputs": []
    },
    {
      "cell_type": "code",
      "source": [
        "print(test_samples_f == random.multivariate_normal(test_key, test_mu_q, test_v_q, shape = (test_number_f, )))"
      ],
      "metadata": {
        "colab": {
          "base_uri": "https://localhost:8080/"
        },
        "id": "sSZdgEwb6BaA",
        "outputId": "f85a7ec5-fd39-4bc1-8d2c-3d02c1c484e2"
      },
      "execution_count": 222,
      "outputs": [
        {
          "output_type": "stream",
          "name": "stdout",
          "text": [
            "[[ True  True  True ...  True  True  True]\n",
            " [ True  True  True ...  True  True  True]\n",
            " [ True  True  True ...  True  True  True]\n",
            " ...\n",
            " [ True  True  True ...  True  True  True]\n",
            " [ True  True  True ...  True  True  True]\n",
            " [ True  True  True ...  True  True  True]]\n"
          ]
        }
      ]
    },
    {
      "cell_type": "code",
      "source": [
        "print(Exp_Loglikely(test_number_f, test_m, test_key, test_sigma_f, \n",
        "                               test_ell_f, test_sigma_n, test_z_m, test_v_m, \n",
        "                               test_l_mm, test_k_nn, timex, testx, timey, testy)[-1])"
      ],
      "metadata": {
        "colab": {
          "base_uri": "https://localhost:8080/"
        },
        "id": "j66XK0mP2EG8",
        "outputId": "5ccd8a92-884b-4ad7-dba8-2d2c43f5b39d"
      },
      "execution_count": 223,
      "outputs": [
        {
          "output_type": "stream",
          "name": "stdout",
          "text": [
            "-137597.612360929\n"
          ]
        }
      ]
    }
  ]
}