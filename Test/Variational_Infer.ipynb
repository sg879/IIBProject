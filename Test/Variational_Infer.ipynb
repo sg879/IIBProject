{
  "nbformat": 4,
  "nbformat_minor": 0,
  "metadata": {
    "colab": {
      "name": "Variational_Infer.ipynb",
      "provenance": [],
      "collapsed_sections": [],
      "authorship_tag": "ABX9TyM39P1I/i4XYrWzNNRb8lQ2",
      "include_colab_link": true
    },
    "kernelspec": {
      "name": "python3",
      "display_name": "Python 3"
    },
    "language_info": {
      "name": "python"
    },
    "accelerator": "TPU"
  },
  "cells": [
    {
      "cell_type": "markdown",
      "metadata": {
        "id": "view-in-github",
        "colab_type": "text"
      },
      "source": [
        "<a href=\"https://colab.research.google.com/github/sg879/IIBProject/blob/main/Test/Variational_Infer.ipynb\" target=\"_parent\"><img src=\"https://colab.research.google.com/assets/colab-badge.svg\" alt=\"Open In Colab\"/></a>"
      ]
    },
    {
      "cell_type": "code",
      "source": [
        "import os, sys\n",
        "from google.colab import drive\n",
        "drive.mount('/content/drive')"
      ],
      "metadata": {
        "colab": {
          "base_uri": "https://localhost:8080/"
        },
        "id": "EpmUjs1xTZuN",
        "outputId": "f2423c5b-1487-4b45-e8f0-fea1aa35b2e3"
      },
      "execution_count": 2,
      "outputs": [
        {
          "output_type": "stream",
          "name": "stdout",
          "text": [
            "Mounted at /content/drive\n"
          ]
        }
      ]
    },
    {
      "cell_type": "markdown",
      "source": [
        "# Variational Inference on the Test Data"
      ],
      "metadata": {
        "id": "UzMkW5aTRXVm"
      }
    },
    {
      "cell_type": "markdown",
      "source": [
        "## Importing Packages"
      ],
      "metadata": {
        "id": "m-IrbJRbReIF"
      }
    },
    {
      "cell_type": "code",
      "source": [
        "import matplotlib.pyplot as plt"
      ],
      "metadata": {
        "id": "fbM72hFBRRhc"
      },
      "execution_count": 3,
      "outputs": []
    },
    {
      "cell_type": "code",
      "source": [
        "%matplotlib inline"
      ],
      "metadata": {
        "id": "3qfSkxbXRTYs"
      },
      "execution_count": 4,
      "outputs": []
    },
    {
      "cell_type": "code",
      "execution_count": 5,
      "metadata": {
        "id": "I2mF29avQ9MM"
      },
      "outputs": [],
      "source": [
        "import numpy as np\n",
        "import jax.numpy as jnp\n",
        "import jax.scipy as jsc\n",
        "from jax import grad, jit, vmap, random, lax\n",
        "from functools import partial\n",
        "import jax"
      ]
    },
    {
      "cell_type": "code",
      "source": [
        "from jax.config import config\n",
        "config.update(\"jax_enable_x64\", True)"
      ],
      "metadata": {
        "id": "-RF6Rxy-tE-A"
      },
      "execution_count": 6,
      "outputs": []
    },
    {
      "cell_type": "markdown",
      "source": [
        "## Load Test Data"
      ],
      "metadata": {
        "id": "XTe465kaRjaj"
      }
    },
    {
      "cell_type": "code",
      "source": [
        "testx = jnp.load('drive/MyDrive/Project/Test/Testx.npy').astype('f')\n",
        "testy = jnp.load('drive/MyDrive/Project/Test/Testy.npy')\n",
        "inw = jnp.load('drive/MyDrive/Project/Test/Inputwin.npy')\n",
        "outw = jnp.load('drive/MyDrive/Project/Test/Outputwin.npy')"
      ],
      "metadata": {
        "id": "LXWgK5X2RmO9"
      },
      "execution_count": 7,
      "outputs": []
    },
    {
      "cell_type": "code",
      "source": [
        "k = jnp.shape(testx)[0]-1\n",
        "m = jnp.shape(testy)[0] - k - 1\n",
        "binw = inw/k\n",
        "timex = jnp.linspace(0.0, k*binw, k+1)\n",
        "timey = jnp.linspace(0.0, (m+k)*binw, k+m+1)"
      ],
      "metadata": {
        "id": "gtLgozQbmLC6",
        "colab": {
          "base_uri": "https://localhost:8080/"
        },
        "outputId": "496d26a5-5d6d-40f8-e1d2-69804b591299"
      },
      "execution_count": 8,
      "outputs": [
        {
          "output_type": "stream",
          "name": "stderr",
          "text": [
            "WARNING:absl:No GPU/TPU found, falling back to CPU. (Set TF_CPP_MIN_LOG_LEVEL=0 and rerun for more info.)\n"
          ]
        }
      ]
    },
    {
      "cell_type": "code",
      "source": [
        "plt.plot(timex, testx)"
      ],
      "metadata": {
        "colab": {
          "base_uri": "https://localhost:8080/",
          "height": 282
        },
        "id": "ivhnVr0hUDoB",
        "outputId": "764e14c9-acac-4e30-d082-c89636dc336f"
      },
      "execution_count": 9,
      "outputs": [
        {
          "output_type": "execute_result",
          "data": {
            "text/plain": [
              "[<matplotlib.lines.Line2D at 0x7f8cbaf527d0>]"
            ]
          },
          "metadata": {},
          "execution_count": 9
        },
        {
          "output_type": "display_data",
          "data": {
            "image/png": "[encoded data removed]",
            "text/plain": [
              "<Figure size 432x288 with 1 Axes>"
            ]
          },
          "metadata": {
            "needs_background": "light"
          }
        }
      ]
    },
    {
      "cell_type": "code",
      "source": [
        "plt.plot(timey, testy)"
      ],
      "metadata": {
        "colab": {
          "base_uri": "https://localhost:8080/",
          "height": 282
        },
        "id": "cekyXVUSm8Xo",
        "outputId": "2c1cda97-d318-4ceb-d6d5-bae6a0494ca7"
      },
      "execution_count": 10,
      "outputs": [
        {
          "output_type": "execute_result",
          "data": {
            "text/plain": [
              "[<matplotlib.lines.Line2D at 0x7f8cbaa3d890>]"
            ]
          },
          "metadata": {},
          "execution_count": 10
        },
        {
          "output_type": "display_data",
          "data": {
            "image/png": "[encoded data removed]",
            "text/plain": [
              "<Figure size 432x288 with 1 Axes>"
            ]
          },
          "metadata": {
            "needs_background": "light"
          }
        }
      ]
    },
    {
      "cell_type": "markdown",
      "source": [
        "## Function Definitions"
      ],
      "metadata": {
        "id": "eHPQI_3UnQjD"
      }
    },
    {
      "cell_type": "markdown",
      "source": [
        "### SE Prior\n"
      ],
      "metadata": {
        "id": "jrlR_DEntFZH"
      }
    },
    {
      "cell_type": "code",
      "source": [
        "@jit\n",
        "def squared_exp2(I, J, Ell, Sigma_f):\n",
        "  return Sigma_f**2.0*jnp.exp(-(I-J)**2/(2*Ell**2.0))"
      ],
      "metadata": {
        "id": "0iihKVnAtIrY"
      },
      "execution_count": 11,
      "outputs": []
    },
    {
      "cell_type": "code",
      "source": [
        "vec_SE = jit(vmap(vmap(squared_exp2, in_axes=[None,0,None,None]),in_axes=[0,None,None,None]))"
      ],
      "metadata": {
        "id": "q_rY_alTtJaL"
      },
      "execution_count": 12,
      "outputs": []
    },
    {
      "cell_type": "code",
      "source": [
        "@jit\n",
        "def root_squared_exp2(I, J, Ell, Sigma_f, Dt):\n",
        "  return Sigma_f*(2/jnp.pi)**(0.25)*(Dt/Ell)**(0.5)*jnp.exp(-(I-J)**2/Ell**2)"
      ],
      "metadata": {
        "id": "uEyf-lN9m3Jg"
      },
      "execution_count": 13,
      "outputs": []
    },
    {
      "cell_type": "code",
      "source": [
        "vec_SE_root = jit(vmap(vmap(root_squared_exp2, in_axes=[None,0,None,None, None]),in_axes=[0,None,None,None, None]))"
      ],
      "metadata": {
        "id": "WVpjDDSmn4Jw"
      },
      "execution_count": 14,
      "outputs": []
    },
    {
      "cell_type": "markdown",
      "source": [
        "### Cholesky Check"
      ],
      "metadata": {
        "id": "V12h2r8g8Koq"
      }
    },
    {
      "cell_type": "code",
      "source": [
        "@jit\n",
        "def checknans(Symmetric_Matrix, Power):\n",
        "  # Power MUST be input as a float\n",
        "  M = jnp.shape(Symmetric_Matrix)[0]\n",
        "  return Symmetric_Matrix, jnp.isnan(jnp.linalg.cholesky(Symmetric_Matrix +\n",
        "                                                         (10**Power)*jnp.eye(M))).any().astype('f')"
      ],
      "metadata": {
        "id": "BfB8d2dhaXXK"
      },
      "execution_count": 15,
      "outputs": []
    },
    {
      "cell_type": "code",
      "source": [
        "@jit\n",
        "def choleskypwr(Symmetric_Matrix):\n",
        "  Number_check = 60\n",
        "  Power_list = -1*jnp.arange(Number_check + 1, dtype='f')\n",
        "  _, Failure = lax.scan(checknans, Symmetric_Matrix, Power_list)\n",
        "  return jnp.sum(Failure)"
      ],
      "metadata": {
        "id": "wdQ2MfY5ZisM"
      },
      "execution_count": 16,
      "outputs": []
    },
    {
      "cell_type": "code",
      "source": [
        "@jit\n",
        "def broke_Chol(Symmetric_Matrix):\n",
        "  F_size = jnp.shape(Symmetric_Matrix)[0]\n",
        "  return jnp.linalg.cholesky(Symmetric_Matrix + 10.0**(-2.0)*jnp.eye(F_size))"
      ],
      "metadata": {
        "id": "Zd0HXXgeEzCm"
      },
      "execution_count": 323,
      "outputs": []
    },
    {
      "cell_type": "code",
      "source": [
        "@jit\n",
        "def good_Chol(Symmetric_Matrix):\n",
        "  return jnp.linalg.cholesky(Symmetric_Matrix)"
      ],
      "metadata": {
        "id": "XUCM9SQnytWU"
      },
      "execution_count": 18,
      "outputs": []
    },
    {
      "cell_type": "code",
      "source": [
        "def choleskyit(Symmetric_Matrix):\n",
        "  Number_check = 60\n",
        "  Power_list = -1*jnp.arange(Number_check+1)\n",
        "  Base_list = 10*jnp.ones(Number_check)\n",
        "  Lambdas = jnp.power(Base_list, Power_list)\n",
        "  M = jnp.shape(Symmetric_Matrix)[0]\n",
        "  Larr = jnp.linalg.cholesky(Symmetric_Matrix).flatten()\n",
        "  Ind = 1\n",
        "\n",
        "  while jnp.isnan(Larr).any():\n",
        "    Larr = jnp.linalg.cholesky(Symmetric_Matrix + Lambdas.at[-Ind].get()*jnp.eye(M)).flatten()\n",
        "    Ind += 1\n",
        "\n",
        "  return Larr.reshape((M, M))"
      ],
      "metadata": {
        "id": "Sz7Gb-z-8PUC"
      },
      "execution_count": 19,
      "outputs": []
    },
    {
      "cell_type": "markdown",
      "source": [
        "### Variational Bound (ELBO)"
      ],
      "metadata": {
        "id": "UgH2pinnnZSk"
      }
    },
    {
      "cell_type": "markdown",
      "source": [
        "#### KL Divergence"
      ],
      "metadata": {
        "id": "QksAQCrrnfoy"
      }
    },
    {
      "cell_type": "code",
      "source": [
        "@jit\n",
        "def kl_div(L_matrix, Prior_cov_root,  Mu_prior, Param_vu):\n",
        "  # Not including m/2 term as not being optimised over\n",
        "  return jnp.sum(jnp.log(jnp.diag(L_matrix))) + 0.5*(jnp.linalg.norm(L_matrix)**2) + \\\n",
        "            0.5*(jnp.linalg.norm(jnp.linalg.lstsq(Prior_cov_root, Mu_prior)[0] - Param_vu)**2)"
      ],
      "metadata": {
        "id": "gC7kfPrFnkJA"
      },
      "execution_count": 22,
      "outputs": []
    },
    {
      "cell_type": "code",
      "source": [
        "jax.devices()"
      ],
      "metadata": {
        "id": "7Mbna3QPzxCD",
        "outputId": "a4cd8fc3-2da5-42a4-f9e4-ab95af9c76fd",
        "colab": {
          "base_uri": "https://localhost:8080/"
        }
      },
      "execution_count": 23,
      "outputs": [
        {
          "output_type": "execute_result",
          "data": {
            "text/plain": [
              "[<jaxlib.xla_extension.Device at 0x7f8cba9c1470>]"
            ]
          },
          "metadata": {},
          "execution_count": 23
        }
      ]
    },
    {
      "cell_type": "code",
      "source": [
        "jax.device_count()"
      ],
      "metadata": {
        "id": "b5bjfkyG0z_n",
        "outputId": "f5bc7069-0d74-41c4-8cdb-acaa94350e8d",
        "colab": {
          "base_uri": "https://localhost:8080/"
        }
      },
      "execution_count": 24,
      "outputs": [
        {
          "output_type": "execute_result",
          "data": {
            "text/plain": [
              "1"
            ]
          },
          "metadata": {},
          "execution_count": 24
        }
      ]
    },
    {
      "cell_type": "markdown",
      "source": [
        "#### Log Multivariate Gaussian PDF"
      ],
      "metadata": {
        "id": "H_dg-8mzPnId"
      }
    },
    {
      "cell_type": "code",
      "source": [
        "@jit\n",
        "def logmultivariate_normal(Input, Mean, Covariance_Matrix):\n",
        "  # Excluding the sqrt(2*pi)**k to avoid overflow\n",
        "  Diff = Input-Mean\n",
        "  return -0.5*((Diff.T@jnp.linalg.lstsq(Covariance_Matrix, Diff)[0]) + jnp.log(jnp.linalg.det(Covariance_Matrix)))"
      ],
      "metadata": {
        "id": "hOBwwJWHPrVY"
      },
      "execution_count": 25,
      "outputs": []
    },
    {
      "cell_type": "code",
      "source": [
        "#%timeit logmultivariate_normal(jnp.zeros((10000,)), jnp.zeros((10000,)), jnp.eye(10000))"
      ],
      "metadata": {
        "id": "bFYQtvRQf9BJ"
      },
      "execution_count": 26,
      "outputs": []
    },
    {
      "cell_type": "code",
      "source": [
        "vec_lognorm = jit(vmap(logmultivariate_normal, in_axes = [0, None, None]))"
      ],
      "metadata": {
        "id": "9Tm9D2hOkE8F"
      },
      "execution_count": 27,
      "outputs": []
    },
    {
      "cell_type": "code",
      "source": [
        "vec_lognorm(jnp.vstack((jnp.ones((10,)), jnp.zeros((10,)))), jnp.zeros((10,)), jnp.eye(10))"
      ],
      "metadata": {
        "id": "6oRjIT_grTv5",
        "outputId": "40e56f55-f32b-4844-9efc-90316e9694b0",
        "colab": {
          "base_uri": "https://localhost:8080/"
        }
      },
      "execution_count": 28,
      "outputs": [
        {
          "output_type": "execute_result",
          "data": {
            "text/plain": [
              "DeviceArray([-5., -0.], dtype=float64)"
            ]
          },
          "metadata": {},
          "execution_count": 28
        }
      ]
    },
    {
      "cell_type": "markdown",
      "source": [
        "#### Expected Log Likelihood"
      ],
      "metadata": {
        "id": "5rwUupOlKkPz"
      }
    },
    {
      "cell_type": "code",
      "source": [
        "@jit\n",
        "def Log_Likely(Sampled_f, Truex, Truey, Sigma_n):\n",
        "\n",
        "  K = jnp.shape(Truex)[0] - 1\n",
        "  M = jnp.shape(Truey)[0] - K -1\n",
        "  \n",
        "  # Pad input and filter\n",
        "  X_pad = jnp.hstack((Truex, jnp.zeros((M,))))\n",
        "  F_pad = jnp.hstack((Sampled_f, jnp.zeros((K,))))\n",
        "\n",
        "  # Compute the FFTs\n",
        "  X_fft = jnp.fft.fft(X_pad)\n",
        "  F_fft = jnp.fft.fft(F_pad)\n",
        "\n",
        "  # Elementwise multiplication\n",
        "  FFTmul = jnp.multiply(X_fft, F_fft)\n",
        "\n",
        "  # Make mean\n",
        "  Y_mean = jnp.real(jnp.fft.ifft(FFTmul))\n",
        "\n",
        "  return jsc.stats.multivariate_normal.logpdf(Truey, Y_mean, Sigma_n*jnp.eye(M+K+1))"
      ],
      "metadata": {
        "id": "F_Bagwgxv4ck"
      },
      "execution_count": 29,
      "outputs": []
    },
    {
      "cell_type": "code",
      "source": [
        "Log_Likely(jnp.ones((21,)), timex.flatten(), timey.flatten(), 0.05)"
      ],
      "metadata": {
        "id": "VCMvKbNF8q-K",
        "outputId": "31954b94-1c8c-4b72-d549-56603f54d895",
        "colab": {
          "base_uri": "https://localhost:8080/"
        }
      },
      "execution_count": 30,
      "outputs": [
        {
          "output_type": "execute_result",
          "data": {
            "text/plain": [
              "DeviceArray(-29424.24175997, dtype=float64)"
            ]
          },
          "metadata": {},
          "execution_count": 30
        }
      ]
    },
    {
      "cell_type": "code",
      "source": [
        "vec_loglikely = jit(vmap(Log_Likely, in_axes = [1, None, None, None]))"
      ],
      "metadata": {
        "id": "jzXkxRmaDZT2"
      },
      "execution_count": 31,
      "outputs": []
    },
    {
      "cell_type": "code",
      "source": [
        "#@partial(jit, static_argnums=(0,1))\n",
        "def Exp_qf(Number_f, Num_Inducing, Subkey, Truex, Truey, Knn, Knm, Kmm, Inducing_Mean, Prior_cov_root, L_matrix, Sigma_n):\n",
        "\n",
        "  \n",
        "  # Sampling f\n",
        "  A = Knm @ jnp.linalg.inv(Kmm)\n",
        "  F_Mean = A @ Inducing_Mean\n",
        "  F_Covariance = Knn + A @ (Prior_cov_root @ L_matrix @ L_matrix.T @ Prior_cov_root\n",
        "                            - Kmm) @ A.T\n",
        "\n",
        "  \n",
        "  print(\"Inducing_Mean is: %s \\n\" % jnp.isnan(Inducing_Mean).any())\n",
        "  print(\"A is: %s \\n\" % jnp.isnan(A).any())\n",
        "  print(\"F_Mean is: %s \\n\" % jnp.isnan(F_Mean).any())\n",
        "  print(\"F_Covariance is: %s \\n\" % jnp.isnan(F_Covariance).any())\n",
        "\n",
        "\n",
        "  F_size = jnp.shape(F_Covariance)[0]\n",
        "   # Cholesky f covariance\n",
        "  F_Cholesky = lax.cond(jnp.isnan(jnp.linalg.cholesky(F_Covariance)).any(), broke_Chol, jnp.linalg.cholesky, F_Covariance)\n",
        "  \n",
        "  print(\"F_Cholesky is: %s \\n\" % jnp.isnan(F_Cholesky).any())\n",
        "\n",
        "  #Sampled_f = random.multivariate_normal(Subkey, F_Mean, F_Covariance, shape = (Number_f,), method = 'svd').T\n",
        "  Sampled_f = F_Mean.reshape((F_size, 1)) + F_Cholesky@random.normal(Subkey, (F_size, Number_f))\n",
        "\n",
        "  return F_Covariance, jnp.mean(vec_loglikely(Sampled_f, Truex, Truey, Sigma_n), axis = None)"
      ],
      "metadata": {
        "id": "gNvRG41TKpAP"
      },
      "execution_count": 329,
      "outputs": []
    },
    {
      "cell_type": "code",
      "source": [
        "induc_p = timex[::10]"
      ],
      "metadata": {
        "id": "DDCVxPvksETc"
      },
      "execution_count": 229,
      "outputs": []
    },
    {
      "cell_type": "code",
      "source": [
        "timef = timex[:21]"
      ],
      "metadata": {
        "id": "lTrrydI5H8jf"
      },
      "execution_count": 230,
      "outputs": []
    },
    {
      "cell_type": "code",
      "source": [
        "exar = [Exp_qf(i, 11, subkeys[-1], timex.flatten(), timey.flatten(), vec_SE(timef, timef, 0.05, 1.0), vec_SE(timef, induc_p, 0.05, 1.0), vec_SE(induc_p, induc_p, 0.05, 1.0), jnp.zeros((11,)), jnp.eye(11), jnp.eye(11), 0.05) for i in np.arange(1, 300000, 10000)]"
      ],
      "metadata": {
        "id": "X_jn92qcaYNd"
      },
      "execution_count": 231,
      "outputs": []
    },
    {
      "cell_type": "code",
      "source": [
        "plt.plot(np.arange(1, 300000, 10000), exar)"
      ],
      "metadata": {
        "id": "5N_C0IxGQ1PD",
        "outputId": "1760a718-629f-45dc-db23-8c58b2757989",
        "colab": {
          "base_uri": "https://localhost:8080/",
          "height": 282
        }
      },
      "execution_count": 66,
      "outputs": [
        {
          "output_type": "execute_result",
          "data": {
            "text/plain": [
              "[<matplotlib.lines.Line2D at 0x7f8cb20d9b50>]"
            ]
          },
          "metadata": {},
          "execution_count": 66
        },
        {
          "output_type": "display_data",
          "data": {
            "image/png": "[encoded data removed]",
            "text/plain": [
              "<Figure size 432x288 with 1 Axes>"
            ]
          },
          "metadata": {
            "needs_background": "light"
          }
        }
      ]
    },
    {
      "cell_type": "code",
      "source": [
        "print(exar[0])"
      ],
      "metadata": {
        "id": "ARWrIGZ-CGB9"
      },
      "execution_count": null,
      "outputs": []
    },
    {
      "cell_type": "code",
      "source": [
        "#plt.plot(np.arange(1, 30000, 10000), exar)"
      ],
      "metadata": {
        "id": "DdYIPZOUAYlH"
      },
      "execution_count": null,
      "outputs": []
    },
    {
      "cell_type": "markdown",
      "source": [
        "#### ELBO"
      ],
      "metadata": {
        "id": "ILwJdch_ifBF"
      }
    },
    {
      "cell_type": "code",
      "source": [
        "#@partial(jit, static_argnums=(0,1))\n",
        "def ELBO(Number_f, Num_Inducing, Subkey, Inducing_Points, L_Arr, Param_vu, \n",
        "          Mu_prior, Ell, Sigma_f, Sigma_n, Truex, Truey, Dt, F_locs):\n",
        "  L_matrix = L_fill(L_Arr, Num_Inducing)\n",
        "\n",
        "  Knn = vec_SE(F_locs, F_locs, Ell, Sigma_f)\n",
        "  Knm = vec_SE(F_locs, Inducing_Points, Ell, Sigma_f)\n",
        "  Kmm = vec_SE(Inducing_Points, Inducing_Points, Ell, Sigma_f)\n",
        "  Prior_cov_root = vec_SE_root(Inducing_Points, Inducing_Points, Ell, Sigma_f, Dt)\n",
        "\n",
        "  print(\"Ell is: %s \\n\" % Ell)\n",
        "  print(\"Prior_cov_root is: %s \\n\" % jnp.isnan(Prior_cov_root).any())\n",
        "\n",
        "  Inducing_Mean = Prior_cov_root @ Param_vu\n",
        "\n",
        "  print(\"Inducing_Mean is: %s \\n\" % jnp.isnan(Inducing_Mean).any())\n",
        "\n",
        "  F_Covariance, One_Part = Exp_qf(Number_f, Num_Inducing, Subkey, Truex, Truey, Knn, Knm, Kmm,\n",
        "                    Inducing_Mean, Prior_cov_root, L_matrix, Sigma_n)\n",
        "\n",
        "  Two_Part = kl_div(L_matrix, Prior_cov_root,  Mu_prior, Param_vu)\n",
        "\n",
        "  return F_Covariance, One_Part - Two_Part\n"
      ],
      "metadata": {
        "id": "kbfG6PaHiiVZ"
      },
      "execution_count": 330,
      "outputs": []
    },
    {
      "cell_type": "code",
      "source": [
        "TstChol, _ = ELBO(100000, num_inducing_points, subkeys[0], *arratst, testx, testy, \n",
        "          dt, f_loc)"
      ],
      "metadata": {
        "colab": {
          "base_uri": "https://localhost:8080/"
        },
        "id": "fFJEWWJo3UsK",
        "outputId": "876a28a7-fb8c-45b1-d229-d654096f460f"
      },
      "execution_count": 332,
      "outputs": [
        {
          "output_type": "stream",
          "name": "stdout",
          "text": [
            "Ell is: 0.1 \n",
            "\n",
            "Prior_cov_root is: False \n",
            "\n",
            "Inducing_Mean is: False \n",
            "\n",
            "Inducing_Mean is: False \n",
            "\n",
            "A is: False \n",
            "\n",
            "F_Mean is: False \n",
            "\n",
            "F_Covariance is: False \n",
            "\n",
            "F_Cholesky is: True \n",
            "\n"
          ]
        }
      ]
    },
    {
      "cell_type": "code",
      "source": [
        "jnp.linalg.cholesky(TstChol)"
      ],
      "metadata": {
        "colab": {
          "base_uri": "https://localhost:8080/"
        },
        "id": "0fd0dm6s5KM4",
        "outputId": "d5127a55-816a-4a40-86dc-ff8fa016844d"
      },
      "execution_count": 333,
      "outputs": [
        {
          "output_type": "execute_result",
          "data": {
            "text/plain": [
              "DeviceArray([[nan,  0.,  0.,  0.,  0.,  0.,  0.,  0.,  0.,  0.,  0.,  0.,\n",
              "               0.,  0.,  0.,  0.,  0.,  0.,  0.,  0.,  0.],\n",
              "             [nan, nan,  0.,  0.,  0.,  0.,  0.,  0.,  0.,  0.,  0.,  0.,\n",
              "               0.,  0.,  0.,  0.,  0.,  0.,  0.,  0.,  0.],\n",
              "             [nan, nan, nan,  0.,  0.,  0.,  0.,  0.,  0.,  0.,  0.,  0.,\n",
              "               0.,  0.,  0.,  0.,  0.,  0.,  0.,  0.,  0.],\n",
              "             [nan, nan, nan, nan,  0.,  0.,  0.,  0.,  0.,  0.,  0.,  0.,\n",
              "               0.,  0.,  0.,  0.,  0.,  0.,  0.,  0.,  0.],\n",
              "             [nan, nan, nan, nan, nan,  0.,  0.,  0.,  0.,  0.,  0.,  0.,\n",
              "               0.,  0.,  0.,  0.,  0.,  0.,  0.,  0.,  0.],\n",
              "             [nan, nan, nan, nan, nan, nan,  0.,  0.,  0.,  0.,  0.,  0.,\n",
              "               0.,  0.,  0.,  0.,  0.,  0.,  0.,  0.,  0.],\n",
              "             [nan, nan, nan, nan, nan, nan, nan,  0.,  0.,  0.,  0.,  0.,\n",
              "               0.,  0.,  0.,  0.,  0.,  0.,  0.,  0.,  0.],\n",
              "             [nan, nan, nan, nan, nan, nan, nan, nan,  0.,  0.,  0.,  0.,\n",
              "               0.,  0.,  0.,  0.,  0.,  0.,  0.,  0.,  0.],\n",
              "             [nan, nan, nan, nan, nan, nan, nan, nan, nan,  0.,  0.,  0.,\n",
              "               0.,  0.,  0.,  0.,  0.,  0.,  0.,  0.,  0.],\n",
              "             [nan, nan, nan, nan, nan, nan, nan, nan, nan, nan,  0.,  0.,\n",
              "               0.,  0.,  0.,  0.,  0.,  0.,  0.,  0.,  0.],\n",
              "             [nan, nan, nan, nan, nan, nan, nan, nan, nan, nan, nan,  0.,\n",
              "               0.,  0.,  0.,  0.,  0.,  0.,  0.,  0.,  0.],\n",
              "             [nan, nan, nan, nan, nan, nan, nan, nan, nan, nan, nan, nan,\n",
              "               0.,  0.,  0.,  0.,  0.,  0.,  0.,  0.,  0.],\n",
              "             [nan, nan, nan, nan, nan, nan, nan, nan, nan, nan, nan, nan,\n",
              "              nan,  0.,  0.,  0.,  0.,  0.,  0.,  0.,  0.],\n",
              "             [nan, nan, nan, nan, nan, nan, nan, nan, nan, nan, nan, nan,\n",
              "              nan, nan,  0.,  0.,  0.,  0.,  0.,  0.,  0.],\n",
              "             [nan, nan, nan, nan, nan, nan, nan, nan, nan, nan, nan, nan,\n",
              "              nan, nan, nan,  0.,  0.,  0.,  0.,  0.,  0.],\n",
              "             [nan, nan, nan, nan, nan, nan, nan, nan, nan, nan, nan, nan,\n",
              "              nan, nan, nan, nan,  0.,  0.,  0.,  0.,  0.],\n",
              "             [nan, nan, nan, nan, nan, nan, nan, nan, nan, nan, nan, nan,\n",
              "              nan, nan, nan, nan, nan,  0.,  0.,  0.,  0.],\n",
              "             [nan, nan, nan, nan, nan, nan, nan, nan, nan, nan, nan, nan,\n",
              "              nan, nan, nan, nan, nan, nan,  0.,  0.,  0.],\n",
              "             [nan, nan, nan, nan, nan, nan, nan, nan, nan, nan, nan, nan,\n",
              "              nan, nan, nan, nan, nan, nan, nan,  0.,  0.],\n",
              "             [nan, nan, nan, nan, nan, nan, nan, nan, nan, nan, nan, nan,\n",
              "              nan, nan, nan, nan, nan, nan, nan, nan,  0.],\n",
              "             [nan, nan, nan, nan, nan, nan, nan, nan, nan, nan, nan, nan,\n",
              "              nan, nan, nan, nan, nan, nan, nan, nan, nan]],            dtype=float64)"
            ]
          },
          "metadata": {},
          "execution_count": 333
        }
      ]
    },
    {
      "cell_type": "code",
      "source": [
        "print(TstChol)"
      ],
      "metadata": {
        "colab": {
          "base_uri": "https://localhost:8080/"
        },
        "id": "jI6T3Of_5NjE",
        "outputId": "2fa8e99a-5cb4-4aee-d00b-bba31656ea7c"
      },
      "execution_count": 335,
      "outputs": [
        {
          "output_type": "stream",
          "name": "stdout",
          "text": [
            "[[-16.59570892  16.20389271  13.05325748 -15.84228254 -13.93159336\n",
            "   -7.93393853 -11.08199224   1.16732828  14.42449511  19.16506222\n",
            "   15.71808209 -11.20823963   2.9454816  -16.00873462  -3.06903985\n",
            "   15.62630096  10.064738    -2.63120679 -23.4015595   -7.85027495\n",
            "    3.51402431]\n",
            " [ 16.20389271 -12.29933467  -8.47114871  15.84736711  14.75210571\n",
            "    9.4675311   11.90210361   1.50713646 -10.3975806  -14.90383298\n",
            "  -11.14894498  11.98403404  -0.51710892  16.24120414   3.66716018\n",
            "  -11.40193082  -6.85444133   4.50655331  22.15165147   8.61412171\n",
            "   -1.17557208]\n",
            " [ 13.05325748  -8.47114871 -13.99678315  10.75954991   5.11454925\n",
            "    1.7461895    5.55808494  -4.40243651 -10.78639779 -11.52907727\n",
            "  -14.85938224   4.69101937  -3.79232574   6.66777096   6.87376733\n",
            "  -14.27145814  -8.91300309  -3.03054615  12.77861894   2.4730089\n",
            "   -6.07375352]\n",
            " [-15.84228254  15.84736711  10.75954991 -15.70868976 -14.90620488\n",
            "   -9.02287892 -11.51826207  -0.19751934  13.28484776  18.53121076\n",
            "   13.71637383 -11.89721203   2.09626451 -16.87130314  -1.95701024\n",
            "   13.82814936   8.88702801  -4.11302209 -23.50296865  -8.55841667\n",
            "    2.15711255]\n",
            " [-13.93159336  14.75210571   5.11454925 -14.90620488 -17.17388265\n",
            "  -11.41178216 -12.54121871  -3.55215334  10.17978578  16.51054892\n",
            "    8.45616386 -13.37245942  -0.20857505 -18.5682069    0.69315438\n",
            "    9.04800373   5.766073    -7.53593717 -23.65726099 -10.12392396\n",
            "   -1.12987547]\n",
            " [ -7.93393853   9.4675311    1.7461895   -9.02287892 -11.41178216\n",
            "   -7.80933508  -8.02421327  -3.04543639   5.88141204  10.319916\n",
            "    4.06073192  -8.77259803  -0.53860854 -12.23106316   1.63552678\n",
            "    4.563934     2.97701338  -5.74015963 -14.93889175  -6.78662076\n",
            "   -1.58991657]\n",
            " [-11.08199224  11.90210361   5.55808494 -11.51826207 -12.54121871\n",
            "   -8.02421327  -9.24407878  -1.6964297    8.88362817  13.52470665\n",
            "    8.07810696  -9.74970644   0.6424356  -13.71214153   0.13858337\n",
            "    8.42224641   5.4758008   -4.74697984 -18.06714514  -7.21917049\n",
            "    0.16892524]\n",
            " [  1.16732828   1.50713646  -4.40243651  -0.19751934  -3.55215334\n",
            "   -3.04543639  -1.6964297   -3.04977146  -1.09660079   0.80980915\n",
            "   -3.54455678  -2.35276862  -1.556855    -3.28051423   3.62193851\n",
            "   -3.04737616  -1.76890412  -3.79281251  -2.28380937  -2.20160989\n",
            "   -2.91821517]\n",
            " [ 14.42449511 -10.3975806  -10.78639779  13.28484776  10.17978578\n",
            "    5.88141204   8.88362817  -1.09660079 -10.3034142  -13.03471983\n",
            "  -12.49103286   8.62897489  -1.84302182  11.82388715   5.18003348\n",
            "  -12.30059646  -7.46664201   1.25944382  17.73341296   5.91840573\n",
            "   -3.12388057]\n",
            " [ 19.16506222 -14.90383298 -11.52907727  18.53121076  16.51054892\n",
            "   10.319916    13.52470665   0.80980915 -13.03471983 -18.01771296\n",
            "  -14.403309    13.61491019  -1.19559928  18.5811878    4.96124098\n",
            "  -14.48354803  -8.73761182   4.49571175  25.95799657   9.78723392\n",
            "   -2.07810406]\n",
            " [ 15.71808209 -11.14894498 -14.85938224  13.71637383   8.45616386\n",
            "    4.06073192   8.07810696  -3.54455678 -12.49103286 -14.403309\n",
            "  -16.22132728   7.47765839  -3.48847013  10.47266092   7.07588853\n",
            "  -15.67219838  -9.6727072   -1.26176523  17.540072     4.73556871\n",
            "   -5.49799088]\n",
            " [-11.20823963  11.98403404   4.69101937 -11.89721203 -13.37245942\n",
            "   -8.77259803  -9.74970644  -2.35276862   8.62897489  13.61491019\n",
            "    7.47765839 -10.32724613   0.3123484  -14.45515426   0.59288933\n",
            "    7.96261595   5.18792846  -5.443954   -18.56979859  -7.65753852\n",
            "   -0.31194818]\n",
            " [  2.9454816   -0.51710892  -3.79232574   2.09626451  -0.20857505\n",
            "   -0.53860854   0.6424356   -1.556855    -1.84302182  -1.19559928\n",
            "   -3.48847013   0.3123484   -0.80601841   0.30153531   3.09261924\n",
            "   -3.14845023  -1.72275603  -1.52154616   1.72255969   0.03813231\n",
            "   -1.69099996]\n",
            " [-16.00873462  16.24120414   6.66777096 -16.87130314 -18.5682069\n",
            "  -12.23106316 -13.71214153  -3.28051423  11.82388715  18.5811878\n",
            "   10.47266092 -14.45515426   0.30153531 -20.11160724   0.17270863\n",
            "   11.12056107   7.13042094  -7.48161863 -25.88190066 -10.70245772\n",
            "   -0.39192134]\n",
            " [ -3.06903985   3.66716018   6.87376733  -1.95701024   0.69315438\n",
            "    1.63552678   0.13858337   3.62193851   5.18003348   4.96124098\n",
            "    7.07588853   0.59288933   3.09261924   0.17270863  -1.5666549\n",
            "    6.73218617   4.70620926   3.30213961  -2.05608353   1.13238787\n",
            "    3.97722227]\n",
            " [ 15.62630096 -11.40193082 -14.27145814  13.82814936   9.04800373\n",
            "    4.563934     8.42224641  -3.04737616 -12.30059646 -14.48354803\n",
            "  -15.67219838   7.96261595  -3.14845023  11.12056107   6.73218617\n",
            "  -15.14199422  -9.29227202  -0.55169379  18.13229829   5.26010104\n",
            "   -4.90814438]\n",
            " [ 10.064738    -6.85444133  -8.91300309   8.88702801   5.766073\n",
            "    2.97701338   5.4758008   -1.76890412  -7.46664201  -8.73761182\n",
            "   -9.6727072    5.18792846  -1.72275603   7.13042094   4.70620926\n",
            "   -9.29227202  -5.5710544   -0.19456624  11.59980241   3.52438939\n",
            "   -2.88128983]\n",
            " [ -2.63120679   4.50655331  -3.03054615  -4.11302209  -7.53593717\n",
            "   -5.74015963  -4.74697984  -3.79281251   1.25944382   4.49571175\n",
            "   -1.26176523  -5.443954    -1.52154616  -7.48161863   3.30213961\n",
            "   -0.55169379  -0.19456624  -5.18856029  -7.61010435  -4.33358048\n",
            "   -2.79692372]\n",
            " [-23.4015595   22.15165147  12.77861894 -23.50296865 -23.65726099\n",
            "  -14.93889175 -18.06714514  -2.28380937  17.73341296  25.95799657\n",
            "   17.540072   -18.56979859   1.72255969 -25.88190066  -2.05608353\n",
            "   18.13229829  11.59980241  -7.61010435 -34.88605124 -13.32424028\n",
            "    1.80576184]\n",
            " [ -7.85027495   8.61412171   2.4730089   -8.55841667 -10.12392396\n",
            "   -6.78662076  -7.21917049  -2.20160989   5.91840573   9.78723392\n",
            "    4.73556871  -7.65753852   0.03813231 -10.70245772   1.13238787\n",
            "    5.26010104   3.52438939  -4.33358048 -13.32424028  -5.59213909\n",
            "   -0.49927187]\n",
            " [  3.51402431  -1.17557208  -6.07375352   2.15711255  -1.12987547\n",
            "   -1.58991657   0.16892524  -2.91821517  -3.12388057  -2.07810406\n",
            "   -5.49799088  -0.31194818  -1.69099996  -0.39192134   3.97722227\n",
            "   -4.90814438  -2.88128983  -2.79692372   1.80576184  -0.49927187\n",
            "   -2.86452455]]\n"
          ]
        }
      ]
    },
    {
      "cell_type": "code",
      "source": [
        "grad_elbo = grad(ELBO, argnums = jnp.arange(3, 10))"
      ],
      "metadata": {
        "id": "-QjuVVW0PPp0"
      },
      "execution_count": 319,
      "outputs": []
    },
    {
      "cell_type": "code",
      "source": [
        "knn = vec_SE(f_loc, f_loc, init_l, init_sigma_f)\n",
        "knm = vec_SE(f_loc, init_inducing_points, init_l, init_sigma_f)\n",
        "kmm = vec_SE(init_inducing_points, init_inducing_points, init_l, init_sigma_f)\n",
        "kmmroot = vec_SE_root(init_inducing_points, init_inducing_points, init_l, init_sigma_f, dt)"
      ],
      "metadata": {
        "id": "7yJGdU1CJ6pX"
      },
      "execution_count": 54,
      "outputs": []
    },
    {
      "cell_type": "code",
      "source": [
        "a = knm @ jnp.linalg.inv(kmm)"
      ],
      "metadata": {
        "id": "GYUMa0d-K5YS"
      },
      "execution_count": 56,
      "outputs": []
    },
    {
      "cell_type": "code",
      "source": [
        "f_mean = a @ jnp.zeros(jnp.shape(a)[1])"
      ],
      "metadata": {
        "id": "WrKa_9kdK_VO"
      },
      "execution_count": 57,
      "outputs": []
    },
    {
      "cell_type": "code",
      "source": [
        "%%capture\n",
        "print(a @ (kmmroot @ L_fill(init_L, num_inducing_points) @ L_fill(init_L, num_inducing_points).T @ kmmroot\n",
        "                            - kmm) @ a.T)"
      ],
      "metadata": {
        "id": "5OBWdKfCLKZe"
      },
      "execution_count": 97,
      "outputs": []
    },
    {
      "cell_type": "markdown",
      "source": [
        "### Make Lower Triangle from L"
      ],
      "metadata": {
        "id": "PSgUfzJ-wg3S"
      }
    },
    {
      "cell_type": "code",
      "source": [
        "@partial(jit, static_argnums=(1,))\n",
        "def L_fill(L_arr, Num_Inducing):\n",
        "  L_mat = jnp.zeros((Num_Inducing, Num_Inducing))\n",
        "  mask = np.tri(Num_Inducing, dtype=bool)\n",
        "  L_mat = L_mat.at[mask].set(L_arr)\n",
        "  return L_mat"
      ],
      "metadata": {
        "id": "Tjuu6NE1wnTd"
      },
      "execution_count": 105,
      "outputs": []
    },
    {
      "cell_type": "markdown",
      "source": [
        "### Gradient Ascent"
      ],
      "metadata": {
        "id": "89MyMRdYUqj6"
      }
    },
    {
      "cell_type": "markdown",
      "source": [
        "#### Backtracking Search"
      ],
      "metadata": {
        "id": "nDe7GcsW8-mv"
      }
    },
    {
      "cell_type": "code",
      "source": [
        "#@partial(jit, static_argnums = (0,1))\n",
        "def Backcheck(Number_f, Num_Inducing, Subkey_elbo, Curr_IP, Curr_LA, \n",
        "              Curr_Vu, Curr_Mu, Curr_Ell, Curr_Sf, Curr_Sn, Truex, Truey, \n",
        "              Dt, F_locs, Grad_IP, Grad_LA, Grad_Vu, Grad_Mu, Grad_Ell, Grad_Sf,\n",
        "              Grad_Sn, Step_size):\n",
        "  \n",
        "  Alpha = 0.3\n",
        "  Beta = 0.1\n",
        "  \n",
        "  New_IP = Curr_IP + Alpha*Step_size*Grad_IP\n",
        "  New_LA = Curr_LA + Alpha*Step_size*Grad_LA\n",
        "  New_Vu = Curr_Vu + Alpha*Step_size*Grad_Vu\n",
        "  New_Mu = Curr_Mu + Alpha*Step_size*Grad_Mu\n",
        "  New_Ell = Curr_Ell + Alpha*Step_size*Grad_Ell\n",
        "  New_Sf = Curr_Sf + Alpha*Step_size*Grad_Sf\n",
        "  New_Sn = Curr_Sn + Alpha*Step_size*Grad_Sn\n",
        "\n",
        "  \"\"\"\n",
        "\n",
        "  Left_side = ELBO(Number_f, Num_Inducing, Subkey_elbo, New_IP, New_LA, \n",
        "                   New_Vu, New_Mu, New_Ell, New_Sf, New_Sn, Truex, Truey, \n",
        "                   Dt, F_locs)\n",
        "  \n",
        "  All_Params = jnp.hstack((Grad_IP, Grad_LA, Grad_Vu, Grad_Mu, Grad_Ell, Grad_Sf,\n",
        "                          Grad_Sn)).flatten()\n",
        "  \n",
        "  Right_side = ELBO(Number_f, Num_Inducing, Subkey_elbo, Curr_IP, Curr_LA, \n",
        "                    Curr_Vu, Curr_Mu, Curr_Ell, Curr_Sf, Curr_Sn, Truex, Truey, \n",
        "                    Dt, F_locs) + Alpha*Step_size*jnp.sum(jnp.square(All_Params))\n",
        "\n",
        "  \"\"\"\n",
        "  \n",
        "  return New_IP, New_LA, New_Vu, New_Mu, New_Ell, New_Sf, New_Sn "
      ],
      "metadata": {
        "id": "HOl1o5CATYpE"
      },
      "execution_count": 225,
      "outputs": []
    },
    {
      "cell_type": "code",
      "source": [
        "updatedtst = Backcheck(100000, num_inducing_points, subkeys[0], *arratst, testx, testy, \n",
        "          dt, f_loc, *testgrad, 1.0)"
      ],
      "metadata": {
        "id": "dyAxKcDpteq0"
      },
      "execution_count": 260,
      "outputs": []
    },
    {
      "cell_type": "code",
      "source": [
        "print(updatedtst[2])"
      ],
      "metadata": {
        "colab": {
          "base_uri": "https://localhost:8080/"
        },
        "id": "wbsVJeTG06Q0",
        "outputId": "945d8bca-6153-4b73-b787-b95070abd271"
      },
      "execution_count": 258,
      "outputs": [
        {
          "output_type": "stream",
          "name": "stdout",
          "text": [
            "[ 451.47909227  619.62252514  741.54849053  741.46498466  871.37828919\n",
            " 1131.36517222 1779.79346047 2211.64428612 2561.52473789 2247.77106082\n",
            " 2134.4310641  1661.98944687 1705.85618187 1538.62959157 1797.75426052\n",
            " 1873.32488855 2086.36505642 2197.25205673 2147.90826048 1677.24862069]\n"
          ]
        }
      ]
    },
    {
      "cell_type": "code",
      "source": [
        "ELBO(100000, num_inducing_points, subkeys[0], *updatedtst, testx, testy, \n",
        "          dt, f_loc)"
      ],
      "metadata": {
        "colab": {
          "base_uri": "https://localhost:8080/"
        },
        "id": "g0N1ikakyy9N",
        "outputId": "3ad80e59-8708-4097-d22c-20bd7cdd4ddc"
      },
      "execution_count": 264,
      "outputs": [
        {
          "output_type": "stream",
          "name": "stdout",
          "text": [
            "Ell is: -321431884.68769926 \n",
            "\n",
            "Prior_cov_root is: True \n",
            "\n",
            "Inducing_Mean is: True \n",
            "\n",
            "A is: False \n",
            "\n",
            "F_Mean is: True \n",
            "\n",
            "F_Covariance is: True \n",
            "\n"
          ]
        },
        {
          "output_type": "execute_result",
          "data": {
            "text/plain": [
              "DeviceArray(nan, dtype=float64)"
            ]
          },
          "metadata": {},
          "execution_count": 264
        }
      ]
    },
    {
      "cell_type": "code",
      "source": [
        "def Backtrack(Number_f, Num_Inducing, Subkey_elbo, Curr_IP, Curr_LA, \n",
        "                     Curr_Vu, Curr_Mu, Curr_Ell, Curr_Sf, Curr_Sn, Truex, Truey, \n",
        "                     Dt, F_locs):\n",
        "  \n",
        "  Step_size = 1.0\n",
        "\n",
        "  while ELBO()\n"
      ],
      "metadata": {
        "colab": {
          "base_uri": "https://localhost:8080/",
          "height": 130
        },
        "id": "wdSFugRT9BdU",
        "outputId": "5c093c71-a8c9-4f2d-fb42-646ec6a909d0"
      },
      "execution_count": 39,
      "outputs": [
        {
          "output_type": "error",
          "ename": "SyntaxError",
          "evalue": "ignored",
          "traceback": [
            "\u001b[0;36m  File \u001b[0;32m\"<ipython-input-39-8811de4e9b54>\"\u001b[0;36m, line \u001b[0;32m6\u001b[0m\n\u001b[0;31m    while ELBO()\u001b[0m\n\u001b[0m                ^\u001b[0m\n\u001b[0;31mSyntaxError\u001b[0m\u001b[0;31m:\u001b[0m invalid syntax\n"
          ]
        }
      ]
    },
    {
      "cell_type": "code",
      "source": [
        "@partial(jit, static_argnums = jnp.arange(15))\n",
        "def Update_Curr(Curr_IP, Curr_LA, Curr_Vu, Curr_Mu, Curr_Ell, Curr_Sf, Curr_Sn, \n",
        "                Next_IP, Next_LA, Next_Vu, Next_Mu, Next_Ell, Next_Sf, Next_Sn, \n",
        "                Step_size):\n",
        "  \n",
        "  New_IP = Curr_IP + Step_size*Next_IP\n",
        "  New_LA = Curr_LA + Step_size*Next_LA\n",
        "  New_Vu = Curr_Vu + Step_size*Next_Vu\n",
        "  New_Mu = Curr_Mu + Step_size*Next_Mu\n",
        "  New_Ell = Curr_Ell + Step_size*Next_Ell\n",
        "  New_Sf = Curr_Sf + Step_size*Next_Sf\n",
        "  New_Sn = Curr_Sn + Step_size*Next_Sn\n",
        "\n",
        "  return New_IP, New_LA, New_Vu, New_Mu, New_Ell, New_Sf, New_Sn "
      ],
      "metadata": {
        "id": "DgCroKDKklYb"
      },
      "execution_count": 188,
      "outputs": []
    },
    {
      "cell_type": "code",
      "source": [
        "Update_Curr(*arratst, *testgrad, 1.0)"
      ],
      "metadata": {
        "colab": {
          "base_uri": "https://localhost:8080/",
          "height": 234
        },
        "id": "XX9byh43nd6X",
        "outputId": "cfcdd8f9-af56-4a86-b2b8-54446728923e"
      },
      "execution_count": 189,
      "outputs": [
        {
          "output_type": "error",
          "ename": "ValueError",
          "evalue": "ignored",
          "traceback": [
            "\u001b[0;31m---------------------------------------------------------------------------\u001b[0m",
            "\u001b[0;31mValueError\u001b[0m                                Traceback (most recent call last)",
            "\u001b[0;32m<ipython-input-189-670f3da1a410>\u001b[0m in \u001b[0;36m<module>\u001b[0;34m()\u001b[0m\n\u001b[0;32m----> 1\u001b[0;31m \u001b[0mUpdate_Curr\u001b[0m\u001b[0;34m(\u001b[0m\u001b[0;34m*\u001b[0m\u001b[0marratst\u001b[0m\u001b[0;34m,\u001b[0m \u001b[0;34m*\u001b[0m\u001b[0mtestgrad\u001b[0m\u001b[0;34m,\u001b[0m \u001b[0;36m1.0\u001b[0m\u001b[0;34m)\u001b[0m\u001b[0;34m\u001b[0m\u001b[0;34m\u001b[0m\u001b[0m\n\u001b[0m",
            "\u001b[0;31mValueError\u001b[0m: Non-hashable static arguments are not supported. An error occured while trying to hash an object of type <class 'jaxlib.xla_extension.DeviceArray'>, [0.         0.00526316 0.01052632 0.01578947 0.02105263 0.02631579\n 0.03157895 0.03684211 0.04210526 0.04736842 0.05263158 0.05789474\n 0.06315789 0.06842105 0.07368421 0.07894737 0.08421053 0.08947368\n 0.09473684 0.1       ]. The error was:\nTypeError: unhashable type: 'DeviceArray'\n"
          ]
        }
      ]
    },
    {
      "cell_type": "code",
      "source": [
        "def Grad_Ascent(Inducing_Points, L_Arr, Vu_Init, Mu_Init, Ell_Init, Sigma_f_Init, \n",
        "                Sigma_n_Init, Truex, Truey, F_locs, Dt, Epsilon, Subkeys):\n",
        "  \"\"\"\n",
        "    Initial with vectors of:\n",
        "       - Inducing Points (Initial[:m])\n",
        "       - L Parameter (Initial[m:m+(m*(m+1)/2)])\n",
        "       - Vu Parameter (Inital[m+(m*(m+1)/2):2*m+(m*(m+1)/2)])\n",
        "       - Mu of Prior (Initial[2*m+(m*(m+1)/2): 3*m+(m*(m+1)/2)])\n",
        "       - Ell of Prior (Initial[2*m+(m*(m+1)/2)])\n",
        "       - Sigma_f of Prior (Initial[2*m+(m*(m+1)/2)+1])\n",
        "       - Sigma_n of Prior/Model (Initial[2*m+(m*(m+1)/2)+2])\n",
        "    \n",
        "    Truex is the observed input data\n",
        "\n",
        "    Truey is the observed output data\n",
        "\n",
        "    Dt is the time resolution\n",
        "\n",
        "    F_locs is the timestamps of the filter trying to infer    \n",
        "  \"\"\"\n",
        "  Curr_IP = Inducing_Points\n",
        "  Curr_LA = L_Arr\n",
        "  Curr_Vu = Vu_Init\n",
        "  Curr_Mu = Mu_Init\n",
        "  Curr_Ell = Ell_Init\n",
        "  Curr_Sf = Sigma_f_Init\n",
        "  Curr_Sn = Sigma_n_Init\n",
        "  Num_Inducing =  jnp.shape(Curr_IP)[0]\n",
        "  Number_f = 200000\n",
        "  Epsilon = 1.0\n",
        "  Subkey_elbo = Subkeys[0]\n",
        "\n",
        "  while jnp.linalg.norm(Curr_step) > Epsilon:\n",
        "    Curr_step = grad_elbo(Number_f, Num_Inducing, Subkey_elbo, Curr_IP, Curr_LA, \n",
        "                     Curr_Vu, Curr_Mu, Curr_Ell, Curr_Sf, Curr_Sn, Truex, Truey, \n",
        "                     Dt, F_locs)\n",
        "    Curr_ELBO = ELBO(Number_f, Num_Inducing, Subkey_elbo, Curr_IP, Curr_LA, \n",
        "                     Curr_Vu, Curr_Mu, Curr_Ell, Curr_Sf, Curr_Sn, Truex, Truey, \n",
        "                     Dt, F_locs)  \n",
        "\n",
        "\n",
        "\n",
        "\n",
        "\n"
      ],
      "metadata": {
        "id": "MfLdnyy-ow7A"
      },
      "execution_count": null,
      "outputs": []
    },
    {
      "cell_type": "code",
      "source": [
        "def grad_asc_MargL(Epsilon, Initial):\n",
        "  \"\"\"\n",
        "    Initial a vector of:\n",
        "       - Inducing Points (Initial[:m])\n",
        "       - L Parameter (Initial[m:m+(m*(m+1)/2)])\n",
        "       - Vu Parameter (Inital[m+(m*(m+1)/2):2*m+(m*(m+1)/2)])\n",
        "       - Mu of Prior (Initial[2*m+(m*(m+1)/2): 3*m+(m*(m+1)/2)])\n",
        "       - Ell of Prior (Initial[3*m+(m*(m+1)/2)])\n",
        "       - Sigma_f of Prior (Initial[3*m+(m*(m+1)/2)+1])\n",
        "       - Sigma_n of Prior/Model (Initial[3*m+(m*(m+1)/2)+2])\n",
        "    \n",
        "    Truex is the observed input data\n",
        "\n",
        "    Truey is the observed output data\n",
        "\n",
        "    F_locs is the timestamps of the filter trying to infer\n",
        "  \"\"\"\n",
        "  Max_Inducing = 10000\n",
        "  Max_OutV_Len = jnp.rint(0.5*(Max_Inducing**2+5*Max_Inducing))\n",
        "  Output_Vector = jnp.zeros(0.5*(Max_OutV_Len))\n",
        "\n",
        "  SizeIn = jnp.shape(Initial)[0]\n",
        "  Number_Inducing = jnp.rint(0.5*(-5+jnp.sqrt(25+8*SizeIn)))\n",
        "  Gradient = jnp.ones(SizeIn)\n",
        "  CurrIn = Initial\n",
        "\n",
        "  while jnp.linalg.norm(Gradient) > Epsilon:\n",
        "    Current_ELBO = ELBO(CurrIn)\n",
        "    Step = -Gradient(CurrIn)"
      ],
      "metadata": {
        "id": "CLKg7S9IUxK_"
      },
      "execution_count": null,
      "outputs": []
    },
    {
      "cell_type": "markdown",
      "source": [
        "#### Data to test the functions individually"
      ],
      "metadata": {
        "id": "x3BA5lHvwESH"
      }
    },
    {
      "cell_type": "code",
      "source": [
        "# Generate random key\n",
        "key = random.PRNGKey(0)\n",
        "key, *subkeys = random.split(key, 4)\n",
        "subkeyl = subkeys[0]\n",
        "subkeysig = subkeys[1]\n",
        "\n",
        "# Generated test inducing points\n",
        "num_ind = 10\n",
        "tstloc = random.truncated_normal(key, 0.0, timey[-1]-timex[-1], (num_ind,))\n",
        "tstloc = jnp.sort(tstloc)\n",
        "\n",
        "# Generate covariance of inducing points with SE function (for ease, shouldn't ...\n",
        "# do this for actual thing)\n",
        "l_param = random.uniform(subkeyl)\n",
        "sigma_param = random.uniform(subkeysig)\n",
        "Gmat = vec_SE(tstloc, tstloc, 0.05, 0.1)"
      ],
      "metadata": {
        "id": "JPwogP7k6axh"
      },
      "execution_count": 44,
      "outputs": []
    },
    {
      "cell_type": "code",
      "source": [
        "chol_chek = choleskypwr(Gmat)\n",
        "\n",
        "att = jnp.linalg.cholesky(Gmat)\n",
        "\n",
        "# Use cond statement to make more efficient\n",
        "Lnew = jnp.linalg.cholesky(Gmat + chol_chek.any()*(10**(-60+jnp.sum(chol_chek)))*jnp.eye(num_ind))\n",
        "\n",
        "# Generate arbitrary lower triangular matrix (not from PSD or symmetric)\n",
        "tstmat = jnp.zeros((4,4))\n",
        "tstmat = tstmat.at[jnp.tril_indices(4)].set(jnp.arange(1,11).astype('f'))"
      ],
      "metadata": {
        "id": "3_WJNEDQr6SQ"
      },
      "execution_count": 45,
      "outputs": []
    },
    {
      "cell_type": "code",
      "source": [
        "print(-60+jnp.sum(choleskypwr(Gmat)))"
      ],
      "metadata": {
        "colab": {
          "base_uri": "https://localhost:8080/"
        },
        "id": "lXpQii7SH-9M",
        "outputId": "be69f489-d8a7-4ace-ad24-edc36d7bc665"
      },
      "execution_count": 46,
      "outputs": [
        {
          "output_type": "stream",
          "name": "stdout",
          "text": [
            "-18.0\n"
          ]
        }
      ]
    },
    {
      "cell_type": "code",
      "source": [
        "print(broke_Chol(Gmat, 60))"
      ],
      "metadata": {
        "colab": {
          "base_uri": "https://localhost:8080/",
          "height": 484
        },
        "id": "PuT62CpXxnjo",
        "outputId": "49251505-3172-45a9-9357-c62096d2d558"
      },
      "execution_count": 47,
      "outputs": [
        {
          "output_type": "error",
          "ename": "TypeError",
          "evalue": "ignored",
          "traceback": [
            "\u001b[0;31m---------------------------------------------------------------------------\u001b[0m",
            "\u001b[0;31mUnfilteredStackTrace\u001b[0m                      Traceback (most recent call last)",
            "\u001b[0;32m<ipython-input-47-8bc298980c3b>\u001b[0m in \u001b[0;36m<module>\u001b[0;34m()\u001b[0m\n\u001b[0;32m----> 1\u001b[0;31m \u001b[0mprint\u001b[0m\u001b[0;34m(\u001b[0m\u001b[0mbroke_Chol\u001b[0m\u001b[0;34m(\u001b[0m\u001b[0mGmat\u001b[0m\u001b[0;34m,\u001b[0m \u001b[0;36m60\u001b[0m\u001b[0;34m)\u001b[0m\u001b[0;34m)\u001b[0m\u001b[0;34m\u001b[0m\u001b[0;34m\u001b[0m\u001b[0m\n\u001b[0m",
            "\u001b[0;32m/usr/local/lib/python3.7/dist-packages/jax/_src/traceback_util.py\u001b[0m in \u001b[0;36mreraise_with_filtered_traceback\u001b[0;34m(*args, **kwargs)\u001b[0m\n\u001b[1;32m    161\u001b[0m     \u001b[0;32mtry\u001b[0m\u001b[0;34m:\u001b[0m\u001b[0;34m\u001b[0m\u001b[0;34m\u001b[0m\u001b[0m\n\u001b[0;32m--> 162\u001b[0;31m       \u001b[0;32mreturn\u001b[0m \u001b[0mfun\u001b[0m\u001b[0;34m(\u001b[0m\u001b[0;34m*\u001b[0m\u001b[0margs\u001b[0m\u001b[0;34m,\u001b[0m \u001b[0;34m**\u001b[0m\u001b[0mkwargs\u001b[0m\u001b[0;34m)\u001b[0m\u001b[0;34m\u001b[0m\u001b[0;34m\u001b[0m\u001b[0m\n\u001b[0m\u001b[1;32m    163\u001b[0m     \u001b[0;32mexcept\u001b[0m \u001b[0mException\u001b[0m \u001b[0;32mas\u001b[0m \u001b[0me\u001b[0m\u001b[0;34m:\u001b[0m\u001b[0;34m\u001b[0m\u001b[0;34m\u001b[0m\u001b[0m\n",
            "\u001b[0;32m/usr/local/lib/python3.7/dist-packages/jax/_src/api.py\u001b[0m in \u001b[0;36mcache_miss\u001b[0;34m(*args, **kwargs)\u001b[0m\n\u001b[1;32m    418\u001b[0m         \u001b[0mdevice\u001b[0m\u001b[0;34m=\u001b[0m\u001b[0mdevice\u001b[0m\u001b[0;34m,\u001b[0m \u001b[0mbackend\u001b[0m\u001b[0;34m=\u001b[0m\u001b[0mbackend\u001b[0m\u001b[0;34m,\u001b[0m \u001b[0mname\u001b[0m\u001b[0;34m=\u001b[0m\u001b[0mflat_fun\u001b[0m\u001b[0;34m.\u001b[0m\u001b[0m__name__\u001b[0m\u001b[0;34m,\u001b[0m\u001b[0;34m\u001b[0m\u001b[0;34m\u001b[0m\u001b[0m\n\u001b[0;32m--> 419\u001b[0;31m         donated_invars=donated_invars, inline=inline)\n\u001b[0m\u001b[1;32m    420\u001b[0m     \u001b[0mout_pytree_def\u001b[0m \u001b[0;34m=\u001b[0m \u001b[0mout_tree\u001b[0m\u001b[0;34m(\u001b[0m\u001b[0;34m)\u001b[0m\u001b[0;34m\u001b[0m\u001b[0;34m\u001b[0m\u001b[0m\n",
            "\u001b[0;32m/usr/local/lib/python3.7/dist-packages/jax/core.py\u001b[0m in \u001b[0;36mbind\u001b[0;34m(self, fun, *args, **params)\u001b[0m\n\u001b[1;32m   1631\u001b[0m   \u001b[0;32mdef\u001b[0m \u001b[0mbind\u001b[0m\u001b[0;34m(\u001b[0m\u001b[0mself\u001b[0m\u001b[0;34m,\u001b[0m \u001b[0mfun\u001b[0m\u001b[0;34m,\u001b[0m \u001b[0;34m*\u001b[0m\u001b[0margs\u001b[0m\u001b[0;34m,\u001b[0m \u001b[0;34m**\u001b[0m\u001b[0mparams\u001b[0m\u001b[0;34m)\u001b[0m\u001b[0;34m:\u001b[0m\u001b[0;34m\u001b[0m\u001b[0;34m\u001b[0m\u001b[0m\n\u001b[0;32m-> 1632\u001b[0;31m     \u001b[0;32mreturn\u001b[0m \u001b[0mcall_bind\u001b[0m\u001b[0;34m(\u001b[0m\u001b[0mself\u001b[0m\u001b[0;34m,\u001b[0m \u001b[0mfun\u001b[0m\u001b[0;34m,\u001b[0m \u001b[0;34m*\u001b[0m\u001b[0margs\u001b[0m\u001b[0;34m,\u001b[0m \u001b[0;34m**\u001b[0m\u001b[0mparams\u001b[0m\u001b[0;34m)\u001b[0m\u001b[0;34m\u001b[0m\u001b[0;34m\u001b[0m\u001b[0m\n\u001b[0m\u001b[1;32m   1633\u001b[0m \u001b[0;34m\u001b[0m\u001b[0m\n",
            "\u001b[0;32m/usr/local/lib/python3.7/dist-packages/jax/core.py\u001b[0m in \u001b[0;36mcall_bind\u001b[0;34m(primitive, fun, *args, **params)\u001b[0m\n\u001b[1;32m   1622\u001b[0m   \u001b[0mtracers\u001b[0m \u001b[0;34m=\u001b[0m \u001b[0mmap\u001b[0m\u001b[0;34m(\u001b[0m\u001b[0mtop_trace\u001b[0m\u001b[0;34m.\u001b[0m\u001b[0mfull_raise\u001b[0m\u001b[0;34m,\u001b[0m \u001b[0margs\u001b[0m\u001b[0;34m)\u001b[0m\u001b[0;34m\u001b[0m\u001b[0;34m\u001b[0m\u001b[0m\n\u001b[0;32m-> 1623\u001b[0;31m   \u001b[0mouts\u001b[0m \u001b[0;34m=\u001b[0m \u001b[0mprimitive\u001b[0m\u001b[0;34m.\u001b[0m\u001b[0mprocess\u001b[0m\u001b[0;34m(\u001b[0m\u001b[0mtop_trace\u001b[0m\u001b[0;34m,\u001b[0m \u001b[0mfun\u001b[0m\u001b[0;34m,\u001b[0m \u001b[0mtracers\u001b[0m\u001b[0;34m,\u001b[0m \u001b[0mparams\u001b[0m\u001b[0;34m)\u001b[0m\u001b[0;34m\u001b[0m\u001b[0;34m\u001b[0m\u001b[0m\n\u001b[0m\u001b[1;32m   1624\u001b[0m   \u001b[0;32mreturn\u001b[0m \u001b[0mmap\u001b[0m\u001b[0;34m(\u001b[0m\u001b[0mfull_lower\u001b[0m\u001b[0;34m,\u001b[0m \u001b[0mapply_todos\u001b[0m\u001b[0;34m(\u001b[0m\u001b[0menv_trace_todo\u001b[0m\u001b[0;34m(\u001b[0m\u001b[0;34m)\u001b[0m\u001b[0;34m,\u001b[0m \u001b[0mouts\u001b[0m\u001b[0;34m)\u001b[0m\u001b[0;34m)\u001b[0m\u001b[0;34m\u001b[0m\u001b[0;34m\u001b[0m\u001b[0m\n",
            "\u001b[0;32m/usr/local/lib/python3.7/dist-packages/jax/core.py\u001b[0m in \u001b[0;36mprocess\u001b[0;34m(self, trace, fun, tracers, params)\u001b[0m\n\u001b[1;32m   1634\u001b[0m   \u001b[0;32mdef\u001b[0m \u001b[0mprocess\u001b[0m\u001b[0;34m(\u001b[0m\u001b[0mself\u001b[0m\u001b[0;34m,\u001b[0m \u001b[0mtrace\u001b[0m\u001b[0;34m,\u001b[0m \u001b[0mfun\u001b[0m\u001b[0;34m,\u001b[0m \u001b[0mtracers\u001b[0m\u001b[0;34m,\u001b[0m \u001b[0mparams\u001b[0m\u001b[0;34m)\u001b[0m\u001b[0;34m:\u001b[0m\u001b[0;34m\u001b[0m\u001b[0;34m\u001b[0m\u001b[0m\n\u001b[0;32m-> 1635\u001b[0;31m     \u001b[0;32mreturn\u001b[0m \u001b[0mtrace\u001b[0m\u001b[0;34m.\u001b[0m\u001b[0mprocess_call\u001b[0m\u001b[0;34m(\u001b[0m\u001b[0mself\u001b[0m\u001b[0;34m,\u001b[0m \u001b[0mfun\u001b[0m\u001b[0;34m,\u001b[0m \u001b[0mtracers\u001b[0m\u001b[0;34m,\u001b[0m \u001b[0mparams\u001b[0m\u001b[0;34m)\u001b[0m\u001b[0;34m\u001b[0m\u001b[0;34m\u001b[0m\u001b[0m\n\u001b[0m\u001b[1;32m   1636\u001b[0m \u001b[0;34m\u001b[0m\u001b[0m\n",
            "\u001b[0;32m/usr/local/lib/python3.7/dist-packages/jax/core.py\u001b[0m in \u001b[0;36mprocess_call\u001b[0;34m(self, primitive, f, tracers, params)\u001b[0m\n\u001b[1;32m    626\u001b[0m   \u001b[0;32mdef\u001b[0m \u001b[0mprocess_call\u001b[0m\u001b[0;34m(\u001b[0m\u001b[0mself\u001b[0m\u001b[0;34m,\u001b[0m \u001b[0mprimitive\u001b[0m\u001b[0;34m,\u001b[0m \u001b[0mf\u001b[0m\u001b[0;34m,\u001b[0m \u001b[0mtracers\u001b[0m\u001b[0;34m,\u001b[0m \u001b[0mparams\u001b[0m\u001b[0;34m)\u001b[0m\u001b[0;34m:\u001b[0m\u001b[0;34m\u001b[0m\u001b[0;34m\u001b[0m\u001b[0m\n\u001b[0;32m--> 627\u001b[0;31m     \u001b[0;32mreturn\u001b[0m \u001b[0mprimitive\u001b[0m\u001b[0;34m.\u001b[0m\u001b[0mimpl\u001b[0m\u001b[0;34m(\u001b[0m\u001b[0mf\u001b[0m\u001b[0;34m,\u001b[0m \u001b[0;34m*\u001b[0m\u001b[0mtracers\u001b[0m\u001b[0;34m,\u001b[0m \u001b[0;34m**\u001b[0m\u001b[0mparams\u001b[0m\u001b[0;34m)\u001b[0m\u001b[0;34m\u001b[0m\u001b[0;34m\u001b[0m\u001b[0m\n\u001b[0m\u001b[1;32m    628\u001b[0m   \u001b[0mprocess_map\u001b[0m \u001b[0;34m=\u001b[0m \u001b[0mprocess_call\u001b[0m\u001b[0;34m\u001b[0m\u001b[0;34m\u001b[0m\u001b[0m\n",
            "\u001b[0;32m/usr/local/lib/python3.7/dist-packages/jax/interpreters/xla.py\u001b[0m in \u001b[0;36m_xla_call_impl\u001b[0;34m(***failed resolving arguments***)\u001b[0m\n\u001b[1;32m    687\u001b[0m   compiled_fun = _xla_callable(fun, device, backend, name, donated_invars,\n\u001b[0;32m--> 688\u001b[0;31m                                *unsafe_map(arg_spec, args))\n\u001b[0m\u001b[1;32m    689\u001b[0m   \u001b[0;32mtry\u001b[0m\u001b[0;34m:\u001b[0m\u001b[0;34m\u001b[0m\u001b[0;34m\u001b[0m\u001b[0m\n",
            "\u001b[0;32m/usr/local/lib/python3.7/dist-packages/jax/linear_util.py\u001b[0m in \u001b[0;36mmemoized_fun\u001b[0;34m(fun, *args)\u001b[0m\n\u001b[1;32m    262\u001b[0m     \u001b[0;32melse\u001b[0m\u001b[0;34m:\u001b[0m\u001b[0;34m\u001b[0m\u001b[0;34m\u001b[0m\u001b[0m\n\u001b[0;32m--> 263\u001b[0;31m       \u001b[0mans\u001b[0m \u001b[0;34m=\u001b[0m \u001b[0mcall\u001b[0m\u001b[0;34m(\u001b[0m\u001b[0mfun\u001b[0m\u001b[0;34m,\u001b[0m \u001b[0;34m*\u001b[0m\u001b[0margs\u001b[0m\u001b[0;34m)\u001b[0m\u001b[0;34m\u001b[0m\u001b[0;34m\u001b[0m\u001b[0m\n\u001b[0m\u001b[1;32m    264\u001b[0m       \u001b[0mcache\u001b[0m\u001b[0;34m[\u001b[0m\u001b[0mkey\u001b[0m\u001b[0;34m]\u001b[0m \u001b[0;34m=\u001b[0m \u001b[0;34m(\u001b[0m\u001b[0mans\u001b[0m\u001b[0;34m,\u001b[0m \u001b[0mfun\u001b[0m\u001b[0;34m.\u001b[0m\u001b[0mstores\u001b[0m\u001b[0;34m)\u001b[0m\u001b[0;34m\u001b[0m\u001b[0;34m\u001b[0m\u001b[0m\n",
            "\u001b[0;32m/usr/local/lib/python3.7/dist-packages/jax/interpreters/xla.py\u001b[0m in \u001b[0;36m_xla_callable_uncached\u001b[0;34m(fun, device, backend, name, donated_invars, *arg_specs)\u001b[0m\n\u001b[1;32m    759\u001b[0m   return lower_xla_callable(fun, device, backend, name, donated_invars,\n\u001b[0;32m--> 760\u001b[0;31m                             *arg_specs).compile().unsafe_call\n\u001b[0m\u001b[1;32m    761\u001b[0m \u001b[0;34m\u001b[0m\u001b[0m\n",
            "\u001b[0;32m/usr/local/lib/python3.7/dist-packages/jax/interpreters/xla.py\u001b[0m in \u001b[0;36mlower_xla_callable\u001b[0;34m(fun, device, backend, name, donated_invars, *arg_specs)\u001b[0m\n\u001b[1;32m    771\u001b[0m   jaxpr, out_avals, consts = pe.trace_to_jaxpr_final(\n\u001b[0;32m--> 772\u001b[0;31m       fun, abstract_args, pe.debug_info_final(fun, \"jit\"))\n\u001b[0m\u001b[1;32m    773\u001b[0m   \u001b[0;32mif\u001b[0m \u001b[0many\u001b[0m\u001b[0;34m(\u001b[0m\u001b[0misinstance\u001b[0m\u001b[0;34m(\u001b[0m\u001b[0mc\u001b[0m\u001b[0;34m,\u001b[0m \u001b[0mcore\u001b[0m\u001b[0;34m.\u001b[0m\u001b[0mTracer\u001b[0m\u001b[0;34m)\u001b[0m \u001b[0;32mfor\u001b[0m \u001b[0mc\u001b[0m \u001b[0;32min\u001b[0m \u001b[0mconsts\u001b[0m\u001b[0;34m)\u001b[0m\u001b[0;34m:\u001b[0m\u001b[0;34m\u001b[0m\u001b[0;34m\u001b[0m\u001b[0m\n",
            "\u001b[0;32m/usr/local/lib/python3.7/dist-packages/jax/interpreters/partial_eval.py\u001b[0m in \u001b[0;36mtrace_to_jaxpr_final\u001b[0;34m(fun, in_avals, debug_info)\u001b[0m\n\u001b[1;32m   1541\u001b[0m     \u001b[0;32mwith\u001b[0m \u001b[0mcore\u001b[0m\u001b[0;34m.\u001b[0m\u001b[0mnew_sublevel\u001b[0m\u001b[0;34m(\u001b[0m\u001b[0;34m)\u001b[0m\u001b[0;34m:\u001b[0m\u001b[0;34m\u001b[0m\u001b[0;34m\u001b[0m\u001b[0m\n\u001b[0;32m-> 1542\u001b[0;31m       \u001b[0mjaxpr\u001b[0m\u001b[0;34m,\u001b[0m \u001b[0mout_avals\u001b[0m\u001b[0;34m,\u001b[0m \u001b[0mconsts\u001b[0m \u001b[0;34m=\u001b[0m \u001b[0mtrace_to_subjaxpr_dynamic\u001b[0m\u001b[0;34m(\u001b[0m\u001b[0mfun\u001b[0m\u001b[0;34m,\u001b[0m \u001b[0mmain\u001b[0m\u001b[0;34m,\u001b[0m \u001b[0min_avals\u001b[0m\u001b[0;34m)\u001b[0m\u001b[0;34m\u001b[0m\u001b[0;34m\u001b[0m\u001b[0m\n\u001b[0m\u001b[1;32m   1543\u001b[0m     \u001b[0;32mdel\u001b[0m \u001b[0mfun\u001b[0m\u001b[0;34m,\u001b[0m \u001b[0mmain\u001b[0m\u001b[0;34m\u001b[0m\u001b[0;34m\u001b[0m\u001b[0m\n",
            "\u001b[0;32m/usr/local/lib/python3.7/dist-packages/jax/interpreters/partial_eval.py\u001b[0m in \u001b[0;36mtrace_to_subjaxpr_dynamic\u001b[0;34m(fun, main, in_avals)\u001b[0m\n\u001b[1;32m   1519\u001b[0m     \u001b[0min_tracers\u001b[0m \u001b[0;34m=\u001b[0m \u001b[0mmap\u001b[0m\u001b[0;34m(\u001b[0m\u001b[0mtrace\u001b[0m\u001b[0;34m.\u001b[0m\u001b[0mnew_arg\u001b[0m\u001b[0;34m,\u001b[0m \u001b[0min_avals\u001b[0m\u001b[0;34m)\u001b[0m\u001b[0;34m\u001b[0m\u001b[0;34m\u001b[0m\u001b[0m\n\u001b[0;32m-> 1520\u001b[0;31m     \u001b[0mans\u001b[0m \u001b[0;34m=\u001b[0m \u001b[0mfun\u001b[0m\u001b[0;34m.\u001b[0m\u001b[0mcall_wrapped\u001b[0m\u001b[0;34m(\u001b[0m\u001b[0;34m*\u001b[0m\u001b[0min_tracers\u001b[0m\u001b[0;34m)\u001b[0m\u001b[0;34m\u001b[0m\u001b[0;34m\u001b[0m\u001b[0m\n\u001b[0m\u001b[1;32m   1521\u001b[0m     \u001b[0mout_tracers\u001b[0m \u001b[0;34m=\u001b[0m \u001b[0mmap\u001b[0m\u001b[0;34m(\u001b[0m\u001b[0mtrace\u001b[0m\u001b[0;34m.\u001b[0m\u001b[0mfull_raise\u001b[0m\u001b[0;34m,\u001b[0m \u001b[0mans\u001b[0m\u001b[0;34m)\u001b[0m\u001b[0;34m\u001b[0m\u001b[0;34m\u001b[0m\u001b[0m\n",
            "\u001b[0;32m/usr/local/lib/python3.7/dist-packages/jax/linear_util.py\u001b[0m in \u001b[0;36mcall_wrapped\u001b[0;34m(self, *args, **kwargs)\u001b[0m\n\u001b[1;32m    165\u001b[0m     \u001b[0;32mtry\u001b[0m\u001b[0;34m:\u001b[0m\u001b[0;34m\u001b[0m\u001b[0;34m\u001b[0m\u001b[0m\n\u001b[0;32m--> 166\u001b[0;31m       \u001b[0mans\u001b[0m \u001b[0;34m=\u001b[0m \u001b[0mself\u001b[0m\u001b[0;34m.\u001b[0m\u001b[0mf\u001b[0m\u001b[0;34m(\u001b[0m\u001b[0;34m*\u001b[0m\u001b[0margs\u001b[0m\u001b[0;34m,\u001b[0m \u001b[0;34m**\u001b[0m\u001b[0mdict\u001b[0m\u001b[0;34m(\u001b[0m\u001b[0mself\u001b[0m\u001b[0;34m.\u001b[0m\u001b[0mparams\u001b[0m\u001b[0;34m,\u001b[0m \u001b[0;34m**\u001b[0m\u001b[0mkwargs\u001b[0m\u001b[0;34m)\u001b[0m\u001b[0;34m)\u001b[0m\u001b[0;34m\u001b[0m\u001b[0;34m\u001b[0m\u001b[0m\n\u001b[0m\u001b[1;32m    167\u001b[0m     \u001b[0;32mexcept\u001b[0m\u001b[0;34m:\u001b[0m\u001b[0;34m\u001b[0m\u001b[0;34m\u001b[0m\u001b[0m\n",
            "\u001b[0;31mUnfilteredStackTrace\u001b[0m: TypeError: broke_Chol() takes 1 positional argument but 2 were given\n\nThe stack trace below excludes JAX-internal frames.\nThe preceding is the original exception that occurred, unmodified.\n\n--------------------",
            "\nThe above exception was the direct cause of the following exception:\n",
            "\u001b[0;31mTypeError\u001b[0m                                 Traceback (most recent call last)",
            "\u001b[0;32m<ipython-input-47-8bc298980c3b>\u001b[0m in \u001b[0;36m<module>\u001b[0;34m()\u001b[0m\n\u001b[0;32m----> 1\u001b[0;31m \u001b[0mprint\u001b[0m\u001b[0;34m(\u001b[0m\u001b[0mbroke_Chol\u001b[0m\u001b[0;34m(\u001b[0m\u001b[0mGmat\u001b[0m\u001b[0;34m,\u001b[0m \u001b[0;36m60\u001b[0m\u001b[0;34m)\u001b[0m\u001b[0;34m)\u001b[0m\u001b[0;34m\u001b[0m\u001b[0;34m\u001b[0m\u001b[0m\n\u001b[0m",
            "\u001b[0;32m/usr/local/lib/python3.7/dist-packages/jax/linear_util.py\u001b[0m in \u001b[0;36mcall_wrapped\u001b[0;34m(self, *args, **kwargs)\u001b[0m\n\u001b[1;32m    164\u001b[0m \u001b[0;34m\u001b[0m\u001b[0m\n\u001b[1;32m    165\u001b[0m     \u001b[0;32mtry\u001b[0m\u001b[0;34m:\u001b[0m\u001b[0;34m\u001b[0m\u001b[0;34m\u001b[0m\u001b[0m\n\u001b[0;32m--> 166\u001b[0;31m       \u001b[0mans\u001b[0m \u001b[0;34m=\u001b[0m \u001b[0mself\u001b[0m\u001b[0;34m.\u001b[0m\u001b[0mf\u001b[0m\u001b[0;34m(\u001b[0m\u001b[0;34m*\u001b[0m\u001b[0margs\u001b[0m\u001b[0;34m,\u001b[0m \u001b[0;34m**\u001b[0m\u001b[0mdict\u001b[0m\u001b[0;34m(\u001b[0m\u001b[0mself\u001b[0m\u001b[0;34m.\u001b[0m\u001b[0mparams\u001b[0m\u001b[0;34m,\u001b[0m \u001b[0;34m**\u001b[0m\u001b[0mkwargs\u001b[0m\u001b[0;34m)\u001b[0m\u001b[0;34m)\u001b[0m\u001b[0;34m\u001b[0m\u001b[0;34m\u001b[0m\u001b[0m\n\u001b[0m\u001b[1;32m    167\u001b[0m     \u001b[0;32mexcept\u001b[0m\u001b[0;34m:\u001b[0m\u001b[0;34m\u001b[0m\u001b[0;34m\u001b[0m\u001b[0m\n\u001b[1;32m    168\u001b[0m       \u001b[0;31m# Some transformations yield from inside context managers, so we have to\u001b[0m\u001b[0;34m\u001b[0m\u001b[0;34m\u001b[0m\u001b[0;34m\u001b[0m\u001b[0m\n",
            "\u001b[0;31mTypeError\u001b[0m: broke_Chol() takes 1 positional argument but 2 were given"
          ]
        }
      ]
    },
    {
      "cell_type": "code",
      "source": [
        "print(checknans(Gmat, 10.0)[1])"
      ],
      "metadata": {
        "id": "eHMmphr1JN77"
      },
      "execution_count": null,
      "outputs": []
    },
    {
      "cell_type": "code",
      "source": [
        "print(jnp.linalg.cholesky(Gmat+10**(-18.0)*np.eye(10)))"
      ],
      "metadata": {
        "id": "SjFbkTqHJq2T"
      },
      "execution_count": null,
      "outputs": []
    },
    {
      "cell_type": "code",
      "source": [
        "np.isnan(np.linalg.cholesky(Gmat + (10**-50.0)*jnp.eye(10))).any().astype('f')"
      ],
      "metadata": {
        "id": "kW7JHdATJ8zo"
      },
      "execution_count": null,
      "outputs": []
    },
    {
      "cell_type": "code",
      "source": [
        "print(jnp.linalg.cholesky(Gmat+ 10**(-2)*jnp.eye(10)))"
      ],
      "metadata": {
        "id": "RQWQQvkXHwUY"
      },
      "execution_count": null,
      "outputs": []
    },
    {
      "cell_type": "markdown",
      "source": [
        "## Running Scripts"
      ],
      "metadata": {
        "id": "2y2h6IwurgXm"
      }
    },
    {
      "cell_type": "markdown",
      "source": [
        "### Setting up initial conditions"
      ],
      "metadata": {
        "id": "-un0dhKPrjk9"
      }
    },
    {
      "cell_type": "code",
      "source": [
        "key = random.PRNGKey(0)\n",
        "key, *subkeys = random.split(key, 4)"
      ],
      "metadata": {
        "id": "G2LggjKs-dKT"
      },
      "execution_count": 269,
      "outputs": []
    },
    {
      "cell_type": "code",
      "source": [
        "num_inducing_points = 20\n",
        "init_inducing_points = jnp.linspace(0.0, timey[-1]-timex[-1], num_inducing_points)\n",
        "init_L = jnp.eye(num_inducing_points).at[jnp.tri(num_inducing_points, dtype=bool)].get()\n",
        "init_vu = random.normal(subkeys[-1], (num_inducing_points,))\n",
        "init_mu = random.normal(subkeys[-2], (num_inducing_points,))\n",
        "init_l = 0.1\n",
        "init_sigma_f = 1.0\n",
        "init_sigma_n = 0.1"
      ],
      "metadata": {
        "id": "ZrdyWnY8rpNO"
      },
      "execution_count": 294,
      "outputs": []
    },
    {
      "cell_type": "code",
      "source": [
        "testx = testx.flatten()\n",
        "testy = testy.flatten()\n",
        "dt = timey[1] - timey[0]\n",
        "f_loc = jnp.arange(0.0, timey[-1]-timex[-1]+dt, dt) "
      ],
      "metadata": {
        "id": "LodD5fiAtgf_"
      },
      "execution_count": 277,
      "outputs": []
    },
    {
      "cell_type": "code",
      "source": [
        "print(subkeys[0])"
      ],
      "metadata": {
        "colab": {
          "base_uri": "https://localhost:8080/"
        },
        "id": "_-hhU2KS0kKz",
        "outputId": "dbb6f3fd-5e84-4b47-ced7-47f306005b9f"
      },
      "execution_count": 51,
      "outputs": [
        {
          "output_type": "stream",
          "name": "stdout",
          "text": [
            "[3186719485 3840466878]\n"
          ]
        }
      ]
    },
    {
      "cell_type": "code",
      "source": [
        ""
      ],
      "metadata": {
        "id": "eAhUqlan9sT5"
      },
      "execution_count": 52,
      "outputs": []
    },
    {
      "cell_type": "code",
      "source": [
        "ELBO(Number_f, Num_Inducing, Subkey, Inducing_Points, L_matrix, Param_vu, \n",
        "          Mu_prior, Ell, Sigma_f, Sigma_n, Truex, Truey, Dt, F_locs):"
      ],
      "metadata": {
        "colab": {
          "base_uri": "https://localhost:8080/",
          "height": 130
        },
        "id": "xAD8to81JIj9",
        "outputId": "5a9ee2e2-c1ca-438e-b52e-2c1e6b09ce77"
      },
      "execution_count": 53,
      "outputs": [
        {
          "output_type": "error",
          "ename": "SyntaxError",
          "evalue": "ignored",
          "traceback": [
            "\u001b[0;36m  File \u001b[0;32m\"<ipython-input-53-7142f2926d9b>\"\u001b[0;36m, line \u001b[0;32m2\u001b[0m\n\u001b[0;31m    Mu_prior, Ell, Sigma_f, Sigma_n, Truex, Truey, Dt, F_locs):\u001b[0m\n\u001b[0m                                                               ^\u001b[0m\n\u001b[0;31mSyntaxError\u001b[0m\u001b[0;31m:\u001b[0m invalid syntax\n"
          ]
        }
      ]
    },
    {
      "cell_type": "code",
      "source": [
        "arratst = [init_inducing_points, init_L, init_vu, init_mu, init_l, init_sigma_f, init_sigma_n]"
      ],
      "metadata": {
        "id": "J9skL-eYg_01"
      },
      "execution_count": 295,
      "outputs": []
    },
    {
      "cell_type": "code",
      "source": [
        "testgrad = grad_elbo(100000, num_inducing_points, subkeys[0], *arratst, testx, testy, dt, f_loc)"
      ],
      "metadata": {
        "id": "weyhpttE-Lnp"
      },
      "execution_count": 296,
      "outputs": []
    },
    {
      "cell_type": "code",
      "source": [
        "print(testgrad)"
      ],
      "metadata": {
        "colab": {
          "base_uri": "https://localhost:8080/"
        },
        "id": "eiU4RIeVdkdh",
        "outputId": "bb9939a6-a18c-4d52-c121-19aab4f57df9"
      },
      "execution_count": 297,
      "outputs": [
        {
          "output_type": "stream",
          "name": "stdout",
          "text": [
            "(DeviceArray([nan, nan, nan, nan, nan, nan, nan, nan, nan, nan, nan, nan,\n",
            "             nan, nan, nan, nan, nan, nan, nan, nan], dtype=float64), DeviceArray([nan, nan, nan, nan, nan, nan, nan, nan, nan, nan, nan, nan,\n",
            "             nan, nan, nan, nan, nan, nan, nan, nan, nan, nan, nan, nan,\n",
            "             nan, nan, nan, nan, nan, nan, nan, nan, nan, nan, nan, nan,\n",
            "             nan, nan, nan, nan, nan, nan, nan, nan, nan, nan, nan, nan,\n",
            "             nan, nan, nan, nan, nan, nan, nan, nan, nan, nan, nan, nan,\n",
            "             nan, nan, nan, nan, nan, nan, nan, nan, nan, nan, nan, nan,\n",
            "             nan, nan, nan, nan, nan, nan, nan, nan, nan, nan, nan, nan,\n",
            "             nan, nan, nan, nan, nan, nan, nan, nan, nan, nan, nan, nan,\n",
            "             nan, nan, nan, nan, nan, nan, nan, nan, nan, nan, nan, nan,\n",
            "             nan, nan, nan, nan, nan, nan, nan, nan, nan, nan, nan, nan,\n",
            "             nan, nan, nan, nan, nan, nan, nan, nan, nan, nan, nan, nan,\n",
            "             nan, nan, nan, nan, nan, nan, nan, nan, nan, nan, nan, nan,\n",
            "             nan, nan, nan, nan, nan, nan, nan, nan, nan, nan, nan, nan,\n",
            "             nan, nan, nan, nan, nan, nan, nan, nan, nan, nan, nan, nan,\n",
            "             nan, nan, nan, nan, nan, nan, nan, nan, nan, nan, nan, nan,\n",
            "             nan, nan, nan, nan, nan, nan, nan, nan, nan, nan, nan, nan,\n",
            "             nan, nan, nan, nan, nan, nan, nan, nan, nan, nan, nan, nan,\n",
            "             nan, nan, nan, nan, nan, nan], dtype=float64), DeviceArray([nan, nan, nan, nan, nan, nan, nan, nan, nan, nan, nan, nan,\n",
            "             nan, nan, nan, nan, nan, nan, nan, nan], dtype=float64), DeviceArray([ 1.13968449e+25, -3.97537795e+25,  2.90828329e+25,\n",
            "              2.75766389e+25, -1.24018876e+25, -3.16587310e+25,\n",
            "             -1.42089386e+25,  1.64541910e+25,  2.95899942e+25,\n",
            "              1.43005966e+25, -1.42952391e+25, -2.95853493e+25,\n",
            "             -1.64669569e+25,  1.42104347e+25,  3.16525669e+25,\n",
            "              1.24083905e+25, -2.75724465e+25, -2.90818937e+25,\n",
            "              3.97467135e+25, -1.13939819e+25], dtype=float64), DeviceArray(nan, dtype=float64), DeviceArray(nan, dtype=float64), DeviceArray(nan, dtype=float64, weak_type=True))\n"
          ]
        }
      ]
    },
    {
      "cell_type": "code",
      "source": [
        "print(*arratst)"
      ],
      "metadata": {
        "colab": {
          "base_uri": "https://localhost:8080/"
        },
        "id": "fiKfHPh6kNQ2",
        "outputId": "8f5b2720-a639-4bd0-aaa9-74a238d534de"
      },
      "execution_count": 173,
      "outputs": [
        {
          "output_type": "stream",
          "name": "stdout",
          "text": [
            "[0.         0.00526316 0.01052632 0.01578947 0.02105263 0.02631579\n",
            " 0.03157895 0.03684211 0.04210526 0.04736842 0.05263158 0.05789474\n",
            " 0.06315789 0.06842105 0.07368421 0.07894737 0.08421053 0.08947368\n",
            " 0.09473684 0.1       ] [1. 0. 1. 0. 0. 1. 0. 0. 0. 1. 0. 0. 0. 0. 1. 0. 0. 0. 0. 0. 1. 0. 0. 0.\n",
            " 0. 0. 0. 1. 0. 0. 0. 0. 0. 0. 0. 1. 0. 0. 0. 0. 0. 0. 0. 0. 1. 0. 0. 0.\n",
            " 0. 0. 0. 0. 0. 0. 1. 0. 0. 0. 0. 0. 0. 0. 0. 0. 0. 1. 0. 0. 0. 0. 0. 0.\n",
            " 0. 0. 0. 0. 0. 1. 0. 0. 0. 0. 0. 0. 0. 0. 0. 0. 0. 0. 1. 0. 0. 0. 0. 0.\n",
            " 0. 0. 0. 0. 0. 0. 0. 0. 1. 0. 0. 0. 0. 0. 0. 0. 0. 0. 0. 0. 0. 0. 0. 1.\n",
            " 0. 0. 0. 0. 0. 0. 0. 0. 0. 0. 0. 0. 0. 0. 0. 1. 0. 0. 0. 0. 0. 0. 0. 0.\n",
            " 0. 0. 0. 0. 0. 0. 0. 0. 1. 0. 0. 0. 0. 0. 0. 0. 0. 0. 0. 0. 0. 0. 0. 0.\n",
            " 0. 0. 1. 0. 0. 0. 0. 0. 0. 0. 0. 0. 0. 0. 0. 0. 0. 0. 0. 0. 0. 1. 0. 0.\n",
            " 0. 0. 0. 0. 0. 0. 0. 0. 0. 0. 0. 0. 0. 0. 0. 0. 0. 1.] [ 0.93299772  1.49097413 -0.63761223 -0.54948096  1.15003635  1.0046516\n",
            "  0.11826745 -1.42381648 -2.36721833  0.74104659  0.27467288 -1.46010115\n",
            "  0.6121932   0.04597307 -0.34978185  0.12164832 -0.66735207  0.75503659\n",
            " -0.62889174 -1.41492991] [ 0.1089957   0.04354754 -0.41445109 -0.91473809  0.36278778  0.61668205\n",
            " -0.17441726  1.06550769  0.88400645 -2.06679024  0.16285957 -0.48198068\n",
            "  2.03931364 -0.66640986 -0.53313571  0.14771898  1.08116365  3.22516064\n",
            "  1.20465709  0.09846307] 0.01 2.0 0.05\n"
          ]
        }
      ]
    },
    {
      "cell_type": "code",
      "source": [
        "print(jnp.shape(*arratst + *testgrad))"
      ],
      "metadata": {
        "colab": {
          "base_uri": "https://localhost:8080/",
          "height": 130
        },
        "id": "Y-2dXwBbjn97",
        "outputId": "301958dd-b705-4b06-9b1a-94656e9c4df0"
      },
      "execution_count": 168,
      "outputs": [
        {
          "output_type": "error",
          "ename": "SyntaxError",
          "evalue": "ignored",
          "traceback": [
            "\u001b[0;36m  File \u001b[0;32m\"<ipython-input-168-2cd309a6ad58>\"\u001b[0;36m, line \u001b[0;32m1\u001b[0m\n\u001b[0;31m    print(jnp.shape(*arratst + *testgrad))\u001b[0m\n\u001b[0m                               ^\u001b[0m\n\u001b[0;31mSyntaxError\u001b[0m\u001b[0;31m:\u001b[0m invalid syntax\n"
          ]
        }
      ]
    },
    {
      "cell_type": "code",
      "source": [
        "print(L_fill(init_L, num_inducing_points))"
      ],
      "metadata": {
        "colab": {
          "base_uri": "https://localhost:8080/",
          "height": 322
        },
        "id": "ESug33oBUwf1",
        "outputId": "5f0769a0-f9d1-4418-ae2b-5bb0896f6447"
      },
      "execution_count": 77,
      "outputs": [
        {
          "output_type": "error",
          "ename": "ValueError",
          "evalue": "ignored",
          "traceback": [
            "\u001b[0;31m---------------------------------------------------------------------------\u001b[0m",
            "\u001b[0;31mValueError\u001b[0m                                Traceback (most recent call last)",
            "\u001b[0;32m<ipython-input-77-62fdffd3e7a1>\u001b[0m in \u001b[0;36m<module>\u001b[0;34m()\u001b[0m\n\u001b[0;32m----> 1\u001b[0;31m \u001b[0mprint\u001b[0m\u001b[0;34m(\u001b[0m\u001b[0mL_fill\u001b[0m\u001b[0;34m(\u001b[0m\u001b[0minit_L\u001b[0m\u001b[0;34m,\u001b[0m \u001b[0mnum_inducing_points\u001b[0m\u001b[0;34m)\u001b[0m\u001b[0;34m)\u001b[0m\u001b[0;34m\u001b[0m\u001b[0;34m\u001b[0m\u001b[0m\n\u001b[0m",
            "\u001b[0;31mValueError\u001b[0m: Non-hashable static arguments are not supported. An error occured while trying to hash an object of type <class 'jaxlib.xla_extension.DeviceArray'>, [1. 0. 1. 0. 0. 1. 0. 0. 0. 1. 0. 0. 0. 0. 1. 0. 0. 0. 0. 0. 1. 0. 0. 0.\n 0. 0. 0. 1. 0. 0. 0. 0. 0. 0. 0. 1. 0. 0. 0. 0. 0. 0. 0. 0. 1. 0. 0. 0.\n 0. 0. 0. 0. 0. 0. 1. 0. 0. 0. 0. 0. 0. 0. 0. 0. 0. 1. 0. 0. 0. 0. 0. 0.\n 0. 0. 0. 0. 0. 1. 0. 0. 0. 0. 0. 0. 0. 0. 0. 0. 0. 0. 1. 0. 0. 0. 0. 0.\n 0. 0. 0. 0. 0. 0. 0. 0. 1. 0. 0. 0. 0. 0. 0. 0. 0. 0. 0. 0. 0. 0. 0. 1.\n 0. 0. 0. 0. 0. 0. 0. 0. 0. 0. 0. 0. 0. 0. 0. 1. 0. 0. 0. 0. 0. 0. 0. 0.\n 0. 0. 0. 0. 0. 0. 0. 0. 1. 0. 0. 0. 0. 0. 0. 0. 0. 0. 0. 0. 0. 0. 0. 0.\n 0. 0. 1. 0. 0. 0. 0. 0. 0. 0. 0. 0. 0. 0. 0. 0. 0. 0. 0. 0. 0. 1. 0. 0.\n 0. 0. 0. 0. 0. 0. 0. 0. 0. 0. 0. 0. 0. 0. 0. 0. 0. 1.]. The error was:\nTypeError: unhashable type: 'DeviceArray'\n"
          ]
        }
      ]
    },
    {
      "cell_type": "code",
      "source": [
        "grad_exq = grad(Exp_qf, argnums = jnp.arange(5, 12))"
      ],
      "metadata": {
        "id": "9-zUBOMQACvn"
      },
      "execution_count": null,
      "outputs": []
    },
    {
      "cell_type": "code",
      "source": [
        "trygrad = grad_exq(30000, num_inducing_points, subkeys[0], testx, testy, vec_SE(f_loc, f_loc, init_l, init_sigma_f), vec_SE(f_loc, init_inducing_points, init_l, init_sigma_f), \n",
        "               vec_SE(init_inducing_points, init_inducing_points, init_l, init_sigma_f), init_mu, vec_SE_root(init_inducing_points, init_inducing_points, init_l, init_sigma_f, dt),\n",
        "               L_fill(init_L, num_inducing_points), init_sigma_n)"
      ],
      "metadata": {
        "id": "yPt8OrJQBAmv"
      },
      "execution_count": null,
      "outputs": []
    },
    {
      "cell_type": "code",
      "source": [
        "jnp.shape(trygrad[0])"
      ],
      "metadata": {
        "id": "rcQmN2oTAZI9"
      },
      "execution_count": null,
      "outputs": []
    },
    {
      "cell_type": "code",
      "source": [
        "print(jnp.shape(f_loc))"
      ],
      "metadata": {
        "id": "ax8v1h7PAf1t"
      },
      "execution_count": null,
      "outputs": []
    },
    {
      "cell_type": "code",
      "source": [
        "print(L_fill(init_L, num_inducing_points))"
      ],
      "metadata": {
        "id": "69QGARvxCXZ3"
      },
      "execution_count": null,
      "outputs": []
    }
  ]
}