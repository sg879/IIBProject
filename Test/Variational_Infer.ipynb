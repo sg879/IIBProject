{
  "nbformat": 4,
  "nbformat_minor": 0,
  "metadata": {
    "colab": {
      "name": "Variational_Infer.ipynb",
      "provenance": [],
      "collapsed_sections": [],
      "authorship_tag": "ABX9TyMlt2u6UXNfkQSFHt/VXUWg",
      "include_colab_link": true
    },
    "kernelspec": {
      "name": "python3",
      "display_name": "Python 3"
    },
    "language_info": {
      "name": "python"
    },
    "accelerator": "TPU"
  },
  "cells": [
    {
      "cell_type": "markdown",
      "metadata": {
        "id": "view-in-github",
        "colab_type": "text"
      },
      "source": [
        "<a href=\"https://colab.research.google.com/github/sg879/IIBProject/blob/main/Test/Variational_Infer.ipynb\" target=\"_parent\"><img src=\"https://colab.research.google.com/assets/colab-badge.svg\" alt=\"Open In Colab\"/></a>"
      ]
    },
    {
      "cell_type": "code",
      "source": [
        "import os, sys\n",
        "from google.colab import drive\n",
        "drive.mount('/content/drive')"
      ],
      "metadata": {
        "colab": {
          "base_uri": "https://localhost:8080/"
        },
        "id": "EpmUjs1xTZuN",
        "outputId": "334c56bd-13fe-4f1e-83d6-867a18385fec"
      },
      "execution_count": 2,
      "outputs": [
        {
          "output_type": "stream",
          "name": "stdout",
          "text": [
            "Drive already mounted at /content/drive; to attempt to forcibly remount, call drive.mount(\"/content/drive\", force_remount=True).\n"
          ]
        }
      ]
    },
    {
      "cell_type": "markdown",
      "source": [
        "# Variational Inference on the Test Data"
      ],
      "metadata": {
        "id": "UzMkW5aTRXVm"
      }
    },
    {
      "cell_type": "markdown",
      "source": [
        "## Importing Packages"
      ],
      "metadata": {
        "id": "m-IrbJRbReIF"
      }
    },
    {
      "cell_type": "code",
      "source": [
        "import matplotlib.pyplot as plt"
      ],
      "metadata": {
        "id": "fbM72hFBRRhc"
      },
      "execution_count": 3,
      "outputs": []
    },
    {
      "cell_type": "code",
      "source": [
        "%matplotlib inline"
      ],
      "metadata": {
        "id": "3qfSkxbXRTYs"
      },
      "execution_count": 4,
      "outputs": []
    },
    {
      "cell_type": "code",
      "execution_count": 40,
      "metadata": {
        "id": "I2mF29avQ9MM"
      },
      "outputs": [],
      "source": [
        "import numpy as np\n",
        "import jax.numpy as jnp\n",
        "import jax.scipy as jsc\n",
        "from jax import grad, jit, vmap, random, lax\n",
        "from functools import partial\n",
        "import jax"
      ]
    },
    {
      "cell_type": "markdown",
      "source": [
        "## Load Test Data"
      ],
      "metadata": {
        "id": "XTe465kaRjaj"
      }
    },
    {
      "cell_type": "code",
      "source": [
        "testx = jnp.load('drive/MyDrive/Project/Test/Testx.npy').astype('f')\n",
        "testy = jnp.load('drive/MyDrive/Project/Test/Testy.npy')\n",
        "inw = jnp.load('drive/MyDrive/Project/Test/Inputwin.npy')\n",
        "outw = jnp.load('drive/MyDrive/Project/Test/Outputwin.npy')"
      ],
      "metadata": {
        "id": "LXWgK5X2RmO9"
      },
      "execution_count": 6,
      "outputs": []
    },
    {
      "cell_type": "code",
      "source": [
        "k = jnp.shape(testx)[0]-1\n",
        "m = jnp.shape(testy)[0] - k - 1\n",
        "binw = inw/k\n",
        "timex = jnp.linspace(0.0, k*binw, k+1)\n",
        "timey = jnp.linspace(0.0, (m+k)*binw, k+m+1)"
      ],
      "metadata": {
        "id": "gtLgozQbmLC6",
        "colab": {
          "base_uri": "https://localhost:8080/"
        },
        "outputId": "a53d8e7e-2de7-43f0-cc9d-a1e1ab38daac"
      },
      "execution_count": 7,
      "outputs": [
        {
          "output_type": "stream",
          "name": "stderr",
          "text": [
            "WARNING:absl:No GPU/TPU found, falling back to CPU. (Set TF_CPP_MIN_LOG_LEVEL=0 and rerun for more info.)\n"
          ]
        }
      ]
    },
    {
      "cell_type": "code",
      "source": [
        "plt.plot(timex, testx)"
      ],
      "metadata": {
        "colab": {
          "base_uri": "https://localhost:8080/",
          "height": 282
        },
        "id": "ivhnVr0hUDoB",
        "outputId": "6341c402-48f9-4f8a-f045-f63c6a113be3"
      },
      "execution_count": 8,
      "outputs": [
        {
          "output_type": "execute_result",
          "data": {
            "text/plain": [
              "[<matplotlib.lines.Line2D at 0x7f56d9c49dd0>]"
            ]
          },
          "metadata": {},
          "execution_count": 8
        },
        {
          "output_type": "display_data",
          "data": {
            "image/png": "[encoded data removed]",
            "text/plain": [
              "<Figure size 432x288 with 1 Axes>"
            ]
          },
          "metadata": {
            "needs_background": "light"
          }
        }
      ]
    },
    {
      "cell_type": "code",
      "source": [
        "plt.plot(timey, testy)"
      ],
      "metadata": {
        "colab": {
          "base_uri": "https://localhost:8080/",
          "height": 282
        },
        "id": "cekyXVUSm8Xo",
        "outputId": "1df249f8-cc78-4962-c632-a4cef8924250"
      },
      "execution_count": 9,
      "outputs": [
        {
          "output_type": "execute_result",
          "data": {
            "text/plain": [
              "[<matplotlib.lines.Line2D at 0x7f56d9be3350>]"
            ]
          },
          "metadata": {},
          "execution_count": 9
        },
        {
          "output_type": "display_data",
          "data": {
            "image/png": "[encoded data removed]",
            "text/plain": [
              "<Figure size 432x288 with 1 Axes>"
            ]
          },
          "metadata": {
            "needs_background": "light"
          }
        }
      ]
    },
    {
      "cell_type": "markdown",
      "source": [
        "## Function Definitions"
      ],
      "metadata": {
        "id": "eHPQI_3UnQjD"
      }
    },
    {
      "cell_type": "markdown",
      "source": [
        "### SE Prior\n"
      ],
      "metadata": {
        "id": "jrlR_DEntFZH"
      }
    },
    {
      "cell_type": "code",
      "source": [
        "@jit\n",
        "def squared_exp2(I, J, Ell, Sigma_f):\n",
        "  return Sigma_f**2.0*jnp.exp(-(I-J)**2/(2*Ell**2.0))"
      ],
      "metadata": {
        "id": "0iihKVnAtIrY"
      },
      "execution_count": 10,
      "outputs": []
    },
    {
      "cell_type": "code",
      "source": [
        "vec_SE = jit(vmap(vmap(squared_exp2, in_axes=[None,0,None,None]),in_axes=[0,None,None,None]))"
      ],
      "metadata": {
        "id": "q_rY_alTtJaL"
      },
      "execution_count": 11,
      "outputs": []
    },
    {
      "cell_type": "code",
      "source": [
        "@jit\n",
        "def root_squared_exp2(I, J, Ell, Sigma_f, Dt):\n",
        "  return Sigma_f*(2/jnp.pi)**(0.25)*(Dt/Ell)**(0.5)*jnp.exp(-(I-J)**2/Ell**2)"
      ],
      "metadata": {
        "id": "uEyf-lN9m3Jg"
      },
      "execution_count": 52,
      "outputs": []
    },
    {
      "cell_type": "code",
      "source": [
        "vec_SE_root = jit(vmap(vmap(root_squared_exp2, in_axes=[None,0,None,None, None]),in_axes=[0,None,None,None, None]))"
      ],
      "metadata": {
        "id": "WVpjDDSmn4Jw"
      },
      "execution_count": 54,
      "outputs": []
    },
    {
      "cell_type": "markdown",
      "source": [
        "### Variational Bound (ELBO)"
      ],
      "metadata": {
        "id": "UgH2pinnnZSk"
      }
    },
    {
      "cell_type": "markdown",
      "source": [
        "#### KL Divergence"
      ],
      "metadata": {
        "id": "QksAQCrrnfoy"
      }
    },
    {
      "cell_type": "code",
      "source": [
        "@jit\n",
        "def kl_div(L_matrix, Prior_cov_root,  Mu_prior, Param_vu):\n",
        "  # Not including m/2 term as not being optimised over\n",
        "  return jnp.sum(jnp.log(jnp.diag(L_matrix))) + 0.5*(jnp.linalg.norm(L_matrix)**2) + \\\n",
        "            0.5*(jnp.linalg.norm(jnp.linalg.lstsq(Prior_cov_root, Mu_prior)[0] - Param_vu)**2)"
      ],
      "metadata": {
        "id": "gC7kfPrFnkJA"
      },
      "execution_count": 12,
      "outputs": []
    },
    {
      "cell_type": "code",
      "source": [
        "jax.devices()"
      ],
      "metadata": {
        "id": "7Mbna3QPzxCD",
        "outputId": "4003b7de-e9d2-42ed-ace1-8995b66dc608",
        "colab": {
          "base_uri": "https://localhost:8080/"
        }
      },
      "execution_count": 13,
      "outputs": [
        {
          "output_type": "execute_result",
          "data": {
            "text/plain": [
              "[<jaxlib.xla_extension.Device at 0x7f56d96986f0>]"
            ]
          },
          "metadata": {},
          "execution_count": 13
        }
      ]
    },
    {
      "cell_type": "code",
      "source": [
        "jax.device_count()"
      ],
      "metadata": {
        "id": "b5bjfkyG0z_n",
        "outputId": "9a62c337-af2f-4332-94d7-395890d918d1",
        "colab": {
          "base_uri": "https://localhost:8080/"
        }
      },
      "execution_count": 14,
      "outputs": [
        {
          "output_type": "execute_result",
          "data": {
            "text/plain": [
              "1"
            ]
          },
          "metadata": {},
          "execution_count": 14
        }
      ]
    },
    {
      "cell_type": "markdown",
      "source": [
        "#### Log Multivariate Gaussian PDF"
      ],
      "metadata": {
        "id": "H_dg-8mzPnId"
      }
    },
    {
      "cell_type": "code",
      "source": [
        "@jit\n",
        "def logmultivariate_normal(Input, Mean, Covariance_Matrix):\n",
        "  # Excluding the sqrt(2*pi)**k to avoid overflow\n",
        "  Diff = Input-Mean\n",
        "  return -0.5*((Diff.T@jnp.linalg.lstsq(Covariance_Matrix, Diff)[0]) + jnp.log(jnp.linalg.det(Covariance_Matrix)))"
      ],
      "metadata": {
        "id": "hOBwwJWHPrVY"
      },
      "execution_count": 15,
      "outputs": []
    },
    {
      "cell_type": "code",
      "source": [
        "#%timeit logmultivariate_normal(jnp.zeros((10000,)), jnp.zeros((10000,)), jnp.eye(10000))"
      ],
      "metadata": {
        "id": "bFYQtvRQf9BJ"
      },
      "execution_count": 18,
      "outputs": []
    },
    {
      "cell_type": "code",
      "source": [
        "vec_lognorm = jit(vmap(logmultivariate_normal, in_axes = [0, None, None]))"
      ],
      "metadata": {
        "id": "9Tm9D2hOkE8F"
      },
      "execution_count": 19,
      "outputs": []
    },
    {
      "cell_type": "code",
      "source": [
        "vec_lognorm(jnp.vstack((jnp.ones((10,)), jnp.zeros((10,)))), jnp.zeros((10,)), jnp.eye(10))"
      ],
      "metadata": {
        "id": "6oRjIT_grTv5",
        "outputId": "13820ac3-16c5-4085-f96e-c64c2597283d",
        "colab": {
          "base_uri": "https://localhost:8080/"
        }
      },
      "execution_count": 20,
      "outputs": [
        {
          "output_type": "execute_result",
          "data": {
            "text/plain": [
              "DeviceArray([-5., -0.], dtype=float32)"
            ]
          },
          "metadata": {},
          "execution_count": 20
        }
      ]
    },
    {
      "cell_type": "markdown",
      "source": [
        "#### Expected Log Likelihood"
      ],
      "metadata": {
        "id": "5rwUupOlKkPz"
      }
    },
    {
      "cell_type": "code",
      "source": [
        "@jit\n",
        "def Log_Likely(Sampled_f, Truex, Truey, Sigma_n):\n",
        "\n",
        "  K = jnp.shape(Truex)[0] - 1\n",
        "  M = jnp.shape(Truey)[0] - K -1\n",
        "  \n",
        "  # Pad input and filter\n",
        "  X_pad = jnp.hstack((Truex, jnp.zeros((M,))))\n",
        "  F_pad = jnp.hstack((Sampled_f, jnp.zeros((K,))))\n",
        "\n",
        "  # Compute the FFTs\n",
        "  X_fft = jnp.fft.fft(X_pad)\n",
        "  F_fft = jnp.fft.fft(F_pad)\n",
        "\n",
        "  # Elementwise multiplication\n",
        "  FFTmul = jnp.multiply(X_fft, F_fft)\n",
        "\n",
        "  # Make mean\n",
        "  Y_mean = jnp.real(jnp.fft.ifft(FFTmul))\n",
        "\n",
        "  return jsc.stats.multivariate_normal.logpdf(Truey, Y_mean, Sigma_n*jnp.eye(M+K+1))"
      ],
      "metadata": {
        "id": "F_Bagwgxv4ck"
      },
      "execution_count": 24,
      "outputs": []
    },
    {
      "cell_type": "code",
      "source": [
        "Log_Likely(jnp.ones((21,)), timex.flatten(), timey.flatten(), 0.05)"
      ],
      "metadata": {
        "id": "VCMvKbNF8q-K",
        "outputId": "0e6ba25e-1ea6-48a5-f699-36c8d5fbdd1a",
        "colab": {
          "base_uri": "https://localhost:8080/"
        }
      },
      "execution_count": 25,
      "outputs": [
        {
          "output_type": "execute_result",
          "data": {
            "text/plain": [
              "DeviceArray(-29424.24, dtype=float32)"
            ]
          },
          "metadata": {},
          "execution_count": 25
        }
      ]
    },
    {
      "cell_type": "code",
      "source": [
        "vec_loglikely = jit(vmap(Log_Likely, in_axes = [0, None, None, None]))"
      ],
      "metadata": {
        "id": "jzXkxRmaDZT2"
      },
      "execution_count": 26,
      "outputs": []
    },
    {
      "cell_type": "code",
      "source": [
        "@partial(jit, static_argnums=11)\n",
        "def Exp_qf(Knn, Knm, Kmm, Inducing_Mean, Prior_cov_root, L_matrix, Num_Inducing, Subkey, Truex, Truey, Sigma_n, Number_f):\n",
        "\n",
        "  # Sampling f\n",
        "  A = Knm @ jnp.linalg.inv(Kmm)\n",
        "  F_Mean = A @ Inducing_Mean\n",
        "  F_Covariance = Knn + A @ (Prior_cov_root @ L_matrix @ L_matrix.T @ Prior_cov_root\n",
        "                            - Kmm) @ A.T\n",
        "\n",
        "   # Cholesky f covariance\n",
        "  #Chol_pwr = choleskypwr(F_Covariance)\n",
        "  #F_Cholesky = lax.cond(Chol_pwr.any(), jnp.linalg.cholesky(F_Covariance + 10**(-10+jnp.sum(Chol_pwr)*jnp.eye(Num_Inducing))), jnp.linalg.cholesky(F_Covariance))\n",
        "\n",
        "  Sampled_f = random.multivariate_normal(Subkey, F_Mean, F_Covariance, shape = (Number_f,), method = 'svd')\n",
        "\n",
        "  return jnp.mean(vec_loglikely(Sampled_f, Truex, Truey, Sigma_n), axis = None)"
      ],
      "metadata": {
        "id": "gNvRG41TKpAP"
      },
      "execution_count": 41,
      "outputs": []
    },
    {
      "cell_type": "code",
      "source": [
        "induc_p = timex[::10]"
      ],
      "metadata": {
        "id": "DDCVxPvksETc"
      },
      "execution_count": 30,
      "outputs": []
    },
    {
      "cell_type": "code",
      "source": [
        "timef = timex[:21]"
      ],
      "metadata": {
        "id": "lTrrydI5H8jf"
      },
      "execution_count": 31,
      "outputs": []
    },
    {
      "cell_type": "code",
      "source": [
        "exar = [Exp_qf(vec_SE(timef, timef, 0.05, 1.0), vec_SE(timef, induc_p, 0.05, 1.0), vec_SE(induc_p, induc_p, 0.05, 1.0), jnp.zeros((11,)), jnp.eye(11), jnp.eye(11), 11, subkeys[-1], timex.flatten(), timey.flatten(), 0.05, i) for i in np.arange(1, 300000, 10000)]"
      ],
      "metadata": {
        "id": "X_jn92qcaYNd"
      },
      "execution_count": 46,
      "outputs": []
    },
    {
      "cell_type": "code",
      "source": [
        "plt.plot(np.arange(1, 300000, 10000), exar)"
      ],
      "metadata": {
        "id": "5N_C0IxGQ1PD",
        "outputId": "ecfd13f5-6a1e-4493-c398-fd99c36d173e",
        "colab": {
          "base_uri": "https://localhost:8080/",
          "height": 282
        }
      },
      "execution_count": 47,
      "outputs": [
        {
          "output_type": "execute_result",
          "data": {
            "text/plain": [
              "[<matplotlib.lines.Line2D at 0x7f56d0ad7d10>]"
            ]
          },
          "metadata": {},
          "execution_count": 47
        },
        {
          "output_type": "display_data",
          "data": {
            "image/png": "[encoded data removed]",
            "text/plain": [
              "<Figure size 432x288 with 1 Axes>"
            ]
          },
          "metadata": {
            "needs_background": "light"
          }
        }
      ]
    },
    {
      "cell_type": "markdown",
      "source": [
        "#### Cholesky Check"
      ],
      "metadata": {
        "id": "V12h2r8g8Koq"
      }
    },
    {
      "cell_type": "code",
      "source": [
        "@jit\n",
        "def checknans(Symmetric_Matrix, Power):\n",
        "  # Power MUST be input as a float\n",
        "  M = jnp.shape(Symmetric_Matrix)[0]\n",
        "  return Symmetric_Matrix, jnp.isnan(jnp.linalg.cholesky(Symmetric_Matrix +\n",
        "                                                         (10**Power)*jnp.eye(M))).any().astype('f')"
      ],
      "metadata": {
        "id": "BfB8d2dhaXXK"
      },
      "execution_count": null,
      "outputs": []
    },
    {
      "cell_type": "code",
      "source": [
        "@jit\n",
        "def choleskypwr(Symmetric_Matrix):\n",
        "  Number_check = 10\n",
        "  Power_list = -1*jnp.arange(Number_check + 1, dtype='f')\n",
        "  _, Failure = lax.scan(checknans, Symmetric_Matrix, Power_list)\n",
        "  return Failure"
      ],
      "metadata": {
        "id": "wdQ2MfY5ZisM"
      },
      "execution_count": null,
      "outputs": []
    },
    {
      "cell_type": "code",
      "source": [
        "def choleskyit(Symmetric_Matrix):\n",
        "  Number_check = 10\n",
        "  Power_list = -1*jnp.arange(Number_check+1)\n",
        "  Base_list = 10*jnp.ones(Number_check)\n",
        "  Lambdas = jnp.power(Base_list, Power_list)\n",
        "  M = jnp.shape(Symmetric_Matrix)[0]\n",
        "  Larr = jnp.linalg.cholesky(Symmetric_Matrix).flatten()\n",
        "  Ind = 1\n",
        "\n",
        "  while jnp.isnan(Larr).any():\n",
        "    Larr = jnp.linalg.cholesky(Symmetric_Matrix + Lambdas.at[-Ind].get()*jnp.eye(M)).flatten()\n",
        "    Ind += 1\n",
        "\n",
        "  return Larr.reshape((M, M))"
      ],
      "metadata": {
        "id": "Sz7Gb-z-8PUC"
      },
      "execution_count": null,
      "outputs": []
    },
    {
      "cell_type": "markdown",
      "source": [
        "#### ELBO"
      ],
      "metadata": {
        "id": "ILwJdch_ifBF"
      }
    },
    {
      "cell_type": "code",
      "source": [
        "@partial(jit, static_argnums=3)\n",
        "def ELBO(Truex, Truey, F_locs, Number_f, Num_Inducing, Dt, Subkey, Inducing_Points, Param_vu, L_matrix, Mu_prior, Ell, Sigma_f, Sigma_n):\n",
        "  Knn = vec_SE(F_locs, F_locs, Ell, Sigma_f)\n",
        "  Knm = vec_SE(F_locs, Inducing_Points, Ell, Sigma_f)\n",
        "  Kmm = vec_SE(Inducing_Points, Inducing_Points, Ell, Sigma_f)\n",
        "  Prior_cov_root = vec_SE_root(Inducing_Points, Inducing_Points, Ell, Sigma_f, Dt)\n",
        "\n",
        "  Inducing_Mean = Prior_cov_root @ Param_vu\n",
        "  return Exp_qf(Knn, Knm, Kmm, Inducing_Mean, Prior_cov_root, L_matrix, Num_Inducing, Subkey, Truex, Truey, Sigma_n, Number_f) - \\\n",
        "            kl_div(L_matrix, Prior_cov_root,  Mu_prior, Param_vu)\n"
      ],
      "metadata": {
        "id": "kbfG6PaHiiVZ"
      },
      "execution_count": 55,
      "outputs": []
    },
    {
      "cell_type": "markdown",
      "source": [
        "### Gradient Ascent"
      ],
      "metadata": {
        "id": "89MyMRdYUqj6"
      }
    },
    {
      "cell_type": "code",
      "source": [
        "def grad_asc_MargL(Epsilon, Initial):\n",
        "  \"\"\"\n",
        "    Initial a vector of:\n",
        "       - Inducing Points (Initial[:m])\n",
        "       - L Parameter (Initial[m:m+(m*(m+1)/2)])\n",
        "       - Vu Parameter (Inital[m+(m*(m+1)/2):2*m+(m*(m+1)/2)])\n",
        "       - Mu of Prior (Initial[2*m+(m*(m+1)/2): 3*m+(m*(m+1)/2)])\n",
        "       - Ell of Prior (Initial[2*m+(m*(m+1)/2)])\n",
        "       - Sigma_f of Prior (Initial[2*m+(m*(m+1)/2)+1])\n",
        "       - Sigma_n of Prior/Model (Initial[2*m+(m*(m+1)/2)+2])\n",
        "    \n",
        "    Truex is the observed input data\n",
        "\n",
        "    Truey is the observed output data\n",
        "\n",
        "    F_locs is the timestamps of the filter trying to infer\n",
        "  \"\"\"\n",
        "  Max_Inducing = 10000\n",
        "  Max_OutV_Len = jnp.rint(0.5*(Max_Inducing**2+5*Max_Inducing))\n",
        "  Output_Vector = jnp.zeros(0.5*(Max_OutV_Len))\n",
        "\n",
        "  SizeIn = jnp.shape(Initial)[0]\n",
        "  Number_Inducing = jnp.rint(0.5*(-5+jnp.sqrt(25+8*SizeIn)))\n",
        "  Gradient = jnp.ones(SizeIn)\n",
        "  CurrIn = Initial\n",
        "\n",
        "  while jnp.linalg.norm(Gradient) > Epsilon:\n",
        "    Current_ELBO = ELBO(CurrIn)\n",
        "    Step = -Gradient(CurrIn)"
      ],
      "metadata": {
        "id": "CLKg7S9IUxK_"
      },
      "execution_count": null,
      "outputs": []
    },
    {
      "cell_type": "code",
      "source": [
        "def Grad_Ascent(Initial, ):\n",
        "\n",
        "    \"\"\"\n",
        "    Initial a vector of:\n",
        "       - Inducing Points (Initial[:m])\n",
        "       - L Parameter (Initial[m:m+(m*(m+1)/2)])\n",
        "       - Vu Parameter (Inital[m+(m*(m+1)/2):2*m+(m*(m+1)/2)])\n",
        "    \n",
        "    Truex is the observed input data\n",
        "\n",
        "    Truey is the observed output data\n",
        "\n",
        "    F_locs is the timestamps of the filter trying to infer\n",
        "    \"\"\"\n"
      ],
      "metadata": {
        "id": "MfLdnyy-ow7A"
      },
      "execution_count": null,
      "outputs": []
    },
    {
      "cell_type": "markdown",
      "source": [
        "#### Data to test the functions individually"
      ],
      "metadata": {
        "id": "x3BA5lHvwESH"
      }
    },
    {
      "cell_type": "code",
      "source": [
        "# Generate random key\n",
        "key = random.PRNGKey(0)\n",
        "key, *subkeys = random.split(key, 4)\n",
        "subkeyl = subkeys[0]\n",
        "subkeysig = subkeys[1]\n",
        "\n",
        "# Generated test inducing points\n",
        "num_ind = 10\n",
        "tstloc = random.truncated_normal(key, 0.0, timey[-1]-timex[-1], (num_ind,))\n",
        "tstloc = jnp.sort(tstloc)\n",
        "\n",
        "# Generate covariance of inducing points with SE function (for ease, shouldn't ...\n",
        "# do this for actual thing)\n",
        "l_param = random.uniform(subkeyl)\n",
        "sigma_param = random.uniform(subkeysig)\n",
        "Gmat = vec_SE(tstloc, tstloc, 0.05, 1.0)\n",
        "\n",
        "chol_chek = choleskypwr(Gmat)\n",
        "\n",
        "# Use cond statement to make more efficient\n",
        "Lnew = jnp.linalg.cholesky(Gmat + chol_chek.any()*(10**(-10+jnp.sum(chol_chek)))*jnp.eye(num_ind))\n",
        "\n",
        "# Generate arbitrary lower triangular matrix (not from PSD or symmetric)\n",
        "tstmat = jnp.zeros((4,4))\n",
        "tstmat = tstmat.at[jnp.tril_indices(4)].set(jnp.arange(1,11).astype('f'))"
      ],
      "metadata": {
        "colab": {
          "base_uri": "https://localhost:8080/",
          "height": 234
        },
        "id": "3_WJNEDQr6SQ",
        "outputId": "f6b63999-37c7-4c60-9f54-d844c41301fe"
      },
      "execution_count": 33,
      "outputs": [
        {
          "output_type": "error",
          "ename": "NameError",
          "evalue": "ignored",
          "traceback": [
            "\u001b[0;31m---------------------------------------------------------------------------\u001b[0m",
            "\u001b[0;31mNameError\u001b[0m                                 Traceback (most recent call last)",
            "\u001b[0;32m<ipython-input-33-168ebfa7d94d>\u001b[0m in \u001b[0;36m<module>\u001b[0;34m()\u001b[0m\n\u001b[1;32m     16\u001b[0m \u001b[0mGmat\u001b[0m \u001b[0;34m=\u001b[0m \u001b[0mvec_SE\u001b[0m\u001b[0;34m(\u001b[0m\u001b[0mtstloc\u001b[0m\u001b[0;34m,\u001b[0m \u001b[0mtstloc\u001b[0m\u001b[0;34m,\u001b[0m \u001b[0;36m0.05\u001b[0m\u001b[0;34m,\u001b[0m \u001b[0;36m1.0\u001b[0m\u001b[0;34m)\u001b[0m\u001b[0;34m\u001b[0m\u001b[0;34m\u001b[0m\u001b[0m\n\u001b[1;32m     17\u001b[0m \u001b[0;34m\u001b[0m\u001b[0m\n\u001b[0;32m---> 18\u001b[0;31m \u001b[0mchol_chek\u001b[0m \u001b[0;34m=\u001b[0m \u001b[0mcholeskypwr\u001b[0m\u001b[0;34m(\u001b[0m\u001b[0mGmat\u001b[0m\u001b[0;34m)\u001b[0m\u001b[0;34m\u001b[0m\u001b[0;34m\u001b[0m\u001b[0m\n\u001b[0m\u001b[1;32m     19\u001b[0m \u001b[0;34m\u001b[0m\u001b[0m\n\u001b[1;32m     20\u001b[0m \u001b[0;31m# Use cond statement to make more efficient\u001b[0m\u001b[0;34m\u001b[0m\u001b[0;34m\u001b[0m\u001b[0;34m\u001b[0m\u001b[0m\n",
            "\u001b[0;31mNameError\u001b[0m: name 'choleskypwr' is not defined"
          ]
        }
      ]
    }
  ]
}