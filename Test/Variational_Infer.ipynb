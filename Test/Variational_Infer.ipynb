{
  "nbformat": 4,
  "nbformat_minor": 0,
  "metadata": {
    "colab": {
      "name": "Variational_Infer.ipynb",
      "provenance": [],
      "collapsed_sections": [],
      "authorship_tag": "ABX9TyPOkIFRFpTZQCOrMmzrajI1",
      "include_colab_link": true
    },
    "kernelspec": {
      "name": "python3",
      "display_name": "Python 3"
    },
    "language_info": {
      "name": "python"
    },
    "accelerator": "TPU"
  },
  "cells": [
    {
      "cell_type": "markdown",
      "metadata": {
        "id": "view-in-github",
        "colab_type": "text"
      },
      "source": [
        "<a href=\"https://colab.research.google.com/github/sg879/IIBProject/blob/main/Test/Variational_Infer.ipynb\" target=\"_parent\"><img src=\"https://colab.research.google.com/assets/colab-badge.svg\" alt=\"Open In Colab\"/></a>"
      ]
    },
    {
      "cell_type": "code",
      "source": [
        "import os, sys\n",
        "from google.colab import drive\n",
        "drive.mount('/content/drive')"
      ],
      "metadata": {
        "colab": {
          "base_uri": "https://localhost:8080/"
        },
        "id": "EpmUjs1xTZuN",
        "outputId": "f2423c5b-1487-4b45-e8f0-fea1aa35b2e3"
      },
      "execution_count": 2,
      "outputs": [
        {
          "output_type": "stream",
          "name": "stdout",
          "text": [
            "Mounted at /content/drive\n"
          ]
        }
      ]
    },
    {
      "cell_type": "markdown",
      "source": [
        "# Variational Inference on the Test Data"
      ],
      "metadata": {
        "id": "UzMkW5aTRXVm"
      }
    },
    {
      "cell_type": "markdown",
      "source": [
        "## Importing Packages"
      ],
      "metadata": {
        "id": "m-IrbJRbReIF"
      }
    },
    {
      "cell_type": "code",
      "source": [
        "import matplotlib.pyplot as plt"
      ],
      "metadata": {
        "id": "fbM72hFBRRhc"
      },
      "execution_count": 3,
      "outputs": []
    },
    {
      "cell_type": "code",
      "source": [
        "%matplotlib inline"
      ],
      "metadata": {
        "id": "3qfSkxbXRTYs"
      },
      "execution_count": 4,
      "outputs": []
    },
    {
      "cell_type": "code",
      "execution_count": 5,
      "metadata": {
        "id": "I2mF29avQ9MM"
      },
      "outputs": [],
      "source": [
        "import numpy as np\n",
        "import jax.numpy as jnp\n",
        "import jax.scipy as jsc\n",
        "from jax import grad, jit, vmap, random, lax\n",
        "from functools import partial\n",
        "import jax"
      ]
    },
    {
      "cell_type": "code",
      "source": [
        "from jax.config import config\n",
        "config.update(\"jax_enable_x64\", True)"
      ],
      "metadata": {
        "id": "-RF6Rxy-tE-A"
      },
      "execution_count": 6,
      "outputs": []
    },
    {
      "cell_type": "markdown",
      "source": [
        "## Load Test Data"
      ],
      "metadata": {
        "id": "XTe465kaRjaj"
      }
    },
    {
      "cell_type": "code",
      "source": [
        "testx = jnp.load('drive/MyDrive/Project/Test/Testx.npy').astype('f')\n",
        "testy = jnp.load('drive/MyDrive/Project/Test/Testy.npy')\n",
        "inw = jnp.load('drive/MyDrive/Project/Test/Inputwin.npy')\n",
        "outw = jnp.load('drive/MyDrive/Project/Test/Outputwin.npy')"
      ],
      "metadata": {
        "id": "LXWgK5X2RmO9"
      },
      "execution_count": 7,
      "outputs": []
    },
    {
      "cell_type": "code",
      "source": [
        "k = jnp.shape(testx)[0]-1\n",
        "m = jnp.shape(testy)[0] - k - 1\n",
        "binw = inw/k\n",
        "timex = jnp.linspace(0.0, k*binw, k+1)\n",
        "timey = jnp.linspace(0.0, (m+k)*binw, k+m+1)"
      ],
      "metadata": {
        "id": "gtLgozQbmLC6",
        "colab": {
          "base_uri": "https://localhost:8080/"
        },
        "outputId": "496d26a5-5d6d-40f8-e1d2-69804b591299"
      },
      "execution_count": 8,
      "outputs": [
        {
          "output_type": "stream",
          "name": "stderr",
          "text": [
            "WARNING:absl:No GPU/TPU found, falling back to CPU. (Set TF_CPP_MIN_LOG_LEVEL=0 and rerun for more info.)\n"
          ]
        }
      ]
    },
    {
      "cell_type": "code",
      "source": [
        "plt.plot(timex, testx)"
      ],
      "metadata": {
        "colab": {
          "base_uri": "https://localhost:8080/",
          "height": 282
        },
        "id": "ivhnVr0hUDoB",
        "outputId": "764e14c9-acac-4e30-d082-c89636dc336f"
      },
      "execution_count": 9,
      "outputs": [
        {
          "output_type": "execute_result",
          "data": {
            "text/plain": [
              "[<matplotlib.lines.Line2D at 0x7f8cbaf527d0>]"
            ]
          },
          "metadata": {},
          "execution_count": 9
        },
        {
          "output_type": "display_data",
          "data": {
            "image/png": "[encoded data removed]",
            "text/plain": [
              "<Figure size 432x288 with 1 Axes>"
            ]
          },
          "metadata": {
            "needs_background": "light"
          }
        }
      ]
    },
    {
      "cell_type": "code",
      "source": [
        "plt.plot(timey, testy)"
      ],
      "metadata": {
        "colab": {
          "base_uri": "https://localhost:8080/",
          "height": 282
        },
        "id": "cekyXVUSm8Xo",
        "outputId": "2c1cda97-d318-4ceb-d6d5-bae6a0494ca7"
      },
      "execution_count": 10,
      "outputs": [
        {
          "output_type": "execute_result",
          "data": {
            "text/plain": [
              "[<matplotlib.lines.Line2D at 0x7f8cbaa3d890>]"
            ]
          },
          "metadata": {},
          "execution_count": 10
        },
        {
          "output_type": "display_data",
          "data": {
            "image/png": "[encoded data removed]",
            "text/plain": [
              "<Figure size 432x288 with 1 Axes>"
            ]
          },
          "metadata": {
            "needs_background": "light"
          }
        }
      ]
    },
    {
      "cell_type": "markdown",
      "source": [
        "## Function Definitions"
      ],
      "metadata": {
        "id": "eHPQI_3UnQjD"
      }
    },
    {
      "cell_type": "markdown",
      "source": [
        "### SE Prior\n"
      ],
      "metadata": {
        "id": "jrlR_DEntFZH"
      }
    },
    {
      "cell_type": "code",
      "source": [
        "@jit\n",
        "def squared_exp2(I, J, Ell, Sigma_f):\n",
        "  return Sigma_f**2.0*jnp.exp(-(I-J)**2/(2*Ell**2.0))"
      ],
      "metadata": {
        "id": "0iihKVnAtIrY"
      },
      "execution_count": 11,
      "outputs": []
    },
    {
      "cell_type": "code",
      "source": [
        "vec_SE = jit(vmap(vmap(squared_exp2, in_axes=[None,0,None,None]),in_axes=[0,None,None,None]))"
      ],
      "metadata": {
        "id": "q_rY_alTtJaL"
      },
      "execution_count": 12,
      "outputs": []
    },
    {
      "cell_type": "code",
      "source": [
        "@jit\n",
        "def root_squared_exp2(I, J, Ell, Sigma_f, Dt):\n",
        "  return Sigma_f*(2/jnp.pi)**(0.25)*(Dt/Ell)**(0.5)*jnp.exp(-(I-J)**2/Ell**2)"
      ],
      "metadata": {
        "id": "uEyf-lN9m3Jg"
      },
      "execution_count": 13,
      "outputs": []
    },
    {
      "cell_type": "code",
      "source": [
        "vec_SE_root = jit(vmap(vmap(root_squared_exp2, in_axes=[None,0,None,None, None]),in_axes=[0,None,None,None, None]))"
      ],
      "metadata": {
        "id": "WVpjDDSmn4Jw"
      },
      "execution_count": 14,
      "outputs": []
    },
    {
      "cell_type": "markdown",
      "source": [
        "### Cholesky Check"
      ],
      "metadata": {
        "id": "V12h2r8g8Koq"
      }
    },
    {
      "cell_type": "code",
      "source": [
        "@jit\n",
        "def checknans(Symmetric_Matrix, Power):\n",
        "  # Power MUST be input as a float\n",
        "  M = jnp.shape(Symmetric_Matrix)[0]\n",
        "  return Symmetric_Matrix, jnp.isnan(jnp.linalg.cholesky(Symmetric_Matrix +\n",
        "                                                         (10**Power)*jnp.eye(M))).any().astype('f')"
      ],
      "metadata": {
        "id": "BfB8d2dhaXXK"
      },
      "execution_count": 15,
      "outputs": []
    },
    {
      "cell_type": "code",
      "source": [
        "@jit\n",
        "def choleskypwr(Symmetric_Matrix):\n",
        "  Number_check = 60\n",
        "  Power_list = -1*jnp.arange(Number_check + 1, dtype='f')\n",
        "  _, Failure = lax.scan(checknans, Symmetric_Matrix, Power_list)\n",
        "  return jnp.sum(Failure)"
      ],
      "metadata": {
        "id": "wdQ2MfY5ZisM"
      },
      "execution_count": 16,
      "outputs": []
    },
    {
      "cell_type": "code",
      "source": [
        "@jit\n",
        "def broke_Chol(Symmetric_Matrix):\n",
        "  F_size = jnp.shape(Symmetric_Matrix)[0]\n",
        "  return jnp.linalg.cholesky(Symmetric_Matrix + 10.0**(-5.0)*jnp.eye(F_size))"
      ],
      "metadata": {
        "id": "Zd0HXXgeEzCm"
      },
      "execution_count": 17,
      "outputs": []
    },
    {
      "cell_type": "code",
      "source": [
        "@jit\n",
        "def good_Chol(Symmetric_Matrix):\n",
        "  return jnp.linalg.cholesky(Symmetric_Matrix)"
      ],
      "metadata": {
        "id": "XUCM9SQnytWU"
      },
      "execution_count": 18,
      "outputs": []
    },
    {
      "cell_type": "code",
      "source": [
        "def choleskyit(Symmetric_Matrix):\n",
        "  Number_check = 60\n",
        "  Power_list = -1*jnp.arange(Number_check+1)\n",
        "  Base_list = 10*jnp.ones(Number_check)\n",
        "  Lambdas = jnp.power(Base_list, Power_list)\n",
        "  M = jnp.shape(Symmetric_Matrix)[0]\n",
        "  Larr = jnp.linalg.cholesky(Symmetric_Matrix).flatten()\n",
        "  Ind = 1\n",
        "\n",
        "  while jnp.isnan(Larr).any():\n",
        "    Larr = jnp.linalg.cholesky(Symmetric_Matrix + Lambdas.at[-Ind].get()*jnp.eye(M)).flatten()\n",
        "    Ind += 1\n",
        "\n",
        "  return Larr.reshape((M, M))"
      ],
      "metadata": {
        "id": "Sz7Gb-z-8PUC"
      },
      "execution_count": 19,
      "outputs": []
    },
    {
      "cell_type": "markdown",
      "source": [
        "### Variational Bound (ELBO)"
      ],
      "metadata": {
        "id": "UgH2pinnnZSk"
      }
    },
    {
      "cell_type": "markdown",
      "source": [
        "#### KL Divergence"
      ],
      "metadata": {
        "id": "QksAQCrrnfoy"
      }
    },
    {
      "cell_type": "code",
      "source": [
        "@jit\n",
        "def kl_div(L_matrix, Prior_cov_root,  Mu_prior, Param_vu):\n",
        "  # Not including m/2 term as not being optimised over\n",
        "  return jnp.sum(jnp.log(jnp.diag(L_matrix))) + 0.5*(jnp.linalg.norm(L_matrix)**2) + \\\n",
        "            0.5*(jnp.linalg.norm(jnp.linalg.lstsq(Prior_cov_root, Mu_prior)[0] - Param_vu)**2)"
      ],
      "metadata": {
        "id": "gC7kfPrFnkJA"
      },
      "execution_count": 22,
      "outputs": []
    },
    {
      "cell_type": "code",
      "source": [
        "jax.devices()"
      ],
      "metadata": {
        "id": "7Mbna3QPzxCD",
        "outputId": "a4cd8fc3-2da5-42a4-f9e4-ab95af9c76fd",
        "colab": {
          "base_uri": "https://localhost:8080/"
        }
      },
      "execution_count": 23,
      "outputs": [
        {
          "output_type": "execute_result",
          "data": {
            "text/plain": [
              "[<jaxlib.xla_extension.Device at 0x7f8cba9c1470>]"
            ]
          },
          "metadata": {},
          "execution_count": 23
        }
      ]
    },
    {
      "cell_type": "code",
      "source": [
        "jax.device_count()"
      ],
      "metadata": {
        "id": "b5bjfkyG0z_n",
        "outputId": "f5bc7069-0d74-41c4-8cdb-acaa94350e8d",
        "colab": {
          "base_uri": "https://localhost:8080/"
        }
      },
      "execution_count": 24,
      "outputs": [
        {
          "output_type": "execute_result",
          "data": {
            "text/plain": [
              "1"
            ]
          },
          "metadata": {},
          "execution_count": 24
        }
      ]
    },
    {
      "cell_type": "markdown",
      "source": [
        "#### Log Multivariate Gaussian PDF"
      ],
      "metadata": {
        "id": "H_dg-8mzPnId"
      }
    },
    {
      "cell_type": "code",
      "source": [
        "@jit\n",
        "def logmultivariate_normal(Input, Mean, Covariance_Matrix):\n",
        "  # Excluding the sqrt(2*pi)**k to avoid overflow\n",
        "  Diff = Input-Mean\n",
        "  return -0.5*((Diff.T@jnp.linalg.lstsq(Covariance_Matrix, Diff)[0]) + jnp.log(jnp.linalg.det(Covariance_Matrix)))"
      ],
      "metadata": {
        "id": "hOBwwJWHPrVY"
      },
      "execution_count": 25,
      "outputs": []
    },
    {
      "cell_type": "code",
      "source": [
        "#%timeit logmultivariate_normal(jnp.zeros((10000,)), jnp.zeros((10000,)), jnp.eye(10000))"
      ],
      "metadata": {
        "id": "bFYQtvRQf9BJ"
      },
      "execution_count": 26,
      "outputs": []
    },
    {
      "cell_type": "code",
      "source": [
        "vec_lognorm = jit(vmap(logmultivariate_normal, in_axes = [0, None, None]))"
      ],
      "metadata": {
        "id": "9Tm9D2hOkE8F"
      },
      "execution_count": 27,
      "outputs": []
    },
    {
      "cell_type": "code",
      "source": [
        "vec_lognorm(jnp.vstack((jnp.ones((10,)), jnp.zeros((10,)))), jnp.zeros((10,)), jnp.eye(10))"
      ],
      "metadata": {
        "id": "6oRjIT_grTv5",
        "outputId": "40e56f55-f32b-4844-9efc-90316e9694b0",
        "colab": {
          "base_uri": "https://localhost:8080/"
        }
      },
      "execution_count": 28,
      "outputs": [
        {
          "output_type": "execute_result",
          "data": {
            "text/plain": [
              "DeviceArray([-5., -0.], dtype=float64)"
            ]
          },
          "metadata": {},
          "execution_count": 28
        }
      ]
    },
    {
      "cell_type": "markdown",
      "source": [
        "#### Expected Log Likelihood"
      ],
      "metadata": {
        "id": "5rwUupOlKkPz"
      }
    },
    {
      "cell_type": "code",
      "source": [
        "@jit\n",
        "def Log_Likely(Sampled_f, Truex, Truey, Sigma_n):\n",
        "\n",
        "  K = jnp.shape(Truex)[0] - 1\n",
        "  M = jnp.shape(Truey)[0] - K -1\n",
        "  \n",
        "  # Pad input and filter\n",
        "  X_pad = jnp.hstack((Truex, jnp.zeros((M,))))\n",
        "  F_pad = jnp.hstack((Sampled_f, jnp.zeros((K,))))\n",
        "\n",
        "  # Compute the FFTs\n",
        "  X_fft = jnp.fft.fft(X_pad)\n",
        "  F_fft = jnp.fft.fft(F_pad)\n",
        "\n",
        "  # Elementwise multiplication\n",
        "  FFTmul = jnp.multiply(X_fft, F_fft)\n",
        "\n",
        "  # Make mean\n",
        "  Y_mean = jnp.real(jnp.fft.ifft(FFTmul))\n",
        "\n",
        "  return jsc.stats.multivariate_normal.logpdf(Truey, Y_mean, Sigma_n*jnp.eye(M+K+1))"
      ],
      "metadata": {
        "id": "F_Bagwgxv4ck"
      },
      "execution_count": 29,
      "outputs": []
    },
    {
      "cell_type": "code",
      "source": [
        "Log_Likely(jnp.ones((21,)), timex.flatten(), timey.flatten(), 0.05)"
      ],
      "metadata": {
        "id": "VCMvKbNF8q-K",
        "outputId": "31954b94-1c8c-4b72-d549-56603f54d895",
        "colab": {
          "base_uri": "https://localhost:8080/"
        }
      },
      "execution_count": 30,
      "outputs": [
        {
          "output_type": "execute_result",
          "data": {
            "text/plain": [
              "DeviceArray(-29424.24175997, dtype=float64)"
            ]
          },
          "metadata": {},
          "execution_count": 30
        }
      ]
    },
    {
      "cell_type": "code",
      "source": [
        "vec_loglikely = jit(vmap(Log_Likely, in_axes = [1, None, None, None]))"
      ],
      "metadata": {
        "id": "jzXkxRmaDZT2"
      },
      "execution_count": 31,
      "outputs": []
    },
    {
      "cell_type": "code",
      "source": [
        "@partial(jit, static_argnums=(0,1))\n",
        "def Exp_qf(Number_f, Num_Inducing, Subkey, Truex, Truey, Knn, Knm, Kmm, Inducing_Mean, Prior_cov_root, L_matrix, Sigma_n):\n",
        "\n",
        "  \n",
        "  # Sampling f\n",
        "  A = Knm @ jnp.linalg.inv(Kmm)\n",
        "  F_Mean = A @ Inducing_Mean\n",
        "  F_Covariance = Knn + A @ (Prior_cov_root @ L_matrix @ L_matrix.T @ Prior_cov_root\n",
        "                            - Kmm) @ A.T\n",
        "\n",
        "  F_size = jnp.shape(F_Covariance)[0]\n",
        "   # Cholesky f covariance\n",
        "  F_Cholesky = lax.cond(jnp.isnan(jnp.linalg.cholesky(F_Covariance)).any(), broke_Chol, jnp.linalg.cholesky, F_Covariance)\n",
        "\n",
        "  #Sampled_f = random.multivariate_normal(Subkey, F_Mean, F_Covariance, shape = (Number_f,), method = 'svd')\n",
        "  Sampled_f = F_Mean.reshape((F_size, 1)) + F_Cholesky@random.normal(Subkey, (F_size, Number_f))\n",
        "  return jnp.mean(vec_loglikely(Sampled_f, Truex, Truey, Sigma_n), axis = None)"
      ],
      "metadata": {
        "id": "gNvRG41TKpAP"
      },
      "execution_count": 32,
      "outputs": []
    },
    {
      "cell_type": "code",
      "source": [
        "induc_p = timex[::10]"
      ],
      "metadata": {
        "id": "DDCVxPvksETc"
      },
      "execution_count": 33,
      "outputs": []
    },
    {
      "cell_type": "code",
      "source": [
        "timef = timex[:21]"
      ],
      "metadata": {
        "id": "lTrrydI5H8jf"
      },
      "execution_count": 34,
      "outputs": []
    },
    {
      "cell_type": "code",
      "source": [
        "#exar = [Exp_qf(i, 11, subkeys[-1], timex.flatten(), timey.flatten(), vec_SE(timef, timef, 0.05, 1.0), vec_SE(timef, induc_p, 0.05, 1.0), vec_SE(induc_p, induc_p, 0.05, 1.0), jnp.zeros((11,)), jnp.eye(11), jnp.eye(11), 0.05) for i in np.arange(1, 300000, 10000)]"
      ],
      "metadata": {
        "id": "X_jn92qcaYNd"
      },
      "execution_count": 35,
      "outputs": []
    },
    {
      "cell_type": "code",
      "source": [
        "plt.plot(np.arange(1, 300000, 10000), exar)"
      ],
      "metadata": {
        "id": "5N_C0IxGQ1PD",
        "outputId": "5359c5e2-e95a-44e9-c81a-5929ee5da502",
        "colab": {
          "base_uri": "https://localhost:8080/",
          "height": 165
        }
      },
      "execution_count": 36,
      "outputs": [
        {
          "output_type": "error",
          "ename": "NameError",
          "evalue": "ignored",
          "traceback": [
            "\u001b[0;31m---------------------------------------------------------------------------\u001b[0m",
            "\u001b[0;31mNameError\u001b[0m                                 Traceback (most recent call last)",
            "\u001b[0;32m<ipython-input-36-05dc06c22349>\u001b[0m in \u001b[0;36m<module>\u001b[0;34m()\u001b[0m\n\u001b[0;32m----> 1\u001b[0;31m \u001b[0mplt\u001b[0m\u001b[0;34m.\u001b[0m\u001b[0mplot\u001b[0m\u001b[0;34m(\u001b[0m\u001b[0mnp\u001b[0m\u001b[0;34m.\u001b[0m\u001b[0marange\u001b[0m\u001b[0;34m(\u001b[0m\u001b[0;36m1\u001b[0m\u001b[0;34m,\u001b[0m \u001b[0;36m300000\u001b[0m\u001b[0;34m,\u001b[0m \u001b[0;36m10000\u001b[0m\u001b[0;34m)\u001b[0m\u001b[0;34m,\u001b[0m \u001b[0mexar\u001b[0m\u001b[0;34m)\u001b[0m\u001b[0;34m\u001b[0m\u001b[0;34m\u001b[0m\u001b[0m\n\u001b[0m",
            "\u001b[0;31mNameError\u001b[0m: name 'exar' is not defined"
          ]
        }
      ]
    },
    {
      "cell_type": "code",
      "source": [
        "print(exar[0])"
      ],
      "metadata": {
        "id": "ARWrIGZ-CGB9"
      },
      "execution_count": null,
      "outputs": []
    },
    {
      "cell_type": "code",
      "source": [
        "#plt.plot(np.arange(1, 30000, 10000), exar)"
      ],
      "metadata": {
        "id": "DdYIPZOUAYlH"
      },
      "execution_count": null,
      "outputs": []
    },
    {
      "cell_type": "markdown",
      "source": [
        "#### ELBO"
      ],
      "metadata": {
        "id": "ILwJdch_ifBF"
      }
    },
    {
      "cell_type": "code",
      "source": [
        "@partial(jit, static_argnums=(0,1))\n",
        "def ELBO(Number_f, Num_Inducing, Subkey, Inducing_Points, L_matrix, Param_vu, \n",
        "          Mu_prior, Ell, Sigma_f, Sigma_n, Truex, Truey, Dt, F_locs):\n",
        "  Knn = vec_SE(F_locs, F_locs, Ell, Sigma_f)\n",
        "  Knm = vec_SE(F_locs, Inducing_Points, Ell, Sigma_f)\n",
        "  Kmm = vec_SE(Inducing_Points, Inducing_Points, Ell, Sigma_f)\n",
        "  Prior_cov_root = vec_SE_root(Inducing_Points, Inducing_Points, Ell, Sigma_f, Dt)\n",
        "\n",
        "  Inducing_Mean = Prior_cov_root @ Param_vu\n",
        "\n",
        "  return Exp_qf(Number_f, Num_Inducing, Subkey, Truex, Truey, Knn, Knm, Kmm, Inducing_Mean, Prior_cov_root, L_matrix, Sigma_n)# - \\\n",
        "            #kl_div(L_matrix, Prior_cov_root,  Mu_prior, Param_vu)\n"
      ],
      "metadata": {
        "id": "kbfG6PaHiiVZ"
      },
      "execution_count": 62,
      "outputs": []
    },
    {
      "cell_type": "code",
      "source": [
        "knn = vec_SE(f_loc, f_loc, init_l, init_sigma_f)\n",
        "knm = vec_SE(f_loc, init_inducing_points, init_l, init_sigma_f)\n",
        "kmm = vec_SE(init_inducing_points, init_inducing_points, init_l, init_sigma_f)\n",
        "kmmroot = vec_SE_root(init_inducing_points, init_inducing_points, init_l, init_sigma_f, dt)"
      ],
      "metadata": {
        "id": "7yJGdU1CJ6pX"
      },
      "execution_count": 54,
      "outputs": []
    },
    {
      "cell_type": "code",
      "source": [
        "a = knm @ jnp.linalg.inv(kmm)"
      ],
      "metadata": {
        "id": "GYUMa0d-K5YS"
      },
      "execution_count": 56,
      "outputs": []
    },
    {
      "cell_type": "code",
      "source": [
        "f_mean = a @ jnp.zeros(jnp.shape(a)[1])"
      ],
      "metadata": {
        "id": "WrKa_9kdK_VO"
      },
      "execution_count": 57,
      "outputs": []
    },
    {
      "cell_type": "code",
      "source": [
        "print(a @ (kmmroot @ L_fill(init_L, num_inducing_points) @ L_fill(init_L, num_inducing_points).T @ kmmroot\n",
        "                            - kmm) @ a.T)"
      ],
      "metadata": {
        "colab": {
          "base_uri": "https://localhost:8080/"
        },
        "id": "5OBWdKfCLKZe",
        "outputId": "ac7a7c62-367d-4a38-d0be-058febcdc4a5"
      },
      "execution_count": 61,
      "outputs": [
        {
          "output_type": "stream",
          "name": "stdout",
          "text": [
            "[[-1.30211537e+00 -6.47384397e-01 -2.47059218e-01 -8.56290260e-02\n",
            "  -2.91664507e-02 -8.91773568e-03 -2.22196480e-03 -4.43864626e-04\n",
            "  -6.02829055e-05 -1.48410386e-05  5.82370604e-06 -6.23875920e-06\n",
            "   5.76226645e-06 -5.36835032e-06  5.03407331e-06 -4.79668859e-06\n",
            "   4.69088834e-06 -4.75677324e-06  5.01361479e-06 -5.14453374e-06\n",
            "  -1.25100806e-14]\n",
            " [-6.47384397e-01 -4.07114417e-01 -2.32837413e-01 -1.30658497e-01\n",
            "  -6.58993246e-02 -2.71170451e-02 -8.79518129e-03 -2.21836129e-03\n",
            "  -4.39712160e-04 -6.56792718e-05 -8.91573983e-06 -1.72091185e-07\n",
            "  -4.13696930e-07  2.18482400e-07 -1.32733206e-07  7.66136032e-08\n",
            "  -2.71734026e-08  1.12048946e-07  3.76407498e-07  7.33737295e-09\n",
            "  -5.14453339e-06]\n",
            " [-2.47059218e-01 -2.32837413e-01 -2.15500502e-01 -1.79086750e-01\n",
            "  -1.21577196e-01 -6.49430411e-02 -2.70703748e-02 -8.78545852e-03\n",
            "  -2.22325370e-03 -4.36368979e-04 -6.79988192e-05 -7.26460327e-06\n",
            "  -1.37888338e-06  4.94446916e-07 -4.88677864e-07  4.40348810e-07\n",
            "  -4.26448017e-07  3.09934569e-07 -7.86606022e-07  3.76407205e-07\n",
            "   5.01361488e-06]\n",
            " [-8.56290260e-02 -1.30658497e-01 -1.79086750e-01 -2.00432674e-01\n",
            "  -1.76545229e-01 -1.21307974e-01 -6.49312144e-02 -2.70666379e-02\n",
            "  -8.78768402e-03 -2.22158388e-03 -4.37656445e-04 -6.69753237e-05\n",
            "  -8.10117303e-06 -6.77004323e-07 -1.09763584e-07  4.66564409e-08\n",
            "  -3.49374072e-08  1.40152296e-07  3.09935269e-07  1.12048760e-07\n",
            "  -4.75677324e-06]\n",
            " [-2.91664507e-02 -6.58993246e-02 -1.21577196e-01 -1.76545229e-01\n",
            "  -2.00004644e-01 -1.76499746e-01 -1.21306117e-01 -6.49304680e-02\n",
            "  -2.70671150e-02 -8.78731445e-03 -2.22187592e-03 -4.37420947e-04\n",
            "  -6.71685915e-05 -7.93970071e-06 -8.14859981e-07  1.04208675e-08\n",
            "  -7.61268756e-08 -3.49394341e-08 -4.26447795e-07 -2.71737092e-08\n",
            "   4.69088866e-06]\n",
            " [-8.91773568e-03 -2.71170451e-02 -6.49430411e-02 -1.21307974e-01\n",
            "  -1.76499746e-01 -1.99999828e-01 -1.76499523e-01 -1.21306064e-01\n",
            "  -6.49304945e-02 -2.70670966e-02 -8.78732880e-03 -2.22186307e-03\n",
            "  -4.37433699e-04 -6.71553939e-05 -7.95332053e-06 -8.00315006e-07\n",
            "   1.04217013e-08  4.66557504e-08  4.40351014e-07  7.66145689e-08\n",
            "  -4.79668713e-06]\n",
            " [-2.22196480e-03 -8.79518129e-03 -2.70703748e-02 -6.49312144e-02\n",
            "  -1.21306117e-01 -1.76499523e-01 -1.99999850e-01 -1.76499492e-01\n",
            "  -1.21306091e-01 -6.49304714e-02 -2.70671152e-02 -8.78731489e-03\n",
            "  -2.22187261e-03 -4.37427947e-04 -6.71582351e-05 -7.95332063e-06\n",
            "  -8.14861362e-07 -1.09766547e-07 -4.88678023e-07 -1.32734693e-07\n",
            "   5.03407345e-06]\n",
            " [-4.43864626e-04 -2.21836129e-03 -8.78545852e-03 -2.70666379e-02\n",
            "  -6.49304680e-02 -1.21306064e-01 -1.76499492e-01 -1.99999875e-01\n",
            "  -1.76499469e-01 -1.21306109e-01 -6.49304568e-02 -2.70671255e-02\n",
            "  -8.78730858e-03 -2.22187535e-03 -4.37427943e-04 -6.71553902e-05\n",
            "  -7.93969976e-06 -6.77004576e-07  4.94447722e-07  2.18480537e-07\n",
            "  -5.36835035e-06]\n",
            " [-6.02829055e-05 -4.39712160e-04 -2.22325370e-03 -8.78768402e-03\n",
            "  -2.70671150e-02 -6.49304945e-02 -1.21306091e-01 -1.76499469e-01\n",
            "  -1.99999894e-01 -1.76499454e-01 -1.21306121e-01 -6.49304492e-02\n",
            "  -2.70671291e-02 -8.78730858e-03 -2.22187261e-03 -4.37433700e-04\n",
            "  -6.71685969e-05 -8.10117777e-06 -1.37888710e-06 -4.13702045e-07\n",
            "   5.76226519e-06]\n",
            " [-1.48410386e-05 -6.56792718e-05 -4.36368979e-04 -2.22158388e-03\n",
            "  -8.78731445e-03 -2.70670966e-02 -6.49304714e-02 -1.21306109e-01\n",
            "  -1.76499454e-01 -1.99999906e-01 -1.76499445e-01 -1.21306125e-01\n",
            "  -6.49304492e-02 -2.70671255e-02 -8.78731488e-03 -2.22186306e-03\n",
            "  -4.37420948e-04 -6.69753233e-05 -7.26460395e-06 -1.72094280e-07\n",
            "  -6.23875914e-06]\n",
            " [ 5.82370604e-06 -8.91573983e-06 -6.79988192e-05 -4.37656445e-04\n",
            "  -2.22187592e-03 -8.78732880e-03 -2.70671152e-02 -6.49304568e-02\n",
            "  -1.21306121e-01 -1.76499445e-01 -1.99999911e-01 -1.76499445e-01\n",
            "  -1.21306121e-01 -6.49304568e-02 -2.70671151e-02 -8.78732879e-03\n",
            "  -2.22187592e-03 -4.37656443e-04 -6.79988198e-05 -8.91574214e-06\n",
            "   5.82370728e-06]\n",
            " [-6.23875920e-06 -1.72091185e-07 -7.26460327e-06 -6.69753237e-05\n",
            "  -4.37420947e-04 -2.22186307e-03 -8.78731489e-03 -2.70671255e-02\n",
            "  -6.49304492e-02 -1.21306125e-01 -1.76499445e-01 -1.99999906e-01\n",
            "  -1.76499454e-01 -1.21306109e-01 -6.49304714e-02 -2.70670966e-02\n",
            "  -8.78731445e-03 -2.22158388e-03 -4.36368980e-04 -6.56792751e-05\n",
            "  -1.48410399e-05]\n",
            " [ 5.76226645e-06 -4.13696930e-07 -1.37888338e-06 -8.10117303e-06\n",
            "  -6.71685915e-05 -4.37433699e-04 -2.22187261e-03 -8.78730858e-03\n",
            "  -2.70671291e-02 -6.49304492e-02 -1.21306121e-01 -1.76499454e-01\n",
            "  -1.99999894e-01 -1.76499469e-01 -1.21306091e-01 -6.49304945e-02\n",
            "  -2.70671150e-02 -8.78768402e-03 -2.22325370e-03 -4.39712164e-04\n",
            "  -6.02829078e-05]\n",
            " [-5.36835032e-06  2.18482400e-07  4.94446916e-07 -6.77004323e-07\n",
            "  -7.93970071e-06 -6.71553939e-05 -4.37427947e-04 -2.22187535e-03\n",
            "  -8.78730858e-03 -2.70671255e-02 -6.49304568e-02 -1.21306109e-01\n",
            "  -1.76499469e-01 -1.99999875e-01 -1.76499492e-01 -1.21306064e-01\n",
            "  -6.49304680e-02 -2.70666379e-02 -8.78545852e-03 -2.21836129e-03\n",
            "  -4.43864626e-04]\n",
            " [ 5.03407331e-06 -1.32733206e-07 -4.88677864e-07 -1.09763584e-07\n",
            "  -8.14859981e-07 -7.95332053e-06 -6.71582351e-05 -4.37427943e-04\n",
            "  -2.22187261e-03 -8.78731488e-03 -2.70671151e-02 -6.49304714e-02\n",
            "  -1.21306091e-01 -1.76499492e-01 -1.99999850e-01 -1.76499523e-01\n",
            "  -1.21306117e-01 -6.49312144e-02 -2.70703748e-02 -8.79518130e-03\n",
            "  -2.22196480e-03]\n",
            " [-4.79668859e-06  7.66136032e-08  4.40348810e-07  4.66564409e-08\n",
            "   1.04208675e-08 -8.00315006e-07 -7.95332063e-06 -6.71553902e-05\n",
            "  -4.37433700e-04 -2.22186306e-03 -8.78732879e-03 -2.70670966e-02\n",
            "  -6.49304945e-02 -1.21306064e-01 -1.76499523e-01 -1.99999828e-01\n",
            "  -1.76499746e-01 -1.21307974e-01 -6.49430411e-02 -2.71170451e-02\n",
            "  -8.91773568e-03]\n",
            " [ 4.69088834e-06 -2.71734026e-08 -4.26448017e-07 -3.49374072e-08\n",
            "  -7.61268755e-08  1.04217013e-08 -8.14861362e-07 -7.93969976e-06\n",
            "  -6.71685969e-05 -4.37420948e-04 -2.22187592e-03 -8.78731445e-03\n",
            "  -2.70671150e-02 -6.49304680e-02 -1.21306117e-01 -1.76499746e-01\n",
            "  -2.00004644e-01 -1.76545229e-01 -1.21577196e-01 -6.58993246e-02\n",
            "  -2.91664507e-02]\n",
            " [-4.75677324e-06  1.12048946e-07  3.09934569e-07  1.40152296e-07\n",
            "  -3.49394341e-08  4.66557504e-08 -1.09766547e-07 -6.77004576e-07\n",
            "  -8.10117777e-06 -6.69753233e-05 -4.37656443e-04 -2.22158388e-03\n",
            "  -8.78768402e-03 -2.70666379e-02 -6.49312144e-02 -1.21307974e-01\n",
            "  -1.76545229e-01 -2.00432674e-01 -1.79086750e-01 -1.30658497e-01\n",
            "  -8.56290260e-02]\n",
            " [ 5.01361479e-06  3.76407498e-07 -7.86606022e-07  3.09935269e-07\n",
            "  -4.26447795e-07  4.40351014e-07 -4.88678023e-07  4.94447722e-07\n",
            "  -1.37888710e-06 -7.26460395e-06 -6.79988198e-05 -4.36368980e-04\n",
            "  -2.22325370e-03 -8.78545852e-03 -2.70703748e-02 -6.49430411e-02\n",
            "  -1.21577196e-01 -1.79086750e-01 -2.15500502e-01 -2.32837413e-01\n",
            "  -2.47059218e-01]\n",
            " [-5.14453374e-06  7.33737295e-09  3.76407205e-07  1.12048760e-07\n",
            "  -2.71737092e-08  7.66145689e-08 -1.32734693e-07  2.18480537e-07\n",
            "  -4.13702045e-07 -1.72094280e-07 -8.91574214e-06 -6.56792751e-05\n",
            "  -4.39712164e-04 -2.21836129e-03 -8.79518130e-03 -2.71170451e-02\n",
            "  -6.58993246e-02 -1.30658497e-01 -2.32837413e-01 -4.07114417e-01\n",
            "  -6.47384397e-01]\n",
            " [-1.25100806e-14 -5.14453339e-06  5.01361488e-06 -4.75677324e-06\n",
            "   4.69088866e-06 -4.79668713e-06  5.03407345e-06 -5.36835035e-06\n",
            "   5.76226519e-06 -6.23875914e-06  5.82370728e-06 -1.48410399e-05\n",
            "  -6.02829078e-05 -4.43864626e-04 -2.22196480e-03 -8.91773568e-03\n",
            "  -2.91664507e-02 -8.56290260e-02 -2.47059218e-01 -6.47384397e-01\n",
            "  -1.30211537e+00]]\n"
          ]
        }
      ]
    },
    {
      "cell_type": "markdown",
      "source": [
        "### Make Lower Triangle from L"
      ],
      "metadata": {
        "id": "PSgUfzJ-wg3S"
      }
    },
    {
      "cell_type": "code",
      "source": [
        "def L_fill(L_arr, Num_Inducing):\n",
        "  L_mat = jnp.zeros((Num_Inducing, Num_Inducing))\n",
        "  mask = jnp.tri(Num_Inducing, dtype=bool)\n",
        "  L_mat = L_mat.at[mask].set(L_arr)\n",
        "  return L_mat"
      ],
      "metadata": {
        "id": "Tjuu6NE1wnTd"
      },
      "execution_count": 38,
      "outputs": []
    },
    {
      "cell_type": "markdown",
      "source": [
        "### Gradient Ascent"
      ],
      "metadata": {
        "id": "89MyMRdYUqj6"
      }
    },
    {
      "cell_type": "markdown",
      "source": [
        "#### Backtracking Search"
      ],
      "metadata": {
        "id": "nDe7GcsW8-mv"
      }
    },
    {
      "cell_type": "code",
      "source": [
        "def backtrack(Number_f, Num_Inducing, Subkey_elbo, Curr_IP, Curr_LMat, \n",
        "                     Curr_Vu, Curr_Mu, Curr_Ell, Curr_Sf, Curr_Sn, Truex, Truey, \n",
        "                     Dt, F_locs):\n",
        "  Step_size = 1\n",
        "\n",
        "  while ELBO()\n"
      ],
      "metadata": {
        "colab": {
          "base_uri": "https://localhost:8080/",
          "height": 130
        },
        "id": "wdSFugRT9BdU",
        "outputId": "5c093c71-a8c9-4f2d-fb42-646ec6a909d0"
      },
      "execution_count": 39,
      "outputs": [
        {
          "output_type": "error",
          "ename": "SyntaxError",
          "evalue": "ignored",
          "traceback": [
            "\u001b[0;36m  File \u001b[0;32m\"<ipython-input-39-8811de4e9b54>\"\u001b[0;36m, line \u001b[0;32m6\u001b[0m\n\u001b[0;31m    while ELBO()\u001b[0m\n\u001b[0m                ^\u001b[0m\n\u001b[0;31mSyntaxError\u001b[0m\u001b[0;31m:\u001b[0m invalid syntax\n"
          ]
        }
      ]
    },
    {
      "cell_type": "code",
      "source": [
        "def Grad_Ascent(Inducing_Points, L_Arr, Vu_Init, Mu_Init, Ell_Init, Sigma_f_Init, \n",
        "                Sigma_n_Init, Truex, Truey, F_locs, Dt, Epsilon, Subkeys):\n",
        "  \"\"\"\n",
        "    Initial with vectors of:\n",
        "       - Inducing Points (Initial[:m])\n",
        "       - L Parameter (Initial[m:m+(m*(m+1)/2)])\n",
        "       - Vu Parameter (Inital[m+(m*(m+1)/2):2*m+(m*(m+1)/2)])\n",
        "       - Mu of Prior (Initial[2*m+(m*(m+1)/2): 3*m+(m*(m+1)/2)])\n",
        "       - Ell of Prior (Initial[2*m+(m*(m+1)/2)])\n",
        "       - Sigma_f of Prior (Initial[2*m+(m*(m+1)/2)+1])\n",
        "       - Sigma_n of Prior/Model (Initial[2*m+(m*(m+1)/2)+2])\n",
        "    \n",
        "    Truex is the observed input data\n",
        "\n",
        "    Truey is the observed output data\n",
        "\n",
        "    Dt is the time resolution\n",
        "\n",
        "    F_locs is the timestamps of the filter trying to infer    \n",
        "  \"\"\"\n",
        "  Curr_IP = Inducing_Points\n",
        "  Curr_LA = L_Arr\n",
        "  Curr_LMat = L_fill(L_Arr, Curr_IP)\n",
        "  Curr_Vu = Vu_Init\n",
        "  Curr_Mu = Mu_Init\n",
        "  Curr_Ell = Ell_Init\n",
        "  Curr_Sf = Sigma_f_Init\n",
        "  Curr_Sn = Sigma_n_Init\n",
        "  Num_Inducing =  jnp.shape(Curr_IP)[0]\n",
        "  Number_f = 300000\n",
        "  Subkey_elbo = Subkeys[0]\n",
        "\n",
        "  while jnp.linalg.norm(Gradient_ELBO)>Epsilon:\n",
        "    Curr_ELBO = ELBO(Number_f, Num_Inducing, Subkey_elbo, Curr_IP, Curr_LMat, \n",
        "                     Curr_Vu, Curr_Mu, Curr_Ell, Curr_Sf, Curr_Sn, Truex, Truey, \n",
        "                     Dt, F_locs)  \n",
        "\n",
        "\n",
        "\n",
        "\n",
        "\n"
      ],
      "metadata": {
        "id": "MfLdnyy-ow7A"
      },
      "execution_count": null,
      "outputs": []
    },
    {
      "cell_type": "code",
      "source": [
        "def grad_asc_MargL(Epsilon, Initial):\n",
        "  \"\"\"\n",
        "    Initial a vector of:\n",
        "       - Inducing Points (Initial[:m])\n",
        "       - L Parameter (Initial[m:m+(m*(m+1)/2)])\n",
        "       - Vu Parameter (Inital[m+(m*(m+1)/2):2*m+(m*(m+1)/2)])\n",
        "       - Mu of Prior (Initial[2*m+(m*(m+1)/2): 3*m+(m*(m+1)/2)])\n",
        "       - Ell of Prior (Initial[3*m+(m*(m+1)/2)])\n",
        "       - Sigma_f of Prior (Initial[3*m+(m*(m+1)/2)+1])\n",
        "       - Sigma_n of Prior/Model (Initial[3*m+(m*(m+1)/2)+2])\n",
        "    \n",
        "    Truex is the observed input data\n",
        "\n",
        "    Truey is the observed output data\n",
        "\n",
        "    F_locs is the timestamps of the filter trying to infer\n",
        "  \"\"\"\n",
        "  Max_Inducing = 10000\n",
        "  Max_OutV_Len = jnp.rint(0.5*(Max_Inducing**2+5*Max_Inducing))\n",
        "  Output_Vector = jnp.zeros(0.5*(Max_OutV_Len))\n",
        "\n",
        "  SizeIn = jnp.shape(Initial)[0]\n",
        "  Number_Inducing = jnp.rint(0.5*(-5+jnp.sqrt(25+8*SizeIn)))\n",
        "  Gradient = jnp.ones(SizeIn)\n",
        "  CurrIn = Initial\n",
        "\n",
        "  while jnp.linalg.norm(Gradient) > Epsilon:\n",
        "    Current_ELBO = ELBO(CurrIn)\n",
        "    Step = -Gradient(CurrIn)"
      ],
      "metadata": {
        "id": "CLKg7S9IUxK_"
      },
      "execution_count": null,
      "outputs": []
    },
    {
      "cell_type": "markdown",
      "source": [
        "#### Data to test the functions individually"
      ],
      "metadata": {
        "id": "x3BA5lHvwESH"
      }
    },
    {
      "cell_type": "code",
      "source": [
        "# Generate random key\n",
        "key = random.PRNGKey(0)\n",
        "key, *subkeys = random.split(key, 4)\n",
        "subkeyl = subkeys[0]\n",
        "subkeysig = subkeys[1]\n",
        "\n",
        "# Generated test inducing points\n",
        "num_ind = 10\n",
        "tstloc = random.truncated_normal(key, 0.0, timey[-1]-timex[-1], (num_ind,))\n",
        "tstloc = jnp.sort(tstloc)\n",
        "\n",
        "# Generate covariance of inducing points with SE function (for ease, shouldn't ...\n",
        "# do this for actual thing)\n",
        "l_param = random.uniform(subkeyl)\n",
        "sigma_param = random.uniform(subkeysig)\n",
        "Gmat = vec_SE(tstloc, tstloc, 0.05, 0.1)"
      ],
      "metadata": {
        "id": "JPwogP7k6axh"
      },
      "execution_count": 44,
      "outputs": []
    },
    {
      "cell_type": "code",
      "source": [
        "chol_chek = choleskypwr(Gmat)\n",
        "\n",
        "att = jnp.linalg.cholesky(Gmat)\n",
        "\n",
        "# Use cond statement to make more efficient\n",
        "Lnew = jnp.linalg.cholesky(Gmat + chol_chek.any()*(10**(-60+jnp.sum(chol_chek)))*jnp.eye(num_ind))\n",
        "\n",
        "# Generate arbitrary lower triangular matrix (not from PSD or symmetric)\n",
        "tstmat = jnp.zeros((4,4))\n",
        "tstmat = tstmat.at[jnp.tril_indices(4)].set(jnp.arange(1,11).astype('f'))"
      ],
      "metadata": {
        "id": "3_WJNEDQr6SQ"
      },
      "execution_count": 45,
      "outputs": []
    },
    {
      "cell_type": "code",
      "source": [
        "print(-60+jnp.sum(choleskypwr(Gmat)))"
      ],
      "metadata": {
        "colab": {
          "base_uri": "https://localhost:8080/"
        },
        "id": "lXpQii7SH-9M",
        "outputId": "be69f489-d8a7-4ace-ad24-edc36d7bc665"
      },
      "execution_count": 46,
      "outputs": [
        {
          "output_type": "stream",
          "name": "stdout",
          "text": [
            "-18.0\n"
          ]
        }
      ]
    },
    {
      "cell_type": "code",
      "source": [
        "print(broke_Chol(Gmat, 60))"
      ],
      "metadata": {
        "colab": {
          "base_uri": "https://localhost:8080/",
          "height": 484
        },
        "id": "PuT62CpXxnjo",
        "outputId": "49251505-3172-45a9-9357-c62096d2d558"
      },
      "execution_count": 47,
      "outputs": [
        {
          "output_type": "error",
          "ename": "TypeError",
          "evalue": "ignored",
          "traceback": [
            "\u001b[0;31m---------------------------------------------------------------------------\u001b[0m",
            "\u001b[0;31mUnfilteredStackTrace\u001b[0m                      Traceback (most recent call last)",
            "\u001b[0;32m<ipython-input-47-8bc298980c3b>\u001b[0m in \u001b[0;36m<module>\u001b[0;34m()\u001b[0m\n\u001b[0;32m----> 1\u001b[0;31m \u001b[0mprint\u001b[0m\u001b[0;34m(\u001b[0m\u001b[0mbroke_Chol\u001b[0m\u001b[0;34m(\u001b[0m\u001b[0mGmat\u001b[0m\u001b[0;34m,\u001b[0m \u001b[0;36m60\u001b[0m\u001b[0;34m)\u001b[0m\u001b[0;34m)\u001b[0m\u001b[0;34m\u001b[0m\u001b[0;34m\u001b[0m\u001b[0m\n\u001b[0m",
            "\u001b[0;32m/usr/local/lib/python3.7/dist-packages/jax/_src/traceback_util.py\u001b[0m in \u001b[0;36mreraise_with_filtered_traceback\u001b[0;34m(*args, **kwargs)\u001b[0m\n\u001b[1;32m    161\u001b[0m     \u001b[0;32mtry\u001b[0m\u001b[0;34m:\u001b[0m\u001b[0;34m\u001b[0m\u001b[0;34m\u001b[0m\u001b[0m\n\u001b[0;32m--> 162\u001b[0;31m       \u001b[0;32mreturn\u001b[0m \u001b[0mfun\u001b[0m\u001b[0;34m(\u001b[0m\u001b[0;34m*\u001b[0m\u001b[0margs\u001b[0m\u001b[0;34m,\u001b[0m \u001b[0;34m**\u001b[0m\u001b[0mkwargs\u001b[0m\u001b[0;34m)\u001b[0m\u001b[0;34m\u001b[0m\u001b[0;34m\u001b[0m\u001b[0m\n\u001b[0m\u001b[1;32m    163\u001b[0m     \u001b[0;32mexcept\u001b[0m \u001b[0mException\u001b[0m \u001b[0;32mas\u001b[0m \u001b[0me\u001b[0m\u001b[0;34m:\u001b[0m\u001b[0;34m\u001b[0m\u001b[0;34m\u001b[0m\u001b[0m\n",
            "\u001b[0;32m/usr/local/lib/python3.7/dist-packages/jax/_src/api.py\u001b[0m in \u001b[0;36mcache_miss\u001b[0;34m(*args, **kwargs)\u001b[0m\n\u001b[1;32m    418\u001b[0m         \u001b[0mdevice\u001b[0m\u001b[0;34m=\u001b[0m\u001b[0mdevice\u001b[0m\u001b[0;34m,\u001b[0m \u001b[0mbackend\u001b[0m\u001b[0;34m=\u001b[0m\u001b[0mbackend\u001b[0m\u001b[0;34m,\u001b[0m \u001b[0mname\u001b[0m\u001b[0;34m=\u001b[0m\u001b[0mflat_fun\u001b[0m\u001b[0;34m.\u001b[0m\u001b[0m__name__\u001b[0m\u001b[0;34m,\u001b[0m\u001b[0;34m\u001b[0m\u001b[0;34m\u001b[0m\u001b[0m\n\u001b[0;32m--> 419\u001b[0;31m         donated_invars=donated_invars, inline=inline)\n\u001b[0m\u001b[1;32m    420\u001b[0m     \u001b[0mout_pytree_def\u001b[0m \u001b[0;34m=\u001b[0m \u001b[0mout_tree\u001b[0m\u001b[0;34m(\u001b[0m\u001b[0;34m)\u001b[0m\u001b[0;34m\u001b[0m\u001b[0;34m\u001b[0m\u001b[0m\n",
            "\u001b[0;32m/usr/local/lib/python3.7/dist-packages/jax/core.py\u001b[0m in \u001b[0;36mbind\u001b[0;34m(self, fun, *args, **params)\u001b[0m\n\u001b[1;32m   1631\u001b[0m   \u001b[0;32mdef\u001b[0m \u001b[0mbind\u001b[0m\u001b[0;34m(\u001b[0m\u001b[0mself\u001b[0m\u001b[0;34m,\u001b[0m \u001b[0mfun\u001b[0m\u001b[0;34m,\u001b[0m \u001b[0;34m*\u001b[0m\u001b[0margs\u001b[0m\u001b[0;34m,\u001b[0m \u001b[0;34m**\u001b[0m\u001b[0mparams\u001b[0m\u001b[0;34m)\u001b[0m\u001b[0;34m:\u001b[0m\u001b[0;34m\u001b[0m\u001b[0;34m\u001b[0m\u001b[0m\n\u001b[0;32m-> 1632\u001b[0;31m     \u001b[0;32mreturn\u001b[0m \u001b[0mcall_bind\u001b[0m\u001b[0;34m(\u001b[0m\u001b[0mself\u001b[0m\u001b[0;34m,\u001b[0m \u001b[0mfun\u001b[0m\u001b[0;34m,\u001b[0m \u001b[0;34m*\u001b[0m\u001b[0margs\u001b[0m\u001b[0;34m,\u001b[0m \u001b[0;34m**\u001b[0m\u001b[0mparams\u001b[0m\u001b[0;34m)\u001b[0m\u001b[0;34m\u001b[0m\u001b[0;34m\u001b[0m\u001b[0m\n\u001b[0m\u001b[1;32m   1633\u001b[0m \u001b[0;34m\u001b[0m\u001b[0m\n",
            "\u001b[0;32m/usr/local/lib/python3.7/dist-packages/jax/core.py\u001b[0m in \u001b[0;36mcall_bind\u001b[0;34m(primitive, fun, *args, **params)\u001b[0m\n\u001b[1;32m   1622\u001b[0m   \u001b[0mtracers\u001b[0m \u001b[0;34m=\u001b[0m \u001b[0mmap\u001b[0m\u001b[0;34m(\u001b[0m\u001b[0mtop_trace\u001b[0m\u001b[0;34m.\u001b[0m\u001b[0mfull_raise\u001b[0m\u001b[0;34m,\u001b[0m \u001b[0margs\u001b[0m\u001b[0;34m)\u001b[0m\u001b[0;34m\u001b[0m\u001b[0;34m\u001b[0m\u001b[0m\n\u001b[0;32m-> 1623\u001b[0;31m   \u001b[0mouts\u001b[0m \u001b[0;34m=\u001b[0m \u001b[0mprimitive\u001b[0m\u001b[0;34m.\u001b[0m\u001b[0mprocess\u001b[0m\u001b[0;34m(\u001b[0m\u001b[0mtop_trace\u001b[0m\u001b[0;34m,\u001b[0m \u001b[0mfun\u001b[0m\u001b[0;34m,\u001b[0m \u001b[0mtracers\u001b[0m\u001b[0;34m,\u001b[0m \u001b[0mparams\u001b[0m\u001b[0;34m)\u001b[0m\u001b[0;34m\u001b[0m\u001b[0;34m\u001b[0m\u001b[0m\n\u001b[0m\u001b[1;32m   1624\u001b[0m   \u001b[0;32mreturn\u001b[0m \u001b[0mmap\u001b[0m\u001b[0;34m(\u001b[0m\u001b[0mfull_lower\u001b[0m\u001b[0;34m,\u001b[0m \u001b[0mapply_todos\u001b[0m\u001b[0;34m(\u001b[0m\u001b[0menv_trace_todo\u001b[0m\u001b[0;34m(\u001b[0m\u001b[0;34m)\u001b[0m\u001b[0;34m,\u001b[0m \u001b[0mouts\u001b[0m\u001b[0;34m)\u001b[0m\u001b[0;34m)\u001b[0m\u001b[0;34m\u001b[0m\u001b[0;34m\u001b[0m\u001b[0m\n",
            "\u001b[0;32m/usr/local/lib/python3.7/dist-packages/jax/core.py\u001b[0m in \u001b[0;36mprocess\u001b[0;34m(self, trace, fun, tracers, params)\u001b[0m\n\u001b[1;32m   1634\u001b[0m   \u001b[0;32mdef\u001b[0m \u001b[0mprocess\u001b[0m\u001b[0;34m(\u001b[0m\u001b[0mself\u001b[0m\u001b[0;34m,\u001b[0m \u001b[0mtrace\u001b[0m\u001b[0;34m,\u001b[0m \u001b[0mfun\u001b[0m\u001b[0;34m,\u001b[0m \u001b[0mtracers\u001b[0m\u001b[0;34m,\u001b[0m \u001b[0mparams\u001b[0m\u001b[0;34m)\u001b[0m\u001b[0;34m:\u001b[0m\u001b[0;34m\u001b[0m\u001b[0;34m\u001b[0m\u001b[0m\n\u001b[0;32m-> 1635\u001b[0;31m     \u001b[0;32mreturn\u001b[0m \u001b[0mtrace\u001b[0m\u001b[0;34m.\u001b[0m\u001b[0mprocess_call\u001b[0m\u001b[0;34m(\u001b[0m\u001b[0mself\u001b[0m\u001b[0;34m,\u001b[0m \u001b[0mfun\u001b[0m\u001b[0;34m,\u001b[0m \u001b[0mtracers\u001b[0m\u001b[0;34m,\u001b[0m \u001b[0mparams\u001b[0m\u001b[0;34m)\u001b[0m\u001b[0;34m\u001b[0m\u001b[0;34m\u001b[0m\u001b[0m\n\u001b[0m\u001b[1;32m   1636\u001b[0m \u001b[0;34m\u001b[0m\u001b[0m\n",
            "\u001b[0;32m/usr/local/lib/python3.7/dist-packages/jax/core.py\u001b[0m in \u001b[0;36mprocess_call\u001b[0;34m(self, primitive, f, tracers, params)\u001b[0m\n\u001b[1;32m    626\u001b[0m   \u001b[0;32mdef\u001b[0m \u001b[0mprocess_call\u001b[0m\u001b[0;34m(\u001b[0m\u001b[0mself\u001b[0m\u001b[0;34m,\u001b[0m \u001b[0mprimitive\u001b[0m\u001b[0;34m,\u001b[0m \u001b[0mf\u001b[0m\u001b[0;34m,\u001b[0m \u001b[0mtracers\u001b[0m\u001b[0;34m,\u001b[0m \u001b[0mparams\u001b[0m\u001b[0;34m)\u001b[0m\u001b[0;34m:\u001b[0m\u001b[0;34m\u001b[0m\u001b[0;34m\u001b[0m\u001b[0m\n\u001b[0;32m--> 627\u001b[0;31m     \u001b[0;32mreturn\u001b[0m \u001b[0mprimitive\u001b[0m\u001b[0;34m.\u001b[0m\u001b[0mimpl\u001b[0m\u001b[0;34m(\u001b[0m\u001b[0mf\u001b[0m\u001b[0;34m,\u001b[0m \u001b[0;34m*\u001b[0m\u001b[0mtracers\u001b[0m\u001b[0;34m,\u001b[0m \u001b[0;34m**\u001b[0m\u001b[0mparams\u001b[0m\u001b[0;34m)\u001b[0m\u001b[0;34m\u001b[0m\u001b[0;34m\u001b[0m\u001b[0m\n\u001b[0m\u001b[1;32m    628\u001b[0m   \u001b[0mprocess_map\u001b[0m \u001b[0;34m=\u001b[0m \u001b[0mprocess_call\u001b[0m\u001b[0;34m\u001b[0m\u001b[0;34m\u001b[0m\u001b[0m\n",
            "\u001b[0;32m/usr/local/lib/python3.7/dist-packages/jax/interpreters/xla.py\u001b[0m in \u001b[0;36m_xla_call_impl\u001b[0;34m(***failed resolving arguments***)\u001b[0m\n\u001b[1;32m    687\u001b[0m   compiled_fun = _xla_callable(fun, device, backend, name, donated_invars,\n\u001b[0;32m--> 688\u001b[0;31m                                *unsafe_map(arg_spec, args))\n\u001b[0m\u001b[1;32m    689\u001b[0m   \u001b[0;32mtry\u001b[0m\u001b[0;34m:\u001b[0m\u001b[0;34m\u001b[0m\u001b[0;34m\u001b[0m\u001b[0m\n",
            "\u001b[0;32m/usr/local/lib/python3.7/dist-packages/jax/linear_util.py\u001b[0m in \u001b[0;36mmemoized_fun\u001b[0;34m(fun, *args)\u001b[0m\n\u001b[1;32m    262\u001b[0m     \u001b[0;32melse\u001b[0m\u001b[0;34m:\u001b[0m\u001b[0;34m\u001b[0m\u001b[0;34m\u001b[0m\u001b[0m\n\u001b[0;32m--> 263\u001b[0;31m       \u001b[0mans\u001b[0m \u001b[0;34m=\u001b[0m \u001b[0mcall\u001b[0m\u001b[0;34m(\u001b[0m\u001b[0mfun\u001b[0m\u001b[0;34m,\u001b[0m \u001b[0;34m*\u001b[0m\u001b[0margs\u001b[0m\u001b[0;34m)\u001b[0m\u001b[0;34m\u001b[0m\u001b[0;34m\u001b[0m\u001b[0m\n\u001b[0m\u001b[1;32m    264\u001b[0m       \u001b[0mcache\u001b[0m\u001b[0;34m[\u001b[0m\u001b[0mkey\u001b[0m\u001b[0;34m]\u001b[0m \u001b[0;34m=\u001b[0m \u001b[0;34m(\u001b[0m\u001b[0mans\u001b[0m\u001b[0;34m,\u001b[0m \u001b[0mfun\u001b[0m\u001b[0;34m.\u001b[0m\u001b[0mstores\u001b[0m\u001b[0;34m)\u001b[0m\u001b[0;34m\u001b[0m\u001b[0;34m\u001b[0m\u001b[0m\n",
            "\u001b[0;32m/usr/local/lib/python3.7/dist-packages/jax/interpreters/xla.py\u001b[0m in \u001b[0;36m_xla_callable_uncached\u001b[0;34m(fun, device, backend, name, donated_invars, *arg_specs)\u001b[0m\n\u001b[1;32m    759\u001b[0m   return lower_xla_callable(fun, device, backend, name, donated_invars,\n\u001b[0;32m--> 760\u001b[0;31m                             *arg_specs).compile().unsafe_call\n\u001b[0m\u001b[1;32m    761\u001b[0m \u001b[0;34m\u001b[0m\u001b[0m\n",
            "\u001b[0;32m/usr/local/lib/python3.7/dist-packages/jax/interpreters/xla.py\u001b[0m in \u001b[0;36mlower_xla_callable\u001b[0;34m(fun, device, backend, name, donated_invars, *arg_specs)\u001b[0m\n\u001b[1;32m    771\u001b[0m   jaxpr, out_avals, consts = pe.trace_to_jaxpr_final(\n\u001b[0;32m--> 772\u001b[0;31m       fun, abstract_args, pe.debug_info_final(fun, \"jit\"))\n\u001b[0m\u001b[1;32m    773\u001b[0m   \u001b[0;32mif\u001b[0m \u001b[0many\u001b[0m\u001b[0;34m(\u001b[0m\u001b[0misinstance\u001b[0m\u001b[0;34m(\u001b[0m\u001b[0mc\u001b[0m\u001b[0;34m,\u001b[0m \u001b[0mcore\u001b[0m\u001b[0;34m.\u001b[0m\u001b[0mTracer\u001b[0m\u001b[0;34m)\u001b[0m \u001b[0;32mfor\u001b[0m \u001b[0mc\u001b[0m \u001b[0;32min\u001b[0m \u001b[0mconsts\u001b[0m\u001b[0;34m)\u001b[0m\u001b[0;34m:\u001b[0m\u001b[0;34m\u001b[0m\u001b[0;34m\u001b[0m\u001b[0m\n",
            "\u001b[0;32m/usr/local/lib/python3.7/dist-packages/jax/interpreters/partial_eval.py\u001b[0m in \u001b[0;36mtrace_to_jaxpr_final\u001b[0;34m(fun, in_avals, debug_info)\u001b[0m\n\u001b[1;32m   1541\u001b[0m     \u001b[0;32mwith\u001b[0m \u001b[0mcore\u001b[0m\u001b[0;34m.\u001b[0m\u001b[0mnew_sublevel\u001b[0m\u001b[0;34m(\u001b[0m\u001b[0;34m)\u001b[0m\u001b[0;34m:\u001b[0m\u001b[0;34m\u001b[0m\u001b[0;34m\u001b[0m\u001b[0m\n\u001b[0;32m-> 1542\u001b[0;31m       \u001b[0mjaxpr\u001b[0m\u001b[0;34m,\u001b[0m \u001b[0mout_avals\u001b[0m\u001b[0;34m,\u001b[0m \u001b[0mconsts\u001b[0m \u001b[0;34m=\u001b[0m \u001b[0mtrace_to_subjaxpr_dynamic\u001b[0m\u001b[0;34m(\u001b[0m\u001b[0mfun\u001b[0m\u001b[0;34m,\u001b[0m \u001b[0mmain\u001b[0m\u001b[0;34m,\u001b[0m \u001b[0min_avals\u001b[0m\u001b[0;34m)\u001b[0m\u001b[0;34m\u001b[0m\u001b[0;34m\u001b[0m\u001b[0m\n\u001b[0m\u001b[1;32m   1543\u001b[0m     \u001b[0;32mdel\u001b[0m \u001b[0mfun\u001b[0m\u001b[0;34m,\u001b[0m \u001b[0mmain\u001b[0m\u001b[0;34m\u001b[0m\u001b[0;34m\u001b[0m\u001b[0m\n",
            "\u001b[0;32m/usr/local/lib/python3.7/dist-packages/jax/interpreters/partial_eval.py\u001b[0m in \u001b[0;36mtrace_to_subjaxpr_dynamic\u001b[0;34m(fun, main, in_avals)\u001b[0m\n\u001b[1;32m   1519\u001b[0m     \u001b[0min_tracers\u001b[0m \u001b[0;34m=\u001b[0m \u001b[0mmap\u001b[0m\u001b[0;34m(\u001b[0m\u001b[0mtrace\u001b[0m\u001b[0;34m.\u001b[0m\u001b[0mnew_arg\u001b[0m\u001b[0;34m,\u001b[0m \u001b[0min_avals\u001b[0m\u001b[0;34m)\u001b[0m\u001b[0;34m\u001b[0m\u001b[0;34m\u001b[0m\u001b[0m\n\u001b[0;32m-> 1520\u001b[0;31m     \u001b[0mans\u001b[0m \u001b[0;34m=\u001b[0m \u001b[0mfun\u001b[0m\u001b[0;34m.\u001b[0m\u001b[0mcall_wrapped\u001b[0m\u001b[0;34m(\u001b[0m\u001b[0;34m*\u001b[0m\u001b[0min_tracers\u001b[0m\u001b[0;34m)\u001b[0m\u001b[0;34m\u001b[0m\u001b[0;34m\u001b[0m\u001b[0m\n\u001b[0m\u001b[1;32m   1521\u001b[0m     \u001b[0mout_tracers\u001b[0m \u001b[0;34m=\u001b[0m \u001b[0mmap\u001b[0m\u001b[0;34m(\u001b[0m\u001b[0mtrace\u001b[0m\u001b[0;34m.\u001b[0m\u001b[0mfull_raise\u001b[0m\u001b[0;34m,\u001b[0m \u001b[0mans\u001b[0m\u001b[0;34m)\u001b[0m\u001b[0;34m\u001b[0m\u001b[0;34m\u001b[0m\u001b[0m\n",
            "\u001b[0;32m/usr/local/lib/python3.7/dist-packages/jax/linear_util.py\u001b[0m in \u001b[0;36mcall_wrapped\u001b[0;34m(self, *args, **kwargs)\u001b[0m\n\u001b[1;32m    165\u001b[0m     \u001b[0;32mtry\u001b[0m\u001b[0;34m:\u001b[0m\u001b[0;34m\u001b[0m\u001b[0;34m\u001b[0m\u001b[0m\n\u001b[0;32m--> 166\u001b[0;31m       \u001b[0mans\u001b[0m \u001b[0;34m=\u001b[0m \u001b[0mself\u001b[0m\u001b[0;34m.\u001b[0m\u001b[0mf\u001b[0m\u001b[0;34m(\u001b[0m\u001b[0;34m*\u001b[0m\u001b[0margs\u001b[0m\u001b[0;34m,\u001b[0m \u001b[0;34m**\u001b[0m\u001b[0mdict\u001b[0m\u001b[0;34m(\u001b[0m\u001b[0mself\u001b[0m\u001b[0;34m.\u001b[0m\u001b[0mparams\u001b[0m\u001b[0;34m,\u001b[0m \u001b[0;34m**\u001b[0m\u001b[0mkwargs\u001b[0m\u001b[0;34m)\u001b[0m\u001b[0;34m)\u001b[0m\u001b[0;34m\u001b[0m\u001b[0;34m\u001b[0m\u001b[0m\n\u001b[0m\u001b[1;32m    167\u001b[0m     \u001b[0;32mexcept\u001b[0m\u001b[0;34m:\u001b[0m\u001b[0;34m\u001b[0m\u001b[0;34m\u001b[0m\u001b[0m\n",
            "\u001b[0;31mUnfilteredStackTrace\u001b[0m: TypeError: broke_Chol() takes 1 positional argument but 2 were given\n\nThe stack trace below excludes JAX-internal frames.\nThe preceding is the original exception that occurred, unmodified.\n\n--------------------",
            "\nThe above exception was the direct cause of the following exception:\n",
            "\u001b[0;31mTypeError\u001b[0m                                 Traceback (most recent call last)",
            "\u001b[0;32m<ipython-input-47-8bc298980c3b>\u001b[0m in \u001b[0;36m<module>\u001b[0;34m()\u001b[0m\n\u001b[0;32m----> 1\u001b[0;31m \u001b[0mprint\u001b[0m\u001b[0;34m(\u001b[0m\u001b[0mbroke_Chol\u001b[0m\u001b[0;34m(\u001b[0m\u001b[0mGmat\u001b[0m\u001b[0;34m,\u001b[0m \u001b[0;36m60\u001b[0m\u001b[0;34m)\u001b[0m\u001b[0;34m)\u001b[0m\u001b[0;34m\u001b[0m\u001b[0;34m\u001b[0m\u001b[0m\n\u001b[0m",
            "\u001b[0;32m/usr/local/lib/python3.7/dist-packages/jax/linear_util.py\u001b[0m in \u001b[0;36mcall_wrapped\u001b[0;34m(self, *args, **kwargs)\u001b[0m\n\u001b[1;32m    164\u001b[0m \u001b[0;34m\u001b[0m\u001b[0m\n\u001b[1;32m    165\u001b[0m     \u001b[0;32mtry\u001b[0m\u001b[0;34m:\u001b[0m\u001b[0;34m\u001b[0m\u001b[0;34m\u001b[0m\u001b[0m\n\u001b[0;32m--> 166\u001b[0;31m       \u001b[0mans\u001b[0m \u001b[0;34m=\u001b[0m \u001b[0mself\u001b[0m\u001b[0;34m.\u001b[0m\u001b[0mf\u001b[0m\u001b[0;34m(\u001b[0m\u001b[0;34m*\u001b[0m\u001b[0margs\u001b[0m\u001b[0;34m,\u001b[0m \u001b[0;34m**\u001b[0m\u001b[0mdict\u001b[0m\u001b[0;34m(\u001b[0m\u001b[0mself\u001b[0m\u001b[0;34m.\u001b[0m\u001b[0mparams\u001b[0m\u001b[0;34m,\u001b[0m \u001b[0;34m**\u001b[0m\u001b[0mkwargs\u001b[0m\u001b[0;34m)\u001b[0m\u001b[0;34m)\u001b[0m\u001b[0;34m\u001b[0m\u001b[0;34m\u001b[0m\u001b[0m\n\u001b[0m\u001b[1;32m    167\u001b[0m     \u001b[0;32mexcept\u001b[0m\u001b[0;34m:\u001b[0m\u001b[0;34m\u001b[0m\u001b[0;34m\u001b[0m\u001b[0m\n\u001b[1;32m    168\u001b[0m       \u001b[0;31m# Some transformations yield from inside context managers, so we have to\u001b[0m\u001b[0;34m\u001b[0m\u001b[0;34m\u001b[0m\u001b[0;34m\u001b[0m\u001b[0m\n",
            "\u001b[0;31mTypeError\u001b[0m: broke_Chol() takes 1 positional argument but 2 were given"
          ]
        }
      ]
    },
    {
      "cell_type": "code",
      "source": [
        "print(checknans(Gmat, 10.0)[1])"
      ],
      "metadata": {
        "id": "eHMmphr1JN77"
      },
      "execution_count": null,
      "outputs": []
    },
    {
      "cell_type": "code",
      "source": [
        "print(jnp.linalg.cholesky(Gmat+10**(-18.0)*np.eye(10)))"
      ],
      "metadata": {
        "id": "SjFbkTqHJq2T"
      },
      "execution_count": null,
      "outputs": []
    },
    {
      "cell_type": "code",
      "source": [
        "np.isnan(np.linalg.cholesky(Gmat + (10**-50.0)*jnp.eye(10))).any().astype('f')"
      ],
      "metadata": {
        "id": "kW7JHdATJ8zo"
      },
      "execution_count": null,
      "outputs": []
    },
    {
      "cell_type": "code",
      "source": [
        "print(jnp.linalg.cholesky(Gmat+ 10**(-2)*jnp.eye(10)))"
      ],
      "metadata": {
        "id": "RQWQQvkXHwUY"
      },
      "execution_count": null,
      "outputs": []
    },
    {
      "cell_type": "markdown",
      "source": [
        "## Running Scripts"
      ],
      "metadata": {
        "id": "2y2h6IwurgXm"
      }
    },
    {
      "cell_type": "markdown",
      "source": [
        "### Setting up initial conditions"
      ],
      "metadata": {
        "id": "-un0dhKPrjk9"
      }
    },
    {
      "cell_type": "code",
      "source": [
        "key = random.PRNGKey(0)\n",
        "key, *subkeys = random.split(key, 3)"
      ],
      "metadata": {
        "id": "G2LggjKs-dKT"
      },
      "execution_count": 48,
      "outputs": []
    },
    {
      "cell_type": "code",
      "source": [
        "num_inducing_points = 20\n",
        "init_inducing_points = jnp.linspace(0.0, timey[-1]-timex[-1], num_inducing_points)\n",
        "init_L = jnp.eye(num_inducing_points).at[jnp.tri(num_inducing_points, dtype=bool)].get()\n",
        "init_vu = jnp.zeros(num_inducing_points)\n",
        "init_mu = jnp.zeros(num_inducing_points)\n",
        "init_l = 0.01\n",
        "init_sigma_f = 2.0\n",
        "init_sigma_n = 0.05"
      ],
      "metadata": {
        "id": "ZrdyWnY8rpNO"
      },
      "execution_count": 49,
      "outputs": []
    },
    {
      "cell_type": "code",
      "source": [
        "testx = testx.flatten()\n",
        "testy = testy.flatten()\n",
        "dt = timey[1] - timey[0]\n",
        "f_loc = jnp.arange(0.0, timey[-1]-timex[-1]+dt, dt) "
      ],
      "metadata": {
        "id": "LodD5fiAtgf_"
      },
      "execution_count": 50,
      "outputs": []
    },
    {
      "cell_type": "code",
      "source": [
        "print(subkeys[0])"
      ],
      "metadata": {
        "colab": {
          "base_uri": "https://localhost:8080/"
        },
        "id": "_-hhU2KS0kKz",
        "outputId": "dbb6f3fd-5e84-4b47-ced7-47f306005b9f"
      },
      "execution_count": 51,
      "outputs": [
        {
          "output_type": "stream",
          "name": "stdout",
          "text": [
            "[3186719485 3840466878]\n"
          ]
        }
      ]
    },
    {
      "cell_type": "code",
      "source": [
        "grad_elbo = grad(ELBO, argnums = jnp.arange(3, 10))"
      ],
      "metadata": {
        "id": "eAhUqlan9sT5"
      },
      "execution_count": 52,
      "outputs": []
    },
    {
      "cell_type": "code",
      "source": [
        "ELBO(Number_f, Num_Inducing, Subkey, Inducing_Points, L_matrix, Param_vu, \n",
        "          Mu_prior, Ell, Sigma_f, Sigma_n, Truex, Truey, Dt, F_locs):"
      ],
      "metadata": {
        "colab": {
          "base_uri": "https://localhost:8080/",
          "height": 130
        },
        "id": "xAD8to81JIj9",
        "outputId": "5a9ee2e2-c1ca-438e-b52e-2c1e6b09ce77"
      },
      "execution_count": 53,
      "outputs": [
        {
          "output_type": "error",
          "ename": "SyntaxError",
          "evalue": "ignored",
          "traceback": [
            "\u001b[0;36m  File \u001b[0;32m\"<ipython-input-53-7142f2926d9b>\"\u001b[0;36m, line \u001b[0;32m2\u001b[0m\n\u001b[0;31m    Mu_prior, Ell, Sigma_f, Sigma_n, Truex, Truey, Dt, F_locs):\u001b[0m\n\u001b[0m                                                               ^\u001b[0m\n\u001b[0;31mSyntaxError\u001b[0m\u001b[0;31m:\u001b[0m invalid syntax\n"
          ]
        }
      ]
    },
    {
      "cell_type": "code",
      "source": [
        "print(grad_elbo(300000, num_inducing_points, subkeys[0], init_inducing_points, L_fill(init_L, num_inducing_points), init_vu, init_mu, init_l, init_sigma_f, init_sigma_n, testx, testy, dt, f_loc))"
      ],
      "metadata": {
        "colab": {
          "base_uri": "https://localhost:8080/"
        },
        "id": "weyhpttE-Lnp",
        "outputId": "98d9c9d4-fd79-4c21-d5bd-e697326b59ad"
      },
      "execution_count": 63,
      "outputs": [
        {
          "output_type": "stream",
          "name": "stdout",
          "text": [
            "(DeviceArray([-120568.24422366,  -67210.79973446,  -21667.62924879,\n",
            "               -2085.00510785,    2547.4964329 ,   -1256.50783864,\n",
            "                -769.23689429,     272.08670333,   -1623.25816137,\n",
            "                 396.02037237,    1078.26936114,     310.76827096,\n",
            "                 271.02627765,   -2311.46278006,    -380.48010729,\n",
            "                 625.17228244,    4503.2101255 ,   19642.99386079,\n",
            "               68041.12691228,  119017.42662969], dtype=float64), DeviceArray([[-1866.48018694, -2215.69864927, -2031.75336605,\n",
            "              -1681.2978789 , -1434.41327119, -1333.71912736,\n",
            "              -1359.44872077, -1444.70950174, -1496.10754962,\n",
            "              -1494.70796411, -1472.36590084, -1429.50961799,\n",
            "              -1340.87003329, -1212.02205685, -1095.76087342,\n",
            "              -1044.16976837, -1052.97302338, -1071.13999429,\n",
            "              -1008.05773336,  -774.58231013],\n",
            "             [-2215.69864927, -2893.05265664, -2929.86928054,\n",
            "              -2570.45780827, -2171.80765125, -1921.57185853,\n",
            "              -1856.03183376, -1916.97510828, -2000.79500896,\n",
            "              -2040.48192793, -2033.09969306, -1989.43201335,\n",
            "              -1897.0593883 , -1750.06812701, -1587.41614853,\n",
            "              -1474.04279854, -1437.57423066, -1432.01691476,\n",
            "              -1333.32643176, -1017.8020886 ],\n",
            "             [-2031.75336605, -2929.86928054, -3335.65790504,\n",
            "              -3204.81667267, -2786.5745489 , -2383.41159164,\n",
            "              -2158.05617749, -2117.68723275, -2181.77039213,\n",
            "              -2258.92687781, -2294.29385894, -2278.56021508,\n",
            "              -2216.44638129, -2102.24857222, -1943.32830198,\n",
            "              -1782.26720793, -1669.17779234, -1596.95214121,\n",
            "              -1450.91422987, -1094.07845814],\n",
            "             [-1681.2978789 , -2570.45780827, -3204.81667267,\n",
            "              -3437.64959388, -3250.3924558 , -2819.8002677 ,\n",
            "              -2412.11003354, -2180.74830946, -2133.52347931,\n",
            "              -2196.96347615, -2276.62610164, -2312.30162772,\n",
            "              -2293.01026441, -2224.41953575, -2103.15202781,\n",
            "              -1937.72221654, -1767.5428168 , -1615.81032738,\n",
            "              -1413.74603011, -1045.50683833],\n",
            "             [-1434.41327119, -2171.80765125, -2786.5745489 ,\n",
            "              -3250.3924558 , -3429.9389665 , -3228.19090998,\n",
            "              -2793.45434981, -2393.28779325, -2170.03873968,\n",
            "              -2120.84281765, -2176.80673643, -2249.92028619,\n",
            "              -2280.90811306, -2258.80026265, -2190.00594807,\n",
            "              -2071.40571173, -1906.23742784, -1706.34877746,\n",
            "              -1435.5779844 , -1024.82387285],\n",
            "             [-1333.71912736, -1921.57185853, -2383.41159164,\n",
            "              -2819.8002677 , -3228.19090998, -3412.64563216,\n",
            "              -3234.71027501, -2812.48780854, -2410.72222304,\n",
            "              -2190.08692436, -2147.28325328, -2208.65682775,\n",
            "              -2286.40828682, -2320.13976954, -2297.85875562,\n",
            "              -2225.50800354, -2098.27552163, -1894.93467584,\n",
            "              -1571.8549166 , -1094.37708053],\n",
            "             [-1359.44872077, -1856.03183376, -2158.05617749,\n",
            "              -2412.11003354, -2793.45434981, -3234.71027501,\n",
            "              -3435.97129725, -3248.92544405, -2821.23104784,\n",
            "              -2413.40458364, -2185.66227084, -2138.38595112,\n",
            "              -2195.92256292, -2270.29714183, -2302.47423896,\n",
            "              -2280.52653366, -2206.1075521 , -2049.30393528,\n",
            "              -1732.87047206, -1211.86666046],\n",
            "             [-1444.70950174, -1916.97510828, -2117.68723275,\n",
            "              -2180.74830946, -2393.28779325, -2812.48780854,\n",
            "              -3248.92544405, -3438.96219641, -3248.65029231,\n",
            "              -2820.96607973, -2415.42013196, -2188.74611605,\n",
            "              -2143.0196997 , -2199.93552896, -2272.01327796,\n",
            "              -2301.25703153, -2273.08723729, -2160.61924567,\n",
            "              -1873.81004848, -1339.97151175],\n",
            "             [-1496.10754962, -2000.79500896, -2181.77039213,\n",
            "              -2133.52347931, -2170.03873968, -2410.72222304,\n",
            "              -2821.23104784, -3248.65029231, -3444.05531642,\n",
            "              -3262.39669424, -2841.55952871, -2436.96255858,\n",
            "              -2207.87177443, -2162.69004399, -2225.98935597,\n",
            "              -2304.21293474, -2329.8475931 , -2257.7977999 ,\n",
            "              -1993.72768071, -1449.21723111],\n",
            "             [-1494.70796411, -2040.48192793, -2258.92687781,\n",
            "              -2196.96347615, -2120.84281765, -2190.08692436,\n",
            "              -2413.40458364, -2820.96607973, -3262.39669424,\n",
            "              -3455.57393176, -3260.68077573, -2831.64667891,\n",
            "              -2431.65026159, -2207.52097916, -2163.06189321,\n",
            "              -2223.76467109, -2293.24371762, -2268.64578084,\n",
            "              -2029.33065188, -1487.32760232],\n",
            "             [-1472.36590084, -2033.09969306, -2294.29385894,\n",
            "              -2276.62610164, -2176.80673643, -2147.28325328,\n",
            "              -2185.66227084, -2415.42013196, -2841.55952871,\n",
            "              -3260.68077573, -3437.49377844, -3246.75836551,\n",
            "              -2819.01246934, -2418.34641558, -2196.09237673,\n",
            "              -2152.44661593, -2205.20124371, -2223.09823752,\n",
            "              -2027.6463966 , -1499.25051891],\n",
            "             [-1429.50961799, -1989.43201335, -2278.56021508,\n",
            "              -2312.30162772, -2249.92028619, -2208.65682775,\n",
            "              -2138.38595112, -2188.74611605, -2436.96255858,\n",
            "              -2831.64667891, -3246.75836551, -3431.62362649,\n",
            "              -3240.50372925, -2810.06831761, -2404.8018147 ,\n",
            "              -2177.93076946, -2125.16539881, -2127.64006534,\n",
            "              -1975.66905828, -1492.97910304],\n",
            "             [-1340.87003329, -1897.0593883 , -2216.44638129,\n",
            "              -2293.01026441, -2280.90811306, -2286.40828682,\n",
            "              -2195.92256292, -2143.0196997 , -2207.87177443,\n",
            "              -2431.65026159, -2819.01246934, -3240.50372925,\n",
            "              -3429.20170536, -3241.00815266, -2812.91524917,\n",
            "              -2409.91570356, -2179.84633642, -2078.01597352,\n",
            "              -1904.18110675, -1445.50846638],\n",
            "             [-1212.02205685, -1750.06812701, -2102.24857222,\n",
            "              -2224.41953575, -2258.80026265, -2320.13976954,\n",
            "              -2270.29714183, -2199.93552896, -2162.69004399,\n",
            "              -2207.52097916, -2418.34641558, -2810.06831761,\n",
            "              -3241.00815266, -3440.54596414, -3261.6357202 ,\n",
            "              -2837.16976886, -2423.46635242, -2133.48698468,\n",
            "              -1847.3220947 , -1366.76886064],\n",
            "             [-1095.76087342, -1587.41614853, -1943.32830198,\n",
            "              -2103.15202781, -2190.00594807, -2297.85875562,\n",
            "              -2302.47423896, -2272.01327796, -2225.98935597,\n",
            "              -2163.06189321, -2196.09237673, -2404.8018147 ,\n",
            "              -2812.91524917, -3261.6357202 , -3459.60775818,\n",
            "              -3270.30626108, -2834.07943017, -2371.48704666,\n",
            "              -1916.32795509, -1346.75976413],\n",
            "             [-1044.16976837, -1474.04279854, -1782.26720793,\n",
            "              -1937.72221654, -2071.40571173, -2225.50800354,\n",
            "              -2280.52653366, -2301.25703153, -2304.21293474,\n",
            "              -2223.76467109, -2152.44661593, -2177.93076946,\n",
            "              -2409.91570356, -2837.16976886, -3270.30626108,\n",
            "              -3457.27680702, -3260.43182209, -2779.38137418,\n",
            "              -2161.21894063, -1445.04383045],\n",
            "             [-1052.97302338, -1437.57423066, -1669.17779234,\n",
            "              -1767.5428168 , -1906.23742784, -2098.27552163,\n",
            "              -2206.1075521 , -2273.08723729, -2329.8475931 ,\n",
            "              -2293.24371762, -2205.20124371, -2125.16539881,\n",
            "              -2179.84633642, -2423.46635242, -2834.07943017,\n",
            "              -3260.43182209, -3436.66121568, -3190.29114503,\n",
            "              -2556.80016085, -1690.9029476 ],\n",
            "             [-1071.13999429, -1432.01691476, -1596.95214121,\n",
            "              -1615.81032738, -1706.34877746, -1894.93467584,\n",
            "              -2049.30393528, -2160.61924567, -2257.7977999 ,\n",
            "              -2268.64578084, -2223.09823752, -2127.64006534,\n",
            "              -2078.01597352, -2133.48698468, -2371.48704666,\n",
            "              -2779.38137418, -3190.29114503, -3328.14281921,\n",
            "              -2930.52004439, -2029.56760955],\n",
            "             [-1008.05773336, -1333.32643176, -1450.91422987,\n",
            "              -1413.74603011, -1435.5779844 , -1571.8549166 ,\n",
            "              -1732.87047206, -1873.81004848, -1993.72768071,\n",
            "              -2029.33065188, -2027.6463966 , -1975.66905828,\n",
            "              -1904.18110675, -1847.3220947 , -1916.32795509,\n",
            "              -2161.21894063, -2556.80016085, -2930.52004439,\n",
            "              -2895.02430736, -2214.7386295 ],\n",
            "             [ -774.58231013, -1017.8020886 , -1094.07845814,\n",
            "              -1045.50683833, -1024.82387285, -1094.37708053,\n",
            "              -1211.86666046, -1339.97151175, -1449.21723111,\n",
            "              -1487.32760232, -1499.25051891, -1492.97910304,\n",
            "              -1445.50846638, -1366.76886064, -1346.75976413,\n",
            "              -1445.04383045, -1690.9029476 , -2029.56760955,\n",
            "              -2214.7386295 , -1881.87666087]], dtype=float64), DeviceArray([259.00859556, 237.02109497, 185.88991011, 167.56052046,\n",
            "             158.63255462, 134.56713736,  98.16337341,  56.34393386,\n",
            "              29.07965377,  22.1237263 ,  12.20630808,  -9.1136206 ,\n",
            "             -26.59804923, -37.11399262, -46.66744608, -48.8952883 ,\n",
            "             -35.38610429, -10.64342161,  12.06523267,  21.48651667],            dtype=float64), DeviceArray([0., 0., 0., 0., 0., 0., 0., 0., 0., 0., 0., 0., 0., 0., 0.,\n",
            "             0., 0., 0., 0., 0.], dtype=float64), DeviceArray(-1541157.66916561, dtype=float64), DeviceArray(-32173.89902358, dtype=float64), DeviceArray(646467.46295118, dtype=float64, weak_type=True))\n"
          ]
        }
      ]
    },
    {
      "cell_type": "code",
      "source": [
        "grad_exq = grad(Exp_qf, argnums = jnp.arange(5, 12))"
      ],
      "metadata": {
        "id": "9-zUBOMQACvn"
      },
      "execution_count": null,
      "outputs": []
    },
    {
      "cell_type": "code",
      "source": [
        "trygrad = grad_exq(30000, num_inducing_points, subkeys[0], testx, testy, vec_SE(f_loc, f_loc, init_l, init_sigma_f), vec_SE(f_loc, init_inducing_points, init_l, init_sigma_f), \n",
        "               vec_SE(init_inducing_points, init_inducing_points, init_l, init_sigma_f), init_mu, vec_SE_root(init_inducing_points, init_inducing_points, init_l, init_sigma_f, dt),\n",
        "               L_fill(init_L, num_inducing_points), init_sigma_n)"
      ],
      "metadata": {
        "id": "yPt8OrJQBAmv"
      },
      "execution_count": null,
      "outputs": []
    },
    {
      "cell_type": "code",
      "source": [
        "jnp.shape(trygrad[0])"
      ],
      "metadata": {
        "id": "rcQmN2oTAZI9"
      },
      "execution_count": null,
      "outputs": []
    },
    {
      "cell_type": "code",
      "source": [
        "print(jnp.shape(f_loc))"
      ],
      "metadata": {
        "id": "ax8v1h7PAf1t"
      },
      "execution_count": null,
      "outputs": []
    },
    {
      "cell_type": "code",
      "source": [
        "print(L_fill(init_L, num_inducing_points))"
      ],
      "metadata": {
        "id": "69QGARvxCXZ3"
      },
      "execution_count": null,
      "outputs": []
    }
  ]
}