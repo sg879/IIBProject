{
  "nbformat": 4,
  "nbformat_minor": 0,
  "metadata": {
    "colab": {
      "name": "Test Data.ipynb",
      "provenance": [],
      "authorship_tag": "ABX9TyNU5SBeB4N9bIFB3VOTBVJT",
      "include_colab_link": true
    },
    "kernelspec": {
      "name": "python3",
      "display_name": "Python 3"
    },
    "language_info": {
      "name": "python"
    },
    "accelerator": "GPU"
  },
  "cells": [
    {
      "cell_type": "markdown",
      "metadata": {
        "id": "view-in-github",
        "colab_type": "text"
      },
      "source": [
        "<a href=\"https://colab.research.google.com/github/sg879/IIBProject/blob/main/Test/Test_Data.ipynb\" target=\"_parent\"><img src=\"https://colab.research.google.com/assets/colab-badge.svg\" alt=\"Open In Colab\"/></a>"
      ]
    },
    {
      "cell_type": "markdown",
      "source": [
        "# Creating Test Data"
      ],
      "metadata": {
        "id": "GckyC_9UFa9S"
      }
    },
    {
      "cell_type": "markdown",
      "source": [
        "## Import and Load Packages"
      ],
      "metadata": {
        "id": "NZ2oDXLaFwcD"
      }
    },
    {
      "cell_type": "code",
      "source": [
        "%%capture\n",
        "!pip install blackcellmagic"
      ],
      "metadata": {
        "id": "QN7GFJRGFk2J"
      },
      "execution_count": 2,
      "outputs": []
    },
    {
      "cell_type": "code",
      "source": [
        "%load_ext blackcellmagic"
      ],
      "metadata": {
        "id": "VNZFea87E_2R"
      },
      "execution_count": 3,
      "outputs": []
    },
    {
      "cell_type": "code",
      "execution_count": 4,
      "metadata": {
        "id": "ZFoWnzWIE4OK"
      },
      "outputs": [],
      "source": [
        "import seaborn as sns\n",
        "import matplotlib as mpl\n",
        "\n",
        "mpl.rcParams.update(mpl.rcParamsDefault)\n",
        "mpl.use(\"pgf\")\n",
        "mpl.rcParams.update(\n",
        "    {\n",
        "        \"pgf.texsystem\": \"pdflatex\",\n",
        "        \"font.family\": \"serif\",\n",
        "        \"text.usetex\": True,\n",
        "        \"pgf.rcfonts\": False,\n",
        "        \"pgf.preamble\": \"\\n\".join(\n",
        "            [\n",
        "                r\"\\usepackage{bm}\",\n",
        "                r\"\\usepackage{mathtools}\",\n",
        "                r\"\\DeclarePairedDelimiter\\norm{\\lVert}{\\rVert}\",\n",
        "                r\"\\makeatletter\",\n",
        "                r\"\\let\\oldnorm\\norm\",\n",
        "                r\"\\def\\norm{\\@ifstar{\\oldnorm}{\\oldnorm*}}\",\n",
        "                r\"\\makeatother\",\n",
        "                r\"\\usepackage[dvipsnames]{xcolor}\", \n",
        "                r\"\\definecolor{myred}{RGB}{205, 108, 46}\",\n",
        "            ]\n",
        "        ),\n",
        "        \"font.serif\": [\"Computer Modern Roman\"],\n",
        "    }\n",
        ")\n",
        "mpl.rc(\n",
        "    \"text.latex\",\n",
        "    preamble=\"\\n\".join(\n",
        "        [\n",
        "            r\"\\usepackage{bm}\",\n",
        "            r\"\\usepackage{mathtools}\",\n",
        "            r\"\\DeclarePairedDelimiter\\norm{\\lVert}{\\rVert}\",\n",
        "            r\"\\makeatletter\",\n",
        "            r\"\\let\\oldnorm\\norm\",\n",
        "            r\"\\def\\norm{\\@ifstar{\\oldnorm}{\\oldnorm*}}\",\n",
        "            r\"\\makeatother\",\n",
        "            r\"\\usepackage[dvipsnames]{xcolor}\", \n",
        "            r\"\\definecolor{myred}{RGB}{205, 108, 46}\",\n",
        "        ]\n",
        "    ),\n",
        ")\n",
        "\n",
        "import matplotlib.font_manager\n",
        "import matplotlib.pyplot as plt\n",
        "from mpl_toolkits.axes_grid1 import Divider, Size"
      ]
    },
    {
      "cell_type": "code",
      "source": [
        "%matplotlib inline"
      ],
      "metadata": {
        "id": "aIhSh-fYFI9Q"
      },
      "execution_count": 5,
      "outputs": []
    },
    {
      "cell_type": "code",
      "source": [
        "import numpy as np\n",
        "import jax.numpy as jnp\n",
        "from jax import grad, jit, vmap, random"
      ],
      "metadata": {
        "id": "tnMeleRwLAV7"
      },
      "execution_count": 6,
      "outputs": []
    },
    {
      "cell_type": "markdown",
      "source": [
        "## Create Input and Filter"
      ],
      "metadata": {
        "id": "J1zNYVJVKk86"
      }
    },
    {
      "cell_type": "markdown",
      "source": [
        "### Generate random number key"
      ],
      "metadata": {
        "id": "wuP3s3aBeDLc"
      }
    },
    {
      "cell_type": "code",
      "source": [
        "key = random.PRNGKey(0)\n",
        "\n",
        "# Split key to get usable subkeys in case of future editing\n",
        "key, subkeyx = random.split(key, 2)"
      ],
      "metadata": {
        "id": "pK2OIT6YK0CI"
      },
      "execution_count": 20,
      "outputs": []
    },
    {
      "cell_type": "markdown",
      "source": [
        "### Make random input spike train"
      ],
      "metadata": {
        "id": "-onZ9NlueUPw"
      }
    },
    {
      "cell_type": "code",
      "source": [
        "# Set up time indexing\n",
        "Input_mt = 1.0\n",
        "Inu\n",
        "\n",
        "x = random.randint(subkeyx, (10,1), 0, 2)"
      ],
      "metadata": {
        "id": "yBjpaliFeX8K"
      },
      "execution_count": 21,
      "outputs": []
    },
    {
      "cell_type": "markdown",
      "source": [
        "### Generate filter shape"
      ],
      "metadata": {
        "id": "MUWkvNsgec_C"
      }
    },
    {
      "cell_type": "code",
      "source": [
        ""
      ],
      "metadata": {
        "id": "PsLhjMEeehkt"
      },
      "execution_count": null,
      "outputs": []
    }
  ]
}