{
  "nbformat": 4,
  "nbformat_minor": 0,
  "metadata": {
    "colab": {
      "name": "Test Data.ipynb",
      "provenance": [],
      "collapsed_sections": [],
      "mount_file_id": "160Dpkdl5aa1w0BoVKu7dRUKVwBvfkGdD",
      "authorship_tag": "ABX9TyMBCl29piTSJq2OWOssWxk2",
      "include_colab_link": true
    },
    "kernelspec": {
      "name": "python3",
      "display_name": "Python 3"
    },
    "language_info": {
      "name": "python"
    },
    "accelerator": "GPU"
  },
  "cells": [
    {
      "cell_type": "markdown",
      "metadata": {
        "id": "view-in-github",
        "colab_type": "text"
      },
      "source": [
        "<a href=\"https://colab.research.google.com/github/sg879/IIBProject/blob/main/Test/Test_Data.ipynb\" target=\"_parent\"><img src=\"https://colab.research.google.com/assets/colab-badge.svg\" alt=\"Open In Colab\"/></a>"
      ]
    },
    {
      "cell_type": "code",
      "source": [
        "import os, sys\n",
        "from google.colab import drive\n",
        "drive.mount('/content/drive')"
      ],
      "metadata": {
        "id": "EhMkcZ8XjxDd",
        "colab": {
          "base_uri": "https://localhost:8080/"
        },
        "outputId": "21e5f6bf-c085-440a-a185-12701b97d6a2"
      },
      "execution_count": 1,
      "outputs": [
        {
          "output_type": "stream",
          "name": "stdout",
          "text": [
            "Drive already mounted at /content/drive; to attempt to forcibly remount, call drive.mount(\"/content/drive\", force_remount=True).\n"
          ]
        }
      ]
    },
    {
      "cell_type": "markdown",
      "source": [
        "# Creating Test Data"
      ],
      "metadata": {
        "id": "GckyC_9UFa9S"
      }
    },
    {
      "cell_type": "markdown",
      "source": [
        "## Import and Load Packages"
      ],
      "metadata": {
        "id": "NZ2oDXLaFwcD"
      }
    },
    {
      "cell_type": "code",
      "execution_count": 2,
      "metadata": {
        "id": "ZFoWnzWIE4OK"
      },
      "outputs": [],
      "source": [
        "import matplotlib.pyplot as plt"
      ]
    },
    {
      "cell_type": "code",
      "source": [
        "%matplotlib inline"
      ],
      "metadata": {
        "id": "aIhSh-fYFI9Q"
      },
      "execution_count": 3,
      "outputs": []
    },
    {
      "cell_type": "code",
      "source": [
        "import numpy as np\n",
        "import scipy.io as io\n",
        "import jax.numpy as jnp\n",
        "import jax.scipy as jsc\n",
        "from jax import grad, jit, vmap, random\n",
        "import jax.lax as lax"
      ],
      "metadata": {
        "id": "tnMeleRwLAV7"
      },
      "execution_count": 4,
      "outputs": []
    },
    {
      "cell_type": "code",
      "source": [
        "from jax.config import config\n",
        "config.update(\"jax_enable_x64\", True)"
      ],
      "metadata": {
        "id": "glVrpnOas4yX"
      },
      "execution_count": 5,
      "outputs": []
    },
    {
      "cell_type": "markdown",
      "source": [
        "## Function Definitions"
      ],
      "metadata": {
        "id": "-APjoeWQotAr"
      }
    },
    {
      "cell_type": "code",
      "source": [
        "@jit\n",
        "def squared_exp(i, j, tau, ell, sigma_f):\n",
        "  return sigma_f**2.0*jnp.exp(-(tau[i]-tau[j])**2/(2*ell**2.0))"
      ],
      "metadata": {
        "id": "2YlPStFspvVD"
      },
      "execution_count": 6,
      "outputs": []
    },
    {
      "cell_type": "code",
      "source": [
        "@jit\n",
        "def squared_exp2(i, j, ell, sigma_f):\n",
        "  return sigma_f**2.0*jnp.exp(-(i-j)**2/(2*ell**2.0))"
      ],
      "metadata": {
        "id": "84Rq12aVFMSk"
      },
      "execution_count": 7,
      "outputs": []
    },
    {
      "cell_type": "code",
      "source": [
        "\n",
        "#def cov_squared_exp(tau, ell, sigma_f):\n",
        "#  k = jnp.shape(tau)[0]\n",
        "#  covmat = jnp.empty((k,k)).astype(jnp.float32)\n",
        "# for i in jnp.arange(k):\n",
        "#    for j in np.arange(k):\n",
        "#      covmat = covmat.at[i, j].set(squared_exp(i, j, tau, ell, sigma_f))\n",
        "#  return covmat"
      ],
      "metadata": {
        "id": "BgcENBxZov_I"
      },
      "execution_count": 8,
      "outputs": []
    },
    {
      "cell_type": "code",
      "source": [
        "# Vectorised SE function\n",
        "vec_SE = vmap(vmap(squared_exp2, in_axes=[None,0,None,None]),in_axes=[0,None,None,None])"
      ],
      "metadata": {
        "id": "6V80iSv7E4bH"
      },
      "execution_count": 9,
      "outputs": []
    },
    {
      "cell_type": "markdown",
      "source": [
        "## Create Input, Filter and Noise"
      ],
      "metadata": {
        "id": "J1zNYVJVKk86"
      }
    },
    {
      "cell_type": "markdown",
      "source": [
        "### Generate random number key"
      ],
      "metadata": {
        "id": "wuP3s3aBeDLc"
      }
    },
    {
      "cell_type": "code",
      "source": [
        "key = random.PRNGKey(1)\n",
        "\n",
        "# Split key to get usable subkeys in case of future editing\n",
        "key, *subkeys = random.split(key, 4)"
      ],
      "metadata": {
        "id": "pK2OIT6YK0CI"
      },
      "execution_count": 10,
      "outputs": []
    },
    {
      "cell_type": "markdown",
      "source": [
        "### Make random input spike train"
      ],
      "metadata": {
        "id": "-onZ9NlueUPw"
      }
    },
    {
      "cell_type": "code",
      "source": [
        "# Get subkey\n",
        "subkeyx = subkeys[-1]\n",
        "\n",
        "# Set up time indexing\n",
        "Input_mt = 0.5\n",
        "tbin_l = 0.005\n",
        "K = jnp.floor(Input_mt/tbin_l).astype(jnp.int32)\n",
        "timex = jnp.linspace(0.0, Input_mt, K+1)\n",
        "\n",
        "inpx = random.bernoulli(subkeyx, 0.2, (K+1,1))"
      ],
      "metadata": {
        "id": "yBjpaliFeX8K"
      },
      "execution_count": 11,
      "outputs": []
    },
    {
      "cell_type": "code",
      "source": [
        "print(K)"
      ],
      "metadata": {
        "colab": {
          "base_uri": "https://localhost:8080/"
        },
        "id": "mTkxVYL6lySN",
        "outputId": "46ff89e3-ff64-434e-bdab-7fa112a94b7d"
      },
      "execution_count": 12,
      "outputs": [
        {
          "output_type": "stream",
          "name": "stdout",
          "text": [
            "100\n"
          ]
        }
      ]
    },
    {
      "cell_type": "code",
      "source": [
        "plt.plot(timex, inpx)"
      ],
      "metadata": {
        "id": "9W-kzVlTfUvR",
        "colab": {
          "base_uri": "https://localhost:8080/",
          "height": 282
        },
        "outputId": "b90de1e3-532f-4039-e21e-88708963b125"
      },
      "execution_count": 13,
      "outputs": [
        {
          "output_type": "execute_result",
          "data": {
            "text/plain": [
              "[<matplotlib.lines.Line2D at 0x7f0e90653210>]"
            ]
          },
          "metadata": {},
          "execution_count": 13
        },
        {
          "output_type": "display_data",
          "data": {
            "image/png": "[encoded data removed]",
            "text/plain": [
              "<Figure size 432x288 with 1 Axes>"
            ]
          },
          "metadata": {
            "needs_background": "light"
          }
        }
      ]
    },
    {
      "cell_type": "markdown",
      "source": [
        "### Generate filter shape"
      ],
      "metadata": {
        "id": "MUWkvNsgec_C"
      }
    },
    {
      "cell_type": "code",
      "source": [
        "# Get subkey\n",
        "subkeyf = subkeys[-2]\n",
        "\n",
        "# Set up time indexing\n",
        "Filter_mt = 0.1\n",
        "M = jnp.floor(Filter_mt/tbin_l).astype(jnp.int32)\n",
        "timef = jnp.linspace(0.0, Filter_mt, M+1)\n",
        "\n",
        "# True mean and covariance\n",
        "muf_true = jnp.zeros((M+1,1))\n",
        "covf_true = vec_SE(timef, timef, 0.01 , 1.0)\n",
        "\n",
        "# Generate filter from true mean and covariance\n",
        "chol_true = jsc.linalg.cholesky(covf_true)\n",
        "f_true = muf_true + chol_true@random.normal(subkeyf, (M+1,1))\n",
        "#f_true = jnp.sin(timef*32.0).reshape((M+1,1))"
      ],
      "metadata": {
        "id": "PsLhjMEeehkt"
      },
      "execution_count": 14,
      "outputs": []
    },
    {
      "cell_type": "code",
      "source": [
        "print(M)"
      ],
      "metadata": {
        "colab": {
          "base_uri": "https://localhost:8080/"
        },
        "id": "GxmQHb3tl0KT",
        "outputId": "438d854e-794a-41ca-cd7d-5ccee3e2d3a3"
      },
      "execution_count": 15,
      "outputs": [
        {
          "output_type": "stream",
          "name": "stdout",
          "text": [
            "20\n"
          ]
        }
      ]
    },
    {
      "cell_type": "code",
      "source": [
        "print(jnp.shape(f_true))"
      ],
      "metadata": {
        "colab": {
          "base_uri": "https://localhost:8080/"
        },
        "id": "b6-FYwLC_JXR",
        "outputId": "5f6f2a2f-2ce8-4f1a-ed30-95affb6deaa0"
      },
      "execution_count": 16,
      "outputs": [
        {
          "output_type": "stream",
          "name": "stdout",
          "text": [
            "(21, 1)\n"
          ]
        }
      ]
    },
    {
      "cell_type": "code",
      "source": [
        "plt.plot(timef, f_true)"
      ],
      "metadata": {
        "id": "dhoUj9ROTsbC",
        "colab": {
          "base_uri": "https://localhost:8080/",
          "height": 282
        },
        "outputId": "3c350d63-1d81-4d40-cb52-d34732495111"
      },
      "execution_count": 17,
      "outputs": [
        {
          "output_type": "execute_result",
          "data": {
            "text/plain": [
              "[<matplotlib.lines.Line2D at 0x7f0e901725d0>]"
            ]
          },
          "metadata": {},
          "execution_count": 17
        },
        {
          "output_type": "display_data",
          "data": {
            "image/png": "[encoded data removed]",
            "text/plain": [
              "<Figure size 432x288 with 1 Axes>"
            ]
          },
          "metadata": {
            "needs_background": "light"
          }
        }
      ]
    },
    {
      "cell_type": "markdown",
      "source": [
        "### Noise vector"
      ],
      "metadata": {
        "id": "qg3BD-_VXUS6"
      }
    },
    {
      "cell_type": "code",
      "source": [
        "# Get subkey \n",
        "subkeyn = subkeys[-3]\n",
        "\n",
        "# Noise variance\n",
        "sigma_n = 0.05\n",
        "\n",
        "# Noise vector\n",
        "noise_vec = sigma_n*random.normal(subkeyn, (M+K+1, 1))"
      ],
      "metadata": {
        "id": "ulgBeRlmXX6b"
      },
      "execution_count": 18,
      "outputs": []
    },
    {
      "cell_type": "markdown",
      "source": [
        "## Generate Output"
      ],
      "metadata": {
        "id": "d75qexTPWaSa"
      }
    },
    {
      "cell_type": "code",
      "source": [
        "# Pad input and filter\n",
        "xp_true = jnp.vstack((inpx, jnp.zeros((M,1))))\n",
        "fp_true = jnp.vstack((f_true, jnp.zeros((K,1))))\n",
        "\n",
        "# Compute the FFTs\n",
        "X_true = jnp.fft.fft(xp_true)\n",
        "F_true = jnp.fft.fft(fp_true)\n",
        "\n",
        "# Elementwise multiplication\n",
        "fftmul = jnp.multiply(X_true, F_true)\n",
        "\n",
        "# Make output and time\n",
        "y_truetry = jnp.real(jnp.fft.ifft(fftmul) + noise_vec)\n",
        "y_true = jnp.convolve(inpx.flatten(), f_true.flatten()) + noise_vec.flatten()\n",
        "timey = np.linspace(0, Input_mt+Filter_mt, K+M+1)"
      ],
      "metadata": {
        "id": "egVEUM3EWfBG"
      },
      "execution_count": 27,
      "outputs": []
    },
    {
      "cell_type": "code",
      "source": [
        "plt.plot(timey, y_true)"
      ],
      "metadata": {
        "id": "CW7vTtYpfE_v",
        "colab": {
          "base_uri": "https://localhost:8080/",
          "height": 282
        },
        "outputId": "935ed858-4a59-484d-f40b-79b94124f425"
      },
      "execution_count": 28,
      "outputs": [
        {
          "output_type": "execute_result",
          "data": {
            "text/plain": [
              "[<matplotlib.lines.Line2D at 0x7f0dc62883d0>]"
            ]
          },
          "metadata": {},
          "execution_count": 28
        },
        {
          "output_type": "display_data",
          "data": {
            "image/png": "[encoded data removed]",
            "text/plain": [
              "<Figure size 432x288 with 1 Axes>"
            ]
          },
          "metadata": {
            "needs_background": "light"
          }
        }
      ]
    },
    {
      "cell_type": "code",
      "source": [
        "plt.plot(timey, y_truetry)"
      ],
      "metadata": {
        "colab": {
          "base_uri": "https://localhost:8080/",
          "height": 282
        },
        "id": "STEFnlbyjbZb",
        "outputId": "789030be-39d8-4fb8-cdbf-60f18198b507"
      },
      "execution_count": 29,
      "outputs": [
        {
          "output_type": "execute_result",
          "data": {
            "text/plain": [
              "[<matplotlib.lines.Line2D at 0x7f0dc61b5650>]"
            ]
          },
          "metadata": {},
          "execution_count": 29
        },
        {
          "output_type": "display_data",
          "data": {
            "image/png": "[encoded data removed]",
            "text/plain": [
              "<Figure size 432x288 with 1 Axes>"
            ]
          },
          "metadata": {
            "needs_background": "light"
          }
        }
      ]
    },
    {
      "cell_type": "markdown",
      "source": [
        "## Saving the data"
      ],
      "metadata": {
        "id": "LV9FFi9rR9GG"
      }
    },
    {
      "cell_type": "code",
      "source": [
        "print(y_true.flatten())"
      ],
      "metadata": {
        "colab": {
          "base_uri": "https://localhost:8080/"
        },
        "id": "Robf-lbLjfpI",
        "outputId": "3eb603a4-95ef-4fa4-842d-8248d7751ccc"
      },
      "execution_count": 22,
      "outputs": [
        {
          "output_type": "stream",
          "name": "stdout",
          "text": [
            "[-1.35438527e-03 -1.74539495e-02  1.31731885e+00  2.30482373e+00\n",
            "  2.22790719e+00  2.33038347e+00  2.00101749e+00  1.60334668e+00\n",
            "  1.65581472e+00  1.41928676e+00  2.22630320e+00  1.55422018e+00\n",
            "  2.50806317e+00  1.83146137e+00  1.32126285e+00  1.70874824e+00\n",
            "  1.28750568e+00  3.87678384e-01 -8.17087859e-01 -1.58768191e+00\n",
            " -1.69618331e+00 -1.32754489e+00 -7.46646392e-01  8.43252545e-01\n",
            "  5.88429205e-01  2.42847311e-01  9.94699411e-01 -9.64024902e-02\n",
            "  1.61131448e-01  4.96371413e-01  5.55267600e-01  2.16036199e+00\n",
            "  2.01017688e+00  1.62041458e+00  1.12665227e+00  6.88289985e-01\n",
            "  1.93354091e+00  1.22082015e+00  6.53325642e-01  2.55132570e-01\n",
            "  7.67111654e-01  2.38612404e-01  1.34713070e-01  2.45953694e-01\n",
            "  1.59200469e+00  1.56032825e+00  1.01389683e+00  1.90184698e-01\n",
            " -2.71759278e-01  1.68299249e-01  1.03134895e-01 -7.27649646e-01\n",
            "  3.60644318e-02  1.26527843e+00  1.10434683e+00  8.92389549e-01\n",
            "  4.71136653e-01  4.95652668e-01  6.29979121e-01  3.03743778e-01\n",
            " -3.46587901e-01 -6.34740725e-01 -6.21859868e-01 -7.70261959e-01\n",
            " -7.28834071e-01 -3.60338212e-01  9.83122458e-01  7.74660212e-02\n",
            " -8.17028188e-01 -1.25230584e+00 -1.04816796e+00 -2.36153614e-01\n",
            "  1.69230654e+00  3.01862615e+00  2.62702050e+00  2.41458803e+00\n",
            "  1.85730532e+00  1.27895499e+00  1.41906486e+00  1.35077181e+00\n",
            "  6.71797565e-01 -3.72297958e-01  6.63387467e-02 -5.03193719e-01\n",
            " -2.07722882e-01  1.67492671e+00  1.53286877e+00  8.87639239e-01\n",
            " -1.01602597e-01 -9.55132232e-01 -6.93197415e-01  1.27550502e+00\n",
            "  1.17791526e+00  1.19227712e+00  1.10170351e+00  6.97670114e-01\n",
            "  1.47741746e+00  7.31606972e-01  4.79214567e-01  1.37871991e+00\n",
            "  4.87686351e-01  3.54188681e-01  4.47315314e-01  4.24471430e-01\n",
            "  8.73698705e-01  6.12158915e-01 -2.79211712e-01 -1.25673702e+00\n",
            " -1.28975974e+00 -8.90412029e-01 -9.18399058e-01 -1.16969840e+00\n",
            " -1.32583062e+00 -1.43351935e+00 -1.70306539e+00 -1.43891297e+00\n",
            " -1.19522591e+00 -7.65656637e-01 -3.39995224e-01 -6.39370186e-02\n",
            " -1.96948711e-02]\n"
          ]
        }
      ]
    },
    {
      "cell_type": "code",
      "source": [
        "np.save('drive/MyDrive/Project/Test/Testy.npy', y_true)\n",
        "np.save('drive/MyDrive/Project/Test/Testx.npy', inpx)\n",
        "np.save('drive/MyDrive/Project/Test/Truef.npy', f_true)\n",
        "np.save('drive/MyDrive/Project/Test/Inputwin.npy', Input_mt)\n",
        "np.save('drive/MyDrive/Project/Test/Outputwin.npy', timey[-1])\n",
        "np.save('drive/MyDrive/Project/Test/Noise.npy', sigma_n)"
      ],
      "metadata": {
        "id": "7vvYU_BpSBUA"
      },
      "execution_count": 23,
      "outputs": []
    },
    {
      "cell_type": "code",
      "source": [
        "datdic = mdic = {\"Xdat\": inpx, \"Fdat\": f_true}"
      ],
      "metadata": {
        "id": "ZoBChTqQkgEx"
      },
      "execution_count": 24,
      "outputs": []
    },
    {
      "cell_type": "code",
      "source": [
        "io.savemat('drive/MyDrive/Project/Test/TestDataMat.mat', datdic)"
      ],
      "metadata": {
        "id": "q8JrtaowkWkC"
      },
      "execution_count": 25,
      "outputs": []
    },
    {
      "cell_type": "code",
      "source": [
        "print(timef[-1])"
      ],
      "metadata": {
        "colab": {
          "base_uri": "https://localhost:8080/"
        },
        "id": "v3xdJfuaUKNW",
        "outputId": "b0eabfa9-74b7-4e5f-9fc8-daf6b9ae5019"
      },
      "execution_count": 26,
      "outputs": [
        {
          "output_type": "stream",
          "name": "stdout",
          "text": [
            "0.1\n"
          ]
        }
      ]
    }
  ]
}