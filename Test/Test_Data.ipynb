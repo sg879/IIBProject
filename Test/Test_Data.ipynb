{
  "nbformat": 4,
  "nbformat_minor": 0,
  "metadata": {
    "colab": {
      "name": "Test Data.ipynb",
      "provenance": [],
      "mount_file_id": "160Dpkdl5aa1w0BoVKu7dRUKVwBvfkGdD",
      "authorship_tag": "ABX9TyPPsvtbJXqDlQLETWbSiLCG",
      "include_colab_link": true
    },
    "kernelspec": {
      "name": "python3",
      "display_name": "Python 3"
    },
    "language_info": {
      "name": "python"
    },
    "accelerator": "GPU"
  },
  "cells": [
    {
      "cell_type": "markdown",
      "metadata": {
        "id": "view-in-github",
        "colab_type": "text"
      },
      "source": [
        "<a href=\"https://colab.research.google.com/github/sg879/IIBProject/blob/main/Test/Test_Data.ipynb\" target=\"_parent\"><img src=\"https://colab.research.google.com/assets/colab-badge.svg\" alt=\"Open In Colab\"/></a>"
      ]
    },
    {
      "cell_type": "code",
      "source": [
        "#import os, sys\n",
        "#from google.colab import drive\n",
        "#drive.mount('/content/drive')"
      ],
      "metadata": {
        "id": "EhMkcZ8XjxDd"
      },
      "execution_count": 1,
      "outputs": []
    },
    {
      "cell_type": "markdown",
      "source": [
        "# Creating Test Data"
      ],
      "metadata": {
        "id": "GckyC_9UFa9S"
      }
    },
    {
      "cell_type": "markdown",
      "source": [
        "## Import and Load Packages"
      ],
      "metadata": {
        "id": "NZ2oDXLaFwcD"
      }
    },
    {
      "cell_type": "code",
      "execution_count": 2,
      "metadata": {
        "id": "ZFoWnzWIE4OK"
      },
      "outputs": [],
      "source": [
        "import matplotlib.pyplot as plt"
      ]
    },
    {
      "cell_type": "code",
      "source": [
        "%matplotlib inline"
      ],
      "metadata": {
        "id": "aIhSh-fYFI9Q"
      },
      "execution_count": 3,
      "outputs": []
    },
    {
      "cell_type": "code",
      "source": [
        "import numpy as np\n",
        "import jax.numpy as jnp\n",
        "import jax.scipy as jsc\n",
        "from jax import grad, jit, vmap, random\n",
        "import jax.lax as lax"
      ],
      "metadata": {
        "id": "tnMeleRwLAV7"
      },
      "execution_count": 4,
      "outputs": []
    },
    {
      "cell_type": "markdown",
      "source": [
        "## Function Definitions"
      ],
      "metadata": {
        "id": "-APjoeWQotAr"
      }
    },
    {
      "cell_type": "code",
      "source": [
        "@jit\n",
        "def squared_exp(i, j, tau, ell, sigma_f):\n",
        "  return sigma_f**2.0*jnp.exp(-(tau[i]-tau[j])**2/(2*ell**2.0))"
      ],
      "metadata": {
        "id": "2YlPStFspvVD"
      },
      "execution_count": 5,
      "outputs": []
    },
    {
      "cell_type": "code",
      "source": [
        "@jit\n",
        "def squared_exp2(i, j, ell, sigma_f):\n",
        "  return sigma_f**2.0*jnp.exp(-(i-j)**2/(2*ell**2.0))"
      ],
      "metadata": {
        "id": "84Rq12aVFMSk"
      },
      "execution_count": 6,
      "outputs": []
    },
    {
      "cell_type": "code",
      "source": [
        "\n",
        "#def cov_squared_exp(tau, ell, sigma_f):\n",
        "#  k = jnp.shape(tau)[0]\n",
        "#  covmat = jnp.empty((k,k)).astype(jnp.float32)\n",
        "# for i in jnp.arange(k):\n",
        "#    for j in np.arange(k):\n",
        "#      covmat = covmat.at[i, j].set(squared_exp(i, j, tau, ell, sigma_f))\n",
        "#  return covmat"
      ],
      "metadata": {
        "id": "BgcENBxZov_I"
      },
      "execution_count": 7,
      "outputs": []
    },
    {
      "cell_type": "code",
      "source": [
        "# Vectorised SE function\n",
        "vec_SE = vmap(vmap(squared_exp2, in_axes=[0,None,None,None]),in_axes=[None,0,None,None])"
      ],
      "metadata": {
        "id": "6V80iSv7E4bH"
      },
      "execution_count": 8,
      "outputs": []
    },
    {
      "cell_type": "markdown",
      "source": [
        "## Create Input, Filter and Noise"
      ],
      "metadata": {
        "id": "J1zNYVJVKk86"
      }
    },
    {
      "cell_type": "markdown",
      "source": [
        "### Generate random number key"
      ],
      "metadata": {
        "id": "wuP3s3aBeDLc"
      }
    },
    {
      "cell_type": "code",
      "source": [
        "key = random.PRNGKey(0)\n",
        "\n",
        "# Split key to get usable subkeys in case of future editing\n",
        "key, *subkeys = random.split(key, 4)"
      ],
      "metadata": {
        "id": "pK2OIT6YK0CI"
      },
      "execution_count": 9,
      "outputs": []
    },
    {
      "cell_type": "markdown",
      "source": [
        "### Make random input spike train"
      ],
      "metadata": {
        "id": "-onZ9NlueUPw"
      }
    },
    {
      "cell_type": "code",
      "source": [
        "# Get subkey\n",
        "subkeyx = subkeys[-1]\n",
        "\n",
        "# Set up time indexing\n",
        "Input_mt = 0.5\n",
        "tbin_l = 0.005\n",
        "K = jnp.floor(Input_mt/tbin_l).astype(jnp.int32)\n",
        "timex = jnp.linspace(0.0, Input_mt, K+1)\n",
        "\n",
        "inpx = random.bernoulli(subkeyx, 0.2, (K+1,1))"
      ],
      "metadata": {
        "id": "yBjpaliFeX8K"
      },
      "execution_count": 19,
      "outputs": []
    },
    {
      "cell_type": "code",
      "source": [
        "plt.plot(timex, inpx)"
      ],
      "metadata": {
        "id": "9W-kzVlTfUvR",
        "colab": {
          "base_uri": "https://localhost:8080/",
          "height": 282
        },
        "outputId": "19c8736d-e03f-4bf7-9a52-6d5132cced16"
      },
      "execution_count": 20,
      "outputs": [
        {
          "output_type": "execute_result",
          "data": {
            "text/plain": [
              "[<matplotlib.lines.Line2D at 0x7f4993e6fd50>]"
            ]
          },
          "metadata": {},
          "execution_count": 20
        },
        {
          "output_type": "display_data",
          "data": {
            "image/png": "[encoded data removed]",
            "text/plain": [
              "<Figure size 432x288 with 1 Axes>"
            ]
          },
          "metadata": {
            "needs_background": "light"
          }
        }
      ]
    },
    {
      "cell_type": "markdown",
      "source": [
        "### Generate filter shape"
      ],
      "metadata": {
        "id": "MUWkvNsgec_C"
      }
    },
    {
      "cell_type": "code",
      "source": [
        "# Get subkey\n",
        "subkeyf = subkeys[-2]\n",
        "\n",
        "# Set up time indexing\n",
        "Filter_mt = 0.1\n",
        "M = jnp.floor(Filter_mt/tbin_l).astype(jnp.int32)\n",
        "timef = jnp.linspace(0.0, Filter_mt, M+1)\n",
        "\n",
        "# True mean and covariance\n",
        "muf_true = jnp.ones((M+1,1))\n",
        "covf_true = vec_SE(timef, timef, 0.005 , 1.0)\n",
        "\n",
        "# Generate filter from true mean and covariance\n",
        "chol_true = jsc.linalg.cholesky(covf_true)\n",
        "f_true = muf_true + chol_true@random.normal(subkeyf, (M+1,1))"
      ],
      "metadata": {
        "id": "PsLhjMEeehkt"
      },
      "execution_count": 21,
      "outputs": []
    },
    {
      "cell_type": "code",
      "source": [
        "plt.plot(timef, f_true)"
      ],
      "metadata": {
        "id": "dhoUj9ROTsbC",
        "colab": {
          "base_uri": "https://localhost:8080/",
          "height": 282
        },
        "outputId": "d8dde2e6-0181-42fd-c419-97353ca27e38"
      },
      "execution_count": 22,
      "outputs": [
        {
          "output_type": "execute_result",
          "data": {
            "text/plain": [
              "[<matplotlib.lines.Line2D at 0x7f4993e956d0>]"
            ]
          },
          "metadata": {},
          "execution_count": 22
        },
        {
          "output_type": "display_data",
          "data": {
            "image/png": "[encoded data removed]",
            "text/plain": [
              "<Figure size 432x288 with 1 Axes>"
            ]
          },
          "metadata": {
            "needs_background": "light"
          }
        }
      ]
    },
    {
      "cell_type": "markdown",
      "source": [
        "### Noise vector"
      ],
      "metadata": {
        "id": "qg3BD-_VXUS6"
      }
    },
    {
      "cell_type": "code",
      "source": [
        "# Get subkey \n",
        "subkeyn = subkeys[-3]\n",
        "\n",
        "# Noise variance\n",
        "sigma_n = 0.1\n",
        "\n",
        "# Noise vector\n",
        "noise_vec = sigma_n*random.normal(subkeyn, (M+K+1, 1))"
      ],
      "metadata": {
        "id": "ulgBeRlmXX6b"
      },
      "execution_count": 14,
      "outputs": []
    },
    {
      "cell_type": "markdown",
      "source": [
        "## Generate Output"
      ],
      "metadata": {
        "id": "d75qexTPWaSa"
      }
    },
    {
      "cell_type": "code",
      "source": [
        "# Pad input and filter\n",
        "xp_true = jnp.vstack((inpx, jnp.zeros((M,1))))\n",
        "fp_true = jnp.vstack((f_true, jnp.zeros((K,1))))\n",
        "\n",
        "# Compute the FFTs\n",
        "X_true = jnp.fft.fft(xp_true)\n",
        "F_true = jnp.fft.fft(fp_true)\n",
        "\n",
        "# Elementwise multiplication\n",
        "fftmul = jnp.multiply(X_true, F_true)\n",
        "\n",
        "# Make output and time\n",
        "y_true = jnp.real(jnp.fft.ifft(fftmul) + noise_vec)\n",
        "timey = np.linspace(0, Input_mt+Filter_mt, K+M+1)"
      ],
      "metadata": {
        "id": "egVEUM3EWfBG"
      },
      "execution_count": 15,
      "outputs": []
    },
    {
      "cell_type": "code",
      "source": [
        "plt.plot(timey, y_true)"
      ],
      "metadata": {
        "id": "CW7vTtYpfE_v",
        "colab": {
          "base_uri": "https://localhost:8080/",
          "height": 282
        },
        "outputId": "4ad80740-fa9c-469f-9653-2cfa26155b5f"
      },
      "execution_count": 16,
      "outputs": [
        {
          "output_type": "execute_result",
          "data": {
            "text/plain": [
              "[<matplotlib.lines.Line2D at 0x7f4993f1b290>]"
            ]
          },
          "metadata": {},
          "execution_count": 16
        },
        {
          "output_type": "display_data",
          "data": {
            "image/png": "[encoded data removed]",
            "text/plain": [
              "<Figure size 432x288 with 1 Axes>"
            ]
          },
          "metadata": {
            "needs_background": "light"
          }
        }
      ]
    }
  ]
}