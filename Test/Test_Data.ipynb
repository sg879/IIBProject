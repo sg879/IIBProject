{
  "nbformat": 4,
  "nbformat_minor": 0,
  "metadata": {
    "colab": {
      "name": "Test Data.ipynb",
      "provenance": [],
      "mount_file_id": "160Dpkdl5aa1w0BoVKu7dRUKVwBvfkGdD",
      "authorship_tag": "ABX9TyP5JsqftnGmyfak1hU82+DK",
      "include_colab_link": true
    },
    "kernelspec": {
      "name": "python3",
      "display_name": "Python 3"
    },
    "language_info": {
      "name": "python"
    },
    "accelerator": "GPU"
  },
  "cells": [
    {
      "cell_type": "markdown",
      "metadata": {
        "id": "view-in-github",
        "colab_type": "text"
      },
      "source": [
        "<a href=\"https://colab.research.google.com/github/sg879/IIBProject/blob/main/Test/Test_Data.ipynb\" target=\"_parent\"><img src=\"https://colab.research.google.com/assets/colab-badge.svg\" alt=\"Open In Colab\"/></a>"
      ]
    },
    {
      "cell_type": "code",
      "source": [
        "import os, sys\n",
        "from google.colab import drive\n",
        "drive.mount('/content/drive')"
      ],
      "metadata": {
        "colab": {
          "base_uri": "https://localhost:8080/"
        },
        "id": "EhMkcZ8XjxDd",
        "outputId": "7ef59be4-f325-424b-83db-68bbc6384510"
      },
      "execution_count": 1,
      "outputs": [
        {
          "output_type": "stream",
          "name": "stdout",
          "text": [
            "Drive already mounted at /content/drive; to attempt to forcibly remount, call drive.mount(\"/content/drive\", force_remount=True).\n"
          ]
        }
      ]
    },
    {
      "cell_type": "code",
      "source": [
        "%%capture\n",
        "!pip install blackcellmagic"
      ],
      "metadata": {
        "id": "1p5d3E7bm0tQ"
      },
      "execution_count": 2,
      "outputs": []
    },
    {
      "cell_type": "markdown",
      "source": [
        "# Creating Test Data"
      ],
      "metadata": {
        "id": "GckyC_9UFa9S"
      }
    },
    {
      "cell_type": "markdown",
      "source": [
        "## Import and Load Packages"
      ],
      "metadata": {
        "id": "NZ2oDXLaFwcD"
      }
    },
    {
      "cell_type": "code",
      "source": [
        "%load_ext blackcellmagic"
      ],
      "metadata": {
        "id": "VNZFea87E_2R"
      },
      "execution_count": 3,
      "outputs": []
    },
    {
      "cell_type": "code",
      "execution_count": 4,
      "metadata": {
        "id": "ZFoWnzWIE4OK"
      },
      "outputs": [],
      "source": [
        "import seaborn as sns\n",
        "import matplotlib as mpl\n",
        "\n",
        "mpl.rcParams.update(mpl.rcParamsDefault)\n",
        "mpl.use(\"pgf\")\n",
        "mpl.rcParams.update(\n",
        "    {\n",
        "        \"pgf.texsystem\": \"pdflatex\",\n",
        "        \"font.family\": \"serif\",\n",
        "        \"text.usetex\": True,\n",
        "        \"pgf.rcfonts\": False,\n",
        "        \"pgf.preamble\": \"\\n\".join(\n",
        "            [\n",
        "                r\"\\usepackage{bm}\",\n",
        "                r\"\\usepackage{mathtools}\",\n",
        "                r\"\\DeclarePairedDelimiter\\norm{\\lVert}{\\rVert}\",\n",
        "                r\"\\makeatletter\",\n",
        "                r\"\\let\\oldnorm\\norm\",\n",
        "                r\"\\def\\norm{\\@ifstar{\\oldnorm}{\\oldnorm*}}\",\n",
        "                r\"\\makeatother\",\n",
        "                r\"\\usepackage[dvipsnames]{xcolor}\", \n",
        "                r\"\\definecolor{myred}{RGB}{205, 108, 46}\",\n",
        "            ]\n",
        "        ),\n",
        "        \"font.serif\": [\"Computer Modern Roman\"],\n",
        "    }\n",
        ")\n",
        "mpl.rc(\n",
        "    \"text.latex\",\n",
        "    preamble=\"\\n\".join(\n",
        "        [\n",
        "            r\"\\usepackage{bm}\",\n",
        "            r\"\\usepackage{mathtools}\",\n",
        "            r\"\\DeclarePairedDelimiter\\norm{\\lVert}{\\rVert}\",\n",
        "            r\"\\makeatletter\",\n",
        "            r\"\\let\\oldnorm\\norm\",\n",
        "            r\"\\def\\norm{\\@ifstar{\\oldnorm}{\\oldnorm*}}\",\n",
        "            r\"\\makeatother\",\n",
        "            r\"\\usepackage[dvipsnames]{xcolor}\", \n",
        "            r\"\\definecolor{myred}{RGB}{205, 108, 46}\",\n",
        "        ]\n",
        "    ),\n",
        ")\n",
        "\n",
        "import matplotlib.font_manager\n",
        "import matplotlib.pyplot as plt\n",
        "from mpl_toolkits.axes_grid1 import Divider, Size"
      ]
    },
    {
      "cell_type": "code",
      "source": [
        "%matplotlib inline"
      ],
      "metadata": {
        "id": "aIhSh-fYFI9Q"
      },
      "execution_count": 5,
      "outputs": []
    },
    {
      "cell_type": "code",
      "source": [
        "import numpy as np\n",
        "import jax.numpy as jnp\n",
        "from jax import grad, jit, vmap, random\n",
        "import jax.lax as lax"
      ],
      "metadata": {
        "id": "tnMeleRwLAV7"
      },
      "execution_count": 6,
      "outputs": []
    },
    {
      "cell_type": "markdown",
      "source": [
        "## Function Definitions"
      ],
      "metadata": {
        "id": "-APjoeWQotAr"
      }
    },
    {
      "cell_type": "code",
      "source": [
        "@jit\n",
        "def squared_exp(i, j, tau, ell, sigma_f):\n",
        "  return sigma_f**2.0*jnp.exp(-(tau[i]-tau[j])**2/(2*ell**2.0))"
      ],
      "metadata": {
        "id": "2YlPStFspvVD"
      },
      "execution_count": 7,
      "outputs": []
    },
    {
      "cell_type": "code",
      "source": [
        "def cov_squared_exp(tau, ell, sigma_f):\n",
        "  k = jnp.shape(tau)[0]\n",
        "  covmat = jnp.empty((k,k)).astype(jnp.float32)\n",
        "  for i in jnp.arange(k):\n",
        "    for j in np.arange(i+1):\n",
        "      covmat = covmat.at[i, j].set(squared_exp(i, j, tau, ell, sigma_f))\n",
        "  return covmat"
      ],
      "metadata": {
        "id": "BgcENBxZov_I"
      },
      "execution_count": 8,
      "outputs": []
    },
    {
      "cell_type": "markdown",
      "source": [
        "## Create Input and Filter"
      ],
      "metadata": {
        "id": "J1zNYVJVKk86"
      }
    },
    {
      "cell_type": "markdown",
      "source": [
        "### Generate random number key"
      ],
      "metadata": {
        "id": "wuP3s3aBeDLc"
      }
    },
    {
      "cell_type": "code",
      "source": [
        "key = random.PRNGKey(0)\n",
        "\n",
        "# Split key to get usable subkeys in case of future editing\n",
        "key, *subkeys = random.split(key, 3)"
      ],
      "metadata": {
        "id": "pK2OIT6YK0CI"
      },
      "execution_count": 9,
      "outputs": []
    },
    {
      "cell_type": "markdown",
      "source": [
        "### Make random input spike train"
      ],
      "metadata": {
        "id": "-onZ9NlueUPw"
      }
    },
    {
      "cell_type": "code",
      "source": [
        "# Get subkey\n",
        "subkeyx = subkeys[0]\n",
        "\n",
        "# Set up time indexing\n",
        "Input_mt = 0.1\n",
        "tbin_l = 0.005\n",
        "K = jnp.floor(Input_mt/tbin_l).astype(jnp.int32)\n",
        "timex = jnp.linspace(0.0, Input_mt, K+1)\n",
        "\n",
        "inpx = random.randint(subkeyx, (K,1), 0, 2)"
      ],
      "metadata": {
        "id": "yBjpaliFeX8K"
      },
      "execution_count": 10,
      "outputs": []
    },
    {
      "cell_type": "markdown",
      "source": [
        "### Generate filter shape"
      ],
      "metadata": {
        "id": "MUWkvNsgec_C"
      }
    },
    {
      "cell_type": "code",
      "source": [
        "# Get subkey\n",
        "subkeyf = subkeys[1]\n",
        "\n",
        "# Set up time indexing\n",
        "Filter_mt = 0.05\n",
        "M = jnp.floor(Filter_mt/tbin_l).astype(jnp.int32)\n",
        "\n",
        "# True mean and covariance\n",
        "muf_true = jnp.ones((M,1))\n",
        "covf_true = cov_squared_exp(timex, 2.0, 5.0)\n",
        "\n",
        "f_true = random.randint(subkeyf, (M,1), 0, 2)"
      ],
      "metadata": {
        "id": "PsLhjMEeehkt"
      },
      "execution_count": 11,
      "outputs": []
    }
  ]
}